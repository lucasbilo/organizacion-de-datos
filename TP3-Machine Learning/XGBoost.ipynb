{
  "nbformat": 4,
  "nbformat_minor": 0,
  "metadata": {
    "colab": {
      "name": "P3.2-TP3-Datos.ipynb",
      "provenance": [],
      "collapsed_sections": []
    },
    "kernelspec": {
      "name": "python3",
      "display_name": "Python 3"
    },
    "language_info": {
      "name": "python"
    }
  },
  "cells": [
    {
      "cell_type": "code",
      "metadata": {
        "id": "1BH9dJL_KE8o"
      },
      "source": [
        "import pandas as pd\n",
        "import numpy as np\n",
        "import xgboost as xgb\n",
        "import pickle\n",
        "from sklearn.model_selection import RandomizedSearchCV\n",
        "from sklearn.feature_extraction.text import CountVectorizer\n",
        "from sklearn.metrics import classification_report, roc_auc_score\n",
        "\n",
        "from pydrive.auth import GoogleAuth\n",
        "from pydrive.drive import GoogleDrive\n",
        "from google.colab import auth\n",
        "from oauth2client.client import GoogleCredentials\n",
        "\n",
        "# Authenticate and create the PyDrive client\n",
        "auth.authenticate_user()\n",
        "gauth = GoogleAuth()\n",
        "gauth.credentials = GoogleCredentials.get_application_default()\n",
        "drive = GoogleDrive(gauth)"
      ],
      "execution_count": null,
      "outputs": []
    },
    {
      "cell_type": "code",
      "metadata": {
        "id": "7KUqTJ6qKtYi"
      },
      "source": [
        "downloaded = drive.CreateFile({'id': '1tg7uu8GvstsNh8tMo5xq0kyCz9PHgB9s'})\n",
        "downloaded.GetContentFile('train_identity.csv')\n",
        "\n",
        "downloaded = drive.CreateFile({'id': '1fFEYaig3cowq6K_TkJAt4DpMW3zVxekR'})\n",
        "downloaded.GetContentFile('train_transaction.csv')\n",
        "\n",
        "downloaded = drive.CreateFile({'id': '1zoei-WhFKXoniiOkTbxhzPWW1htwQMlI'})\n",
        "downloaded.GetContentFile('model_backup_xgb')"
      ],
      "execution_count": null,
      "outputs": []
    },
    {
      "cell_type": "code",
      "metadata": {
        "id": "nM7SIsgZK2e3"
      },
      "source": [
        "identity = pd.read_csv('train_identity.csv', encoding='latin-1')\n",
        "transaction = pd.read_csv('train_transaction.csv', encoding='latin-1')\n",
        "join = transaction.merge(identity, left_on= 'TransactionID', right_on='TransactionID',how='outer')\n",
        "\n",
        "identity = None\n",
        "transaction = None"
      ],
      "execution_count": null,
      "outputs": []
    },
    {
      "cell_type": "code",
      "metadata": {
        "id": "WeHw6VQBvj3I"
      },
      "source": [
        "join.drop(['TransactionID'], axis = 1, inplace=True)"
      ],
      "execution_count": null,
      "outputs": []
    },
    {
      "cell_type": "markdown",
      "metadata": {
        "id": "iB86cR6S5kEj"
      },
      "source": [
        "Para mi set de validación me voy a quedar con los que sean después de los 140 dias (aprox el 20%), osea **TransactionDT >= 140*86400 = 12.096.000**"
      ]
    },
    {
      "cell_type": "code",
      "metadata": {
        "id": "A2WtMh9D5pFT"
      },
      "source": [
        "train = join[join['TransactionDT'] < 12096000]\n",
        "validation = join[join['TransactionDT'] >= 12096000]\n",
        "\n",
        "join = None"
      ],
      "execution_count": null,
      "outputs": []
    },
    {
      "cell_type": "markdown",
      "metadata": {
        "id": "7ut4BC9Ovlq-"
      },
      "source": [
        "**NaN**\n",
        "\n",
        "Si son de features numericos: pasaran a ser el promedio de la columna.\n",
        "\n",
        "Si son de features no numericos: pasaran a ser el valor 'Desconocido' (pasa a ser una categoría del feature)"
      ]
    },
    {
      "cell_type": "code",
      "metadata": {
        "id": "-cf363b2vnF7"
      },
      "source": [
        "aux = train.select_dtypes(include = {'float64', 'int64'}).columns.values.tolist()\n",
        "aux2 = {}\n",
        "for elem in aux:\n",
        "  aux2[elem] = train[elem].mean()\n",
        "\n",
        "train.fillna(aux2, inplace=True)\n",
        "validation.fillna(aux2, inplace=True)\n",
        "# Hasta acá solo quedaron en NaN los de variables no numericas\n",
        "train.fillna('Desconocido', inplace=True)\n",
        "validation.fillna('Desconocido', inplace=True)"
      ],
      "execution_count": null,
      "outputs": []
    },
    {
      "cell_type": "markdown",
      "metadata": {
        "id": "GNhy1SinvsUz"
      },
      "source": [
        "Algunos features tienen bastantes categorías, para ahicarlo un poco me quedo con el top 10 y el resto serán categoría \"Otros\""
      ]
    },
    {
      "cell_type": "code",
      "metadata": {
        "id": "xLzM5WIxvrnD"
      },
      "source": [
        "device_info = train['DeviceInfo'].value_counts().to_frame().head(10).index\n",
        "train.loc[~train['DeviceInfo'].isin(device_info), 'DeviceInfo'] = 'Otros'\n",
        "validation.loc[~validation['DeviceInfo'].isin(device_info), 'DeviceInfo'] = 'Otros'\n",
        "\n",
        "id_31 = train['id_31'].value_counts().to_frame().head(10).index\n",
        "train.loc[~train['id_31'].isin(id_31), 'id_31'] = 'Otros'\n",
        "validation.loc[~validation['id_31'].isin(id_31), 'id_31'] = 'Otros'\n",
        "\n",
        "id_33 = train['id_33'].value_counts().to_frame().head(10).index\n",
        "train.loc[~train['id_33'].isin(id_33), 'id_33'] = 'Otros'\n",
        "validation.loc[~validation['id_33'].isin(id_33), 'id_33'] = 'Otros'"
      ],
      "execution_count": null,
      "outputs": []
    },
    {
      "cell_type": "markdown",
      "metadata": {
        "id": "vxsqKLcW5uGJ"
      },
      "source": [
        "**One Hot Encoder:**"
      ]
    },
    {
      "cell_type": "code",
      "metadata": {
        "colab": {
          "base_uri": "https://localhost:8080/",
          "height": 206
        },
        "id": "1yO5wh9J5v8Y",
        "outputId": "b51957c4-2ff2-4ccb-93c5-2f443889c760"
      },
      "source": [
        "ohe = pd.get_dummies(train['ProductCD'], drop_first = False, dummy_na = True)\n",
        "ohe.head()"
      ],
      "execution_count": null,
      "outputs": [
        {
          "output_type": "execute_result",
          "data": {
            "text/html": [
              "<div>\n",
              "<style scoped>\n",
              "    .dataframe tbody tr th:only-of-type {\n",
              "        vertical-align: middle;\n",
              "    }\n",
              "\n",
              "    .dataframe tbody tr th {\n",
              "        vertical-align: top;\n",
              "    }\n",
              "\n",
              "    .dataframe thead th {\n",
              "        text-align: right;\n",
              "    }\n",
              "</style>\n",
              "<table border=\"1\" class=\"dataframe\">\n",
              "  <thead>\n",
              "    <tr style=\"text-align: right;\">\n",
              "      <th></th>\n",
              "      <th>C</th>\n",
              "      <th>H</th>\n",
              "      <th>R</th>\n",
              "      <th>S</th>\n",
              "      <th>W</th>\n",
              "      <th>NaN</th>\n",
              "    </tr>\n",
              "  </thead>\n",
              "  <tbody>\n",
              "    <tr>\n",
              "      <th>0</th>\n",
              "      <td>0</td>\n",
              "      <td>0</td>\n",
              "      <td>0</td>\n",
              "      <td>0</td>\n",
              "      <td>1</td>\n",
              "      <td>0</td>\n",
              "    </tr>\n",
              "    <tr>\n",
              "      <th>1</th>\n",
              "      <td>0</td>\n",
              "      <td>0</td>\n",
              "      <td>0</td>\n",
              "      <td>0</td>\n",
              "      <td>1</td>\n",
              "      <td>0</td>\n",
              "    </tr>\n",
              "    <tr>\n",
              "      <th>2</th>\n",
              "      <td>0</td>\n",
              "      <td>0</td>\n",
              "      <td>0</td>\n",
              "      <td>0</td>\n",
              "      <td>1</td>\n",
              "      <td>0</td>\n",
              "    </tr>\n",
              "    <tr>\n",
              "      <th>3</th>\n",
              "      <td>0</td>\n",
              "      <td>0</td>\n",
              "      <td>0</td>\n",
              "      <td>0</td>\n",
              "      <td>1</td>\n",
              "      <td>0</td>\n",
              "    </tr>\n",
              "    <tr>\n",
              "      <th>4</th>\n",
              "      <td>0</td>\n",
              "      <td>1</td>\n",
              "      <td>0</td>\n",
              "      <td>0</td>\n",
              "      <td>0</td>\n",
              "      <td>0</td>\n",
              "    </tr>\n",
              "  </tbody>\n",
              "</table>\n",
              "</div>"
            ],
            "text/plain": [
              "   C  H  R  S  W  NaN\n",
              "0  0  0  0  0  1    0\n",
              "1  0  0  0  0  1    0\n",
              "2  0  0  0  0  1    0\n",
              "3  0  0  0  0  1    0\n",
              "4  0  1  0  0  0    0"
            ]
          },
          "metadata": {},
          "execution_count": 8
        }
      ]
    },
    {
      "cell_type": "code",
      "metadata": {
        "id": "8XbRdnZg5106"
      },
      "source": [
        "train.drop(['ProductCD'], axis = 1, inplace = True)\n",
        "train = pd.concat([train, ohe], axis = 1)"
      ],
      "execution_count": null,
      "outputs": []
    },
    {
      "cell_type": "code",
      "metadata": {
        "id": "NPJ3u1oD56pb"
      },
      "source": [
        "ohe2 = pd.get_dummies(validation['ProductCD'], drop_first = False, dummy_na = True)\n",
        "validation.drop(['ProductCD'], axis = 1, inplace = True)\n",
        "validation = pd.concat([validation, ohe2], axis = 1)"
      ],
      "execution_count": null,
      "outputs": []
    },
    {
      "cell_type": "markdown",
      "metadata": {
        "id": "Q45Mur6s6BNI"
      },
      "source": [
        "**Count Vectorizer**"
      ]
    },
    {
      "cell_type": "code",
      "metadata": {
        "id": "M5eTA1a46DR7"
      },
      "source": [
        "cv = CountVectorizer()\n",
        "voc_train = cv.fit_transform(train['id_30'].tolist())\n",
        "voc_validation = cv.transform(validation['id_30'].tolist())\n",
        "vocabulary = cv.vocabulary_"
      ],
      "execution_count": null,
      "outputs": []
    },
    {
      "cell_type": "markdown",
      "metadata": {
        "id": "V9tnteBy6WAO"
      },
      "source": [
        "TOP 11 de palabras más comunes para id_30:"
      ]
    },
    {
      "cell_type": "code",
      "metadata": {
        "colab": {
          "base_uri": "https://localhost:8080/"
        },
        "id": "BaPqiL-q6Zj9",
        "outputId": "f9ddd48b-5438-41bd-8d87-f489a84ca2b4"
      },
      "source": [
        "vocabulary = cv.vocabulary_\n",
        "vocabulary = sorted(vocabulary.items(), key=lambda x: x[1], reverse=True)\n",
        "aux3 = list(vocabulary)[0:11]\n",
        "aux4 = list(vocabulary)[11:]\n",
        "\n",
        "voc_11 = [i[0] for i in aux3]\n",
        "voc_a_borrar = [i[0] for i in aux4]\n",
        "\n",
        "vocabulary = None\n",
        "aux3 = None\n",
        "aux4 = None\n",
        "\n",
        "voc_11"
      ],
      "execution_count": null,
      "outputs": [
        {
          "output_type": "execute_result",
          "data": {
            "text/plain": [
              "['xp',\n",
              " 'windows',\n",
              " 'vista',\n",
              " 'other',\n",
              " 'os',\n",
              " 'mac',\n",
              " 'linux',\n",
              " 'ios',\n",
              " 'func',\n",
              " 'desconocido',\n",
              " 'android']"
            ]
          },
          "metadata": {},
          "execution_count": 12
        }
      ]
    },
    {
      "cell_type": "code",
      "metadata": {
        "colab": {
          "base_uri": "https://localhost:8080/",
          "height": 206
        },
        "id": "TB3VDm2L6dv8",
        "outputId": "98eb9118-2fc3-4a2c-b1bb-bb0d7e68058e"
      },
      "source": [
        "vc_train = pd.DataFrame(voc_train.todense(), columns=cv.get_feature_names_out())\n",
        "vc_train.drop(voc_a_borrar, axis=1, inplace=True)\n",
        "voc_train = None\n",
        "vc_train.head()"
      ],
      "execution_count": null,
      "outputs": [
        {
          "output_type": "execute_result",
          "data": {
            "text/html": [
              "<div>\n",
              "<style scoped>\n",
              "    .dataframe tbody tr th:only-of-type {\n",
              "        vertical-align: middle;\n",
              "    }\n",
              "\n",
              "    .dataframe tbody tr th {\n",
              "        vertical-align: top;\n",
              "    }\n",
              "\n",
              "    .dataframe thead th {\n",
              "        text-align: right;\n",
              "    }\n",
              "</style>\n",
              "<table border=\"1\" class=\"dataframe\">\n",
              "  <thead>\n",
              "    <tr style=\"text-align: right;\">\n",
              "      <th></th>\n",
              "      <th>android</th>\n",
              "      <th>desconocido</th>\n",
              "      <th>func</th>\n",
              "      <th>ios</th>\n",
              "      <th>linux</th>\n",
              "      <th>mac</th>\n",
              "      <th>os</th>\n",
              "      <th>other</th>\n",
              "      <th>vista</th>\n",
              "      <th>windows</th>\n",
              "      <th>xp</th>\n",
              "    </tr>\n",
              "  </thead>\n",
              "  <tbody>\n",
              "    <tr>\n",
              "      <th>0</th>\n",
              "      <td>0</td>\n",
              "      <td>1</td>\n",
              "      <td>0</td>\n",
              "      <td>0</td>\n",
              "      <td>0</td>\n",
              "      <td>0</td>\n",
              "      <td>0</td>\n",
              "      <td>0</td>\n",
              "      <td>0</td>\n",
              "      <td>0</td>\n",
              "      <td>0</td>\n",
              "    </tr>\n",
              "    <tr>\n",
              "      <th>1</th>\n",
              "      <td>0</td>\n",
              "      <td>1</td>\n",
              "      <td>0</td>\n",
              "      <td>0</td>\n",
              "      <td>0</td>\n",
              "      <td>0</td>\n",
              "      <td>0</td>\n",
              "      <td>0</td>\n",
              "      <td>0</td>\n",
              "      <td>0</td>\n",
              "      <td>0</td>\n",
              "    </tr>\n",
              "    <tr>\n",
              "      <th>2</th>\n",
              "      <td>0</td>\n",
              "      <td>1</td>\n",
              "      <td>0</td>\n",
              "      <td>0</td>\n",
              "      <td>0</td>\n",
              "      <td>0</td>\n",
              "      <td>0</td>\n",
              "      <td>0</td>\n",
              "      <td>0</td>\n",
              "      <td>0</td>\n",
              "      <td>0</td>\n",
              "    </tr>\n",
              "    <tr>\n",
              "      <th>3</th>\n",
              "      <td>0</td>\n",
              "      <td>1</td>\n",
              "      <td>0</td>\n",
              "      <td>0</td>\n",
              "      <td>0</td>\n",
              "      <td>0</td>\n",
              "      <td>0</td>\n",
              "      <td>0</td>\n",
              "      <td>0</td>\n",
              "      <td>0</td>\n",
              "      <td>0</td>\n",
              "    </tr>\n",
              "    <tr>\n",
              "      <th>4</th>\n",
              "      <td>1</td>\n",
              "      <td>0</td>\n",
              "      <td>0</td>\n",
              "      <td>0</td>\n",
              "      <td>0</td>\n",
              "      <td>0</td>\n",
              "      <td>0</td>\n",
              "      <td>0</td>\n",
              "      <td>0</td>\n",
              "      <td>0</td>\n",
              "      <td>0</td>\n",
              "    </tr>\n",
              "  </tbody>\n",
              "</table>\n",
              "</div>"
            ],
            "text/plain": [
              "   android  desconocido  func  ios  linux  mac  os  other  vista  windows  xp\n",
              "0        0            1     0    0      0    0   0      0      0        0   0\n",
              "1        0            1     0    0      0    0   0      0      0        0   0\n",
              "2        0            1     0    0      0    0   0      0      0        0   0\n",
              "3        0            1     0    0      0    0   0      0      0        0   0\n",
              "4        1            0     0    0      0    0   0      0      0        0   0"
            ]
          },
          "metadata": {},
          "execution_count": 13
        }
      ]
    },
    {
      "cell_type": "code",
      "metadata": {
        "id": "MUa8VuiA6gbt"
      },
      "source": [
        "vc_validation = pd.DataFrame(voc_validation.todense(), columns=cv.get_feature_names_out())\n",
        "vc_validation.drop(voc_a_borrar, axis=1, inplace=True)\n",
        "voc_validation = None"
      ],
      "execution_count": null,
      "outputs": []
    },
    {
      "cell_type": "markdown",
      "metadata": {
        "id": "nhXcMKJf6llH"
      },
      "source": [
        "Ahora teniendo esto, las agrego a los dataframes correspondientes:"
      ]
    },
    {
      "cell_type": "code",
      "metadata": {
        "id": "1ujPJl4c6kEl"
      },
      "source": [
        "train.drop(['id_30'], axis = 1, inplace = True)\n",
        "train = pd.concat([train, vc_train], axis = 1)"
      ],
      "execution_count": null,
      "outputs": []
    },
    {
      "cell_type": "code",
      "metadata": {
        "colab": {
          "base_uri": "https://localhost:8080/",
          "height": 255
        },
        "id": "eo5gPEfM6r3j",
        "outputId": "04805bef-2e83-472b-aa1d-42675feb0759"
      },
      "source": [
        "train.head()"
      ],
      "execution_count": null,
      "outputs": [
        {
          "output_type": "execute_result",
          "data": {
            "text/html": [
              "<div>\n",
              "<style scoped>\n",
              "    .dataframe tbody tr th:only-of-type {\n",
              "        vertical-align: middle;\n",
              "    }\n",
              "\n",
              "    .dataframe tbody tr th {\n",
              "        vertical-align: top;\n",
              "    }\n",
              "\n",
              "    .dataframe thead th {\n",
              "        text-align: right;\n",
              "    }\n",
              "</style>\n",
              "<table border=\"1\" class=\"dataframe\">\n",
              "  <thead>\n",
              "    <tr style=\"text-align: right;\">\n",
              "      <th></th>\n",
              "      <th>isFraud</th>\n",
              "      <th>TransactionDT</th>\n",
              "      <th>TransactionAmt</th>\n",
              "      <th>card1</th>\n",
              "      <th>card2</th>\n",
              "      <th>card3</th>\n",
              "      <th>card4</th>\n",
              "      <th>card5</th>\n",
              "      <th>card6</th>\n",
              "      <th>addr1</th>\n",
              "      <th>addr2</th>\n",
              "      <th>dist1</th>\n",
              "      <th>dist2</th>\n",
              "      <th>P_emaildomain</th>\n",
              "      <th>R_emaildomain</th>\n",
              "      <th>C1</th>\n",
              "      <th>C2</th>\n",
              "      <th>C3</th>\n",
              "      <th>C4</th>\n",
              "      <th>C5</th>\n",
              "      <th>C6</th>\n",
              "      <th>C7</th>\n",
              "      <th>C8</th>\n",
              "      <th>C9</th>\n",
              "      <th>C10</th>\n",
              "      <th>C11</th>\n",
              "      <th>C12</th>\n",
              "      <th>C13</th>\n",
              "      <th>C14</th>\n",
              "      <th>D1</th>\n",
              "      <th>D2</th>\n",
              "      <th>D3</th>\n",
              "      <th>D4</th>\n",
              "      <th>D5</th>\n",
              "      <th>D6</th>\n",
              "      <th>D7</th>\n",
              "      <th>D8</th>\n",
              "      <th>D9</th>\n",
              "      <th>D10</th>\n",
              "      <th>D11</th>\n",
              "      <th>...</th>\n",
              "      <th>id_17</th>\n",
              "      <th>id_18</th>\n",
              "      <th>id_19</th>\n",
              "      <th>id_20</th>\n",
              "      <th>id_21</th>\n",
              "      <th>id_22</th>\n",
              "      <th>id_23</th>\n",
              "      <th>id_24</th>\n",
              "      <th>id_25</th>\n",
              "      <th>id_26</th>\n",
              "      <th>id_27</th>\n",
              "      <th>id_28</th>\n",
              "      <th>id_29</th>\n",
              "      <th>id_31</th>\n",
              "      <th>id_32</th>\n",
              "      <th>id_33</th>\n",
              "      <th>id_34</th>\n",
              "      <th>id_35</th>\n",
              "      <th>id_36</th>\n",
              "      <th>id_37</th>\n",
              "      <th>id_38</th>\n",
              "      <th>DeviceType</th>\n",
              "      <th>DeviceInfo</th>\n",
              "      <th>C</th>\n",
              "      <th>H</th>\n",
              "      <th>R</th>\n",
              "      <th>S</th>\n",
              "      <th>W</th>\n",
              "      <th>NaN</th>\n",
              "      <th>android</th>\n",
              "      <th>desconocido</th>\n",
              "      <th>func</th>\n",
              "      <th>ios</th>\n",
              "      <th>linux</th>\n",
              "      <th>mac</th>\n",
              "      <th>os</th>\n",
              "      <th>other</th>\n",
              "      <th>vista</th>\n",
              "      <th>windows</th>\n",
              "      <th>xp</th>\n",
              "    </tr>\n",
              "  </thead>\n",
              "  <tbody>\n",
              "    <tr>\n",
              "      <th>0</th>\n",
              "      <td>0</td>\n",
              "      <td>86400</td>\n",
              "      <td>68.5</td>\n",
              "      <td>13926</td>\n",
              "      <td>362.857208</td>\n",
              "      <td>150.0</td>\n",
              "      <td>discover</td>\n",
              "      <td>142.0</td>\n",
              "      <td>credit</td>\n",
              "      <td>315.0</td>\n",
              "      <td>87.0</td>\n",
              "      <td>19.000000</td>\n",
              "      <td>237.634827</td>\n",
              "      <td>Desconocido</td>\n",
              "      <td>Desconocido</td>\n",
              "      <td>1.0</td>\n",
              "      <td>1.0</td>\n",
              "      <td>0.0</td>\n",
              "      <td>0.0</td>\n",
              "      <td>0.0</td>\n",
              "      <td>1.0</td>\n",
              "      <td>0.0</td>\n",
              "      <td>0.0</td>\n",
              "      <td>1.0</td>\n",
              "      <td>0.0</td>\n",
              "      <td>2.0</td>\n",
              "      <td>0.0</td>\n",
              "      <td>1.0</td>\n",
              "      <td>1.0</td>\n",
              "      <td>14.0</td>\n",
              "      <td>167.222367</td>\n",
              "      <td>13.000000</td>\n",
              "      <td>134.84658</td>\n",
              "      <td>42.362001</td>\n",
              "      <td>63.829504</td>\n",
              "      <td>44.639849</td>\n",
              "      <td>149.826877</td>\n",
              "      <td>0.560621</td>\n",
              "      <td>13.000000</td>\n",
              "      <td>13.000000</td>\n",
              "      <td>...</td>\n",
              "      <td>188.650539</td>\n",
              "      <td>14.184448</td>\n",
              "      <td>351.544148</td>\n",
              "      <td>401.500194</td>\n",
              "      <td>370.890905</td>\n",
              "      <td>16.017866</td>\n",
              "      <td>Desconocido</td>\n",
              "      <td>12.757957</td>\n",
              "      <td>329.855724</td>\n",
              "      <td>148.303672</td>\n",
              "      <td>Desconocido</td>\n",
              "      <td>Desconocido</td>\n",
              "      <td>Desconocido</td>\n",
              "      <td>Desconocido</td>\n",
              "      <td>26.599803</td>\n",
              "      <td>Desconocido</td>\n",
              "      <td>Desconocido</td>\n",
              "      <td>Desconocido</td>\n",
              "      <td>Desconocido</td>\n",
              "      <td>Desconocido</td>\n",
              "      <td>Desconocido</td>\n",
              "      <td>Desconocido</td>\n",
              "      <td>Desconocido</td>\n",
              "      <td>0</td>\n",
              "      <td>0</td>\n",
              "      <td>0</td>\n",
              "      <td>0</td>\n",
              "      <td>1</td>\n",
              "      <td>0</td>\n",
              "      <td>0</td>\n",
              "      <td>1</td>\n",
              "      <td>0</td>\n",
              "      <td>0</td>\n",
              "      <td>0</td>\n",
              "      <td>0</td>\n",
              "      <td>0</td>\n",
              "      <td>0</td>\n",
              "      <td>0</td>\n",
              "      <td>0</td>\n",
              "      <td>0</td>\n",
              "    </tr>\n",
              "    <tr>\n",
              "      <th>1</th>\n",
              "      <td>0</td>\n",
              "      <td>86401</td>\n",
              "      <td>29.0</td>\n",
              "      <td>2755</td>\n",
              "      <td>404.000000</td>\n",
              "      <td>150.0</td>\n",
              "      <td>mastercard</td>\n",
              "      <td>102.0</td>\n",
              "      <td>credit</td>\n",
              "      <td>325.0</td>\n",
              "      <td>87.0</td>\n",
              "      <td>121.633845</td>\n",
              "      <td>237.634827</td>\n",
              "      <td>gmail.com</td>\n",
              "      <td>Desconocido</td>\n",
              "      <td>1.0</td>\n",
              "      <td>1.0</td>\n",
              "      <td>0.0</td>\n",
              "      <td>0.0</td>\n",
              "      <td>0.0</td>\n",
              "      <td>1.0</td>\n",
              "      <td>0.0</td>\n",
              "      <td>0.0</td>\n",
              "      <td>0.0</td>\n",
              "      <td>0.0</td>\n",
              "      <td>1.0</td>\n",
              "      <td>0.0</td>\n",
              "      <td>1.0</td>\n",
              "      <td>1.0</td>\n",
              "      <td>0.0</td>\n",
              "      <td>167.222367</td>\n",
              "      <td>28.636094</td>\n",
              "      <td>0.00000</td>\n",
              "      <td>42.362001</td>\n",
              "      <td>63.829504</td>\n",
              "      <td>44.639849</td>\n",
              "      <td>149.826877</td>\n",
              "      <td>0.560621</td>\n",
              "      <td>0.000000</td>\n",
              "      <td>138.022709</td>\n",
              "      <td>...</td>\n",
              "      <td>188.650539</td>\n",
              "      <td>14.184448</td>\n",
              "      <td>351.544148</td>\n",
              "      <td>401.500194</td>\n",
              "      <td>370.890905</td>\n",
              "      <td>16.017866</td>\n",
              "      <td>Desconocido</td>\n",
              "      <td>12.757957</td>\n",
              "      <td>329.855724</td>\n",
              "      <td>148.303672</td>\n",
              "      <td>Desconocido</td>\n",
              "      <td>Desconocido</td>\n",
              "      <td>Desconocido</td>\n",
              "      <td>Desconocido</td>\n",
              "      <td>26.599803</td>\n",
              "      <td>Desconocido</td>\n",
              "      <td>Desconocido</td>\n",
              "      <td>Desconocido</td>\n",
              "      <td>Desconocido</td>\n",
              "      <td>Desconocido</td>\n",
              "      <td>Desconocido</td>\n",
              "      <td>Desconocido</td>\n",
              "      <td>Desconocido</td>\n",
              "      <td>0</td>\n",
              "      <td>0</td>\n",
              "      <td>0</td>\n",
              "      <td>0</td>\n",
              "      <td>1</td>\n",
              "      <td>0</td>\n",
              "      <td>0</td>\n",
              "      <td>1</td>\n",
              "      <td>0</td>\n",
              "      <td>0</td>\n",
              "      <td>0</td>\n",
              "      <td>0</td>\n",
              "      <td>0</td>\n",
              "      <td>0</td>\n",
              "      <td>0</td>\n",
              "      <td>0</td>\n",
              "      <td>0</td>\n",
              "    </tr>\n",
              "    <tr>\n",
              "      <th>2</th>\n",
              "      <td>0</td>\n",
              "      <td>86469</td>\n",
              "      <td>59.0</td>\n",
              "      <td>4663</td>\n",
              "      <td>490.000000</td>\n",
              "      <td>150.0</td>\n",
              "      <td>visa</td>\n",
              "      <td>166.0</td>\n",
              "      <td>debit</td>\n",
              "      <td>330.0</td>\n",
              "      <td>87.0</td>\n",
              "      <td>287.000000</td>\n",
              "      <td>237.634827</td>\n",
              "      <td>outlook.com</td>\n",
              "      <td>Desconocido</td>\n",
              "      <td>1.0</td>\n",
              "      <td>1.0</td>\n",
              "      <td>0.0</td>\n",
              "      <td>0.0</td>\n",
              "      <td>0.0</td>\n",
              "      <td>1.0</td>\n",
              "      <td>0.0</td>\n",
              "      <td>0.0</td>\n",
              "      <td>1.0</td>\n",
              "      <td>0.0</td>\n",
              "      <td>1.0</td>\n",
              "      <td>0.0</td>\n",
              "      <td>1.0</td>\n",
              "      <td>1.0</td>\n",
              "      <td>0.0</td>\n",
              "      <td>167.222367</td>\n",
              "      <td>28.636094</td>\n",
              "      <td>0.00000</td>\n",
              "      <td>42.362001</td>\n",
              "      <td>63.829504</td>\n",
              "      <td>44.639849</td>\n",
              "      <td>149.826877</td>\n",
              "      <td>0.560621</td>\n",
              "      <td>0.000000</td>\n",
              "      <td>315.000000</td>\n",
              "      <td>...</td>\n",
              "      <td>188.650539</td>\n",
              "      <td>14.184448</td>\n",
              "      <td>351.544148</td>\n",
              "      <td>401.500194</td>\n",
              "      <td>370.890905</td>\n",
              "      <td>16.017866</td>\n",
              "      <td>Desconocido</td>\n",
              "      <td>12.757957</td>\n",
              "      <td>329.855724</td>\n",
              "      <td>148.303672</td>\n",
              "      <td>Desconocido</td>\n",
              "      <td>Desconocido</td>\n",
              "      <td>Desconocido</td>\n",
              "      <td>Desconocido</td>\n",
              "      <td>26.599803</td>\n",
              "      <td>Desconocido</td>\n",
              "      <td>Desconocido</td>\n",
              "      <td>Desconocido</td>\n",
              "      <td>Desconocido</td>\n",
              "      <td>Desconocido</td>\n",
              "      <td>Desconocido</td>\n",
              "      <td>Desconocido</td>\n",
              "      <td>Desconocido</td>\n",
              "      <td>0</td>\n",
              "      <td>0</td>\n",
              "      <td>0</td>\n",
              "      <td>0</td>\n",
              "      <td>1</td>\n",
              "      <td>0</td>\n",
              "      <td>0</td>\n",
              "      <td>1</td>\n",
              "      <td>0</td>\n",
              "      <td>0</td>\n",
              "      <td>0</td>\n",
              "      <td>0</td>\n",
              "      <td>0</td>\n",
              "      <td>0</td>\n",
              "      <td>0</td>\n",
              "      <td>0</td>\n",
              "      <td>0</td>\n",
              "    </tr>\n",
              "    <tr>\n",
              "      <th>3</th>\n",
              "      <td>0</td>\n",
              "      <td>86499</td>\n",
              "      <td>50.0</td>\n",
              "      <td>18132</td>\n",
              "      <td>567.000000</td>\n",
              "      <td>150.0</td>\n",
              "      <td>mastercard</td>\n",
              "      <td>117.0</td>\n",
              "      <td>debit</td>\n",
              "      <td>476.0</td>\n",
              "      <td>87.0</td>\n",
              "      <td>121.633845</td>\n",
              "      <td>237.634827</td>\n",
              "      <td>yahoo.com</td>\n",
              "      <td>Desconocido</td>\n",
              "      <td>2.0</td>\n",
              "      <td>5.0</td>\n",
              "      <td>0.0</td>\n",
              "      <td>0.0</td>\n",
              "      <td>0.0</td>\n",
              "      <td>4.0</td>\n",
              "      <td>0.0</td>\n",
              "      <td>0.0</td>\n",
              "      <td>1.0</td>\n",
              "      <td>0.0</td>\n",
              "      <td>1.0</td>\n",
              "      <td>0.0</td>\n",
              "      <td>25.0</td>\n",
              "      <td>1.0</td>\n",
              "      <td>112.0</td>\n",
              "      <td>112.000000</td>\n",
              "      <td>0.000000</td>\n",
              "      <td>94.00000</td>\n",
              "      <td>0.000000</td>\n",
              "      <td>63.829504</td>\n",
              "      <td>44.639849</td>\n",
              "      <td>149.826877</td>\n",
              "      <td>0.560621</td>\n",
              "      <td>84.000000</td>\n",
              "      <td>138.022709</td>\n",
              "      <td>...</td>\n",
              "      <td>188.650539</td>\n",
              "      <td>14.184448</td>\n",
              "      <td>351.544148</td>\n",
              "      <td>401.500194</td>\n",
              "      <td>370.890905</td>\n",
              "      <td>16.017866</td>\n",
              "      <td>Desconocido</td>\n",
              "      <td>12.757957</td>\n",
              "      <td>329.855724</td>\n",
              "      <td>148.303672</td>\n",
              "      <td>Desconocido</td>\n",
              "      <td>Desconocido</td>\n",
              "      <td>Desconocido</td>\n",
              "      <td>Desconocido</td>\n",
              "      <td>26.599803</td>\n",
              "      <td>Desconocido</td>\n",
              "      <td>Desconocido</td>\n",
              "      <td>Desconocido</td>\n",
              "      <td>Desconocido</td>\n",
              "      <td>Desconocido</td>\n",
              "      <td>Desconocido</td>\n",
              "      <td>Desconocido</td>\n",
              "      <td>Desconocido</td>\n",
              "      <td>0</td>\n",
              "      <td>0</td>\n",
              "      <td>0</td>\n",
              "      <td>0</td>\n",
              "      <td>1</td>\n",
              "      <td>0</td>\n",
              "      <td>0</td>\n",
              "      <td>1</td>\n",
              "      <td>0</td>\n",
              "      <td>0</td>\n",
              "      <td>0</td>\n",
              "      <td>0</td>\n",
              "      <td>0</td>\n",
              "      <td>0</td>\n",
              "      <td>0</td>\n",
              "      <td>0</td>\n",
              "      <td>0</td>\n",
              "    </tr>\n",
              "    <tr>\n",
              "      <th>4</th>\n",
              "      <td>0</td>\n",
              "      <td>86506</td>\n",
              "      <td>50.0</td>\n",
              "      <td>4497</td>\n",
              "      <td>514.000000</td>\n",
              "      <td>150.0</td>\n",
              "      <td>mastercard</td>\n",
              "      <td>102.0</td>\n",
              "      <td>credit</td>\n",
              "      <td>420.0</td>\n",
              "      <td>87.0</td>\n",
              "      <td>121.633845</td>\n",
              "      <td>237.634827</td>\n",
              "      <td>gmail.com</td>\n",
              "      <td>Desconocido</td>\n",
              "      <td>1.0</td>\n",
              "      <td>1.0</td>\n",
              "      <td>0.0</td>\n",
              "      <td>0.0</td>\n",
              "      <td>0.0</td>\n",
              "      <td>1.0</td>\n",
              "      <td>0.0</td>\n",
              "      <td>1.0</td>\n",
              "      <td>0.0</td>\n",
              "      <td>1.0</td>\n",
              "      <td>1.0</td>\n",
              "      <td>0.0</td>\n",
              "      <td>1.0</td>\n",
              "      <td>1.0</td>\n",
              "      <td>0.0</td>\n",
              "      <td>167.222367</td>\n",
              "      <td>28.636094</td>\n",
              "      <td>134.84658</td>\n",
              "      <td>42.362001</td>\n",
              "      <td>63.829504</td>\n",
              "      <td>44.639849</td>\n",
              "      <td>149.826877</td>\n",
              "      <td>0.560621</td>\n",
              "      <td>118.256468</td>\n",
              "      <td>138.022709</td>\n",
              "      <td>...</td>\n",
              "      <td>166.000000</td>\n",
              "      <td>14.184448</td>\n",
              "      <td>542.000000</td>\n",
              "      <td>144.000000</td>\n",
              "      <td>370.890905</td>\n",
              "      <td>16.017866</td>\n",
              "      <td>Desconocido</td>\n",
              "      <td>12.757957</td>\n",
              "      <td>329.855724</td>\n",
              "      <td>148.303672</td>\n",
              "      <td>Desconocido</td>\n",
              "      <td>New</td>\n",
              "      <td>NotFound</td>\n",
              "      <td>Otros</td>\n",
              "      <td>32.000000</td>\n",
              "      <td>Otros</td>\n",
              "      <td>match_status:2</td>\n",
              "      <td>T</td>\n",
              "      <td>F</td>\n",
              "      <td>T</td>\n",
              "      <td>T</td>\n",
              "      <td>mobile</td>\n",
              "      <td>Otros</td>\n",
              "      <td>0</td>\n",
              "      <td>1</td>\n",
              "      <td>0</td>\n",
              "      <td>0</td>\n",
              "      <td>0</td>\n",
              "      <td>0</td>\n",
              "      <td>1</td>\n",
              "      <td>0</td>\n",
              "      <td>0</td>\n",
              "      <td>0</td>\n",
              "      <td>0</td>\n",
              "      <td>0</td>\n",
              "      <td>0</td>\n",
              "      <td>0</td>\n",
              "      <td>0</td>\n",
              "      <td>0</td>\n",
              "      <td>0</td>\n",
              "    </tr>\n",
              "  </tbody>\n",
              "</table>\n",
              "<p>5 rows × 448 columns</p>\n",
              "</div>"
            ],
            "text/plain": [
              "   isFraud  TransactionDT  TransactionAmt  card1  ...  other  vista windows  xp\n",
              "0        0          86400            68.5  13926  ...      0      0       0   0\n",
              "1        0          86401            29.0   2755  ...      0      0       0   0\n",
              "2        0          86469            59.0   4663  ...      0      0       0   0\n",
              "3        0          86499            50.0  18132  ...      0      0       0   0\n",
              "4        0          86506            50.0   4497  ...      0      0       0   0\n",
              "\n",
              "[5 rows x 448 columns]"
            ]
          },
          "metadata": {},
          "execution_count": 16
        }
      ]
    },
    {
      "cell_type": "code",
      "metadata": {
        "id": "c2-qvGuZ6tJE"
      },
      "source": [
        "validation.drop(['id_30'], axis = 1, inplace = True)\n",
        "vc_validation.index = validation.index\n",
        "validation = pd.concat([validation, vc_validation], axis = 1)"
      ],
      "execution_count": null,
      "outputs": []
    },
    {
      "cell_type": "markdown",
      "metadata": {
        "id": "I1R-rva_60gz"
      },
      "source": [
        "**Mean Encoding**"
      ]
    },
    {
      "cell_type": "code",
      "metadata": {
        "id": "vDtKadPK60S5"
      },
      "source": [
        "a_encodear = train.select_dtypes(include = object).columns.values.tolist()\n",
        "mean_encoded = {}\n",
        "for elem in a_encodear:\n",
        "  mean_encoded.update(train.groupby([elem])['isFraud'].mean().to_dict())\n",
        "  train[elem] =  train[elem].map(mean_encoded)\n",
        "\n",
        "a_encodear = None"
      ],
      "execution_count": null,
      "outputs": []
    },
    {
      "cell_type": "code",
      "metadata": {
        "id": "vvgUhIdM7D2Q"
      },
      "source": [
        "for column in validation:\n",
        "  if (validation[column].dtype == object):\n",
        "    validation[column] = validation[column].replace(mean_encoded)"
      ],
      "execution_count": null,
      "outputs": []
    },
    {
      "cell_type": "markdown",
      "metadata": {
        "id": "j29ZSwF37Mgi"
      },
      "source": [
        "Voy a trabajar con 100 features en total.\n",
        "\n",
        "Con los ultimos 50, estoy agarrando \"DeviceType\", \"DeviceInfo\", \"id_31\" y  \"id_33\". Con esto ya cumplo con las obligatorias.\n",
        "\n",
        "Para llegar a 100, voy a utilizar los primeros 50 también.\n",
        "\n",
        "Los estoy elegiendo al azar, no es por ningún criterio."
      ]
    },
    {
      "cell_type": "code",
      "metadata": {
        "id": "xS_dbOkF7R22",
        "colab": {
          "base_uri": "https://localhost:8080/",
          "height": 226
        },
        "outputId": "bb0e6853-ac1c-4c28-a65f-5ad586c0c3b3"
      },
      "source": [
        "train.iloc[:, (448-50):].head()"
      ],
      "execution_count": null,
      "outputs": [
        {
          "output_type": "execute_result",
          "data": {
            "text/html": [
              "<div>\n",
              "<style scoped>\n",
              "    .dataframe tbody tr th:only-of-type {\n",
              "        vertical-align: middle;\n",
              "    }\n",
              "\n",
              "    .dataframe tbody tr th {\n",
              "        vertical-align: top;\n",
              "    }\n",
              "\n",
              "    .dataframe thead th {\n",
              "        text-align: right;\n",
              "    }\n",
              "</style>\n",
              "<table border=\"1\" class=\"dataframe\">\n",
              "  <thead>\n",
              "    <tr style=\"text-align: right;\">\n",
              "      <th></th>\n",
              "      <th>id_07</th>\n",
              "      <th>id_08</th>\n",
              "      <th>id_09</th>\n",
              "      <th>id_10</th>\n",
              "      <th>id_11</th>\n",
              "      <th>id_12</th>\n",
              "      <th>id_13</th>\n",
              "      <th>id_14</th>\n",
              "      <th>id_15</th>\n",
              "      <th>id_16</th>\n",
              "      <th>id_17</th>\n",
              "      <th>id_18</th>\n",
              "      <th>id_19</th>\n",
              "      <th>id_20</th>\n",
              "      <th>id_21</th>\n",
              "      <th>id_22</th>\n",
              "      <th>id_23</th>\n",
              "      <th>id_24</th>\n",
              "      <th>id_25</th>\n",
              "      <th>id_26</th>\n",
              "      <th>id_27</th>\n",
              "      <th>id_28</th>\n",
              "      <th>id_29</th>\n",
              "      <th>id_31</th>\n",
              "      <th>id_32</th>\n",
              "      <th>id_33</th>\n",
              "      <th>id_34</th>\n",
              "      <th>id_35</th>\n",
              "      <th>id_36</th>\n",
              "      <th>id_37</th>\n",
              "      <th>id_38</th>\n",
              "      <th>DeviceType</th>\n",
              "      <th>DeviceInfo</th>\n",
              "      <th>C</th>\n",
              "      <th>H</th>\n",
              "      <th>R</th>\n",
              "      <th>S</th>\n",
              "      <th>W</th>\n",
              "      <th>NaN</th>\n",
              "      <th>android</th>\n",
              "      <th>desconocido</th>\n",
              "      <th>func</th>\n",
              "      <th>ios</th>\n",
              "      <th>linux</th>\n",
              "      <th>mac</th>\n",
              "      <th>os</th>\n",
              "      <th>other</th>\n",
              "      <th>vista</th>\n",
              "      <th>windows</th>\n",
              "      <th>xp</th>\n",
              "    </tr>\n",
              "  </thead>\n",
              "  <tbody>\n",
              "    <tr>\n",
              "      <th>0</th>\n",
              "      <td>13.793258</td>\n",
              "      <td>-38.892032</td>\n",
              "      <td>0.099801</td>\n",
              "      <td>-0.31037</td>\n",
              "      <td>99.734054</td>\n",
              "      <td>0.021337</td>\n",
              "      <td>47.457351</td>\n",
              "      <td>-345.677844</td>\n",
              "      <td>0.021355</td>\n",
              "      <td>0.023176</td>\n",
              "      <td>188.650539</td>\n",
              "      <td>14.184448</td>\n",
              "      <td>351.544148</td>\n",
              "      <td>401.500194</td>\n",
              "      <td>370.890905</td>\n",
              "      <td>16.017866</td>\n",
              "      <td>0.034731</td>\n",
              "      <td>12.757957</td>\n",
              "      <td>329.855724</td>\n",
              "      <td>148.303672</td>\n",
              "      <td>0.034731</td>\n",
              "      <td>0.021355</td>\n",
              "      <td>0.021355</td>\n",
              "      <td>0.021392</td>\n",
              "      <td>26.599803</td>\n",
              "      <td>0.033558</td>\n",
              "      <td>0.033660</td>\n",
              "      <td>0.021355</td>\n",
              "      <td>0.021355</td>\n",
              "      <td>0.021355</td>\n",
              "      <td>0.021355</td>\n",
              "      <td>0.021363</td>\n",
              "      <td>0.025991</td>\n",
              "      <td>0</td>\n",
              "      <td>0</td>\n",
              "      <td>0</td>\n",
              "      <td>0</td>\n",
              "      <td>1</td>\n",
              "      <td>0</td>\n",
              "      <td>0</td>\n",
              "      <td>1</td>\n",
              "      <td>0</td>\n",
              "      <td>0</td>\n",
              "      <td>0</td>\n",
              "      <td>0</td>\n",
              "      <td>0</td>\n",
              "      <td>0</td>\n",
              "      <td>0</td>\n",
              "      <td>0</td>\n",
              "      <td>0</td>\n",
              "    </tr>\n",
              "    <tr>\n",
              "      <th>1</th>\n",
              "      <td>13.793258</td>\n",
              "      <td>-38.892032</td>\n",
              "      <td>0.099801</td>\n",
              "      <td>-0.31037</td>\n",
              "      <td>99.734054</td>\n",
              "      <td>0.021337</td>\n",
              "      <td>47.457351</td>\n",
              "      <td>-345.677844</td>\n",
              "      <td>0.021355</td>\n",
              "      <td>0.023176</td>\n",
              "      <td>188.650539</td>\n",
              "      <td>14.184448</td>\n",
              "      <td>351.544148</td>\n",
              "      <td>401.500194</td>\n",
              "      <td>370.890905</td>\n",
              "      <td>16.017866</td>\n",
              "      <td>0.034731</td>\n",
              "      <td>12.757957</td>\n",
              "      <td>329.855724</td>\n",
              "      <td>148.303672</td>\n",
              "      <td>0.034731</td>\n",
              "      <td>0.021355</td>\n",
              "      <td>0.021355</td>\n",
              "      <td>0.021392</td>\n",
              "      <td>26.599803</td>\n",
              "      <td>0.033558</td>\n",
              "      <td>0.033660</td>\n",
              "      <td>0.021355</td>\n",
              "      <td>0.021355</td>\n",
              "      <td>0.021355</td>\n",
              "      <td>0.021355</td>\n",
              "      <td>0.021363</td>\n",
              "      <td>0.025991</td>\n",
              "      <td>0</td>\n",
              "      <td>0</td>\n",
              "      <td>0</td>\n",
              "      <td>0</td>\n",
              "      <td>1</td>\n",
              "      <td>0</td>\n",
              "      <td>0</td>\n",
              "      <td>1</td>\n",
              "      <td>0</td>\n",
              "      <td>0</td>\n",
              "      <td>0</td>\n",
              "      <td>0</td>\n",
              "      <td>0</td>\n",
              "      <td>0</td>\n",
              "      <td>0</td>\n",
              "      <td>0</td>\n",
              "      <td>0</td>\n",
              "    </tr>\n",
              "    <tr>\n",
              "      <th>2</th>\n",
              "      <td>13.793258</td>\n",
              "      <td>-38.892032</td>\n",
              "      <td>0.099801</td>\n",
              "      <td>-0.31037</td>\n",
              "      <td>99.734054</td>\n",
              "      <td>0.021337</td>\n",
              "      <td>47.457351</td>\n",
              "      <td>-345.677844</td>\n",
              "      <td>0.021355</td>\n",
              "      <td>0.023176</td>\n",
              "      <td>188.650539</td>\n",
              "      <td>14.184448</td>\n",
              "      <td>351.544148</td>\n",
              "      <td>401.500194</td>\n",
              "      <td>370.890905</td>\n",
              "      <td>16.017866</td>\n",
              "      <td>0.034731</td>\n",
              "      <td>12.757957</td>\n",
              "      <td>329.855724</td>\n",
              "      <td>148.303672</td>\n",
              "      <td>0.034731</td>\n",
              "      <td>0.021355</td>\n",
              "      <td>0.021355</td>\n",
              "      <td>0.021392</td>\n",
              "      <td>26.599803</td>\n",
              "      <td>0.033558</td>\n",
              "      <td>0.033660</td>\n",
              "      <td>0.021355</td>\n",
              "      <td>0.021355</td>\n",
              "      <td>0.021355</td>\n",
              "      <td>0.021355</td>\n",
              "      <td>0.021363</td>\n",
              "      <td>0.025991</td>\n",
              "      <td>0</td>\n",
              "      <td>0</td>\n",
              "      <td>0</td>\n",
              "      <td>0</td>\n",
              "      <td>1</td>\n",
              "      <td>0</td>\n",
              "      <td>0</td>\n",
              "      <td>1</td>\n",
              "      <td>0</td>\n",
              "      <td>0</td>\n",
              "      <td>0</td>\n",
              "      <td>0</td>\n",
              "      <td>0</td>\n",
              "      <td>0</td>\n",
              "      <td>0</td>\n",
              "      <td>0</td>\n",
              "      <td>0</td>\n",
              "    </tr>\n",
              "    <tr>\n",
              "      <th>3</th>\n",
              "      <td>13.793258</td>\n",
              "      <td>-38.892032</td>\n",
              "      <td>0.099801</td>\n",
              "      <td>-0.31037</td>\n",
              "      <td>99.734054</td>\n",
              "      <td>0.021337</td>\n",
              "      <td>47.457351</td>\n",
              "      <td>-345.677844</td>\n",
              "      <td>0.021355</td>\n",
              "      <td>0.023176</td>\n",
              "      <td>188.650539</td>\n",
              "      <td>14.184448</td>\n",
              "      <td>351.544148</td>\n",
              "      <td>401.500194</td>\n",
              "      <td>370.890905</td>\n",
              "      <td>16.017866</td>\n",
              "      <td>0.034731</td>\n",
              "      <td>12.757957</td>\n",
              "      <td>329.855724</td>\n",
              "      <td>148.303672</td>\n",
              "      <td>0.034731</td>\n",
              "      <td>0.021355</td>\n",
              "      <td>0.021355</td>\n",
              "      <td>0.021392</td>\n",
              "      <td>26.599803</td>\n",
              "      <td>0.033558</td>\n",
              "      <td>0.033660</td>\n",
              "      <td>0.021355</td>\n",
              "      <td>0.021355</td>\n",
              "      <td>0.021355</td>\n",
              "      <td>0.021355</td>\n",
              "      <td>0.021363</td>\n",
              "      <td>0.025991</td>\n",
              "      <td>0</td>\n",
              "      <td>0</td>\n",
              "      <td>0</td>\n",
              "      <td>0</td>\n",
              "      <td>1</td>\n",
              "      <td>0</td>\n",
              "      <td>0</td>\n",
              "      <td>1</td>\n",
              "      <td>0</td>\n",
              "      <td>0</td>\n",
              "      <td>0</td>\n",
              "      <td>0</td>\n",
              "      <td>0</td>\n",
              "      <td>0</td>\n",
              "      <td>0</td>\n",
              "      <td>0</td>\n",
              "      <td>0</td>\n",
              "    </tr>\n",
              "    <tr>\n",
              "      <th>4</th>\n",
              "      <td>13.793258</td>\n",
              "      <td>-38.892032</td>\n",
              "      <td>0.099801</td>\n",
              "      <td>-0.31037</td>\n",
              "      <td>100.000000</td>\n",
              "      <td>0.077190</td>\n",
              "      <td>47.457351</td>\n",
              "      <td>-480.000000</td>\n",
              "      <td>0.047639</td>\n",
              "      <td>0.046565</td>\n",
              "      <td>166.000000</td>\n",
              "      <td>14.184448</td>\n",
              "      <td>542.000000</td>\n",
              "      <td>144.000000</td>\n",
              "      <td>370.890905</td>\n",
              "      <td>16.017866</td>\n",
              "      <td>0.034731</td>\n",
              "      <td>12.757957</td>\n",
              "      <td>329.855724</td>\n",
              "      <td>148.303672</td>\n",
              "      <td>0.034731</td>\n",
              "      <td>0.050593</td>\n",
              "      <td>0.049570</td>\n",
              "      <td>0.100365</td>\n",
              "      <td>32.000000</td>\n",
              "      <td>0.052161</td>\n",
              "      <td>0.038155</td>\n",
              "      <td>0.043954</td>\n",
              "      <td>0.078951</td>\n",
              "      <td>0.080073</td>\n",
              "      <td>0.060319</td>\n",
              "      <td>0.098894</td>\n",
              "      <td>0.130481</td>\n",
              "      <td>0</td>\n",
              "      <td>1</td>\n",
              "      <td>0</td>\n",
              "      <td>0</td>\n",
              "      <td>0</td>\n",
              "      <td>0</td>\n",
              "      <td>1</td>\n",
              "      <td>0</td>\n",
              "      <td>0</td>\n",
              "      <td>0</td>\n",
              "      <td>0</td>\n",
              "      <td>0</td>\n",
              "      <td>0</td>\n",
              "      <td>0</td>\n",
              "      <td>0</td>\n",
              "      <td>0</td>\n",
              "      <td>0</td>\n",
              "    </tr>\n",
              "  </tbody>\n",
              "</table>\n",
              "</div>"
            ],
            "text/plain": [
              "       id_07      id_08     id_09    id_10  ...  other  vista  windows  xp\n",
              "0  13.793258 -38.892032  0.099801 -0.31037  ...      0      0        0   0\n",
              "1  13.793258 -38.892032  0.099801 -0.31037  ...      0      0        0   0\n",
              "2  13.793258 -38.892032  0.099801 -0.31037  ...      0      0        0   0\n",
              "3  13.793258 -38.892032  0.099801 -0.31037  ...      0      0        0   0\n",
              "4  13.793258 -38.892032  0.099801 -0.31037  ...      0      0        0   0\n",
              "\n",
              "[5 rows x 50 columns]"
            ]
          },
          "metadata": {},
          "execution_count": 20
        }
      ]
    },
    {
      "cell_type": "code",
      "metadata": {
        "id": "68WMtxI97i3T"
      },
      "source": [
        "train = pd.concat([train.iloc[:, :51], train.iloc[:, (448-50):]], axis = 1)\n",
        "\n",
        "validation = pd.concat([validation.iloc[:, :51], validation.iloc[:, (448-50):]], axis = 1)"
      ],
      "execution_count": null,
      "outputs": []
    },
    {
      "cell_type": "code",
      "metadata": {
        "id": "lD7acHJB7uGo"
      },
      "source": [
        "x_train = train.drop('isFraud', axis=1)\n",
        "y_train = train['isFraud']\n",
        "\n",
        "x_valid = validation.drop('isFraud', axis=1)\n",
        "y_valid = validation['isFraud']\n",
        "\n",
        "train = None\n",
        "validation = None"
      ],
      "execution_count": null,
      "outputs": []
    },
    {
      "cell_type": "markdown",
      "metadata": {
        "id": "79XNYDP77w6Y"
      },
      "source": [
        "# **XGBOOST**"
      ]
    },
    {
      "cell_type": "code",
      "metadata": {
        "id": "vIEdIFvV7ym6"
      },
      "source": [
        "#xgbc = xgb.XGBClassifier(random_state=35)\n",
        "\n",
        "#params = {\"objective\" :['binary:logistic', 'reg:logistic'],\n",
        "      #    \"max_depth\": [4, 5, 6],\n",
        "      #    \"n_estimators\" : [50, 100],\n",
        "      #    \"learning_rate\" : [0.1, 0.2],\n",
        "      #   \"colsample_bytree\" : [0.1, 0.2],\n",
        "      #    \"alpha\" : [5, 10]\n",
        "       #   }\n",
        "\n",
        "#model = RandomizedSearchCV(xgbc, params, random_state=35, n_jobs = 1, n_iter = 15, cv = 5, scoring=\"roc_auc\")"
      ],
      "execution_count": null,
      "outputs": []
    },
    {
      "cell_type": "markdown",
      "metadata": {
        "id": "N2HICVgyDPW-"
      },
      "source": [
        "Para evitar warnings de FutureWarning:"
      ]
    },
    {
      "cell_type": "code",
      "metadata": {
        "id": "toK4Wj-_9JCC"
      },
      "source": [
        "from warnings import simplefilter\n",
        "simplefilter(action='ignore', category=FutureWarning)"
      ],
      "execution_count": null,
      "outputs": []
    },
    {
      "cell_type": "code",
      "metadata": {
        "id": "aHWnhqpsDP08"
      },
      "source": [
        "#model.fit(x_train, y_train)"
      ],
      "execution_count": null,
      "outputs": []
    },
    {
      "cell_type": "code",
      "metadata": {
        "id": "dcBHCT0_MwUk"
      },
      "source": [
        "#with open('model_backup_xgb', 'wb') as model_backup_file:\n",
        " #   pickle.dump(model, model_backup_file)"
      ],
      "execution_count": null,
      "outputs": []
    },
    {
      "cell_type": "code",
      "metadata": {
        "id": "VB-hc9PHYhLk"
      },
      "source": [
        "with open('model_backup_xgb', 'rb') as file:\n",
        "    model = pickle.load(file)"
      ],
      "execution_count": null,
      "outputs": []
    },
    {
      "cell_type": "markdown",
      "metadata": {
        "id": "cVw8pBeniMhJ"
      },
      "source": [
        "Mejores hiperparametros encontrados:"
      ]
    },
    {
      "cell_type": "code",
      "metadata": {
        "id": "dOZM4skEDTA6",
        "colab": {
          "base_uri": "https://localhost:8080/"
        },
        "outputId": "29919a14-d474-40d6-9ef3-2de11e2d2835"
      },
      "source": [
        "best_params = model.best_estimator_.get_params()\n",
        "best_params"
      ],
      "execution_count": null,
      "outputs": [
        {
          "output_type": "execute_result",
          "data": {
            "text/plain": [
              "{'alpha': 5,\n",
              " 'base_score': 0.5,\n",
              " 'booster': 'gbtree',\n",
              " 'colsample_bylevel': 1,\n",
              " 'colsample_bynode': 1,\n",
              " 'colsample_bytree': 0.1,\n",
              " 'gamma': 0,\n",
              " 'learning_rate': 0.1,\n",
              " 'max_delta_step': 0,\n",
              " 'max_depth': 4,\n",
              " 'min_child_weight': 1,\n",
              " 'missing': nan,\n",
              " 'n_estimators': 50,\n",
              " 'n_jobs': 1,\n",
              " 'nthread': None,\n",
              " 'objective': 'binary:logistic',\n",
              " 'random_state': 35,\n",
              " 'reg_alpha': 0,\n",
              " 'reg_lambda': 1,\n",
              " 'scale_pos_weight': 1,\n",
              " 'seed': None,\n",
              " 'silent': None,\n",
              " 'subsample': 1,\n",
              " 'verbosity': 1}"
            ]
          },
          "metadata": {},
          "execution_count": 28
        }
      ]
    },
    {
      "cell_type": "code",
      "metadata": {
        "id": "MAX4bvOBDbWN",
        "colab": {
          "base_uri": "https://localhost:8080/"
        },
        "outputId": "7d5ca992-5359-428b-f090-6692c48d69cb"
      },
      "source": [
        "roc_auc_score(y_train, model.predict_proba(x_train)[:,1])"
      ],
      "execution_count": null,
      "outputs": [
        {
          "output_type": "execute_result",
          "data": {
            "text/plain": [
              "0.8665800289428769"
            ]
          },
          "metadata": {},
          "execution_count": 29
        }
      ]
    },
    {
      "cell_type": "markdown",
      "metadata": {
        "id": "ipdJS7Av_kMq"
      },
      "source": [
        "El random search ya me devuelve el modelo con el mayor score posible, entonces con el set de validación:"
      ]
    },
    {
      "cell_type": "code",
      "metadata": {
        "id": "JHLVssw4DcOr",
        "colab": {
          "base_uri": "https://localhost:8080/"
        },
        "outputId": "9a9d78c1-da32-423a-9ef4-4c6cd5744716"
      },
      "source": [
        "roc_auc_score(y_valid, model.predict_proba(x_valid)[:,1])"
      ],
      "execution_count": null,
      "outputs": [
        {
          "output_type": "execute_result",
          "data": {
            "text/plain": [
              "0.8492769448676667"
            ]
          },
          "metadata": {},
          "execution_count": 30
        }
      ]
    },
    {
      "cell_type": "markdown",
      "metadata": {
        "id": "FTZeUe7uR2GM"
      },
      "source": [
        "Este modelo me da un mayor **roc_auc**! El otro dio aproximadamente 0.812"
      ]
    },
    {
      "cell_type": "markdown",
      "metadata": {
        "id": "xMrDifq5R6_7"
      },
      "source": [
        "**● Para el mejor modelo de ambos, ¿cuál es el score en la competencia? (guardar el csv con predicciones para entregarlo después)**"
      ]
    },
    {
      "cell_type": "markdown",
      "metadata": {
        "id": "tRrz-jrGEB_X"
      },
      "source": [
        "![image.png](data:image/png;base64,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)"
      ]
    },
    {
      "cell_type": "code",
      "metadata": {
        "id": "Qaib3imFYlXK"
      },
      "source": [
        "cols_when_model_builds = x_train.columns.values.tolist()\n",
        "\n",
        "x_valid = None\n",
        "y_valid = None\n",
        "x_train = None\n",
        "y_train = None"
      ],
      "execution_count": null,
      "outputs": []
    },
    {
      "cell_type": "code",
      "metadata": {
        "id": "aA0ceNXJSNAr"
      },
      "source": [
        "downloaded = drive.CreateFile({'id': '1ko32LSWQj9dfrhkG2XwA2MsqAdFZf6eG'})\n",
        "downloaded.GetContentFile('test_identity.csv')\n",
        "downloaded = drive.CreateFile({'id': '19qclUn75nu2_bh0iz9ELlYlW0dajkt9p'})\n",
        "downloaded.GetContentFile('test_transaction.csv')\n",
        "downloaded = drive.CreateFile({'id': '1KUkhQTM2oE52YF2x_Z_5PGXjAfM2UAG3'})\n",
        "downloaded.GetContentFile('sample_submission.csv')"
      ],
      "execution_count": null,
      "outputs": []
    },
    {
      "cell_type": "code",
      "metadata": {
        "id": "vFn2E34hSJpk"
      },
      "source": [
        "t_identity = pd.read_csv('test_identity.csv', encoding='latin-1')\n",
        "t_transaction = pd.read_csv('test_transaction.csv', encoding='latin-1')\n",
        "x_test = t_transaction.merge(t_identity, left_on= 'TransactionID', right_on='TransactionID',how='outer')\n",
        "t_identity = None\n",
        "t_transaction = None\n",
        "x_test = x_test.drop(['TransactionID'], axis = 1) \n",
        "x_test.columns = x_test.columns.str.replace('id-','id_')"
      ],
      "execution_count": null,
      "outputs": []
    },
    {
      "cell_type": "markdown",
      "metadata": {
        "id": "qnScrMxxiUWx"
      },
      "source": [
        "Debo aplicarle los mismos encondings que hice con train:"
      ]
    },
    {
      "cell_type": "code",
      "metadata": {
        "id": "ZzBtwglaTzpC"
      },
      "source": [
        "x_test.fillna(aux2, inplace=True)\n",
        "x_test.fillna('Desconocido', inplace=True)"
      ],
      "execution_count": null,
      "outputs": []
    },
    {
      "cell_type": "code",
      "metadata": {
        "id": "3MCWbKPqSbcf"
      },
      "source": [
        "x_test.loc[~x_test['DeviceInfo'].isin(device_info), 'DeviceInfo'] = 'Otros'\n",
        "x_test.loc[~x_test['id_31'].isin(id_31), 'id_31'] = 'Otros'\n",
        "x_test.loc[~x_test['id_33'].isin(id_33), 'id_33'] = 'Otros'\n",
        "\n",
        "device_info = None\n",
        "id_31 = None\n",
        "id_33 = None"
      ],
      "execution_count": null,
      "outputs": []
    },
    {
      "cell_type": "code",
      "metadata": {
        "id": "VO5pL7omSkl4"
      },
      "source": [
        "ohe_test = pd.get_dummies(x_test['ProductCD'], drop_first = False, dummy_na = True)\n",
        "x_test.drop(['ProductCD'], axis = 1, inplace = True)\n",
        "x_test = pd.concat([x_test, ohe_test], axis = 1)"
      ],
      "execution_count": null,
      "outputs": []
    },
    {
      "cell_type": "code",
      "metadata": {
        "id": "rAb5_wvEVQ2s"
      },
      "source": [
        "voc_test = cv.transform(x_test['id_30'].tolist())\n",
        "vc_test = pd.DataFrame(voc_test.todense(), columns=cv.get_feature_names_out())\n",
        "vc_test.drop(voc_a_borrar, axis=1, inplace=True)\n",
        "voc_test = None\n",
        "\n",
        "x_test.drop(['id_30'], axis = 1, inplace = True)\n",
        "vc_test.index = x_test.index\n",
        "x_test = pd.concat([x_test, vc_test], axis = 1)"
      ],
      "execution_count": null,
      "outputs": []
    },
    {
      "cell_type": "code",
      "metadata": {
        "id": "v1S16XxiWYSs"
      },
      "source": [
        "for column in x_test:\n",
        "  if (x_test[column].dtype == object):\n",
        "    x_test[column] = x_test[column].replace(mean_encoded)"
      ],
      "execution_count": null,
      "outputs": []
    },
    {
      "cell_type": "code",
      "metadata": {
        "id": "W984wnJMR9TP"
      },
      "source": [
        "submission = pd.read_csv('sample_submission.csv', encoding='latin-1')"
      ],
      "execution_count": null,
      "outputs": []
    },
    {
      "cell_type": "code",
      "metadata": {
        "colab": {
          "base_uri": "https://localhost:8080/",
          "height": 206
        },
        "id": "zgZDg86RSDPx",
        "outputId": "6af85ef6-b9d6-493c-8bf5-f1adf0be3523"
      },
      "source": [
        "x_test = x_test[cols_when_model_builds]\n",
        "\n",
        "pp = model.predict_proba(x_test)[:,1]\n",
        "submission['isFraud'] = pp\n",
        "submission.to_csv('xgb_competencia.csv', index=False)\n",
        "submission.head()"
      ],
      "execution_count": null,
      "outputs": [
        {
          "output_type": "execute_result",
          "data": {
            "text/html": [
              "<div>\n",
              "<style scoped>\n",
              "    .dataframe tbody tr th:only-of-type {\n",
              "        vertical-align: middle;\n",
              "    }\n",
              "\n",
              "    .dataframe tbody tr th {\n",
              "        vertical-align: top;\n",
              "    }\n",
              "\n",
              "    .dataframe thead th {\n",
              "        text-align: right;\n",
              "    }\n",
              "</style>\n",
              "<table border=\"1\" class=\"dataframe\">\n",
              "  <thead>\n",
              "    <tr style=\"text-align: right;\">\n",
              "      <th></th>\n",
              "      <th>TransactionID</th>\n",
              "      <th>isFraud</th>\n",
              "    </tr>\n",
              "  </thead>\n",
              "  <tbody>\n",
              "    <tr>\n",
              "      <th>0</th>\n",
              "      <td>3663549</td>\n",
              "      <td>0.021282</td>\n",
              "    </tr>\n",
              "    <tr>\n",
              "      <th>1</th>\n",
              "      <td>3663550</td>\n",
              "      <td>0.021876</td>\n",
              "    </tr>\n",
              "    <tr>\n",
              "      <th>2</th>\n",
              "      <td>3663551</td>\n",
              "      <td>0.035906</td>\n",
              "    </tr>\n",
              "    <tr>\n",
              "      <th>3</th>\n",
              "      <td>3663552</td>\n",
              "      <td>0.023312</td>\n",
              "    </tr>\n",
              "    <tr>\n",
              "      <th>4</th>\n",
              "      <td>3663553</td>\n",
              "      <td>0.035501</td>\n",
              "    </tr>\n",
              "  </tbody>\n",
              "</table>\n",
              "</div>"
            ],
            "text/plain": [
              "   TransactionID   isFraud\n",
              "0        3663549  0.021282\n",
              "1        3663550  0.021876\n",
              "2        3663551  0.035906\n",
              "3        3663552  0.023312\n",
              "4        3663553  0.035501"
            ]
          },
          "metadata": {},
          "execution_count": 40
        }
      ]
    }
  ]
}