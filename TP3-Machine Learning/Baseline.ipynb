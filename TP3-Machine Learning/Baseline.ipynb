{
  "nbformat": 4,
  "nbformat_minor": 0,
  "metadata": {
    "colab": {
      "name": "P2-TP3-Datos.ipynb",
      "provenance": [],
      "collapsed_sections": []
    },
    "kernelspec": {
      "name": "python3",
      "display_name": "Python 3"
    },
    "language_info": {
      "name": "python"
    }
  },
  "cells": [
    {
      "cell_type": "code",
      "metadata": {
        "id": "DhhYhXPFgKxP"
      },
      "source": [
        "import pandas as pd\n",
        "import numpy as np\n",
        "import pickle\n",
        "import matplotlib.pyplot as plt\n",
        "import seaborn as sns\n",
        "from sklearn.linear_model import LogisticRegression\n",
        "from sklearn.model_selection import RandomizedSearchCV\n",
        "from sklearn.metrics import classification_report, roc_auc_score\n",
        "%matplotlib inline\n",
        "\n",
        "from pydrive.auth import GoogleAuth\n",
        "from pydrive.drive import GoogleDrive\n",
        "from google.colab import auth\n",
        "from oauth2client.client import GoogleCredentials\n",
        "\n",
        "# Authenticate and create the PyDrive client\n",
        "auth.authenticate_user()\n",
        "gauth = GoogleAuth()\n",
        "gauth.credentials = GoogleCredentials.get_application_default()\n",
        "drive = GoogleDrive(gauth)"
      ],
      "execution_count": null,
      "outputs": []
    },
    {
      "cell_type": "code",
      "metadata": {
        "id": "vme1zjE3gQF9"
      },
      "source": [
        "downloaded = drive.CreateFile({'id': '1tg7uu8GvstsNh8tMo5xq0kyCz9PHgB9s'})\n",
        "downloaded.GetContentFile('train_identity.csv')"
      ],
      "execution_count": null,
      "outputs": []
    },
    {
      "cell_type": "code",
      "metadata": {
        "id": "xf56Sg0cgRDR"
      },
      "source": [
        "downloaded = drive.CreateFile({'id': '1fFEYaig3cowq6K_TkJAt4DpMW3zVxekR'})\n",
        "downloaded.GetContentFile('train_transaction.csv')"
      ],
      "execution_count": null,
      "outputs": []
    },
    {
      "cell_type": "code",
      "metadata": {
        "id": "xTjU2pKIj9Q2"
      },
      "source": [
        "downloaded = drive.CreateFile({'id': '1ko32LSWQj9dfrhkG2XwA2MsqAdFZf6eG'})\n",
        "downloaded.GetContentFile('test_identity.csv')"
      ],
      "execution_count": null,
      "outputs": []
    },
    {
      "cell_type": "code",
      "metadata": {
        "id": "lty9_LyGj9oS"
      },
      "source": [
        "downloaded = drive.CreateFile({'id': '19qclUn75nu2_bh0iz9ELlYlW0dajkt9p'})\n",
        "downloaded.GetContentFile('test_transaction.csv')"
      ],
      "execution_count": null,
      "outputs": []
    },
    {
      "cell_type": "code",
      "metadata": {
        "id": "lO4gYwQXsv7N"
      },
      "source": [
        "downloaded = drive.CreateFile({'id': '1KUkhQTM2oE52YF2x_Z_5PGXjAfM2UAG3'})\n",
        "downloaded.GetContentFile('sample_submission.csv')"
      ],
      "execution_count": null,
      "outputs": []
    },
    {
      "cell_type": "code",
      "metadata": {
        "id": "TZf7hBMb1XUg"
      },
      "source": [
        "downloaded = drive.CreateFile({'id': '1ifyhdZogZVk-Z4icaBQk4Qc3-8y-mhc7'})\n",
        "downloaded.GetContentFile('model_backup')"
      ],
      "execution_count": null,
      "outputs": []
    },
    {
      "cell_type": "code",
      "metadata": {
        "id": "dngR9k1biy9d"
      },
      "source": [
        "identity = pd.read_csv('train_identity.csv', encoding='latin-1')\n",
        "transaction = pd.read_csv('train_transaction.csv', encoding='latin-1')\n",
        "join = transaction.merge(identity, left_on= 'TransactionID', right_on='TransactionID',how='outer')"
      ],
      "execution_count": null,
      "outputs": []
    },
    {
      "cell_type": "code",
      "metadata": {
        "id": "XjHvDI7oYceR"
      },
      "source": [
        "identity = None\n",
        "transaction = None"
      ],
      "execution_count": null,
      "outputs": []
    },
    {
      "cell_type": "markdown",
      "metadata": {
        "id": "vOY6s4YMSs3z"
      },
      "source": [
        "Elimino IDS unicos:"
      ]
    },
    {
      "cell_type": "code",
      "metadata": {
        "id": "YXd3HQ0nXAf2"
      },
      "source": [
        "join.drop(['TransactionID'], axis = 1, inplace=True)"
      ],
      "execution_count": null,
      "outputs": []
    },
    {
      "cell_type": "code",
      "metadata": {
        "colab": {
          "base_uri": "https://localhost:8080/",
          "height": 290
        },
        "id": "cMEYyk-sm5l_",
        "outputId": "0a6670b9-57e3-4d27-838d-d870cce42a8f"
      },
      "source": [
        "join.head()"
      ],
      "execution_count": null,
      "outputs": [
        {
          "output_type": "execute_result",
          "data": {
            "text/html": [
              "<div>\n",
              "<style scoped>\n",
              "    .dataframe tbody tr th:only-of-type {\n",
              "        vertical-align: middle;\n",
              "    }\n",
              "\n",
              "    .dataframe tbody tr th {\n",
              "        vertical-align: top;\n",
              "    }\n",
              "\n",
              "    .dataframe thead th {\n",
              "        text-align: right;\n",
              "    }\n",
              "</style>\n",
              "<table border=\"1\" class=\"dataframe\">\n",
              "  <thead>\n",
              "    <tr style=\"text-align: right;\">\n",
              "      <th></th>\n",
              "      <th>isFraud</th>\n",
              "      <th>TransactionDT</th>\n",
              "      <th>TransactionAmt</th>\n",
              "      <th>ProductCD</th>\n",
              "      <th>card1</th>\n",
              "      <th>card2</th>\n",
              "      <th>card3</th>\n",
              "      <th>card4</th>\n",
              "      <th>card5</th>\n",
              "      <th>card6</th>\n",
              "      <th>addr1</th>\n",
              "      <th>addr2</th>\n",
              "      <th>dist1</th>\n",
              "      <th>dist2</th>\n",
              "      <th>P_emaildomain</th>\n",
              "      <th>R_emaildomain</th>\n",
              "      <th>C1</th>\n",
              "      <th>C2</th>\n",
              "      <th>C3</th>\n",
              "      <th>C4</th>\n",
              "      <th>C5</th>\n",
              "      <th>C6</th>\n",
              "      <th>C7</th>\n",
              "      <th>C8</th>\n",
              "      <th>C9</th>\n",
              "      <th>C10</th>\n",
              "      <th>C11</th>\n",
              "      <th>C12</th>\n",
              "      <th>C13</th>\n",
              "      <th>C14</th>\n",
              "      <th>D1</th>\n",
              "      <th>D2</th>\n",
              "      <th>D3</th>\n",
              "      <th>D4</th>\n",
              "      <th>D5</th>\n",
              "      <th>D6</th>\n",
              "      <th>D7</th>\n",
              "      <th>D8</th>\n",
              "      <th>D9</th>\n",
              "      <th>D10</th>\n",
              "      <th>...</th>\n",
              "      <th>id_01</th>\n",
              "      <th>id_02</th>\n",
              "      <th>id_03</th>\n",
              "      <th>id_04</th>\n",
              "      <th>id_05</th>\n",
              "      <th>id_06</th>\n",
              "      <th>id_07</th>\n",
              "      <th>id_08</th>\n",
              "      <th>id_09</th>\n",
              "      <th>id_10</th>\n",
              "      <th>id_11</th>\n",
              "      <th>id_12</th>\n",
              "      <th>id_13</th>\n",
              "      <th>id_14</th>\n",
              "      <th>id_15</th>\n",
              "      <th>id_16</th>\n",
              "      <th>id_17</th>\n",
              "      <th>id_18</th>\n",
              "      <th>id_19</th>\n",
              "      <th>id_20</th>\n",
              "      <th>id_21</th>\n",
              "      <th>id_22</th>\n",
              "      <th>id_23</th>\n",
              "      <th>id_24</th>\n",
              "      <th>id_25</th>\n",
              "      <th>id_26</th>\n",
              "      <th>id_27</th>\n",
              "      <th>id_28</th>\n",
              "      <th>id_29</th>\n",
              "      <th>id_30</th>\n",
              "      <th>id_31</th>\n",
              "      <th>id_32</th>\n",
              "      <th>id_33</th>\n",
              "      <th>id_34</th>\n",
              "      <th>id_35</th>\n",
              "      <th>id_36</th>\n",
              "      <th>id_37</th>\n",
              "      <th>id_38</th>\n",
              "      <th>DeviceType</th>\n",
              "      <th>DeviceInfo</th>\n",
              "    </tr>\n",
              "  </thead>\n",
              "  <tbody>\n",
              "    <tr>\n",
              "      <th>0</th>\n",
              "      <td>0</td>\n",
              "      <td>86400</td>\n",
              "      <td>68.5</td>\n",
              "      <td>W</td>\n",
              "      <td>13926</td>\n",
              "      <td>NaN</td>\n",
              "      <td>150.0</td>\n",
              "      <td>discover</td>\n",
              "      <td>142.0</td>\n",
              "      <td>credit</td>\n",
              "      <td>315.0</td>\n",
              "      <td>87.0</td>\n",
              "      <td>19.0</td>\n",
              "      <td>NaN</td>\n",
              "      <td>NaN</td>\n",
              "      <td>NaN</td>\n",
              "      <td>1.0</td>\n",
              "      <td>1.0</td>\n",
              "      <td>0.0</td>\n",
              "      <td>0.0</td>\n",
              "      <td>0.0</td>\n",
              "      <td>1.0</td>\n",
              "      <td>0.0</td>\n",
              "      <td>0.0</td>\n",
              "      <td>1.0</td>\n",
              "      <td>0.0</td>\n",
              "      <td>2.0</td>\n",
              "      <td>0.0</td>\n",
              "      <td>1.0</td>\n",
              "      <td>1.0</td>\n",
              "      <td>14.0</td>\n",
              "      <td>NaN</td>\n",
              "      <td>13.0</td>\n",
              "      <td>NaN</td>\n",
              "      <td>NaN</td>\n",
              "      <td>NaN</td>\n",
              "      <td>NaN</td>\n",
              "      <td>NaN</td>\n",
              "      <td>NaN</td>\n",
              "      <td>13.0</td>\n",
              "      <td>...</td>\n",
              "      <td>NaN</td>\n",
              "      <td>NaN</td>\n",
              "      <td>NaN</td>\n",
              "      <td>NaN</td>\n",
              "      <td>NaN</td>\n",
              "      <td>NaN</td>\n",
              "      <td>NaN</td>\n",
              "      <td>NaN</td>\n",
              "      <td>NaN</td>\n",
              "      <td>NaN</td>\n",
              "      <td>NaN</td>\n",
              "      <td>NaN</td>\n",
              "      <td>NaN</td>\n",
              "      <td>NaN</td>\n",
              "      <td>NaN</td>\n",
              "      <td>NaN</td>\n",
              "      <td>NaN</td>\n",
              "      <td>NaN</td>\n",
              "      <td>NaN</td>\n",
              "      <td>NaN</td>\n",
              "      <td>NaN</td>\n",
              "      <td>NaN</td>\n",
              "      <td>NaN</td>\n",
              "      <td>NaN</td>\n",
              "      <td>NaN</td>\n",
              "      <td>NaN</td>\n",
              "      <td>NaN</td>\n",
              "      <td>NaN</td>\n",
              "      <td>NaN</td>\n",
              "      <td>NaN</td>\n",
              "      <td>NaN</td>\n",
              "      <td>NaN</td>\n",
              "      <td>NaN</td>\n",
              "      <td>NaN</td>\n",
              "      <td>NaN</td>\n",
              "      <td>NaN</td>\n",
              "      <td>NaN</td>\n",
              "      <td>NaN</td>\n",
              "      <td>NaN</td>\n",
              "      <td>NaN</td>\n",
              "    </tr>\n",
              "    <tr>\n",
              "      <th>1</th>\n",
              "      <td>0</td>\n",
              "      <td>86401</td>\n",
              "      <td>29.0</td>\n",
              "      <td>W</td>\n",
              "      <td>2755</td>\n",
              "      <td>404.0</td>\n",
              "      <td>150.0</td>\n",
              "      <td>mastercard</td>\n",
              "      <td>102.0</td>\n",
              "      <td>credit</td>\n",
              "      <td>325.0</td>\n",
              "      <td>87.0</td>\n",
              "      <td>NaN</td>\n",
              "      <td>NaN</td>\n",
              "      <td>gmail.com</td>\n",
              "      <td>NaN</td>\n",
              "      <td>1.0</td>\n",
              "      <td>1.0</td>\n",
              "      <td>0.0</td>\n",
              "      <td>0.0</td>\n",
              "      <td>0.0</td>\n",
              "      <td>1.0</td>\n",
              "      <td>0.0</td>\n",
              "      <td>0.0</td>\n",
              "      <td>0.0</td>\n",
              "      <td>0.0</td>\n",
              "      <td>1.0</td>\n",
              "      <td>0.0</td>\n",
              "      <td>1.0</td>\n",
              "      <td>1.0</td>\n",
              "      <td>0.0</td>\n",
              "      <td>NaN</td>\n",
              "      <td>NaN</td>\n",
              "      <td>0.0</td>\n",
              "      <td>NaN</td>\n",
              "      <td>NaN</td>\n",
              "      <td>NaN</td>\n",
              "      <td>NaN</td>\n",
              "      <td>NaN</td>\n",
              "      <td>0.0</td>\n",
              "      <td>...</td>\n",
              "      <td>NaN</td>\n",
              "      <td>NaN</td>\n",
              "      <td>NaN</td>\n",
              "      <td>NaN</td>\n",
              "      <td>NaN</td>\n",
              "      <td>NaN</td>\n",
              "      <td>NaN</td>\n",
              "      <td>NaN</td>\n",
              "      <td>NaN</td>\n",
              "      <td>NaN</td>\n",
              "      <td>NaN</td>\n",
              "      <td>NaN</td>\n",
              "      <td>NaN</td>\n",
              "      <td>NaN</td>\n",
              "      <td>NaN</td>\n",
              "      <td>NaN</td>\n",
              "      <td>NaN</td>\n",
              "      <td>NaN</td>\n",
              "      <td>NaN</td>\n",
              "      <td>NaN</td>\n",
              "      <td>NaN</td>\n",
              "      <td>NaN</td>\n",
              "      <td>NaN</td>\n",
              "      <td>NaN</td>\n",
              "      <td>NaN</td>\n",
              "      <td>NaN</td>\n",
              "      <td>NaN</td>\n",
              "      <td>NaN</td>\n",
              "      <td>NaN</td>\n",
              "      <td>NaN</td>\n",
              "      <td>NaN</td>\n",
              "      <td>NaN</td>\n",
              "      <td>NaN</td>\n",
              "      <td>NaN</td>\n",
              "      <td>NaN</td>\n",
              "      <td>NaN</td>\n",
              "      <td>NaN</td>\n",
              "      <td>NaN</td>\n",
              "      <td>NaN</td>\n",
              "      <td>NaN</td>\n",
              "    </tr>\n",
              "    <tr>\n",
              "      <th>2</th>\n",
              "      <td>0</td>\n",
              "      <td>86469</td>\n",
              "      <td>59.0</td>\n",
              "      <td>W</td>\n",
              "      <td>4663</td>\n",
              "      <td>490.0</td>\n",
              "      <td>150.0</td>\n",
              "      <td>visa</td>\n",
              "      <td>166.0</td>\n",
              "      <td>debit</td>\n",
              "      <td>330.0</td>\n",
              "      <td>87.0</td>\n",
              "      <td>287.0</td>\n",
              "      <td>NaN</td>\n",
              "      <td>outlook.com</td>\n",
              "      <td>NaN</td>\n",
              "      <td>1.0</td>\n",
              "      <td>1.0</td>\n",
              "      <td>0.0</td>\n",
              "      <td>0.0</td>\n",
              "      <td>0.0</td>\n",
              "      <td>1.0</td>\n",
              "      <td>0.0</td>\n",
              "      <td>0.0</td>\n",
              "      <td>1.0</td>\n",
              "      <td>0.0</td>\n",
              "      <td>1.0</td>\n",
              "      <td>0.0</td>\n",
              "      <td>1.0</td>\n",
              "      <td>1.0</td>\n",
              "      <td>0.0</td>\n",
              "      <td>NaN</td>\n",
              "      <td>NaN</td>\n",
              "      <td>0.0</td>\n",
              "      <td>NaN</td>\n",
              "      <td>NaN</td>\n",
              "      <td>NaN</td>\n",
              "      <td>NaN</td>\n",
              "      <td>NaN</td>\n",
              "      <td>0.0</td>\n",
              "      <td>...</td>\n",
              "      <td>NaN</td>\n",
              "      <td>NaN</td>\n",
              "      <td>NaN</td>\n",
              "      <td>NaN</td>\n",
              "      <td>NaN</td>\n",
              "      <td>NaN</td>\n",
              "      <td>NaN</td>\n",
              "      <td>NaN</td>\n",
              "      <td>NaN</td>\n",
              "      <td>NaN</td>\n",
              "      <td>NaN</td>\n",
              "      <td>NaN</td>\n",
              "      <td>NaN</td>\n",
              "      <td>NaN</td>\n",
              "      <td>NaN</td>\n",
              "      <td>NaN</td>\n",
              "      <td>NaN</td>\n",
              "      <td>NaN</td>\n",
              "      <td>NaN</td>\n",
              "      <td>NaN</td>\n",
              "      <td>NaN</td>\n",
              "      <td>NaN</td>\n",
              "      <td>NaN</td>\n",
              "      <td>NaN</td>\n",
              "      <td>NaN</td>\n",
              "      <td>NaN</td>\n",
              "      <td>NaN</td>\n",
              "      <td>NaN</td>\n",
              "      <td>NaN</td>\n",
              "      <td>NaN</td>\n",
              "      <td>NaN</td>\n",
              "      <td>NaN</td>\n",
              "      <td>NaN</td>\n",
              "      <td>NaN</td>\n",
              "      <td>NaN</td>\n",
              "      <td>NaN</td>\n",
              "      <td>NaN</td>\n",
              "      <td>NaN</td>\n",
              "      <td>NaN</td>\n",
              "      <td>NaN</td>\n",
              "    </tr>\n",
              "    <tr>\n",
              "      <th>3</th>\n",
              "      <td>0</td>\n",
              "      <td>86499</td>\n",
              "      <td>50.0</td>\n",
              "      <td>W</td>\n",
              "      <td>18132</td>\n",
              "      <td>567.0</td>\n",
              "      <td>150.0</td>\n",
              "      <td>mastercard</td>\n",
              "      <td>117.0</td>\n",
              "      <td>debit</td>\n",
              "      <td>476.0</td>\n",
              "      <td>87.0</td>\n",
              "      <td>NaN</td>\n",
              "      <td>NaN</td>\n",
              "      <td>yahoo.com</td>\n",
              "      <td>NaN</td>\n",
              "      <td>2.0</td>\n",
              "      <td>5.0</td>\n",
              "      <td>0.0</td>\n",
              "      <td>0.0</td>\n",
              "      <td>0.0</td>\n",
              "      <td>4.0</td>\n",
              "      <td>0.0</td>\n",
              "      <td>0.0</td>\n",
              "      <td>1.0</td>\n",
              "      <td>0.0</td>\n",
              "      <td>1.0</td>\n",
              "      <td>0.0</td>\n",
              "      <td>25.0</td>\n",
              "      <td>1.0</td>\n",
              "      <td>112.0</td>\n",
              "      <td>112.0</td>\n",
              "      <td>0.0</td>\n",
              "      <td>94.0</td>\n",
              "      <td>0.0</td>\n",
              "      <td>NaN</td>\n",
              "      <td>NaN</td>\n",
              "      <td>NaN</td>\n",
              "      <td>NaN</td>\n",
              "      <td>84.0</td>\n",
              "      <td>...</td>\n",
              "      <td>NaN</td>\n",
              "      <td>NaN</td>\n",
              "      <td>NaN</td>\n",
              "      <td>NaN</td>\n",
              "      <td>NaN</td>\n",
              "      <td>NaN</td>\n",
              "      <td>NaN</td>\n",
              "      <td>NaN</td>\n",
              "      <td>NaN</td>\n",
              "      <td>NaN</td>\n",
              "      <td>NaN</td>\n",
              "      <td>NaN</td>\n",
              "      <td>NaN</td>\n",
              "      <td>NaN</td>\n",
              "      <td>NaN</td>\n",
              "      <td>NaN</td>\n",
              "      <td>NaN</td>\n",
              "      <td>NaN</td>\n",
              "      <td>NaN</td>\n",
              "      <td>NaN</td>\n",
              "      <td>NaN</td>\n",
              "      <td>NaN</td>\n",
              "      <td>NaN</td>\n",
              "      <td>NaN</td>\n",
              "      <td>NaN</td>\n",
              "      <td>NaN</td>\n",
              "      <td>NaN</td>\n",
              "      <td>NaN</td>\n",
              "      <td>NaN</td>\n",
              "      <td>NaN</td>\n",
              "      <td>NaN</td>\n",
              "      <td>NaN</td>\n",
              "      <td>NaN</td>\n",
              "      <td>NaN</td>\n",
              "      <td>NaN</td>\n",
              "      <td>NaN</td>\n",
              "      <td>NaN</td>\n",
              "      <td>NaN</td>\n",
              "      <td>NaN</td>\n",
              "      <td>NaN</td>\n",
              "    </tr>\n",
              "    <tr>\n",
              "      <th>4</th>\n",
              "      <td>0</td>\n",
              "      <td>86506</td>\n",
              "      <td>50.0</td>\n",
              "      <td>H</td>\n",
              "      <td>4497</td>\n",
              "      <td>514.0</td>\n",
              "      <td>150.0</td>\n",
              "      <td>mastercard</td>\n",
              "      <td>102.0</td>\n",
              "      <td>credit</td>\n",
              "      <td>420.0</td>\n",
              "      <td>87.0</td>\n",
              "      <td>NaN</td>\n",
              "      <td>NaN</td>\n",
              "      <td>gmail.com</td>\n",
              "      <td>NaN</td>\n",
              "      <td>1.0</td>\n",
              "      <td>1.0</td>\n",
              "      <td>0.0</td>\n",
              "      <td>0.0</td>\n",
              "      <td>0.0</td>\n",
              "      <td>1.0</td>\n",
              "      <td>0.0</td>\n",
              "      <td>1.0</td>\n",
              "      <td>0.0</td>\n",
              "      <td>1.0</td>\n",
              "      <td>1.0</td>\n",
              "      <td>0.0</td>\n",
              "      <td>1.0</td>\n",
              "      <td>1.0</td>\n",
              "      <td>0.0</td>\n",
              "      <td>NaN</td>\n",
              "      <td>NaN</td>\n",
              "      <td>NaN</td>\n",
              "      <td>NaN</td>\n",
              "      <td>NaN</td>\n",
              "      <td>NaN</td>\n",
              "      <td>NaN</td>\n",
              "      <td>NaN</td>\n",
              "      <td>NaN</td>\n",
              "      <td>...</td>\n",
              "      <td>0.0</td>\n",
              "      <td>70787.0</td>\n",
              "      <td>NaN</td>\n",
              "      <td>NaN</td>\n",
              "      <td>NaN</td>\n",
              "      <td>NaN</td>\n",
              "      <td>NaN</td>\n",
              "      <td>NaN</td>\n",
              "      <td>NaN</td>\n",
              "      <td>NaN</td>\n",
              "      <td>100.0</td>\n",
              "      <td>NotFound</td>\n",
              "      <td>NaN</td>\n",
              "      <td>-480.0</td>\n",
              "      <td>New</td>\n",
              "      <td>NotFound</td>\n",
              "      <td>166.0</td>\n",
              "      <td>NaN</td>\n",
              "      <td>542.0</td>\n",
              "      <td>144.0</td>\n",
              "      <td>NaN</td>\n",
              "      <td>NaN</td>\n",
              "      <td>NaN</td>\n",
              "      <td>NaN</td>\n",
              "      <td>NaN</td>\n",
              "      <td>NaN</td>\n",
              "      <td>NaN</td>\n",
              "      <td>New</td>\n",
              "      <td>NotFound</td>\n",
              "      <td>Android 7.0</td>\n",
              "      <td>samsung browser 6.2</td>\n",
              "      <td>32.0</td>\n",
              "      <td>2220x1080</td>\n",
              "      <td>match_status:2</td>\n",
              "      <td>T</td>\n",
              "      <td>F</td>\n",
              "      <td>T</td>\n",
              "      <td>T</td>\n",
              "      <td>mobile</td>\n",
              "      <td>SAMSUNG SM-G892A Build/NRD90M</td>\n",
              "    </tr>\n",
              "  </tbody>\n",
              "</table>\n",
              "<p>5 rows × 433 columns</p>\n",
              "</div>"
            ],
            "text/plain": [
              "   isFraud  TransactionDT  ...  DeviceType                     DeviceInfo\n",
              "0        0          86400  ...         NaN                            NaN\n",
              "1        0          86401  ...         NaN                            NaN\n",
              "2        0          86469  ...         NaN                            NaN\n",
              "3        0          86499  ...         NaN                            NaN\n",
              "4        0          86506  ...      mobile  SAMSUNG SM-G892A Build/NRD90M\n",
              "\n",
              "[5 rows x 433 columns]"
            ]
          },
          "metadata": {},
          "execution_count": 11
        }
      ]
    },
    {
      "cell_type": "code",
      "metadata": {
        "colab": {
          "base_uri": "https://localhost:8080/"
        },
        "id": "3cqttderrmZv",
        "outputId": "b42622a3-6ac1-4987-f217-99183be80f89"
      },
      "source": [
        "join.info()"
      ],
      "execution_count": null,
      "outputs": [
        {
          "output_type": "stream",
          "name": "stdout",
          "text": [
            "<class 'pandas.core.frame.DataFrame'>\n",
            "Int64Index: 590540 entries, 0 to 590539\n",
            "Columns: 433 entries, isFraud to DeviceInfo\n",
            "dtypes: float64(399), int64(3), object(31)\n",
            "memory usage: 1.9+ GB\n"
          ]
        }
      ]
    },
    {
      "cell_type": "markdown",
      "metadata": {
        "id": "aKaRAUk_3rCX"
      },
      "source": [
        "TransactionDT: timedelta de una fecha y hora de referencia dada (no una marca de tiempo real)\n",
        "“El primer valor de TransactionDT es 86400, que corresponde a la cantidad de segundos en un día (60 * 60 * 24 = 86400), así que creo que la unidad es segundos. Con esto, sabemos que los datos abarcan 6 meses, ya que el valor máximo es 15811131, que correspondería al día 183 \"."
      ]
    },
    {
      "cell_type": "markdown",
      "metadata": {
        "id": "vwY83Hs33rmZ"
      },
      "source": [
        "Entonces, para mi set de validación me voy a quedar con los que sean después de los 140 dias (aprox el 20%), osea **TransactionDT >= 140*86400 = 12.096.000**"
      ]
    },
    {
      "cell_type": "code",
      "metadata": {
        "id": "k40qGDZW4HwT"
      },
      "source": [
        "train = join[join['TransactionDT'] < 12096000]\n",
        "validation = join[join['TransactionDT'] >= 12096000]\n",
        "\n",
        "join = None"
      ],
      "execution_count": null,
      "outputs": []
    },
    {
      "cell_type": "markdown",
      "metadata": {
        "id": "0LdoLcTVreu8"
      },
      "source": [
        "Tema: **NaN**\n",
        "\n",
        "Si son de feature numericas: pasaran a ser el promedio de la columna.\n",
        "\n",
        "Si son de feature no numerica: los cambio a 'Desconocido', así pasarán a ser una categoría del feature"
      ]
    },
    {
      "cell_type": "code",
      "metadata": {
        "id": "yVwaXZ9xqY37"
      },
      "source": [
        "aux = train.select_dtypes(include = {'float64', 'int64'}).columns.values.tolist()\n",
        "aux2 = {}\n",
        "for elem in aux:\n",
        "  aux2[elem] = train[elem].mean()\n",
        "\n",
        "train.fillna(aux2, inplace=True)\n",
        "validation.fillna(aux2, inplace=True)\n",
        "# Hasta acá solo quedaron en NaN los de variables no numericas\n",
        "train.fillna('Desconocido', inplace=True)\n",
        "validation.fillna('Desconocido', inplace=True)"
      ],
      "execution_count": null,
      "outputs": []
    },
    {
      "cell_type": "markdown",
      "metadata": {
        "id": "lYsiUrHi8pKN"
      },
      "source": [
        "Algunos features tienen bastantes categorías, para achicarlos un poco me quedo con el top 10 y el resto serán categoría \"Otros\""
      ]
    },
    {
      "cell_type": "code",
      "metadata": {
        "id": "ezO1jNgr8868"
      },
      "source": [
        "device_info = train['DeviceInfo'].value_counts().to_frame().head(10).index\n",
        "train.loc[~train['DeviceInfo'].isin(device_info), 'DeviceInfo'] = 'Otros'\n",
        "validation.loc[~validation['DeviceInfo'].isin(device_info), 'DeviceInfo'] = 'Otros'\n",
        "\n",
        "\n",
        "id_31 = train['id_31'].value_counts().to_frame().head(10).index\n",
        "train.loc[~train['id_31'].isin(id_31), 'id_31'] = 'Otros'\n",
        "validation.loc[~validation['id_31'].isin(id_31), 'id_31'] = 'Otros'\n",
        "\n",
        "id_30 = train['id_30'].value_counts().to_frame().head(10).index\n",
        "train.loc[~train['id_30'].isin(id_30), 'id_30'] = 'Otros'\n",
        "validation.loc[~validation['id_30'].isin(id_30), 'id_30'] = 'Otros'\n",
        "\n",
        "id_33 = train['id_33'].value_counts().to_frame().head(10).index\n",
        "train.loc[~train['id_33'].isin(id_33), 'id_33'] = 'Otros'\n",
        "validation.loc[~validation['id_33'].isin(id_33), 'id_33'] = 'Otros'"
      ],
      "execution_count": null,
      "outputs": []
    },
    {
      "cell_type": "markdown",
      "metadata": {
        "id": "x4jQYrB2hkgR"
      },
      "source": [
        "Voy a encodear con **Mean Encoding**"
      ]
    },
    {
      "cell_type": "code",
      "metadata": {
        "id": "wYboKcvokbiB"
      },
      "source": [
        "a_encodear = train.select_dtypes(include = object).columns.values.tolist()\n",
        "mean_encoded = {}\n",
        "for elem in a_encodear:\n",
        "  mean_encoded.update(train.groupby([elem])['isFraud'].mean().to_dict())\n",
        "  train[elem] =  train[elem].map(mean_encoded)\n",
        "\n",
        "a_encodear = None"
      ],
      "execution_count": null,
      "outputs": []
    },
    {
      "cell_type": "code",
      "metadata": {
        "id": "BHcUPgFoeqRA"
      },
      "source": [
        "prom_features_train = {}\n",
        "for column in train:\n",
        "  prom_features_train[column] = train[column].mean()"
      ],
      "execution_count": null,
      "outputs": []
    },
    {
      "cell_type": "code",
      "metadata": {
        "id": "o4mfFUg6evIP"
      },
      "source": [
        "for column in validation:\n",
        "  if (validation[column].dtype == object):\n",
        "    validation[column] = validation[column].replace(mean_encoded)"
      ],
      "execution_count": null,
      "outputs": []
    },
    {
      "cell_type": "code",
      "metadata": {
        "colab": {
          "base_uri": "https://localhost:8080/",
          "height": 255
        },
        "id": "G4iMzt6Mi9St",
        "outputId": "a180ec7c-d47c-44af-a278-82c9edab0b49"
      },
      "source": [
        "validation.head()"
      ],
      "execution_count": null,
      "outputs": [
        {
          "output_type": "execute_result",
          "data": {
            "text/html": [
              "<div>\n",
              "<style scoped>\n",
              "    .dataframe tbody tr th:only-of-type {\n",
              "        vertical-align: middle;\n",
              "    }\n",
              "\n",
              "    .dataframe tbody tr th {\n",
              "        vertical-align: top;\n",
              "    }\n",
              "\n",
              "    .dataframe thead th {\n",
              "        text-align: right;\n",
              "    }\n",
              "</style>\n",
              "<table border=\"1\" class=\"dataframe\">\n",
              "  <thead>\n",
              "    <tr style=\"text-align: right;\">\n",
              "      <th></th>\n",
              "      <th>isFraud</th>\n",
              "      <th>TransactionDT</th>\n",
              "      <th>TransactionAmt</th>\n",
              "      <th>ProductCD</th>\n",
              "      <th>card1</th>\n",
              "      <th>card2</th>\n",
              "      <th>card3</th>\n",
              "      <th>card4</th>\n",
              "      <th>card5</th>\n",
              "      <th>card6</th>\n",
              "      <th>addr1</th>\n",
              "      <th>addr2</th>\n",
              "      <th>dist1</th>\n",
              "      <th>dist2</th>\n",
              "      <th>P_emaildomain</th>\n",
              "      <th>R_emaildomain</th>\n",
              "      <th>C1</th>\n",
              "      <th>C2</th>\n",
              "      <th>C3</th>\n",
              "      <th>C4</th>\n",
              "      <th>C5</th>\n",
              "      <th>C6</th>\n",
              "      <th>C7</th>\n",
              "      <th>C8</th>\n",
              "      <th>C9</th>\n",
              "      <th>C10</th>\n",
              "      <th>C11</th>\n",
              "      <th>C12</th>\n",
              "      <th>C13</th>\n",
              "      <th>C14</th>\n",
              "      <th>D1</th>\n",
              "      <th>D2</th>\n",
              "      <th>D3</th>\n",
              "      <th>D4</th>\n",
              "      <th>D5</th>\n",
              "      <th>D6</th>\n",
              "      <th>D7</th>\n",
              "      <th>D8</th>\n",
              "      <th>D9</th>\n",
              "      <th>D10</th>\n",
              "      <th>...</th>\n",
              "      <th>id_01</th>\n",
              "      <th>id_02</th>\n",
              "      <th>id_03</th>\n",
              "      <th>id_04</th>\n",
              "      <th>id_05</th>\n",
              "      <th>id_06</th>\n",
              "      <th>id_07</th>\n",
              "      <th>id_08</th>\n",
              "      <th>id_09</th>\n",
              "      <th>id_10</th>\n",
              "      <th>id_11</th>\n",
              "      <th>id_12</th>\n",
              "      <th>id_13</th>\n",
              "      <th>id_14</th>\n",
              "      <th>id_15</th>\n",
              "      <th>id_16</th>\n",
              "      <th>id_17</th>\n",
              "      <th>id_18</th>\n",
              "      <th>id_19</th>\n",
              "      <th>id_20</th>\n",
              "      <th>id_21</th>\n",
              "      <th>id_22</th>\n",
              "      <th>id_23</th>\n",
              "      <th>id_24</th>\n",
              "      <th>id_25</th>\n",
              "      <th>id_26</th>\n",
              "      <th>id_27</th>\n",
              "      <th>id_28</th>\n",
              "      <th>id_29</th>\n",
              "      <th>id_30</th>\n",
              "      <th>id_31</th>\n",
              "      <th>id_32</th>\n",
              "      <th>id_33</th>\n",
              "      <th>id_34</th>\n",
              "      <th>id_35</th>\n",
              "      <th>id_36</th>\n",
              "      <th>id_37</th>\n",
              "      <th>id_38</th>\n",
              "      <th>DeviceType</th>\n",
              "      <th>DeviceInfo</th>\n",
              "    </tr>\n",
              "  </thead>\n",
              "  <tbody>\n",
              "    <tr>\n",
              "      <th>469377</th>\n",
              "      <td>0</td>\n",
              "      <td>12096008</td>\n",
              "      <td>20.000</td>\n",
              "      <td>0.061840</td>\n",
              "      <td>2101</td>\n",
              "      <td>481.0</td>\n",
              "      <td>150.0</td>\n",
              "      <td>0.034909</td>\n",
              "      <td>224.0</td>\n",
              "      <td>0.067191</td>\n",
              "      <td>330.000000</td>\n",
              "      <td>87.000000</td>\n",
              "      <td>121.633845</td>\n",
              "      <td>237.634827</td>\n",
              "      <td>0.025991</td>\n",
              "      <td>0.114857</td>\n",
              "      <td>2.0</td>\n",
              "      <td>4.0</td>\n",
              "      <td>0.0</td>\n",
              "      <td>1.0</td>\n",
              "      <td>0.0</td>\n",
              "      <td>0.0</td>\n",
              "      <td>0.0</td>\n",
              "      <td>4.0</td>\n",
              "      <td>0.0</td>\n",
              "      <td>4.0</td>\n",
              "      <td>2.0</td>\n",
              "      <td>0.0</td>\n",
              "      <td>8.0</td>\n",
              "      <td>2.0</td>\n",
              "      <td>108.0</td>\n",
              "      <td>108.000000</td>\n",
              "      <td>28.636094</td>\n",
              "      <td>134.84658</td>\n",
              "      <td>42.362001</td>\n",
              "      <td>63.829504</td>\n",
              "      <td>44.639849</td>\n",
              "      <td>39.000000</td>\n",
              "      <td>0.000000</td>\n",
              "      <td>118.256468</td>\n",
              "      <td>...</td>\n",
              "      <td>0.000000</td>\n",
              "      <td>3154.00000</td>\n",
              "      <td>0.000000</td>\n",
              "      <td>0.000000</td>\n",
              "      <td>0.000000</td>\n",
              "      <td>0.000000</td>\n",
              "      <td>13.793258</td>\n",
              "      <td>-38.892032</td>\n",
              "      <td>0.000000</td>\n",
              "      <td>0.00000</td>\n",
              "      <td>100.000000</td>\n",
              "      <td>0.101090</td>\n",
              "      <td>47.457351</td>\n",
              "      <td>-300.000000</td>\n",
              "      <td>0.101090</td>\n",
              "      <td>0.101090</td>\n",
              "      <td>166.000000</td>\n",
              "      <td>14.184448</td>\n",
              "      <td>542.000000</td>\n",
              "      <td>533.000000</td>\n",
              "      <td>370.890905</td>\n",
              "      <td>16.017866</td>\n",
              "      <td>0.025991</td>\n",
              "      <td>12.757957</td>\n",
              "      <td>329.855724</td>\n",
              "      <td>148.303672</td>\n",
              "      <td>0.025991</td>\n",
              "      <td>0.101090</td>\n",
              "      <td>0.101090</td>\n",
              "      <td>0.130481</td>\n",
              "      <td>0.130481</td>\n",
              "      <td>24.000000</td>\n",
              "      <td>0.039957</td>\n",
              "      <td>0.038155</td>\n",
              "      <td>0.060319</td>\n",
              "      <td>0.093593</td>\n",
              "      <td>0.060319</td>\n",
              "      <td>0.060319</td>\n",
              "      <td>0.098894</td>\n",
              "      <td>0.130481</td>\n",
              "    </tr>\n",
              "    <tr>\n",
              "      <th>469378</th>\n",
              "      <td>0</td>\n",
              "      <td>12096009</td>\n",
              "      <td>15.950</td>\n",
              "      <td>0.020713</td>\n",
              "      <td>8320</td>\n",
              "      <td>476.0</td>\n",
              "      <td>150.0</td>\n",
              "      <td>0.034719</td>\n",
              "      <td>166.0</td>\n",
              "      <td>0.023978</td>\n",
              "      <td>325.000000</td>\n",
              "      <td>87.000000</td>\n",
              "      <td>5.000000</td>\n",
              "      <td>237.634827</td>\n",
              "      <td>0.119363</td>\n",
              "      <td>0.025991</td>\n",
              "      <td>139.0</td>\n",
              "      <td>125.0</td>\n",
              "      <td>0.0</td>\n",
              "      <td>0.0</td>\n",
              "      <td>237.0</td>\n",
              "      <td>107.0</td>\n",
              "      <td>0.0</td>\n",
              "      <td>0.0</td>\n",
              "      <td>93.0</td>\n",
              "      <td>0.0</td>\n",
              "      <td>97.0</td>\n",
              "      <td>0.0</td>\n",
              "      <td>683.0</td>\n",
              "      <td>116.0</td>\n",
              "      <td>54.0</td>\n",
              "      <td>54.000000</td>\n",
              "      <td>3.000000</td>\n",
              "      <td>53.00000</td>\n",
              "      <td>3.000000</td>\n",
              "      <td>63.829504</td>\n",
              "      <td>44.639849</td>\n",
              "      <td>149.826877</td>\n",
              "      <td>0.560621</td>\n",
              "      <td>53.000000</td>\n",
              "      <td>...</td>\n",
              "      <td>-9.927837</td>\n",
              "      <td>171070.98261</td>\n",
              "      <td>0.062681</td>\n",
              "      <td>-0.059743</td>\n",
              "      <td>1.728991</td>\n",
              "      <td>-6.628775</td>\n",
              "      <td>13.793258</td>\n",
              "      <td>-38.892032</td>\n",
              "      <td>0.099801</td>\n",
              "      <td>-0.31037</td>\n",
              "      <td>99.734054</td>\n",
              "      <td>0.025991</td>\n",
              "      <td>47.457351</td>\n",
              "      <td>-345.677844</td>\n",
              "      <td>0.025991</td>\n",
              "      <td>0.025991</td>\n",
              "      <td>188.650539</td>\n",
              "      <td>14.184448</td>\n",
              "      <td>351.544148</td>\n",
              "      <td>401.500194</td>\n",
              "      <td>370.890905</td>\n",
              "      <td>16.017866</td>\n",
              "      <td>0.025991</td>\n",
              "      <td>12.757957</td>\n",
              "      <td>329.855724</td>\n",
              "      <td>148.303672</td>\n",
              "      <td>0.025991</td>\n",
              "      <td>0.025991</td>\n",
              "      <td>0.025991</td>\n",
              "      <td>0.025991</td>\n",
              "      <td>0.025991</td>\n",
              "      <td>26.599803</td>\n",
              "      <td>0.025991</td>\n",
              "      <td>0.025991</td>\n",
              "      <td>0.025991</td>\n",
              "      <td>0.025991</td>\n",
              "      <td>0.025991</td>\n",
              "      <td>0.025991</td>\n",
              "      <td>0.025991</td>\n",
              "      <td>0.025991</td>\n",
              "    </tr>\n",
              "    <tr>\n",
              "      <th>469379</th>\n",
              "      <td>0</td>\n",
              "      <td>12096015</td>\n",
              "      <td>46.233</td>\n",
              "      <td>0.112989</td>\n",
              "      <td>7978</td>\n",
              "      <td>562.0</td>\n",
              "      <td>150.0</td>\n",
              "      <td>0.034909</td>\n",
              "      <td>219.0</td>\n",
              "      <td>0.067191</td>\n",
              "      <td>290.473133</td>\n",
              "      <td>86.771816</td>\n",
              "      <td>121.633845</td>\n",
              "      <td>282.000000</td>\n",
              "      <td>0.057932</td>\n",
              "      <td>0.057932</td>\n",
              "      <td>1.0</td>\n",
              "      <td>3.0</td>\n",
              "      <td>0.0</td>\n",
              "      <td>1.0</td>\n",
              "      <td>0.0</td>\n",
              "      <td>1.0</td>\n",
              "      <td>1.0</td>\n",
              "      <td>2.0</td>\n",
              "      <td>0.0</td>\n",
              "      <td>2.0</td>\n",
              "      <td>1.0</td>\n",
              "      <td>1.0</td>\n",
              "      <td>3.0</td>\n",
              "      <td>1.0</td>\n",
              "      <td>125.0</td>\n",
              "      <td>125.000000</td>\n",
              "      <td>0.000000</td>\n",
              "      <td>124.00000</td>\n",
              "      <td>0.000000</td>\n",
              "      <td>124.000000</td>\n",
              "      <td>0.000000</td>\n",
              "      <td>43.000000</td>\n",
              "      <td>0.000000</td>\n",
              "      <td>0.000000</td>\n",
              "      <td>...</td>\n",
              "      <td>-10.000000</td>\n",
              "      <td>111493.00000</td>\n",
              "      <td>0.000000</td>\n",
              "      <td>0.000000</td>\n",
              "      <td>0.000000</td>\n",
              "      <td>0.000000</td>\n",
              "      <td>13.793258</td>\n",
              "      <td>-38.892032</td>\n",
              "      <td>0.000000</td>\n",
              "      <td>0.00000</td>\n",
              "      <td>100.000000</td>\n",
              "      <td>0.049570</td>\n",
              "      <td>52.000000</td>\n",
              "      <td>-300.000000</td>\n",
              "      <td>0.101090</td>\n",
              "      <td>0.101090</td>\n",
              "      <td>225.000000</td>\n",
              "      <td>14.184448</td>\n",
              "      <td>266.000000</td>\n",
              "      <td>305.000000</td>\n",
              "      <td>370.890905</td>\n",
              "      <td>16.017866</td>\n",
              "      <td>0.025991</td>\n",
              "      <td>12.757957</td>\n",
              "      <td>329.855724</td>\n",
              "      <td>148.303672</td>\n",
              "      <td>0.025991</td>\n",
              "      <td>0.101090</td>\n",
              "      <td>0.101090</td>\n",
              "      <td>0.025991</td>\n",
              "      <td>0.018542</td>\n",
              "      <td>26.599803</td>\n",
              "      <td>0.025991</td>\n",
              "      <td>0.025991</td>\n",
              "      <td>0.093593</td>\n",
              "      <td>0.060319</td>\n",
              "      <td>0.060319</td>\n",
              "      <td>0.093593</td>\n",
              "      <td>0.062173</td>\n",
              "      <td>0.011521</td>\n",
              "    </tr>\n",
              "    <tr>\n",
              "      <th>469380</th>\n",
              "      <td>0</td>\n",
              "      <td>12096062</td>\n",
              "      <td>100.000</td>\n",
              "      <td>0.036368</td>\n",
              "      <td>5014</td>\n",
              "      <td>399.0</td>\n",
              "      <td>150.0</td>\n",
              "      <td>0.028719</td>\n",
              "      <td>146.0</td>\n",
              "      <td>0.067191</td>\n",
              "      <td>123.000000</td>\n",
              "      <td>87.000000</td>\n",
              "      <td>121.633845</td>\n",
              "      <td>237.634827</td>\n",
              "      <td>0.114857</td>\n",
              "      <td>0.114857</td>\n",
              "      <td>1.0</td>\n",
              "      <td>1.0</td>\n",
              "      <td>0.0</td>\n",
              "      <td>1.0</td>\n",
              "      <td>0.0</td>\n",
              "      <td>1.0</td>\n",
              "      <td>0.0</td>\n",
              "      <td>1.0</td>\n",
              "      <td>0.0</td>\n",
              "      <td>1.0</td>\n",
              "      <td>1.0</td>\n",
              "      <td>0.0</td>\n",
              "      <td>1.0</td>\n",
              "      <td>1.0</td>\n",
              "      <td>0.0</td>\n",
              "      <td>167.222367</td>\n",
              "      <td>28.636094</td>\n",
              "      <td>0.00000</td>\n",
              "      <td>42.362001</td>\n",
              "      <td>0.000000</td>\n",
              "      <td>44.639849</td>\n",
              "      <td>149.826877</td>\n",
              "      <td>0.560621</td>\n",
              "      <td>118.256468</td>\n",
              "      <td>...</td>\n",
              "      <td>-5.000000</td>\n",
              "      <td>167167.00000</td>\n",
              "      <td>0.062681</td>\n",
              "      <td>-0.059743</td>\n",
              "      <td>1.728991</td>\n",
              "      <td>-6.628775</td>\n",
              "      <td>13.793258</td>\n",
              "      <td>-38.892032</td>\n",
              "      <td>0.099801</td>\n",
              "      <td>-0.31037</td>\n",
              "      <td>100.000000</td>\n",
              "      <td>0.049570</td>\n",
              "      <td>64.000000</td>\n",
              "      <td>-300.000000</td>\n",
              "      <td>0.050593</td>\n",
              "      <td>0.049570</td>\n",
              "      <td>166.000000</td>\n",
              "      <td>14.184448</td>\n",
              "      <td>215.000000</td>\n",
              "      <td>600.000000</td>\n",
              "      <td>370.890905</td>\n",
              "      <td>16.017866</td>\n",
              "      <td>0.025991</td>\n",
              "      <td>12.757957</td>\n",
              "      <td>329.855724</td>\n",
              "      <td>148.303672</td>\n",
              "      <td>0.025991</td>\n",
              "      <td>0.050593</td>\n",
              "      <td>0.049570</td>\n",
              "      <td>0.130481</td>\n",
              "      <td>0.022514</td>\n",
              "      <td>24.000000</td>\n",
              "      <td>0.039957</td>\n",
              "      <td>0.038155</td>\n",
              "      <td>0.060319</td>\n",
              "      <td>0.093593</td>\n",
              "      <td>0.093593</td>\n",
              "      <td>0.093593</td>\n",
              "      <td>0.062173</td>\n",
              "      <td>0.018434</td>\n",
              "    </tr>\n",
              "    <tr>\n",
              "      <th>469381</th>\n",
              "      <td>0</td>\n",
              "      <td>12096068</td>\n",
              "      <td>117.000</td>\n",
              "      <td>0.020713</td>\n",
              "      <td>15484</td>\n",
              "      <td>418.0</td>\n",
              "      <td>150.0</td>\n",
              "      <td>0.034719</td>\n",
              "      <td>226.0</td>\n",
              "      <td>0.023978</td>\n",
              "      <td>264.000000</td>\n",
              "      <td>87.000000</td>\n",
              "      <td>97.000000</td>\n",
              "      <td>237.634827</td>\n",
              "      <td>0.028625</td>\n",
              "      <td>0.025991</td>\n",
              "      <td>2.0</td>\n",
              "      <td>2.0</td>\n",
              "      <td>0.0</td>\n",
              "      <td>0.0</td>\n",
              "      <td>0.0</td>\n",
              "      <td>1.0</td>\n",
              "      <td>0.0</td>\n",
              "      <td>0.0</td>\n",
              "      <td>1.0</td>\n",
              "      <td>0.0</td>\n",
              "      <td>2.0</td>\n",
              "      <td>0.0</td>\n",
              "      <td>5.0</td>\n",
              "      <td>2.0</td>\n",
              "      <td>63.0</td>\n",
              "      <td>63.000000</td>\n",
              "      <td>32.000000</td>\n",
              "      <td>63.00000</td>\n",
              "      <td>16.000000</td>\n",
              "      <td>63.829504</td>\n",
              "      <td>44.639849</td>\n",
              "      <td>149.826877</td>\n",
              "      <td>0.560621</td>\n",
              "      <td>32.000000</td>\n",
              "      <td>...</td>\n",
              "      <td>-9.927837</td>\n",
              "      <td>171070.98261</td>\n",
              "      <td>0.062681</td>\n",
              "      <td>-0.059743</td>\n",
              "      <td>1.728991</td>\n",
              "      <td>-6.628775</td>\n",
              "      <td>13.793258</td>\n",
              "      <td>-38.892032</td>\n",
              "      <td>0.099801</td>\n",
              "      <td>-0.31037</td>\n",
              "      <td>99.734054</td>\n",
              "      <td>0.025991</td>\n",
              "      <td>47.457351</td>\n",
              "      <td>-345.677844</td>\n",
              "      <td>0.025991</td>\n",
              "      <td>0.025991</td>\n",
              "      <td>188.650539</td>\n",
              "      <td>14.184448</td>\n",
              "      <td>351.544148</td>\n",
              "      <td>401.500194</td>\n",
              "      <td>370.890905</td>\n",
              "      <td>16.017866</td>\n",
              "      <td>0.025991</td>\n",
              "      <td>12.757957</td>\n",
              "      <td>329.855724</td>\n",
              "      <td>148.303672</td>\n",
              "      <td>0.025991</td>\n",
              "      <td>0.025991</td>\n",
              "      <td>0.025991</td>\n",
              "      <td>0.025991</td>\n",
              "      <td>0.025991</td>\n",
              "      <td>26.599803</td>\n",
              "      <td>0.025991</td>\n",
              "      <td>0.025991</td>\n",
              "      <td>0.025991</td>\n",
              "      <td>0.025991</td>\n",
              "      <td>0.025991</td>\n",
              "      <td>0.025991</td>\n",
              "      <td>0.025991</td>\n",
              "      <td>0.025991</td>\n",
              "    </tr>\n",
              "  </tbody>\n",
              "</table>\n",
              "<p>5 rows × 433 columns</p>\n",
              "</div>"
            ],
            "text/plain": [
              "        isFraud  TransactionDT  ...  DeviceType  DeviceInfo\n",
              "469377        0       12096008  ...    0.098894    0.130481\n",
              "469378        0       12096009  ...    0.025991    0.025991\n",
              "469379        0       12096015  ...    0.062173    0.011521\n",
              "469380        0       12096062  ...    0.062173    0.018434\n",
              "469381        0       12096068  ...    0.025991    0.025991\n",
              "\n",
              "[5 rows x 433 columns]"
            ]
          },
          "metadata": {},
          "execution_count": 19
        }
      ]
    },
    {
      "cell_type": "code",
      "metadata": {
        "id": "7aqJFZs6nxrF"
      },
      "source": [
        "x_train = train.drop('isFraud',axis=1)\n",
        "y_train = train['isFraud']"
      ],
      "execution_count": null,
      "outputs": []
    },
    {
      "cell_type": "code",
      "metadata": {
        "id": "AzLiw8JhRX_S"
      },
      "source": [
        "#logistic = LogisticRegression(random_state = 42, max_iter= 1500)\n",
        "\n",
        "#hp = dict()\n",
        "#hp['solver'] = ['newton-cg', 'lbfgs', 'liblinear']\n",
        "#hp['penalty'] = ['none', 'l1', 'l2', 'elasticnet']\n",
        "#hp['C'] = C = np.logspace(0, 4, num=10)\n",
        "\n",
        "#model = RandomizedSearchCV(logistic, hp, random_state=42, n_jobs = 1, n_iter = 5, cv = 3, scoring=\"roc_auc\")"
      ],
      "execution_count": null,
      "outputs": []
    },
    {
      "cell_type": "code",
      "metadata": {
        "id": "N2e_piB7DCOA"
      },
      "source": [
        "#model.fit(x_train, y_train)"
      ],
      "execution_count": null,
      "outputs": []
    },
    {
      "cell_type": "code",
      "metadata": {
        "id": "cZg5nXiowuWn"
      },
      "source": [
        "#with open('model_backup', 'wb') as model_backup_file:\n",
        " #   pickle.dump(model, model_backup_file)"
      ],
      "execution_count": null,
      "outputs": []
    },
    {
      "cell_type": "code",
      "metadata": {
        "id": "Eo_aiVuwxB32"
      },
      "source": [
        "with open('model_backup', 'rb') as file:\n",
        "    model = pickle.load(file)"
      ],
      "execution_count": null,
      "outputs": []
    },
    {
      "cell_type": "markdown",
      "metadata": {
        "id": "dT7UPF5WGrgK"
      },
      "source": [
        "**Hiperparametros:**"
      ]
    },
    {
      "cell_type": "code",
      "metadata": {
        "colab": {
          "base_uri": "https://localhost:8080/"
        },
        "id": "q8WlMFHHGqv_",
        "outputId": "a3d6f992-447f-42e7-8424-c5d1f2ba4b67"
      },
      "source": [
        "model.best_params_"
      ],
      "execution_count": null,
      "outputs": [
        {
          "output_type": "execute_result",
          "data": {
            "text/plain": [
              "{'C': 59.94842503189409, 'penalty': 'l2', 'solver': 'lbfgs'}"
            ]
          },
          "metadata": {},
          "execution_count": 25
        }
      ]
    },
    {
      "cell_type": "code",
      "metadata": {
        "colab": {
          "base_uri": "https://localhost:8080/"
        },
        "id": "TYMr3U_-xF3u",
        "outputId": "fce5cc5e-43d1-4fcd-888a-9a2d075e41fc"
      },
      "source": [
        "model.best_estimator_.get_params()"
      ],
      "execution_count": null,
      "outputs": [
        {
          "output_type": "execute_result",
          "data": {
            "text/plain": [
              "{'C': 59.94842503189409,\n",
              " 'class_weight': None,\n",
              " 'dual': False,\n",
              " 'fit_intercept': True,\n",
              " 'intercept_scaling': 1,\n",
              " 'l1_ratio': None,\n",
              " 'max_iter': 1500,\n",
              " 'multi_class': 'auto',\n",
              " 'n_jobs': None,\n",
              " 'penalty': 'l2',\n",
              " 'random_state': 42,\n",
              " 'solver': 'lbfgs',\n",
              " 'tol': 0.0001,\n",
              " 'verbose': 0,\n",
              " 'warm_start': False}"
            ]
          },
          "metadata": {},
          "execution_count": 26
        }
      ]
    },
    {
      "cell_type": "markdown",
      "metadata": {
        "id": "qG6ERO2hHtJI"
      },
      "source": [
        "Metricas:"
      ]
    },
    {
      "cell_type": "code",
      "metadata": {
        "id": "zQh38V4dMCi2",
        "colab": {
          "base_uri": "https://localhost:8080/"
        },
        "outputId": "e483fa1e-4ea6-4972-bd8b-f376140f43de"
      },
      "source": [
        "print(classification_report(y_train, model.predict(x_train)))"
      ],
      "execution_count": null,
      "outputs": [
        {
          "output_type": "stream",
          "name": "stdout",
          "text": [
            "              precision    recall  f1-score   support\n",
            "\n",
            "           0       0.97      1.00      0.98    452890\n",
            "           1       0.31      0.01      0.01     16487\n",
            "\n",
            "    accuracy                           0.96    469377\n",
            "   macro avg       0.64      0.50      0.50    469377\n",
            "weighted avg       0.94      0.96      0.95    469377\n",
            "\n"
          ]
        }
      ]
    },
    {
      "cell_type": "code",
      "metadata": {
        "id": "zp5-07KxMaYI",
        "colab": {
          "base_uri": "https://localhost:8080/"
        },
        "outputId": "72d9fab3-3feb-4680-c9fe-7db319c750c8"
      },
      "source": [
        "roc_auc_score(y_train, model.predict_proba(x_train)[:,1])"
      ],
      "execution_count": null,
      "outputs": [
        {
          "output_type": "execute_result",
          "data": {
            "text/plain": [
              "0.6971110448351885"
            ]
          },
          "metadata": {},
          "execution_count": 28
        }
      ]
    },
    {
      "cell_type": "markdown",
      "metadata": {
        "id": "OLZU0_ptHwUs"
      },
      "source": [
        "**¿Cuál es el mejor score de validación obtenido?**"
      ]
    },
    {
      "cell_type": "code",
      "metadata": {
        "id": "70USy_FTTE_z"
      },
      "source": [
        "x_val = validation.drop('isFraud',axis=1)\n",
        "y_val = validation['isFraud']"
      ],
      "execution_count": null,
      "outputs": []
    },
    {
      "cell_type": "code",
      "metadata": {
        "id": "Oik3SgoLWVAm",
        "colab": {
          "base_uri": "https://localhost:8080/"
        },
        "outputId": "c3bcb73d-876b-455a-e9f7-964f4c1d2c48"
      },
      "source": [
        "print(classification_report(y_val, model.predict(x_val)))"
      ],
      "execution_count": null,
      "outputs": [
        {
          "output_type": "stream",
          "name": "stdout",
          "text": [
            "              precision    recall  f1-score   support\n",
            "\n",
            "           0       0.97      1.00      0.98    116987\n",
            "           1       0.06      0.00      0.01      4176\n",
            "\n",
            "    accuracy                           0.96    121163\n",
            "   macro avg       0.51      0.50      0.49    121163\n",
            "weighted avg       0.93      0.96      0.95    121163\n",
            "\n"
          ]
        }
      ]
    },
    {
      "cell_type": "code",
      "metadata": {
        "id": "E5bebHO6WFbf",
        "colab": {
          "base_uri": "https://localhost:8080/"
        },
        "outputId": "2070dbb6-032a-467d-c65d-b943af8d7fdf"
      },
      "source": [
        "roc_auc_score(y_val, model.predict_proba(x_val)[:,1])"
      ],
      "execution_count": null,
      "outputs": [
        {
          "output_type": "execute_result",
          "data": {
            "text/plain": [
              "0.7039048215790555"
            ]
          },
          "metadata": {},
          "execution_count": 31
        }
      ]
    },
    {
      "cell_type": "markdown",
      "metadata": {
        "id": "DjzdT8lYHyxX"
      },
      "source": [
        "**Al predecir con este modelo para la competencia, ¿Cúal es el score obtenido?**"
      ]
    },
    {
      "cell_type": "markdown",
      "metadata": {
        "id": "_2MhLbDSd1BH"
      },
      "source": [
        "![image.png](data:image/png;base64,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)"
      ]
    },
    {
      "cell_type": "code",
      "metadata": {
        "id": "UNicIdY5Twes"
      },
      "source": [
        "columns_names = list(train.columns.values)\n",
        "train = None\n",
        "validation = None\n",
        "x_train = None\n",
        "y_train = None\n",
        "x_val = None\n",
        "y_val = None"
      ],
      "execution_count": null,
      "outputs": []
    },
    {
      "cell_type": "code",
      "metadata": {
        "id": "1B3UWzzYSJGG"
      },
      "source": [
        "t_identity = pd.read_csv('test_identity.csv', encoding='latin-1')\n",
        "t_transaction = pd.read_csv('test_transaction.csv', encoding='latin-1')\n",
        "x_test = t_transaction.merge(t_identity, left_on= 'TransactionID', right_on='TransactionID',how='outer')\n",
        "t_identity = None\n",
        "t_transaction = None\n",
        "x_test = x_test.drop(['TransactionID'], axis = 1) \n",
        "x_test.columns = x_test.columns.str.replace('id-','id_')"
      ],
      "execution_count": null,
      "outputs": []
    },
    {
      "cell_type": "code",
      "metadata": {
        "id": "LK50wWjcT-76"
      },
      "source": [
        "x_test.fillna(aux2, inplace=True)\n",
        "x_test.fillna('Desconocido', inplace=True)"
      ],
      "execution_count": null,
      "outputs": []
    },
    {
      "cell_type": "code",
      "metadata": {
        "id": "QvEjfZgzJA03"
      },
      "source": [
        "x_test.loc[~x_test['DeviceInfo'].isin(device_info), 'DeviceInfo'] = 'Otros'\n",
        "x_test.loc[~x_test['id_31'].isin(id_31), 'id_31'] = 'Otros'\n",
        "x_test.loc[~x_test['id_30'].isin(id_30), 'id_30'] = 'Otros'\n",
        "x_test.loc[~x_test['id_33'].isin(id_33), 'id_33'] = 'Otros'\n",
        "\n",
        "device_info = None\n",
        "id_30 = None\n",
        "id_31 = None\n",
        "id_33 = None"
      ],
      "execution_count": null,
      "outputs": []
    },
    {
      "cell_type": "code",
      "metadata": {
        "id": "bSOKD0QzUuQW"
      },
      "source": [
        "for column in x_test:\n",
        "  if (x_test[column].dtype == object):\n",
        "    x_test[column] = x_test[column].replace(mean_encoded)"
      ],
      "execution_count": null,
      "outputs": []
    },
    {
      "cell_type": "code",
      "metadata": {
        "id": "rT0_E1DefStO"
      },
      "source": [
        "for column in x_test:\n",
        "  x_test[column].fillna(prom_features_train[column], inplace=True)"
      ],
      "execution_count": null,
      "outputs": []
    },
    {
      "cell_type": "code",
      "metadata": {
        "id": "ydDFO8WX92qO"
      },
      "source": [
        "submission = pd.read_csv('sample_submission.csv', encoding='latin-1')"
      ],
      "execution_count": null,
      "outputs": []
    },
    {
      "cell_type": "code",
      "metadata": {
        "colab": {
          "base_uri": "https://localhost:8080/",
          "height": 206
        },
        "id": "ri1ts4dissQb",
        "outputId": "a9c6cc40-e97a-4120-b748-5e0d2e18dd24"
      },
      "source": [
        "pp = model.predict_proba(x_test)[:,1]\n",
        "submission['isFraud'] = pp\n",
        "submission.to_csv('lg_competencia.csv', index=False)\n",
        "submission.head()"
      ],
      "execution_count": null,
      "outputs": [
        {
          "output_type": "execute_result",
          "data": {
            "text/html": [
              "<div>\n",
              "<style scoped>\n",
              "    .dataframe tbody tr th:only-of-type {\n",
              "        vertical-align: middle;\n",
              "    }\n",
              "\n",
              "    .dataframe tbody tr th {\n",
              "        vertical-align: top;\n",
              "    }\n",
              "\n",
              "    .dataframe thead th {\n",
              "        text-align: right;\n",
              "    }\n",
              "</style>\n",
              "<table border=\"1\" class=\"dataframe\">\n",
              "  <thead>\n",
              "    <tr style=\"text-align: right;\">\n",
              "      <th></th>\n",
              "      <th>TransactionID</th>\n",
              "      <th>isFraud</th>\n",
              "    </tr>\n",
              "  </thead>\n",
              "  <tbody>\n",
              "    <tr>\n",
              "      <th>0</th>\n",
              "      <td>3663549</td>\n",
              "      <td>0.021320</td>\n",
              "    </tr>\n",
              "    <tr>\n",
              "      <th>1</th>\n",
              "      <td>3663550</td>\n",
              "      <td>0.022053</td>\n",
              "    </tr>\n",
              "    <tr>\n",
              "      <th>2</th>\n",
              "      <td>3663551</td>\n",
              "      <td>0.026874</td>\n",
              "    </tr>\n",
              "    <tr>\n",
              "      <th>3</th>\n",
              "      <td>3663552</td>\n",
              "      <td>0.041733</td>\n",
              "    </tr>\n",
              "    <tr>\n",
              "      <th>4</th>\n",
              "      <td>3663553</td>\n",
              "      <td>0.058985</td>\n",
              "    </tr>\n",
              "  </tbody>\n",
              "</table>\n",
              "</div>"
            ],
            "text/plain": [
              "   TransactionID   isFraud\n",
              "0        3663549  0.021320\n",
              "1        3663550  0.022053\n",
              "2        3663551  0.026874\n",
              "3        3663552  0.041733\n",
              "4        3663553  0.058985"
            ]
          },
          "metadata": {},
          "execution_count": 39
        }
      ]
    },
    {
      "cell_type": "markdown",
      "metadata": {
        "id": "Ib6t7zExH5q9"
      },
      "source": [
        "**¿Qué features son los más importantes para predecir con el mejor modelo? Graficar.**"
      ]
    },
    {
      "cell_type": "code",
      "metadata": {
        "id": "kKD41cKuICgz"
      },
      "source": [
        "importance = model.best_estimator_.coef_\n",
        "\n",
        "dic = {}\n",
        "for i in range(len(importance[0])):\n",
        "  dic[columns_names[i]] = abs(importance[0][i])"
      ],
      "execution_count": null,
      "outputs": []
    },
    {
      "cell_type": "code",
      "metadata": {
        "id": "2kxGi6MWtiVW"
      },
      "source": [
        "df = pd.DataFrame([[key, dic[key]] for key in dic.keys()], columns=['Feature', 'Importancia'])\n",
        "df = df.sort_values('Importancia',ascending=False)\n",
        "df.set_index('Feature',inplace = True)"
      ],
      "execution_count": null,
      "outputs": []
    },
    {
      "cell_type": "code",
      "metadata": {
        "id": "Q3YTZW7EvCAo",
        "colab": {
          "base_uri": "https://localhost:8080/",
          "height": 508
        },
        "outputId": "d7cd36e9-a754-48ff-d01b-e157d91d95b2"
      },
      "source": [
        "df.iloc[1:11].plot.bar(logy=True, figsize=(15, 7), rot=60, color='plum', fontsize=15)\n",
        "plt.title('TOP 10: Features más importantes', fontsize = 20, fontweight='bold')\n",
        "plt.xlabel('Feature', fontsize=20, fontweight='bold')\n",
        "plt.ylabel('Importancia', fontsize=18, fontweight='bold')\n",
        "plt.yscale(value='linear')\n",
        "plt.legend(('Feature',), loc='upper right', prop={'size':15})\n",
        "\n",
        "plt.show()"
      ],
      "execution_count": null,
      "outputs": [
        {
          "output_type": "display_data",
          "data": {
            "image/png": "[encoded data removed]",
            "text/plain": [
              "<Figure size 1080x504 with 1 Axes>"
            ]
          },
          "metadata": {
            "needs_background": "light"
          }
        }
      ]
    }
  ]
}