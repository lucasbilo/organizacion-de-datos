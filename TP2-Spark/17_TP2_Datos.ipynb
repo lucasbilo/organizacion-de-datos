{
  "cells": [
    {
      "cell_type": "markdown",
      "metadata": {
        "id": "CZyr9CyGySm8"
      },
      "source": [
        "**17. Para aquel contenido georeferenciado publicado anónimamente indicar por país, cuántas IPs de usuarios corresponden a IPv4 y cuantas a IPv6**"
      ]
    },
    {
      "cell_type": "code",
      "execution_count": null,
      "metadata": {
        "colab": {
          "base_uri": "https://localhost:8080/"
        },
        "id": "SkPrF32WyQmR",
        "outputId": "edd0e1c3-fc24-4d49-db2d-98df0562907e"
      },
      "outputs": [
        {
          "name": "stdout",
          "output_type": "stream",
          "text": [
            "Requirement already satisfied: pyspark in /usr/local/lib/python3.7/dist-packages (3.2.0)\n",
            "Requirement already satisfied: py4j==0.10.9.2 in /usr/local/lib/python3.7/dist-packages (from pyspark) (0.10.9.2)\n",
            "Get:1 http://security.ubuntu.com/ubuntu bionic-security InRelease [88.7 kB]\n",
            "Hit:2 https://cloud.r-project.org/bin/linux/ubuntu bionic-cran40/ InRelease\n",
            "Ign:3 https://developer.download.nvidia.com/compute/cuda/repos/ubuntu1804/x86_64  InRelease\n",
            "Hit:4 http://ppa.launchpad.net/c2d4u.team/c2d4u4.0+/ubuntu bionic InRelease\n",
            "Ign:5 https://developer.download.nvidia.com/compute/machine-learning/repos/ubuntu1804/x86_64  InRelease\n",
            "Hit:6 http://archive.ubuntu.com/ubuntu bionic InRelease\n",
            "Hit:7 https://developer.download.nvidia.com/compute/cuda/repos/ubuntu1804/x86_64  Release\n",
            "Hit:8 https://developer.download.nvidia.com/compute/machine-learning/repos/ubuntu1804/x86_64  Release\n",
            "Get:9 http://archive.ubuntu.com/ubuntu bionic-updates InRelease [88.7 kB]\n",
            "Hit:10 http://ppa.launchpad.net/cran/libgit2/ubuntu bionic InRelease\n",
            "Hit:11 http://ppa.launchpad.net/deadsnakes/ppa/ubuntu bionic InRelease\n",
            "Get:12 http://archive.ubuntu.com/ubuntu bionic-backports InRelease [74.6 kB]\n",
            "Hit:13 http://ppa.launchpad.net/graphics-drivers/ppa/ubuntu bionic InRelease\n",
            "Fetched 252 kB in 3s (98.5 kB/s)\n",
            "Reading package lists... Done\n",
            "Building dependency tree       \n",
            "Reading state information... Done\n",
            "38 packages can be upgraded. Run 'apt list --upgradable' to see them.\n",
            "openjdk-8-jdk-headless is already the newest version (8u292-b10-0ubuntu1~18.04).\n",
            "The following package was automatically installed and is no longer required:\n",
            "  libnvidia-common-460\n",
            "Use 'apt autoremove' to remove it.\n",
            "0 upgraded, 0 newly installed, 0 to remove and 38 not upgraded.\n"
          ]
        }
      ],
      "source": [
        "!pip install pyspark\n",
        "!pip install -U -q PyDrive\n",
        "!apt update\n",
        "!apt install openjdk-8-jdk-headless -qq\n",
        "#!apt install default-jre\n",
        "#!apt install default-jdk\n",
        "import os\n",
        "os.environ[\"JAVA_HOME\"] = \"/usr/lib/jvm/java-8-openjdk-amd64\""
      ]
    },
    {
      "cell_type": "code",
      "execution_count": null,
      "metadata": {
        "id": "3PYFuRH3ydIW"
      },
      "outputs": [],
      "source": [
        "from pydrive.auth import GoogleAuth\n",
        "from pydrive.drive import GoogleDrive\n",
        "from google.colab import auth\n",
        "from oauth2client.client import GoogleCredentials\n",
        "from pyspark.sql import *\n",
        "from pyspark.sql.functions import *\n",
        "from pyspark import SparkContext\n",
        "from pyspark.sql import SQLContext\n",
        "import pandas as pd"
      ]
    },
    {
      "cell_type": "code",
      "execution_count": null,
      "metadata": {
        "id": "ts54Ep0Vyd85"
      },
      "outputs": [],
      "source": [
        "auth.authenticate_user()\n",
        "gauth = GoogleAuth()\n",
        "gauth.credentials = GoogleCredentials.get_application_default()\n",
        "drive = GoogleDrive(gauth)"
      ]
    },
    {
      "cell_type": "markdown",
      "metadata": {
        "id": "9hcbqmhyyfSC"
      },
      "source": [
        "Bajo el csv **contents** y **geo_tags**"
      ]
    },
    {
      "cell_type": "code",
      "execution_count": null,
      "metadata": {
        "id": "TrXeBErLygGc"
      },
      "outputs": [],
      "source": [
        "downloaded = drive.CreateFile({'id':\"1SnCVFJvTsaEPrmh-PpVGH6-toBVsD6NL\"})\n",
        "downloaded.GetContentFile('contents.csv') \n",
        "\n",
        "downloaded = drive.CreateFile({'id':\"1qLu79VkVJxWp9i4Pnq9cxSLjW6Nipxp9\"})\n",
        "downloaded.GetContentFile('geo_tags.csv') "
      ]
    },
    {
      "cell_type": "code",
      "execution_count": null,
      "metadata": {
        "id": "Nhj7dQkuyhFG"
      },
      "outputs": [],
      "source": [
        "spark = SparkSession.builder.getOrCreate()\n",
        "sc = spark.sparkContext"
      ]
    },
    {
      "cell_type": "markdown",
      "metadata": {
        "id": "eIQbjfb3yiBn"
      },
      "source": [
        "Leo los CSVs:"
      ]
    },
    {
      "cell_type": "code",
      "execution_count": null,
      "metadata": {
        "colab": {
          "base_uri": "https://localhost:8080/"
        },
        "id": "Tg3BSsdUyi4S",
        "outputId": "2681a7e3-2a41-493b-9ac4-6460a2a6c6a9"
      },
      "outputs": [
        {
          "name": "stderr",
          "output_type": "stream",
          "text": [
            "/usr/local/lib/python3.7/dist-packages/pyspark/sql/context.py:79: FutureWarning: Deprecated in 3.0.0. Use SparkSession.builder.getOrCreate() instead.\n",
            "  FutureWarning\n"
          ]
        }
      ],
      "source": [
        "sqlContext = SQLContext(sc)\n",
        "contents = sqlContext.read.csv('contents.csv', header=True, inferSchema=True)\n",
        "rdd_contents = contents.rdd"
      ]
    },
    {
      "cell_type": "code",
      "execution_count": null,
      "metadata": {
        "colab": {
          "base_uri": "https://localhost:8080/"
        },
        "id": "2rr8MHKU4bbk",
        "outputId": "1ec607df-3611-40ed-f13d-8652f28c072f"
      },
      "outputs": [
        {
          "data": {
            "text/plain": [
              "[Row(title='Wikipedia:Artículos solicitados', id='5', namespace='4', revision_id='132533307', parent_revision='132516631', revision_timestamp='2021-01-19T18:40:34Z', revisor_username='Metrónomo', revisor_id='1708233', revisor_ip=None, revisor_comment='Así esta mejor'),\n",
              " Row(title='Andorra', id='7', namespace='0', revision_id='138035057', parent_revision='138027475', revision_timestamp='2021-08-31T18:27:01Z', revisor_username=None, revisor_id=None, revisor_ip='2800:CD0:FC1B:A900:C5A4:9E81:7175:2ED2', revisor_comment='Añadir contenido'),\n",
              " Row(title='Argentina', id='10', namespace='0', revision_id='137966826', parent_revision='137825165', revision_timestamp='2021-08-28T17:17:54Z', revisor_username='Traitrich', revisor_id='4642283', revisor_ip=None, revisor_comment='Reemplazos con [[Usuario:Benjavalero/Replacer|Replacer]]: «simbolos»'),\n",
              " Row(title='Geografía de Andorra', id='15', namespace='0', revision_id='137986788', parent_revision='133666383', revision_timestamp='2021-08-29T17:16:00Z', revisor_username='Lojwe', revisor_id='5338508', revisor_ip=None, revisor_comment='Reemplazos con [[Usuario:Benjavalero/Replacer|Replacer]]: «m.»'),\n",
              " Row(title='Demografía de Andorra', id='17', namespace='0', revision_id='130869554', parent_revision='129413188', revision_timestamp='2020-11-12T19:56:15Z', revisor_username='Jialxv', revisor_id='3615366', revisor_ip=None, revisor_comment='Correcciones ortográficas con [[Usuario:Benjavalero/Replacer|Replacer]] (herramienta en línea de revisión de errores)')]"
            ]
          },
          "execution_count": 58,
          "metadata": {},
          "output_type": "execute_result"
        }
      ],
      "source": [
        "rdd_contents.take(5)"
      ]
    },
    {
      "cell_type": "code",
      "execution_count": null,
      "metadata": {
        "colab": {
          "base_uri": "https://localhost:8080/"
        },
        "id": "cO4rE7LR0PxU",
        "outputId": "e7c10603-7188-4c7a-9698-f2df6b094d01"
      },
      "outputs": [
        {
          "name": "stderr",
          "output_type": "stream",
          "text": [
            "/usr/local/lib/python3.7/dist-packages/pyspark/sql/context.py:79: FutureWarning: Deprecated in 3.0.0. Use SparkSession.builder.getOrCreate() instead.\n",
            "  FutureWarning\n"
          ]
        }
      ],
      "source": [
        "sqlContext = SQLContext(sc)\n",
        "geo = sqlContext.read.csv('geo_tags.csv', header=True, inferSchema=True)\n",
        "rdd_geo = geo.rdd"
      ]
    },
    {
      "cell_type": "code",
      "execution_count": null,
      "metadata": {
        "colab": {
          "base_uri": "https://localhost:8080/"
        },
        "id": "967JfTwvylBR",
        "outputId": "17b0e6ac-c8a5-4f55-f3b6-7ab2ebff930b"
      },
      "outputs": [
        {
          "data": {
            "text/plain": [
              "[Row(gt_id='158041', gt_page_id=4328020, gt_globe='earth', gt_primary=0, gt_lat=41.50749969, gt_lon=-5.81750011, gt_dim=1000, gt_type=None, gt_name=None, gt_country=None, gt_region=None),\n",
              " Row(gt_id='5844377', gt_page_id=4670424, gt_globe='earth', gt_primary=0, gt_lat=13.73799992, gt_lon=-89.29199982, gt_dim=10000, gt_type='city', gt_name=None, gt_country=None, gt_region=None),\n",
              " Row(gt_id='5844381', gt_page_id=4670424, gt_globe='earth', gt_primary=0, gt_lat=13.70199966, gt_lon=-89.20800018, gt_dim=10000, gt_type='city', gt_name=None, gt_country=None, gt_region=None),\n",
              " Row(gt_id='5844383', gt_page_id=4670424, gt_globe='earth', gt_primary=0, gt_lat=13.39999962, gt_lon=-89.75, gt_dim=10000, gt_type='city', gt_name=None, gt_country=None, gt_region=None),\n",
              " Row(gt_id='5844388', gt_page_id=4670424, gt_globe='earth', gt_primary=0, gt_lat=12.85000038, gt_lon=-88.0, gt_dim=10000, gt_type='city', gt_name=None, gt_country=None, gt_region=None)]"
            ]
          },
          "execution_count": 60,
          "metadata": {},
          "output_type": "execute_result"
        }
      ],
      "source": [
        "rdd_geo.take(5)"
      ]
    },
    {
      "cell_type": "markdown",
      "metadata": {
        "id": "6A2dQfeD5DH8"
      },
      "source": [
        "Solo nos interesan los contenidos que están georeferenciados y los públicados anonimamente. \n",
        "\n",
        "Contents tiene una columna que es \"revisor_ip\" la cual indica: IP del revisor (en caso de que **no estuviera registrado**). Entonces los contenidos que tengan una IP cargada en este campo serán los públicados anonimamente, ya que son de usuarios NO registrados.\n"
      ]
    },
    {
      "cell_type": "code",
      "execution_count": null,
      "metadata": {
        "colab": {
          "base_uri": "https://localhost:8080/"
        },
        "id": "Tt_TUIEx657S",
        "outputId": "5d35e85b-bd50-4844-b248-123ef9a775b1"
      },
      "outputs": [
        {
          "data": {
            "text/plain": [
              "[Row(title='Andorra', id='7', namespace='0', revision_id='138035057', parent_revision='138027475', revision_timestamp='2021-08-31T18:27:01Z', revisor_username=None, revisor_id=None, revisor_ip='2800:CD0:FC1B:A900:C5A4:9E81:7175:2ED2', revisor_comment='Añadir contenido'),\n",
              " Row(title='Commodore Amiga 500', id='46', namespace='0', revision_id='136224900', parent_revision='135798484', revision_timestamp='2021-06-10T05:53:13Z', revisor_username=None, revisor_id=None, revisor_ip='2806:1000:8101:7AFD:4962:AE:51CB:EFFD', revisor_comment=None),\n",
              " Row(title='Circo', id='77', namespace='0', revision_id='137649914', parent_revision='137435739', revision_timestamp='2021-08-13T18:02:53Z', revisor_username=None, revisor_id=None, revisor_ip='190.164.54.234', revisor_comment='/* top */añadí chile a la lista de animales prohibidos'),\n",
              " Row(title='Agujero negro de Schwarzschild', id='81', namespace='0', revision_id='129573228', parent_revision='129573224', revision_timestamp='2020-09-26T16:21:09Z', revisor_username=None, revisor_id=None, revisor_ip='179.53.218.243', revisor_comment=None),\n",
              " Row(title='Alfabeto', id='160', namespace='0', revision_id='136186965', parent_revision='135877237', revision_timestamp='2021-06-08T20:05:50Z', revisor_username=None, revisor_id=None, revisor_ip='190.232.74.253', revisor_comment=None)]"
            ]
          },
          "execution_count": 61,
          "metadata": {},
          "output_type": "execute_result"
        }
      ],
      "source": [
        "rdd_contents.filter(lambda x: x.id != None and x.id.isnumeric() and x.revisor_ip != None).take(5)"
      ]
    },
    {
      "cell_type": "markdown",
      "metadata": {
        "id": "71a4NJKZ9DIj"
      },
      "source": [
        "Ya con el filtrado anterior, lo único que nos interesa de contents son las ips"
      ]
    },
    {
      "cell_type": "code",
      "execution_count": null,
      "metadata": {
        "colab": {
          "base_uri": "https://localhost:8080/"
        },
        "id": "dudLqSZ98hxU",
        "outputId": "e4d01355-7670-452e-d378-6ebbf2f5318e"
      },
      "outputs": [
        {
          "data": {
            "text/plain": [
              "[(7, '2800:CD0:FC1B:A900:C5A4:9E81:7175:2ED2'),\n",
              " (46, '2806:1000:8101:7AFD:4962:AE:51CB:EFFD'),\n",
              " (77, '190.164.54.234'),\n",
              " (81, '179.53.218.243'),\n",
              " (160, '190.232.74.253')]"
            ]
          },
          "execution_count": 62,
          "metadata": {},
          "output_type": "execute_result"
        }
      ],
      "source": [
        "ips = rdd_contents.filter(lambda x: x.id != None and x.id.isnumeric() and x.revisor_ip != None).map(lambda x: (int(x.id),x.revisor_ip))\n",
        "\n",
        "ips.take(5)"
      ]
    },
    {
      "cell_type": "markdown",
      "metadata": {
        "id": "h0-xWxkr9XN6"
      },
      "source": [
        "Ahora trabajo con geo_tags:\n",
        "\n",
        "No me interesan los datos que NO tengan el país cargado"
      ]
    },
    {
      "cell_type": "code",
      "execution_count": null,
      "metadata": {
        "colab": {
          "base_uri": "https://localhost:8080/"
        },
        "id": "5QL_0QDd9b3B",
        "outputId": "03d1bce7-a8ca-402f-cd19-55bb4cd48717"
      },
      "outputs": [
        {
          "data": {
            "text/plain": [
              "[Row(gt_id='8381128', gt_page_id=1314296, gt_globe='earth', gt_primary=0, gt_lat=40.94710159, gt_lon=-6.48768377, gt_dim=1000, gt_type='landmark', gt_name=None, gt_country='ES', gt_region=None),\n",
              " Row(gt_id='8382536', gt_page_id=1363470, gt_globe='earth', gt_primary=0, gt_lat=11.09305573, gt_lon=-63.96805573, gt_dim=10000, gt_type='mountain', gt_name=None, gt_country='VE', gt_region=None),\n",
              " Row(gt_id='26172936', gt_page_id=6619663, gt_globe='earth', gt_primary=1, gt_lat=53.12129974, gt_lon=-3.20099998, gt_dim=10000, gt_type='mountain', gt_name=None, gt_country='GB', gt_region=None),\n",
              " Row(gt_id='38930505', gt_page_id=2803412, gt_globe='earth', gt_primary=0, gt_lat=-27.53333282, gt_lon=-64.96666718, gt_dim=10000, gt_type='waterbody', gt_name=None, gt_country='AR', gt_region=None),\n",
              " Row(gt_id='41226039', gt_page_id=2803412, gt_globe='earth', gt_primary=0, gt_lat=-38.75444444, gt_lon=-62.95611111, gt_dim=1000, gt_type=None, gt_name=None, gt_country='AR', gt_region=None)]"
            ]
          },
          "execution_count": 63,
          "metadata": {},
          "output_type": "execute_result"
        }
      ],
      "source": [
        "rdd_geo.filter(lambda x: x.gt_page_id != None and x.gt_country != None).take(5)"
      ]
    },
    {
      "cell_type": "code",
      "execution_count": null,
      "metadata": {
        "colab": {
          "base_uri": "https://localhost:8080/"
        },
        "id": "-EtBghnC5CY4",
        "outputId": "b9468c69-6513-43b0-bf44-c7b5e2e727d0"
      },
      "outputs": [
        {
          "data": {
            "text/plain": [
              "[(1314296, 'ES'),\n",
              " (1363470, 'VE'),\n",
              " (6619663, 'GB'),\n",
              " (2803412, 'AR'),\n",
              " (2803412, 'AR')]"
            ]
          },
          "execution_count": 64,
          "metadata": {},
          "output_type": "execute_result"
        }
      ],
      "source": [
        "paises = rdd_geo.filter(lambda x: x.gt_page_id != None and x.gt_country != None).map(lambda x: (x.gt_page_id, x.gt_country))\n",
        "\n",
        "paises.take(5)"
      ]
    },
    {
      "cell_type": "markdown",
      "metadata": {
        "id": "cziUfNXjC5CX"
      },
      "source": [
        "Entonces ahora hago un join para quedarme con los contenidos georeferenciados:"
      ]
    },
    {
      "cell_type": "code",
      "execution_count": null,
      "metadata": {
        "colab": {
          "background_save": true
        },
        "id": "oZ0cr8HsC_ZI",
        "outputId": "5ceb5999-3b99-4dfd-b3b4-bb337f77f6de"
      },
      "outputs": [
        {
          "data": {
            "text/plain": [
              "[(8330, ('2800:A4:3143:5200:F45E:57A4:64B5:AA67', 'US')),\n",
              " (63777, ('79.191.75.161', 'FR')),\n",
              " (111251, ('168.205.135.225', 'CL')),\n",
              " (185612, ('212.128.102.127', 'FR')),\n",
              " (197883, ('188.26.215.120', 'GB')),\n",
              " (217245, ('24.55.160.192', 'US')),\n",
              " (236033, ('181.9.148.254', 'DO')),\n",
              " (250656, ('217.216.195.68', 'TR')),\n",
              " (251181, ('181.9.174.19', 'US')),\n",
              " (315350, ('2800:E2:1B00:35D9:6C37:96B0:222D:DCBA', 'GQ'))]"
            ]
          },
          "execution_count": null,
          "metadata": {},
          "output_type": "execute_result"
        }
      ],
      "source": [
        "cont_geo = ips.join(paises)\n",
        "\n",
        "cont_geo.take(10)"
      ]
    },
    {
      "cell_type": "markdown",
      "metadata": {
        "id": "PzUwYGSDsihS"
      },
      "source": [
        "Para diferenciar las ips lo voy a hacer a partir de las longitudes.\n",
        "\n",
        "Las IPv4 como máximo pueden tener 15 de longitud: XXX.XXX.XXX.XXX"
      ]
    },
    {
      "cell_type": "code",
      "execution_count": null,
      "metadata": {
        "colab": {
          "background_save": true
        },
        "id": "72XApKyWA62H",
        "outputId": "d726904c-bf36-4ee7-b990-dde76e62b81c"
      },
      "outputs": [
        {
          "data": {
            "text/plain": [
              "[(('US', 'IPv6'), 1),\n",
              " (('FR', 'IPv4'), 1),\n",
              " (('CL', 'IPv6'), 1),\n",
              " (('FR', 'IPv6'), 1),\n",
              " (('GB', 'IPv4'), 1)]"
            ]
          },
          "execution_count": null,
          "metadata": {},
          "output_type": "execute_result"
        }
      ],
      "source": [
        "cont_geo.map(lambda x: ((x[1][1], 'IPv4' if len(x[1][0]) < 15 else 'IPv6'),1)).take(5)"
      ]
    },
    {
      "cell_type": "markdown",
      "metadata": {
        "id": "WjMA2Gz5CXdg"
      },
      "source": [
        "Finalmente acá tenemos lo pedido:"
      ]
    },
    {
      "cell_type": "code",
      "execution_count": null,
      "metadata": {
        "colab": {
          "background_save": true
        },
        "id": "gFHT5EWUCIYW",
        "outputId": "531007e3-7b9e-4476-ea83-f1c6186a3c99"
      },
      "outputs": [
        {
          "data": {
            "text/plain": [
              "defaultdict(int,\n",
              "            {('AE', 'IPv4'): 1,\n",
              "             ('AE', 'IPv6'): 1,\n",
              "             ('AF', 'IPv4'): 1,\n",
              "             ('AQ', 'IPv4'): 5,\n",
              "             ('AQ', 'IPv6'): 1,\n",
              "             ('AR', 'IPv4'): 44,\n",
              "             ('AR', 'IPv6'): 13,\n",
              "             ('AT', 'IPv4'): 6,\n",
              "             ('AT', 'IPv6'): 2,\n",
              "             ('AU', 'IPv4'): 4,\n",
              "             ('BE', 'IPv4'): 4,\n",
              "             ('BE', 'IPv6'): 2,\n",
              "             ('BO', 'IPv4'): 8,\n",
              "             ('BO', 'IPv6'): 13,\n",
              "             ('BR', 'IPv4'): 2,\n",
              "             ('BR', 'IPv6'): 2,\n",
              "             ('BS', 'IPv4'): 1,\n",
              "             ('BS', 'IPv6'): 1,\n",
              "             ('BZ', 'IPv4'): 1,\n",
              "             ('CA', 'IPv4'): 9,\n",
              "             ('CF', 'IPv4'): 1,\n",
              "             ('CH', 'IPv6'): 3,\n",
              "             ('CL', 'IPv4'): 3,\n",
              "             ('CL', 'IPv6'): 52,\n",
              "             ('CN', 'IPv4'): 2,\n",
              "             ('CN', 'IPv6'): 2,\n",
              "             ('CO', 'IPv4'): 24,\n",
              "             ('CR', 'IPv4'): 37,\n",
              "             ('CR', 'IPv6'): 4,\n",
              "             ('CU', 'IPv4'): 2,\n",
              "             ('CZ', 'IPv4'): 1,\n",
              "             ('DE', 'IPv4'): 17,\n",
              "             ('DE', 'IPv6'): 6,\n",
              "             ('DK', 'IPv4'): 2,\n",
              "             ('DK', 'IPv6'): 1,\n",
              "             ('DO', 'IPv4'): 2,\n",
              "             ('DZ', 'IPv6'): 1,\n",
              "             ('EG', 'IPv4'): 1,\n",
              "             ('EG', 'IPv6'): 1,\n",
              "             ('EH', 'IPv4'): 1,\n",
              "             ('ES', 'IPv4'): 554,\n",
              "             ('ES', 'IPv6'): 7,\n",
              "             ('FI', 'IPv4'): 1,\n",
              "             ('FI', 'IPv6'): 2,\n",
              "             ('FR', 'IPv4'): 32,\n",
              "             ('FR', 'IPv6'): 6,\n",
              "             ('GB', 'IPv4'): 34,\n",
              "             ('GB', 'IPv6'): 8,\n",
              "             ('GI', 'IPv4'): 1,\n",
              "             ('GL', 'IPv4'): 1,\n",
              "             ('GQ', 'IPv6'): 1,\n",
              "             ('GR', 'IPv4'): 2,\n",
              "             ('GT', 'IPv4'): 4,\n",
              "             ('HK', 'IPv4'): 1,\n",
              "             ('HR', 'IPv4'): 1,\n",
              "             ('HR', 'IPv6'): 1,\n",
              "             ('HT', 'IPv4'): 1,\n",
              "             ('ID', 'IPv4'): 1,\n",
              "             ('IE', 'IPv4'): 1,\n",
              "             ('IL', 'IPv4'): 4,\n",
              "             ('IM', 'IPv4'): 1,\n",
              "             ('IN', 'IPv4'): 2,\n",
              "             ('IQ', 'IPv6'): 1,\n",
              "             ('IS', 'IPv4'): 1,\n",
              "             ('IT', 'IPv4'): 17,\n",
              "             ('IT', 'IPv6'): 3,\n",
              "             ('JO', 'IPv4'): 1,\n",
              "             ('JP', 'IPv4'): 24,\n",
              "             ('JP', 'IPv6'): 3,\n",
              "             ('KR', 'IPv4'): 1,\n",
              "             ('LK', 'IPv4'): 1,\n",
              "             ('LV', 'IPv4'): 1,\n",
              "             ('MA', 'IPv4'): 1,\n",
              "             ('MM', 'IPv4'): 1,\n",
              "             ('MT', 'IPv4'): 1,\n",
              "             ('MX', 'IPv4'): 33,\n",
              "             ('MX', 'IPv6'): 10,\n",
              "             ('NL', 'IPv4'): 6,\n",
              "             ('NO', 'IPv4'): 2,\n",
              "             ('PE', 'IPv4'): 1,\n",
              "             ('PE', 'IPv6'): 102,\n",
              "             ('PH', 'IPv4'): 2,\n",
              "             ('PL', 'IPv4'): 1,\n",
              "             ('PL', 'IPv6'): 1,\n",
              "             ('PR', 'IPv4'): 1,\n",
              "             ('PT', 'IPv4'): 2,\n",
              "             ('RU', 'IPv4'): 5,\n",
              "             ('RU', 'IPv6'): 2,\n",
              "             ('SB', 'IPv6'): 1,\n",
              "             ('SI', 'IPv4'): 1,\n",
              "             ('SK', 'IPv6'): 1,\n",
              "             ('SN', 'IPv6'): 1,\n",
              "             ('TH', 'IPv4'): 2,\n",
              "             ('TH', 'IPv6'): 1,\n",
              "             ('TM', 'IPv4'): 1,\n",
              "             ('TR', 'IPv4'): 5,\n",
              "             ('UA', 'IPv4'): 3,\n",
              "             ('US', 'IPv4'): 145,\n",
              "             ('US', 'IPv6'): 38,\n",
              "             ('UY', 'IPv4'): 1,\n",
              "             ('XZ', 'IPv4'): 1})"
            ]
          },
          "execution_count": null,
          "metadata": {},
          "output_type": "execute_result"
        }
      ],
      "source": [
        "cont_geo.map(lambda x: ((x[1][1], 'IPv4' if len(x[1][0]) < 15 else 'IPv6'),1)).countByKey()"
      ]
    }
  ],
  "metadata": {
    "colab": {
      "collapsed_sections": [],
      "name": "17_TP2_Datos.ipynb",
      "provenance": []
    },
    "kernelspec": {
      "display_name": "Python 3",
      "name": "python3"
    },
    "language_info": {
      "name": "python"
    }
  },
  "nbformat": 4,
  "nbformat_minor": 0
}