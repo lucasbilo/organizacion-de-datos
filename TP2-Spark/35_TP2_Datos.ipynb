{
  "nbformat": 4,
  "nbformat_minor": 0,
  "metadata": {
    "colab": {
      "name": "35-TP2-Datos.ipynb",
      "provenance": [],
      "collapsed_sections": []
    },
    "kernelspec": {
      "display_name": "Python 3",
      "name": "python3"
    },
    "language_info": {
      "name": "python"
    }
  },
  "cells": [
    {
      "cell_type": "markdown",
      "metadata": {
        "id": "tte-mHORAorA"
      },
      "source": [
        "**35. ¿Cuál es el mínimo que ha durado desde su registro un usuario bloqueado en la plataforma?**"
      ]
    },
    {
      "cell_type": "code",
      "metadata": {
        "colab": {
          "base_uri": "https://localhost:8080/"
        },
        "id": "HfLeb8qCPyWC",
        "outputId": "d061ca25-6892-41f9-d1a1-2d4323090341"
      },
      "source": [
        "!pip install pyspark\n",
        "!pip install -U -q PyDrive\n",
        "!apt update\n",
        "!apt install openjdk-8-jdk-headless -qq\n",
        "#!apt install default-jre\n",
        "#!apt install default-jdk\n",
        "import os\n",
        "os.environ[\"JAVA_HOME\"] = \"/usr/lib/jvm/java-8-openjdk-amd64\""
      ],
      "execution_count": null,
      "outputs": [
        {
          "output_type": "stream",
          "name": "stdout",
          "text": [
            "Requirement already satisfied: pyspark in /usr/local/lib/python3.7/dist-packages (3.2.0)\n",
            "Requirement already satisfied: py4j==0.10.9.2 in /usr/local/lib/python3.7/dist-packages (from pyspark) (0.10.9.2)\n",
            "Hit:1 https://cloud.r-project.org/bin/linux/ubuntu bionic-cran40/ InRelease\n",
            "Ign:2 https://developer.download.nvidia.com/compute/cuda/repos/ubuntu1804/x86_64  InRelease\n",
            "Get:3 http://security.ubuntu.com/ubuntu bionic-security InRelease [88.7 kB]\n",
            "Ign:4 https://developer.download.nvidia.com/compute/machine-learning/repos/ubuntu1804/x86_64  InRelease\n",
            "Hit:5 https://developer.download.nvidia.com/compute/cuda/repos/ubuntu1804/x86_64  Release\n",
            "Hit:6 https://developer.download.nvidia.com/compute/machine-learning/repos/ubuntu1804/x86_64  Release\n",
            "Hit:7 http://ppa.launchpad.net/c2d4u.team/c2d4u4.0+/ubuntu bionic InRelease\n",
            "Hit:8 http://archive.ubuntu.com/ubuntu bionic InRelease\n",
            "Hit:10 http://ppa.launchpad.net/cran/libgit2/ubuntu bionic InRelease\n",
            "Get:11 http://archive.ubuntu.com/ubuntu bionic-updates InRelease [88.7 kB]\n",
            "Hit:13 http://ppa.launchpad.net/deadsnakes/ppa/ubuntu bionic InRelease\n",
            "Get:14 http://archive.ubuntu.com/ubuntu bionic-backports InRelease [74.6 kB]\n",
            "Hit:15 http://ppa.launchpad.net/graphics-drivers/ppa/ubuntu bionic InRelease\n",
            "Fetched 252 kB in 2s (113 kB/s)\n",
            "Reading package lists... Done\n",
            "Building dependency tree       \n",
            "Reading state information... Done\n",
            "61 packages can be upgraded. Run 'apt list --upgradable' to see them.\n",
            "openjdk-8-jdk-headless is already the newest version (8u292-b10-0ubuntu1~18.04).\n",
            "The following package was automatically installed and is no longer required:\n",
            "  libnvidia-common-460\n",
            "Use 'apt autoremove' to remove it.\n",
            "0 upgraded, 0 newly installed, 0 to remove and 61 not upgraded.\n"
          ]
        }
      ]
    },
    {
      "cell_type": "code",
      "metadata": {
        "id": "XWqzKEMbATqz"
      },
      "source": [
        "from pydrive.auth import GoogleAuth\n",
        "from pydrive.drive import GoogleDrive\n",
        "from google.colab import auth\n",
        "from oauth2client.client import GoogleCredentials\n",
        "from pyspark.sql import *\n",
        "from pyspark.sql.functions import *\n",
        "from pyspark import SparkContext\n",
        "from pyspark.sql import SQLContext\n",
        "import pandas as pd\n",
        "\n",
        "auth.authenticate_user()\n",
        "gauth = GoogleAuth()\n",
        "gauth.credentials = GoogleCredentials.get_application_default()\n",
        "drive = GoogleDrive(gauth)"
      ],
      "execution_count": null,
      "outputs": []
    },
    {
      "cell_type": "code",
      "metadata": {
        "id": "lqN6J42vAYT4"
      },
      "source": [
        "spark = SparkSession.builder.getOrCreate()\n",
        "sc = spark.sparkContext"
      ],
      "execution_count": null,
      "outputs": []
    },
    {
      "cell_type": "markdown",
      "metadata": {
        "id": "X1uF-bMYAeBD"
      },
      "source": [
        "Descargo y leo el CSV"
      ]
    },
    {
      "cell_type": "code",
      "metadata": {
        "id": "GLASXlNyAWZI"
      },
      "source": [
        "downloaded = drive.CreateFile({'id':\"1nIzHWsLqzJWq9XuKEweSwMCPEGkysoGB\"})\n",
        "downloaded.GetContentFile('logs.csv') "
      ],
      "execution_count": null,
      "outputs": []
    },
    {
      "cell_type": "code",
      "metadata": {
        "colab": {
          "base_uri": "https://localhost:8080/"
        },
        "id": "a3oqlIHRAZH_",
        "outputId": "214db7f4-fc9a-4290-f0da-b6dd09c99f11"
      },
      "source": [
        "!pip install pyarrow\n",
        "texts = pd.read_csv('logs.csv')\n",
        "texts.to_parquet('logs.parquet')\n",
        "del texts"
      ],
      "execution_count": null,
      "outputs": [
        {
          "output_type": "stream",
          "name": "stdout",
          "text": [
            "Requirement already satisfied: pyarrow in /usr/local/lib/python3.7/dist-packages (3.0.0)\n",
            "Requirement already satisfied: numpy>=1.16.6 in /usr/local/lib/python3.7/dist-packages (from pyarrow) (1.19.5)\n"
          ]
        },
        {
          "output_type": "stream",
          "name": "stderr",
          "text": [
            "/usr/local/lib/python3.7/dist-packages/IPython/core/interactiveshell.py:2718: DtypeWarning: Columns (4) have mixed types.Specify dtype option on import or set low_memory=False.\n",
            "  interactivity=interactivity, compiler=compiler, result=result)\n"
          ]
        }
      ]
    },
    {
      "cell_type": "code",
      "metadata": {
        "colab": {
          "base_uri": "https://localhost:8080/"
        },
        "id": "-iIO2uWtH54P",
        "outputId": "f96af76e-8707-4714-f5d1-8104fc33aa3a"
      },
      "source": [
        "sqlContext = SQLContext(sc)\n",
        "df = sqlContext.read.parquet('logs.parquet')\n",
        "rdd = df.rdd"
      ],
      "execution_count": null,
      "outputs": [
        {
          "output_type": "stream",
          "name": "stderr",
          "text": [
            "/usr/local/lib/python3.7/dist-packages/pyspark/sql/context.py:79: FutureWarning: Deprecated in 3.0.0. Use SparkSession.builder.getOrCreate() instead.\n",
            "  FutureWarning\n"
          ]
        }
      ]
    },
    {
      "cell_type": "code",
      "metadata": {
        "colab": {
          "base_uri": "https://localhost:8080/"
        },
        "id": "cInCnDqOCjJX",
        "outputId": "4f02fb99-6076-444d-82ef-482f8e0f65f7"
      },
      "source": [
        "rdd.take(5)"
      ],
      "execution_count": null,
      "outputs": [
        {
          "output_type": "execute_result",
          "data": {
            "text/plain": [
              "[Row(item_id=1, timestamp='2004-12-23T07:10:09Z', contributor_username='Sabbut', contributor_id=2075.0, contributor_ip=None, comment=\"el contenido era: 'Si aprendés Pensamiento Científico ... TE VA S AENTERAR'\", logtype='delete', action='delete', title='Verificacionismo'),\n",
              " Row(item_id=2, timestamp='2004-12-23T07:14:09Z', contributor_username='Sabbut', contributor_id=2075.0, contributor_ip=None, comment=\"el contenido era: '{{destruir}}en algun lugar lejano pero tan cerca como el largo del cuello de una jirafa se encontraba una torre'\", logtype='delete', action='delete', title='Rapunzel'),\n",
              " Row(item_id=3, timestamp='2004-12-23T07:26:10Z', contributor_username='Sabbut', contributor_id=2075.0, contributor_ip=None, comment=\"el contenido era: '#REDIRECT [[Flash]]'\", logtype='delete', action='delete', title='Macromedia Flash'),\n",
              " Row(item_id=4, timestamp='2004-12-23T07:55:09Z', contributor_username='Sanbec', contributor_id=7856.0, contributor_ip=None, comment='Sin información de origen ni de licencia. Hay alternativas en commons', logtype='delete', action='delete', title='Archivo:Gnu head.png'),\n",
              " Row(item_id=5, timestamp='2004-12-23T08:02:22Z', contributor_username='Sanbec', contributor_id=7856.0, contributor_ip=None, comment='Sustituida por  [[commons:Image:Heckert_GNU.png]]', logtype='delete', action='delete', title='Archivo:Gnu-head-sm.jpg')]"
            ]
          },
          "metadata": {},
          "execution_count": 7
        }
      ]
    },
    {
      "cell_type": "markdown",
      "metadata": {
        "id": "Wfknvpv9D7kt"
      },
      "source": [
        "Primero voy a necesitar solo los usuarios que recibieron algún bloqueo y luego busco el minimo por usuario:\n",
        "\n",
        "(paso el dato de la fecha a tipo datetime para luego poder trabajar mejor)"
      ]
    },
    {
      "cell_type": "markdown",
      "metadata": {
        "id": "QC7XZLLFqDSE"
      },
      "source": [
        "VOY A DESCARTAR A ALGUNOS USUARIOS YA QUE TIENEN FECHAS DE BLOQUEO ANTERIORES AL DEL REGISTRO (Damian me dio el ok)"
      ]
    },
    {
      "cell_type": "code",
      "metadata": {
        "id": "HgCeAbYcrRx6"
      },
      "source": [
        "rdd2 = rdd.filter(lambda x: x.contributor_id != None and x.timestamp != None and x.contributor_id != 2075 and x.contributor_id != 5874 and x.contributor_id != 7856\n",
        "                  and x.contributor_id != 15707 and x.contributor_id != 20096 and x.contributor_id != 23834 and x.contributor_id != 25063 and x.contributor_id != 32187\n",
        "                  and x.contributor_id != 34991 and x.contributor_id != 38328 and x.contributor_id != 38723 and x.contributor_id != 39094 and x.contributor_id != 43173)"
      ],
      "execution_count": null,
      "outputs": []
    },
    {
      "cell_type": "code",
      "metadata": {
        "colab": {
          "base_uri": "https://localhost:8080/"
        },
        "id": "WVPHD4Ykf1vo",
        "outputId": "67566f02-44e7-4935-cb32-19b1c5cf8a9e"
      },
      "source": [
        "bloqueados = rdd2.filter(lambda x: x.logtype == 'block').map(lambda x: (x.contributor_id, pd.to_datetime(x.timestamp))).reduceByKey(lambda a,b: a if a < b else b)\n",
        "\n",
        "bloqueados.take(5)"
      ],
      "execution_count": null,
      "outputs": [
        {
          "output_type": "execute_result",
          "data": {
            "text/plain": [
              "[(13770.0, Timestamp('2004-12-23 08:28:32+0000', tz='UTC')),\n",
              " (9305.0, Timestamp('2004-12-28 01:38:59+0000', tz='UTC')),\n",
              " (625.0, Timestamp('2005-02-05 00:07:35+0000', tz='UTC')),\n",
              " (24300.0, Timestamp('2005-05-08 01:39:35+0000', tz='UTC')),\n",
              " (6585.0, Timestamp('2005-05-12 23:12:43+0000', tz='UTC'))]"
            ]
          },
          "metadata": {},
          "execution_count": 9
        }
      ]
    },
    {
      "cell_type": "markdown",
      "metadata": {
        "id": "843AYUSKSkoB"
      },
      "source": [
        "Ahora busco los datos que tengan logs de registro (newusers)"
      ]
    },
    {
      "cell_type": "code",
      "metadata": {
        "colab": {
          "base_uri": "https://localhost:8080/"
        },
        "id": "3nkGhN3zRWYk",
        "outputId": "c8a96344-2124-4d54-8e8a-bf6c4b5944f5"
      },
      "source": [
        "registros = rdd2.filter(lambda x: x.logtype == 'newusers').map(lambda x: (x.contributor_id, pd.to_datetime(x.timestamp))).reduceByKey(lambda a,b: a if a < b else b)\n",
        "\n",
        "registros.take(5)"
      ],
      "execution_count": null,
      "outputs": [
        {
          "output_type": "execute_result",
          "data": {
            "text/plain": [
              "[(53615.0, Timestamp('2005-09-08 02:30:15+0000', tz='UTC')),\n",
              " (54040.0, Timestamp('2005-09-10 10:33:43+0000', tz='UTC')),\n",
              " (54165.0, Timestamp('2005-09-10 20:33:58+0000', tz='UTC')),\n",
              " (54410.0, Timestamp('2005-09-11 22:57:14+0000', tz='UTC')),\n",
              " (54690.0, Timestamp('2005-09-12 23:52:44+0000', tz='UTC'))]"
            ]
          },
          "metadata": {},
          "execution_count": 10
        }
      ]
    },
    {
      "cell_type": "markdown",
      "metadata": {
        "id": "zbAIMxCkSqzq"
      },
      "source": [
        "Ahora hago un join con los nuevos usuarios y los bloqueados, para quedarme unicamente con usuarios que cuenten con amba información:"
      ]
    },
    {
      "cell_type": "markdown",
      "metadata": {
        "id": "kgrkqqow3PR0"
      },
      "source": [
        "La primer fecha indica el primer bloqueo y la segunda el de registro."
      ]
    },
    {
      "cell_type": "code",
      "metadata": {
        "colab": {
          "base_uri": "https://localhost:8080/"
        },
        "id": "SV4QQxh3Tf9X",
        "outputId": "68fad9dc-f201-49c6-cacd-c0f8d89e96bb"
      },
      "source": [
        "join = bloqueados.join(registros)\n",
        "join.take(5)"
      ],
      "execution_count": null,
      "outputs": [
        {
          "output_type": "execute_result",
          "data": {
            "text/plain": [
              "[(2135565.0,\n",
              "  (Timestamp('2013-06-12 12:07:43+0000', tz='UTC'),\n",
              "   Timestamp('2012-02-26 19:08:23+0000', tz='UTC'))),\n",
              " (245395.0,\n",
              "  (Timestamp('2007-12-15 06:20:20+0000', tz='UTC'),\n",
              "   Timestamp('2006-10-27 21:43:58+0000', tz='UTC'))),\n",
              " (374995.0,\n",
              "  (Timestamp('2007-10-10 15:19:39+0000', tz='UTC'),\n",
              "   Timestamp('2007-04-21 15:56:02+0000', tz='UTC'))),\n",
              " (775805.0,\n",
              "  (Timestamp('2010-04-26 21:52:11+0000', tz='UTC'),\n",
              "   Timestamp('2008-07-31 19:58:08+0000', tz='UTC'))),\n",
              " (108970.0,\n",
              "  (Timestamp('2007-12-18 19:49:11+0000', tz='UTC'),\n",
              "   Timestamp('2006-03-10 11:35:13+0000', tz='UTC')))]"
            ]
          },
          "metadata": {},
          "execution_count": 11
        }
      ]
    },
    {
      "cell_type": "markdown",
      "metadata": {
        "id": "7hNeAm065Wgi"
      },
      "source": [
        "Restando estas fechas, puedo obtener la cantidad de tiempo que paso un usuario desde su registro a su primer bloqueo."
      ]
    },
    {
      "cell_type": "code",
      "metadata": {
        "colab": {
          "base_uri": "https://localhost:8080/"
        },
        "id": "6bFpXE554toU",
        "outputId": "66d86b65-7b00-471b-9e77-8d237d22e69f"
      },
      "source": [
        "join.map(lambda x: x[1][0] - x[1][1]).takeOrdered(10)"
      ],
      "execution_count": null,
      "outputs": [
        {
          "output_type": "execute_result",
          "data": {
            "text/plain": [
              "[Timedelta('105 days 00:04:24'),\n",
              " Timedelta('120 days 10:28:04'),\n",
              " Timedelta('122 days 19:32:49'),\n",
              " Timedelta('139 days 13:50:37'),\n",
              " Timedelta('140 days 02:34:31'),\n",
              " Timedelta('149 days 07:10:22'),\n",
              " Timedelta('163 days 21:06:14'),\n",
              " Timedelta('165 days 16:23:13'),\n",
              " Timedelta('171 days 23:23:37'),\n",
              " Timedelta('175 days 23:41:11')]"
            ]
          },
          "metadata": {},
          "execution_count": 13
        }
      ]
    },
    {
      "cell_type": "markdown",
      "metadata": {
        "id": "lu6fj9Jn5gWk"
      },
      "source": [
        "Entonces el tiempo minimo es de 105 dias"
      ]
    }
  ]
}