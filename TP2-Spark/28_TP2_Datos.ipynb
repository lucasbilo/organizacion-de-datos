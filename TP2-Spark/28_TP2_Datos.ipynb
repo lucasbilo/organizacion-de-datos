{
  "nbformat": 4,
  "nbformat_minor": 0,
  "metadata": {
    "colab": {
      "name": "28_TP2_Datos.ipynb",
      "provenance": []
    },
    "kernelspec": {
      "name": "python3",
      "display_name": "Python 3"
    },
    "language_info": {
      "name": "python"
    }
  },
  "cells": [
    {
      "cell_type": "markdown",
      "metadata": {
        "id": "pqmaBGg6aMxh"
      },
      "source": [
        "**28. El porcentaje de contenidos que están publicados cuya última edición no tiene comentario para los usuarios que realizaron 1, >10 y >100 de las últimas ediciones**"
      ]
    },
    {
      "cell_type": "markdown",
      "metadata": {
        "id": "HwOqO9w_cE61"
      },
      "source": [
        "es con contents, entonces, pepito edito en contents 128 contenidos dejando 101 comentarios, juanito edito 115 dejando 114 comentarios, supongamos que son los unicos que editaron >100 de los ultimos contenidos. entonces la gente que edito >100 de los ultimos contenidos deja comentarios en una tasa de (101+114)/(128+115), el porcentaje es *100 de esa tasa"
      ]
    },
    {
      "cell_type": "code",
      "metadata": {
        "id": "v6rWfMP1aJfe",
        "colab": {
          "base_uri": "https://localhost:8080/"
        },
        "outputId": "4b14e8c8-2334-4c66-e2ea-6398e906f177"
      },
      "source": [
        "!pip install pyspark\n",
        "!pip install -U -q PyDrive\n",
        "!apt update\n",
        "!apt install openjdk-8-jdk-headless -qq\n",
        "#!apt install default-jre\n",
        "#!apt install default-jdk\n",
        "import os\n",
        "os.environ[\"JAVA_HOME\"] = \"/usr/lib/jvm/java-8-openjdk-amd64\""
      ],
      "execution_count": null,
      "outputs": [
        {
          "output_type": "stream",
          "name": "stdout",
          "text": [
            "Requirement already satisfied: pyspark in /usr/local/lib/python3.7/dist-packages (3.2.0)\n",
            "Requirement already satisfied: py4j==0.10.9.2 in /usr/local/lib/python3.7/dist-packages (from pyspark) (0.10.9.2)\n",
            "Get:1 http://security.ubuntu.com/ubuntu bionic-security InRelease [88.7 kB]\n",
            "Hit:2 https://cloud.r-project.org/bin/linux/ubuntu bionic-cran40/ InRelease\n",
            "Ign:3 https://developer.download.nvidia.com/compute/cuda/repos/ubuntu1804/x86_64  InRelease\n",
            "Hit:4 http://ppa.launchpad.net/c2d4u.team/c2d4u4.0+/ubuntu bionic InRelease\n",
            "Ign:5 https://developer.download.nvidia.com/compute/machine-learning/repos/ubuntu1804/x86_64  InRelease\n",
            "Hit:6 https://developer.download.nvidia.com/compute/cuda/repos/ubuntu1804/x86_64  Release\n",
            "Hit:7 https://developer.download.nvidia.com/compute/machine-learning/repos/ubuntu1804/x86_64  Release\n",
            "Hit:8 http://archive.ubuntu.com/ubuntu bionic InRelease\n",
            "Get:9 http://archive.ubuntu.com/ubuntu bionic-updates InRelease [88.7 kB]\n",
            "Hit:10 http://ppa.launchpad.net/cran/libgit2/ubuntu bionic InRelease\n",
            "Hit:11 http://ppa.launchpad.net/deadsnakes/ppa/ubuntu bionic InRelease\n",
            "Get:12 http://archive.ubuntu.com/ubuntu bionic-backports InRelease [74.6 kB]\n",
            "Hit:13 http://ppa.launchpad.net/graphics-drivers/ppa/ubuntu bionic InRelease\n",
            "Fetched 252 kB in 2s (124 kB/s)\n",
            "Reading package lists... Done\n",
            "Building dependency tree       \n",
            "Reading state information... Done\n",
            "61 packages can be upgraded. Run 'apt list --upgradable' to see them.\n",
            "openjdk-8-jdk-headless is already the newest version (8u292-b10-0ubuntu1~18.04).\n",
            "The following package was automatically installed and is no longer required:\n",
            "  libnvidia-common-460\n",
            "Use 'apt autoremove' to remove it.\n",
            "0 upgraded, 0 newly installed, 0 to remove and 61 not upgraded.\n"
          ]
        }
      ]
    },
    {
      "cell_type": "code",
      "metadata": {
        "id": "Qi2ytfflaRZo"
      },
      "source": [
        "from pydrive.auth import GoogleAuth\n",
        "from pydrive.drive import GoogleDrive\n",
        "from google.colab import auth\n",
        "from oauth2client.client import GoogleCredentials\n",
        "from pyspark.sql import *\n",
        "from pyspark.sql.functions import *\n",
        "from pyspark import SparkContext\n",
        "from pyspark.sql import SQLContext\n",
        "import pandas as pd\n",
        "\n",
        "auth.authenticate_user()\n",
        "gauth = GoogleAuth()\n",
        "gauth.credentials = GoogleCredentials.get_application_default()\n",
        "drive = GoogleDrive(gauth)"
      ],
      "execution_count": null,
      "outputs": []
    },
    {
      "cell_type": "code",
      "metadata": {
        "id": "gZZ8rTKUaSZM"
      },
      "source": [
        "spark = SparkSession.builder.getOrCreate()\n",
        "sc = spark.sparkContext"
      ],
      "execution_count": null,
      "outputs": []
    },
    {
      "cell_type": "code",
      "metadata": {
        "id": "Ma_oCgqNaTWB"
      },
      "source": [
        "downloaded = drive.CreateFile({'id':\"1SnCVFJvTsaEPrmh-PpVGH6-toBVsD6NL\"})\n",
        "downloaded.GetContentFile('contents.csv') "
      ],
      "execution_count": null,
      "outputs": []
    },
    {
      "cell_type": "code",
      "metadata": {
        "id": "dClbt1zFaU_c",
        "colab": {
          "base_uri": "https://localhost:8080/"
        },
        "outputId": "54b015f2-23bc-4d1d-e18d-ed56947ebbdc"
      },
      "source": [
        "!pip install pyarrow\n",
        "texts = pd.read_csv('contents.csv')\n",
        "texts.to_parquet('contents.parquet')\n",
        "del texts"
      ],
      "execution_count": null,
      "outputs": [
        {
          "output_type": "stream",
          "name": "stdout",
          "text": [
            "Requirement already satisfied: pyarrow in /usr/local/lib/python3.7/dist-packages (3.0.0)\n",
            "Requirement already satisfied: numpy>=1.16.6 in /usr/local/lib/python3.7/dist-packages (from pyarrow) (1.19.5)\n"
          ]
        }
      ]
    },
    {
      "cell_type": "code",
      "metadata": {
        "id": "TLLy1B1zaV6s",
        "colab": {
          "base_uri": "https://localhost:8080/"
        },
        "outputId": "a3839060-0d25-40fb-cc50-e3a6b1e28058"
      },
      "source": [
        "sqlContext = SQLContext(sc)\n",
        "df = sqlContext.read.parquet('contents.parquet')\n",
        "rdd = df.rdd"
      ],
      "execution_count": null,
      "outputs": [
        {
          "output_type": "stream",
          "name": "stderr",
          "text": [
            "/usr/local/lib/python3.7/dist-packages/pyspark/sql/context.py:79: FutureWarning: Deprecated in 3.0.0. Use SparkSession.builder.getOrCreate() instead.\n",
            "  FutureWarning\n"
          ]
        }
      ]
    },
    {
      "cell_type": "code",
      "metadata": {
        "id": "V1kFHBCF_DeU",
        "colab": {
          "base_uri": "https://localhost:8080/"
        },
        "outputId": "443763f3-0374-4ac9-90eb-4f3721d0af48"
      },
      "source": [
        "rdd.take(5)"
      ],
      "execution_count": null,
      "outputs": [
        {
          "output_type": "execute_result",
          "data": {
            "text/plain": [
              "[Row(title='Wikipedia:Artículos solicitados', id=5, namespace=4, revision_id=132533307, parent_revision=132516631.0, revision_timestamp='2021-01-19T18:40:34Z', revisor_username='Metrónomo', revisor_id=1708233.0, revisor_ip=None, revisor_comment='Así esta mejor'),\n",
              " Row(title='Andorra', id=7, namespace=0, revision_id=138035057, parent_revision=138027475.0, revision_timestamp='2021-08-31T18:27:01Z', revisor_username=None, revisor_id=None, revisor_ip='2800:CD0:FC1B:A900:C5A4:9E81:7175:2ED2', revisor_comment='Añadir contenido'),\n",
              " Row(title='Argentina', id=10, namespace=0, revision_id=137966826, parent_revision=137825165.0, revision_timestamp='2021-08-28T17:17:54Z', revisor_username='Traitrich', revisor_id=4642283.0, revisor_ip=None, revisor_comment='Reemplazos con [[Usuario:Benjavalero/Replacer|Replacer]]: «simbolos»'),\n",
              " Row(title='Geografía de Andorra', id=15, namespace=0, revision_id=137986788, parent_revision=133666383.0, revision_timestamp='2021-08-29T17:16:00Z', revisor_username='Lojwe', revisor_id=5338508.0, revisor_ip=None, revisor_comment='Reemplazos con [[Usuario:Benjavalero/Replacer|Replacer]]: «m.»'),\n",
              " Row(title='Demografía de Andorra', id=17, namespace=0, revision_id=130869554, parent_revision=129413188.0, revision_timestamp='2020-11-12T19:56:15Z', revisor_username='Jialxv', revisor_id=3615366.0, revisor_ip=None, revisor_comment='Correcciones ortográficas con [[Usuario:Benjavalero/Replacer|Replacer]] (herramienta en línea de revisión de errores)')]"
            ]
          },
          "metadata": {},
          "execution_count": 7
        }
      ]
    },
    {
      "cell_type": "markdown",
      "metadata": {
        "id": "tQb2j2ooFAPa"
      },
      "source": [
        "Pasos:\n",
        "\n",
        "1) Filtro por los datos que necesito.\n",
        "\n",
        "2) Mapeo donde tendré una tupla de: (1,X). El 1 será para contabilizar luego y la X puede ser un 1 si el usuario comentó en la revisión y 0 si no.\n",
        "\n",
        "3) Reduzco por clave(id o ip), sumando los valores de las tuplas.\n",
        "\n",
        "Finalmente tendré:\n",
        "\n",
        "(usuario, (total de revisiones, total de comentarios))"
      ]
    },
    {
      "cell_type": "code",
      "metadata": {
        "colab": {
          "base_uri": "https://localhost:8080/"
        },
        "id": "ox6ae4wUl8UP",
        "outputId": "5e850a26-b50e-4bdb-dcd3-2c1a3b08922a"
      },
      "source": [
        "datos = rdd.filter(lambda x: (x.revisor_id != None and x.revisor_ip == None) or (x.revisor_id == None and x.revisor_ip != None))\\\n",
        "                .map(lambda x: ((x.revisor_id if x.revisor_id != None else x.revisor_ip),(1, 1 if x.revisor_comment != None else 0)))\\\n",
        "                .reduceByKey(lambda a,b: (a[0]+b[0], a[1]+b[1])).cache()\n",
        "\n",
        "datos.take(5)"
      ],
      "execution_count": null,
      "outputs": [
        {
          "output_type": "execute_result",
          "data": {
            "text/plain": [
              "[('2800:CD0:FC1B:A900:C5A4:9E81:7175:2ED2', (13, 13)),\n",
              " (5338508.0, (24169, 18749)),\n",
              " (3615366.0, (2905, 2667)),\n",
              " (689866.0, (831, 689)),\n",
              " (936194.0, (2299, 2109))]"
            ]
          },
          "metadata": {},
          "execution_count": 26
        }
      ]
    },
    {
      "cell_type": "markdown",
      "metadata": {
        "id": "6cQm-eSwW0sH"
      },
      "source": [
        "**Porcentaje para los usuarios que realizaron más de 1 revisión:**"
      ]
    },
    {
      "cell_type": "code",
      "metadata": {
        "colab": {
          "base_uri": "https://localhost:8080/"
        },
        "id": "QD__9v8VXCX-",
        "outputId": "c347f0c2-b873-4498-be67-c726f6176964"
      },
      "source": [
        "100 * (datos.map(lambda x: (x[1][1])).sum() / datos.map(lambda x: (x[1][0])).sum())"
      ],
      "execution_count": null,
      "outputs": [
        {
          "output_type": "execute_result",
          "data": {
            "text/plain": [
              "88.6445912225631"
            ]
          },
          "metadata": {},
          "execution_count": 27
        }
      ]
    },
    {
      "cell_type": "markdown",
      "metadata": {
        "id": "jpdaGBc7mYjT"
      },
      "source": [
        "**Porcentaje para los usuarios que realizaron más de 10 revisiones:**"
      ]
    },
    {
      "cell_type": "code",
      "metadata": {
        "colab": {
          "base_uri": "https://localhost:8080/"
        },
        "id": "86uj1dpumd1u",
        "outputId": "af7ea949-ff86-4fdb-a906-ae0a81bba6ed"
      },
      "source": [
        "aux = datos.filter(lambda x: x[1][0] > 10)\n",
        "\n",
        "100 * (aux.map(lambda x: (x[1][1])).sum() / aux.map(lambda x: (x[1][0])).sum())"
      ],
      "execution_count": null,
      "outputs": [
        {
          "output_type": "execute_result",
          "data": {
            "text/plain": [
              "89.85935076359488"
            ]
          },
          "metadata": {},
          "execution_count": 28
        }
      ]
    },
    {
      "cell_type": "markdown",
      "metadata": {
        "id": "MLj6-2YrmZiN"
      },
      "source": [
        "**Porcentaje para los usuarios que realizaron más de 100 revisiones:**"
      ]
    },
    {
      "cell_type": "code",
      "metadata": {
        "colab": {
          "base_uri": "https://localhost:8080/"
        },
        "id": "q0NtwwOEm2Xk",
        "outputId": "e83b7361-bbdf-4298-8077-39ac141ef755"
      },
      "source": [
        "aux2 = aux.filter(lambda x: x[1][0] > 100)\n",
        "\n",
        "100 * (aux2.map(lambda x: (x[1][1])).sum() / aux2.map(lambda x: (x[1][0])).sum())"
      ],
      "execution_count": null,
      "outputs": [
        {
          "output_type": "execute_result",
          "data": {
            "text/plain": [
              "90.63442644504349"
            ]
          },
          "metadata": {},
          "execution_count": 29
        }
      ]
    }
  ]
}