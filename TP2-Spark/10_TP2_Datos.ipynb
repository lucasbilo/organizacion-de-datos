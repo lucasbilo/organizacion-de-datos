{
  "nbformat": 4,
  "nbformat_minor": 0,
  "metadata": {
    "colab": {
      "name": "10_TP2_Datos.ipynb",
      "provenance": [],
      "collapsed_sections": []
    },
    "kernelspec": {
      "display_name": "Python 3",
      "name": "python3"
    },
    "language_info": {
      "name": "python"
    }
  },
  "cells": [
    {
      "cell_type": "markdown",
      "metadata": {
        "id": "NbStNa6bnWYR"
      },
      "source": [
        "**10. Generar un RDD en el que cada tupla tenga el formato (key, value) donde:**\n",
        "\n",
        "**a) key sea una palabra del léxico de la wikipedia**\n",
        "\n",
        "**b) value sea una lista donde cada elemento de la misma sea una tupla de dos\n",
        "elementos:**\n",
        "\n",
        "  **i. identificador de contenido donde aparezca esa palabra.**\n",
        "\n",
        "  **ii. la frecuencia con la que aparece esa palabra en ese contenido.**\n"
      ]
    },
    {
      "cell_type": "code",
      "metadata": {
        "colab": {
          "base_uri": "https://localhost:8080/"
        },
        "id": "mMNi7Y0JnULO",
        "outputId": "0a9f2bc1-e1df-44d0-99b9-d66c78bcd161"
      },
      "source": [
        "!pip install pyspark\n",
        "!pip install -U -q PyDrive\n",
        "!apt update\n",
        "!apt install openjdk-8-jdk-headless -qq\n",
        "#!apt install default-jre\n",
        "#!apt install default-jdk\n",
        "import os\n",
        "os.environ[\"JAVA_HOME\"] = \"/usr/lib/jvm/java-8-openjdk-amd64\""
      ],
      "execution_count": null,
      "outputs": [
        {
          "output_type": "stream",
          "name": "stdout",
          "text": [
            "Requirement already satisfied: pyspark in /usr/local/lib/python3.7/dist-packages (3.2.0)\n",
            "Requirement already satisfied: py4j==0.10.9.2 in /usr/local/lib/python3.7/dist-packages (from pyspark) (0.10.9.2)\n",
            "Hit:1 http://ppa.launchpad.net/c2d4u.team/c2d4u4.0+/ubuntu bionic InRelease\n",
            "Hit:2 http://archive.ubuntu.com/ubuntu bionic InRelease\n",
            "Hit:3 https://cloud.r-project.org/bin/linux/ubuntu bionic-cran40/ InRelease\n",
            "Get:4 http://archive.ubuntu.com/ubuntu bionic-updates InRelease [88.7 kB]\n",
            "Hit:5 http://ppa.launchpad.net/cran/libgit2/ubuntu bionic InRelease\n",
            "Hit:6 http://ppa.launchpad.net/deadsnakes/ppa/ubuntu bionic InRelease\n",
            "Get:7 http://archive.ubuntu.com/ubuntu bionic-backports InRelease [74.6 kB]\n",
            "Hit:8 http://ppa.launchpad.net/graphics-drivers/ppa/ubuntu bionic InRelease\n",
            "Ign:9 https://developer.download.nvidia.com/compute/cuda/repos/ubuntu1804/x86_64  InRelease\n",
            "Get:10 http://security.ubuntu.com/ubuntu bionic-security InRelease [88.7 kB]\n",
            "Ign:11 https://developer.download.nvidia.com/compute/machine-learning/repos/ubuntu1804/x86_64  InRelease\n",
            "Hit:12 https://developer.download.nvidia.com/compute/cuda/repos/ubuntu1804/x86_64  Release\n",
            "Hit:13 https://developer.download.nvidia.com/compute/machine-learning/repos/ubuntu1804/x86_64  Release\n",
            "Fetched 252 kB in 2s (145 kB/s)\n",
            "Reading package lists... Done\n",
            "Building dependency tree       \n",
            "Reading state information... Done\n",
            "63 packages can be upgraded. Run 'apt list --upgradable' to see them.\n",
            "openjdk-8-jdk-headless is already the newest version (8u292-b10-0ubuntu1~18.04).\n",
            "The following package was automatically installed and is no longer required:\n",
            "  libnvidia-common-460\n",
            "Use 'apt autoremove' to remove it.\n",
            "0 upgraded, 0 newly installed, 0 to remove and 63 not upgraded.\n"
          ]
        }
      ]
    },
    {
      "cell_type": "code",
      "metadata": {
        "id": "dGxabYpfotrv"
      },
      "source": [
        "from pydrive.auth import GoogleAuth\n",
        "from pydrive.drive import GoogleDrive\n",
        "from google.colab import auth\n",
        "from oauth2client.client import GoogleCredentials\n",
        "from pyspark.sql import *\n",
        "from pyspark.sql.functions import *\n",
        "from pyspark import SparkContext\n",
        "from pyspark.sql import SQLContext\n",
        "import pandas as pd"
      ],
      "execution_count": null,
      "outputs": []
    },
    {
      "cell_type": "code",
      "metadata": {
        "id": "DN4yKpgrounI"
      },
      "source": [
        "auth.authenticate_user()\n",
        "gauth = GoogleAuth()\n",
        "gauth.credentials = GoogleCredentials.get_application_default()\n",
        "drive = GoogleDrive(gauth)"
      ],
      "execution_count": null,
      "outputs": []
    },
    {
      "cell_type": "markdown",
      "metadata": {
        "id": "KoDwviDUowkB"
      },
      "source": [
        "Bajo el csv **contents_text_sample**"
      ]
    },
    {
      "cell_type": "code",
      "metadata": {
        "id": "1bH0gelyoxhK"
      },
      "source": [
        "downloaded = drive.CreateFile({'id':\"1XDhQ8I1rm2MIXXOD4fzAEMNhAD1Eya4m\"})\n",
        "downloaded.GetContentFile('contents_text_sample.csv') "
      ],
      "execution_count": null,
      "outputs": []
    },
    {
      "cell_type": "code",
      "metadata": {
        "id": "7YLm3z2XozMz"
      },
      "source": [
        "spark = SparkSession.builder.getOrCreate()\n",
        "sc = spark.sparkContext"
      ],
      "execution_count": null,
      "outputs": []
    },
    {
      "cell_type": "markdown",
      "metadata": {
        "id": "LbsrNm0Mo1T6"
      },
      "source": [
        "Leo el CSV:"
      ]
    },
    {
      "cell_type": "code",
      "metadata": {
        "colab": {
          "base_uri": "https://localhost:8080/"
        },
        "id": "yHmjSEqgOWgF",
        "outputId": "2f7dc2d1-79b6-404b-fc58-722bdcaf5d6f"
      },
      "source": [
        "!pip install pyarrow\n",
        "texts = pd.read_csv('contents_text_sample.csv')\n",
        "texts.to_parquet('contents_text_sample.parquet')\n",
        "del texts"
      ],
      "execution_count": null,
      "outputs": [
        {
          "output_type": "stream",
          "name": "stdout",
          "text": [
            "Requirement already satisfied: pyarrow in /usr/local/lib/python3.7/dist-packages (3.0.0)\n",
            "Requirement already satisfied: numpy>=1.16.6 in /usr/local/lib/python3.7/dist-packages (from pyarrow) (1.19.5)\n"
          ]
        }
      ]
    },
    {
      "cell_type": "code",
      "metadata": {
        "colab": {
          "base_uri": "https://localhost:8080/"
        },
        "id": "0fMGe-o0yEgB",
        "outputId": "9e098676-76cf-4652-a1fa-24306f56a154"
      },
      "source": [
        "sqlContext = SQLContext(sc)\n",
        "df = sqlContext.read.parquet('contents_text_sample.parquet')\n",
        "rdd = df.rdd"
      ],
      "execution_count": null,
      "outputs": [
        {
          "output_type": "stream",
          "name": "stderr",
          "text": [
            "/usr/local/lib/python3.7/dist-packages/pyspark/sql/context.py:79: FutureWarning: Deprecated in 3.0.0. Use SparkSession.builder.getOrCreate() instead.\n",
            "  FutureWarning\n"
          ]
        }
      ]
    },
    {
      "cell_type": "code",
      "metadata": {
        "colab": {
          "base_uri": "https://localhost:8080/"
        },
        "id": "rOR7ZD5XtUJk",
        "outputId": "f05fa039-1f26-4a3d-9ddd-57868e77eab5"
      },
      "source": [
        "rdd.take(5)"
      ],
      "execution_count": null,
      "outputs": [
        {
          "output_type": "execute_result",
          "data": {
            "text/plain": [
              "[Row(id=50, title='Anacardiaceae', text=\"{{Ficha de taxón\\n| name = Anacardiáceas\\n| image = Gui1 cashewfruit2.jpg\\n| image_caption = ''[[Anacardium occidentale]]''\\n| regnum = [[Plantae]]\\n| divisio  = [[Magnoliophyta]]\\n| classis  = [[Magnoliopsida]]\\n| ordo = [[Sapindales]]\\n| familia = '''Anacardiaceae'''\\n| familia_authority = [[Robert Brown|R.Br.]]\\n| subdivision_ranks = Géneros\\n| subdivision = \\nVer texto\\n}}\\n'''Anacardiaceae''' es una [[familia (biología)|familia]] de [[Plantae|plantas]] esencialmente [[árbol|arbóreas]] y [[arbusto|arbustivas]] perteneciente al [[Orden (biología)|orden]] [[Sapindales]]. La constituyen 77 [[género (biología)|géneros]] con unas 700 especies aceptadas, de las casi 3000 descritas, propias de países tropicales, cálidos y templados.<ref>[http://www.theplantlist.org/1.1/browse/A/Anacardiaceae/ Anacardiaceae en The Plant List, vers. 1.1, 2013]</ref>\\n\\n== Descripción ==\\nSon árboles, arbustos, raramente subarbustos o [[trepadora]]s, frecuentemente con [[savia]] [[veneno]]sa. Son plantas [[dioica]]s, [[monoica]]s, andromonoicas, polígamas o [[hermafrodita]]s. Tienen [[hoja]]s alternas, raramente opuestas o verticiladas, simples o pinnaticompuestas, [[peciolo|pecioladas]] o sésiles, generalmente sin [[estípula]]s; cuando son compuestas, los [[folíolo]]s son opuestos o a veces alternos, de márgenes enteros, serrados o crenados. Las [[inflorescencia]]s son terminales y/o axilares, [[Tirso (inflorescencia)|tirsoides]], [[panícula|paniculadas]], [[racimo|racemosas]] o [[espiga|espigadas]], con [[bráctea]]s y [[bractéola]]s deciduas o persistentes, petaloides o foliosas, de [[flor]]es [[actinomorfa]]s, unisexuales o bisexuales, con [[hipanto]] a veces presente y [[perianto]] generalmente de 2 verticilos. El [[fruto]] es [[drupa|drupáceo]] o [[Sámara (fruto)|samaroide]], carnoso o seco, a veces con un ala lateral o marginal, ocasionalmente con el [[cáliz]] subyacente agrandado (''[[Astronium]]'') o unido a un hipocarpo carnoso (''[[Anacardium]]''). Las [[semilla]]s, en número de 1–12, poseen [[endosperma]] escaso o ausente, un embrión curvado o recto, los [[cotiledón|cotiledones]] generalmente libres, bilobados, iguales o plano-convexos.<ref name = Trop/>\\n\\n== Taxonomía ==\\n'''Anacardiaceae''' fue descrita por [[Robert Brown]] y publicado en ''[[Narrative of an Expedition to Explore the River Zaire]]'', p. 431, 1818.<ref name = Trop>{{cita web |url=http://www.tropicos.org/Name/42000260 |título= Anacardiaceae|fechaacceso=13 de julio de 2013 |obra=  Tropicos.org. [[Missouri Botanical Garden]]}}</ref>\\n\\n== Géneros ==\\n{{lista de columnas|3|\\n* ''[[Abrahamia]]''\\n* ''[[Actinocheita]]''\\n* ''[[Amphipterygium]]''\\n* ''[[Anacardium]]''\\n* ''[[Androtium]]''\\n* ''[[Antrocaryon]]''\\n* ''[[Apterokarpos]]''\\n* ''[[Astronium]]''\\n* ''[[Baronia (Anacardiaceae)|Baronia]]''\\n* ''[[Bonetiella]]''\\n* ''[[Bouea]]''\\n* ''[[Buchanania (Anacardiaceae)|Buchanania]]''\\n* ''[[Campnosperma]]''\\n* ''[[Cardenasiodendron]]''\\n* ''[[Choerospondias]]''\\n* ''[[Comocladia]]''\\n* ''[[Cotinus]]''\\n* ''[[Cyrtocarpa]]''\\n* ''[[Dracontomelon]]''\\n* ''[[Drimycarpus]]''\\n* ''[[Ebandoua]]''\\n* ''[[Euleria]]''\\n* ''[[Euroschinus]]''\\n* ''[[Faguetia]]''\\n* ''[[Fegimanra]]''\\n* ''[[Gluta]]''\\n* ''[[Haematostaphis]]''\\n* ''[[Haplorhus]]''\\n* ''[[Harpephyllum]]''\\n* ''[[Heeria]]''\\n* ''[[Holigarna]]''\\n* ''[[Koordersiodendron]]''\\n* ''[[Lannea]]''\\n* ''[[Laurophyllus]]''\\n* ''[[Lithrea]]''\\n* ''[[Loxopterigium]]''\\n* ''[[Loxostylis]]''\\n* ''[[Mangifera]]''\\n* ''[[Mauria (Anacardiaceae)|Mauria]]''\\n* ''[[Melanochyla]]''\\n* ''[[Metopium]]''\\n* ''[[Micronychia (Anacardiaceae)|Micronychia]]''\\n* ''[[Montagueia]]''\\n* ''[[Mosquitoxylum]]''\\n* ''[[Nothopegia]]''\\n* ''[[Ochoterenaea]]''\\n* ''[[Operculicarya]]''\\n* ''[[Ozoroa]]''\\n* ''[[Pachycormus]]''\\n* ''[[Parishia]]''\\n* ''[[Pegia]]''\\n* ''[[Pentaspadon]]''\\n* ''[[Pistacia]]''\\n* ''[[Pleiogynium]]''\\n* ''[[Poupartia]]''\\n* ''[[Protorhus]]''\\n* ''[[Pseudoprotorhus]]''\\n* ''[[Pseudosmodingium]]''\\n* ''[[Pseudospondias]]''\\n* ''[[Rhodosphaera]]''\\n* ''[[Rhus]]''\\n* ''[[Schinopsis]]''\\n* ''[[Schinus]]''\\n* ''[[Sclerocarya]]''\\n* ''[[Searsia (planta)|Searsia]]''\\n* ''[[Semecarpus]]''\\n* ''[[Smodingium]]''\\n* ''[[Solenocarpus]]''\\n* ''[[Sorindeia]]''\\n* ''[[Spondias]]''\\n* ''[[Swintonia]]''\\n* ''[[Tapirira]]''\\n* ''[[Thyrsodium]]''\\n* ''[[Toxicodendron]]''\\n* ''[[Trichoscypha]]''\\n}}\\n\\n== Sinonimia ==\\n* Blepharocaryaceae, Comocladiaceae, Julianiaceae, Lentiscaceae, Pistaciaceae, Schinaceae, Spondiadaceae, Vernicaceae.\\n* Julianaceae.<ref>{{Enlace roto|1=[http://www.f-lohmueller.de/botany/fam/j/Julianaceae.htm, http://delta-intkey.com/angio/www/podoacea.htm Anacardiaceae en Delta-intkey] |2=http://www.f-lohmueller.de/botany/fam/j/Julianaceae.htm, |bot=InternetArchiveBot }}</ref>\\n\\n== Referencias ==\\n{{listaref}}\\n\\n== Enlaces externos ==\\n{{wikispecies|Anacardiaceae}}\\n{{commonscat|Anacardiaceae}}\\n* [https://web.archive.org/web/20060428185908/http://132.236.163.181/index.html Anacardiaceae en Plant Systematic]\\n* [http://www.chileflora.com/Florachilena/FloraSpanish/PIC_FAMILIES_SIMPLE_Anacardiaceae.php Anacardiaceae de Chile, en Chileflora]\\n* [http://www.botanical-dermatology-database.info/BotDermFolder/ANAC-1.html Anacardiaceae] en [http://www.botanical-dermatology-database.info/index.html BoDD – Botanical Dermatology Database]\\n\\n{{Control de autoridades}}\\n[[Categoría:Anacardiaceae| ]]\"),\n",
              " Row(id=62, title='Antipartícula', text='[[Archivo:Materia antimateria.png|thumb|200px|División del universo en materia y antimateria.]]\\nA la mayor parte de las [[partícula subatómica|partículas]] de la naturaleza le corresponde una \\'\\'\\'antipartícula\\'\\'\\' que posee la misma [[masa]], el mismo [[espín]], pero contraria [[carga eléctrica]]. Algunas partículas son idénticas a su antipartícula, como por ejemplo el [[fotón]], que no tiene carga. Pero no todas las partículas de carga neutra son idénticas a su antipartícula. Siempre hemos tenido la impresión de que las leyes de la naturaleza parecían haber sido diseñadas para que todo fuese simétrico entre partículas y antipartículas hasta que los experimentos de la llamada [[violación CP]] (violación carga-paridad) encontraron que la [[simetría temporal]] se violaba en ciertos sucesos de la naturaleza. El exceso observado de [[barión|bariones]] con respecto a los anti-bariones, en el universo, es uno de los principales problemas sin respuesta de la [[cosmología]].\\n\\nLos pares partícula-antipartícula pueden aniquilarse entre ellos si se encuentran en el [[estado cuántico]] apropiado. Estos estados pueden producirse en varios procesos. Estos procesos se usan en los [[acelerador de partículas|aceleradores de partículas]] para crear nuevas partículas y probar las teorías de la [[física de partículas]]. Los procesos de altas energías en la naturaleza pueden crear antipartículas, y estos son visibles debido a los [[radiación cósmica|rayos cósmicos]] y en ciertas [[reacción nuclear|reacciones nucleares]]. La palabra [[antimateria]] se refiere a las antipartículas elementales, los compuestos de antipartículas hechos con éstas (como el [[antihidrógeno]]) y formaciones mayores que pueden hacerse con ellos.\\n\\n== Historia ==\\n=== El experimento ===\\nEn 1932, poco después de la predicción del [[positrón]] por [[Paul Dirac|Dirac]], {{esd|[[Carl David Anderson|Carl D. Anderson]]}} encontró que las colisiones de los rayos cósmicos producían estas partículas dentro de una [[cámara de niebla]] —un [[detector de partículas]] donde los [[electrón|electrones]] o los [[positrón|positrones]] que se mueven a través de él dejan detrás de ellos trayectorias, marcando su movimiento por el gas—. La relación entre la [[carga eléctrica]] y la [[masa]] de una partícula puede medirse observando las curvas que marcan en su camino por la cámara de niebla dentro de un [[campo magnético]]. Originalmente los positrones, debido a que sus trayectorias también se curvaban, fueron confundidos con electrones que viajaban en la dirección opuesta.\\n\\nEl [[antiprotón]] y el [[antineutrón]] fueron encontrados por [[Emilio Gino Segrè|Emilio Segrè]] y [[Owen Chamberlain]] en 1955, en la universidad de California. Desde entonces se han creado las antipartículas de muchas otras partículas subatómicas en los experimentos con aceleradores de partículas. En años recientes, se ha conseguido generar átomos completos de [[antimateria]] compuestos por antiprotones y positrones, recolectados en trampas electromagnéticas.\\n\\n=== La teoría de Giovanni ===\\n<blockquote>\\n...el desarrollo de la teoría cuántica de campos hizo innecesaria la interpretación de las antipartículas como huecos, incluso aunque desafortunadamente aún persiste en muchos libros de texto.<ref>Steven Weinberg en \\'\\'Teoría cuántica de campos,\\'\\' Vol.{{esd}}I, p.{{esd}}14, ISBN 0-521-55001-7.</ref>\\n</blockquote>\\n\\nLas soluciones de la [[ecuación de Dirac]] contenían estados cuánticos de energía negativa. Como resultado un electrón siempre podría radiar energía cayendo en un estado de energía negativa. Incluso peor que eso, podría estar radiando una cantidad infinita de energía porque habría disponibles infinitos estados de energía negativa. Para resolver esta situación que iba contra la física, Dirac postuló que un \"mar\" de electrones de energía negativa llenaban el universo, ya ocupando todos los estados de energía negativa de forma que, debido al [[principio de exclusión de Pauli]] ningún otro electrón podría caer en ellos. Sin embargo, a veces, una de estas partículas con energía negativa podría ser elevada desde este [[mar de Dirac]] a un nivel de energía mayor para convertirse en una partícula de energía positiva. Pero, cuando era elevada, esta partícula dejaba un \\'\\'hueco\\'\\' detrás en el mar, que actuaría exactamente como un electrón de energía positiva pero con carga contraria. Dirac interpretó estos electrones inversos como protones, y llamó por eso a su artículo de 1930 \\'\\'Una teoría de electrones y protones.\\'\\'\\n\\nDirac ya era consciente del problema de que esta representación implicaba una carga negativa infinita para el universo, e intentó argumentar que nosotros percibiríamos este estado como el estado normal de carga cero. Otra dificultad que esta teoría encontraba era la diferencia entre las masas del electrón y el protón. Aquí Dirac intentó solucionarlo argumentando que esto se debía a las interacciones electromagnéticas con ese \"mar\", hasta que [[Hermann Weyl]] probó que la teoría de huecos era completamente simétrica entre las cargas negativas y positivas. Dirac también predijo una reacción \\'\\'\\'e<sup>-</sup>{{esd}}+{{esd}}p<sup>+</sup>{{esd}}→{{esd}}γ{{esd}}+{{esd}}γ\\'\\'\\' (en la que el electrón y el protón se aniquilaban para dar dos [[fotón|fotones]]). [[Robert Oppenheimer]] e [[Ígor Tam]] probaron que esto causaría que la materia ordinaria desapareciera demasiado deprisa. Un año más tarde, en 1931, Dirac modificó su teoría y postuló el [[positrón]], una partícula nueva de la misma masa que el electrón. El descubrimiento de esa partícula el año siguiente eliminó las dos últimas objeciones a su teoría.\\n\\nSin embargo permanecía el problema de la carga infinita del universo. También, como ahora sabemos, los [[bosón|bosones]] (partículas con spin entero) también poseen antipartículas, pero estos no obedecen el principio de exclusión de Pauli, así que la teoría de los huecos no funciona con ellos. La [[teoría cuántica de campos]] proporciona una interpretación unificada de las antipartículas, que resuelve ambos problemas.\\n\\n== Aniquilación partícula-antipartícula ==\\n{{AP|Aniquilación}}\\nSi una partícula y su antipartícula se encuentran en los estados cuánticos apropiados, entonces pueden \\'\\'\\'aniquilarse\\'\\'\\' la una a la otra y producir otras partículas. Las reacciones como:\\n\\n\\'\\'\\'e<sup>+</sup> {{esd}}+{{esd}} e<sup>-</sup> {{esd}}→{{esd}} γ {{esd}}+{{esd}} γ\\'\\'\\'\\n\\n(aniquilación de un par electrón-positrón en dos fotones) son un ejemplo del proceso.\\n\\nLa aniquilación de un par electrón-positrón en un solo fotón: \\'\\'\\'e<sup>+</sup> {{esd}}+{{esd}} e<sup>-</sup> {{esd}}→{{esd}} γ\\'\\'\\'\\nno puede ocurrir porque es imposible que se conserven la energía y el momento a la vez en este proceso. La reacción inversa es también imposible por esta razón. Sin embargo, este fenómeno se observa en la naturaleza; se puede [[creación de pares|crear]] un par electrón-positrón a partir de un solo fotón con una energía de al menos la masa de ambas partículas: 1.022 MeV. Lo cierto es que, según la [[teoría cuántica de campos]], este proceso está permitido como un estado cuántico intermedio para tiempos suficientemente cortos en los que la violación de la conservación de la energía puede acomodarse al [[Relación de indeterminación de Heisenberg|principio de incertidumbre]] de [[Werner Heisenberg|Heisenberg]]. Esto abre la vía para la producción de \\'\\'pares virtuales\\'\\' o su aniquilación donde el estado cuántico de una sola partícula puede \\'\\'fluctuar\\'\\' en un estado cuántico de dos partículas y volver a su estado inicial. Estos procesos son importantes en el [[estado vacío]] y la [[renormalización]] de una [[teoría cuántica de campos]]. También abre el camino para una [[mezcla de partículas neutras]] a través de procesos como el mostrado aquí, que es un ejemplo complicado de la [[renormalización de la masa]].\\n\\n== Propiedades de las antipartículas ==\\nLos [[estado cuántico|estados cuánticos]] de una partícula y de su antipartícula pueden intercambiarse aplicando la [[simetría de carga]] (\\'\\'\\'C\\'\\'\\'), [[Paridad (física)|paridad]] (\\'\\'\\'P\\'\\'\\'), y la [[simetría temporal]] (\\'\\'\\'T\\'\\'\\'). Si \\'\\'\\'|p,σ,n>\\'\\'\\' es el estado cuántico de una partícula (\\'\\'\\'n\\'\\'\\'), con momento \\'\\'\\'p\\'\\'\\', espín \\'\\'\\'J\\'\\'\\' cuyo componente en la dirección z es σ, entonces tendremos\\n\\n::\\'\\'\\'CPT |p,σ,n> {{esd}}={{esd}} (-1)<sup>J-σ</sup> |p,-σ,n<sup>c</sup>>,\\'\\'\\'\\n\\ndonde \\'\\'\\'n<sup>c</sup>\\'\\'\\' es el estado de carga conjugado, es decir, la antipartícula. Este comportamiento bajo \\'\\'\\'CPT\\'\\'\\' es el mismo que establece que una partícula y su antipartícula están en la misma [[representación irreducible]] del [[grupo de Poincaré]]. Las propiedades de las antipartículas pueden relacionarse así con las de las partículas. Si \\'\\'\\'T\\'\\'\\' es una buena simetría de la dinámica, entonces\\n\\n::\\'\\'\\'T |p,σ,n> {{esd}}α{{esd}} |-p,-σ,n>\\'\\'\\'\\n::\\'\\'\\'CP |p,σ,n> {{esd}}α{{esd}} |-p,σ,n<sup>c</sup>>\\'\\'\\'\\n::\\'\\'\\'C |p,σ,n> {{esd}}α{{esd}} |p,σ,n<sup>c</sup>>,\\'\\'\\'\\n\\ndonde el signo de proporcionalidad indica que podría existir un término de fase en el lado derecho de la ecuación. En otras palabras, la partícula y su antipartícula deben tener:\\n\\n* La misma [[masa]] \\'\\'\\'m\\'\\'\\',\\n* el mismo estado de [[espín]] \\'\\'\\'J\\'\\'\\',\\n* [[carga eléctrica|cargas eléctricas]] opuestas \\'\\'\\'q\\'\\'\\' y \\'\\'\\'-q\\'\\'\\'.\\n\\n== Teoría cuántica de campos ==\\n\\'\\'Esta sección utiliza las ideas, el lenguaje y la notación usada en la [[cuantización canónica]] de la [[teoría cuántica de campos]].\\'\\'\\n\\nSe puede intentar cuantizar el [[campo (física)|campo]] de un electrón sin mezclar los operadores de creación y aniquilación escribiendo:\\n\\n::\\'\\'\\'ψ(x) {{esd}}={{esd}} ∑<sub>k</sub> u<sub>k</sub>(x) a<sub>k</sub> e<sup>-i E(k)t</sup>,\\'\\'\\'\\n\\ndonde se está usando el símbolo \\'\\'\\'k\\'\\'\\' para denotar los números cuánticos \\'\\'\\'p\\'\\'\\' y σ de las secciones anteriores, el signo de la energía \\'\\'\\'E(k)\\'\\'\\' y \\'\\'\\'a<sub>k</sub>\\'\\'\\' denota los operadores correspondientes de aniquilación. Por supuesto, como estamos tratando con [[fermión|fermiones]], los operadores deberán satisfacer las relaciones canónicas anticonmutativas. Sin embargo, si escribimos el [[Hamiltoniano (mecánica cuántica)|Hamiltoniano]]\\n\\n::H {{esd}}={{esd}} ∑<sub>k</sub> E(k) a<sup>+</sup><sub>k</sub> a<sub>k</sub>,\\n\\nvemos inmediatamente que el valor esperado de \\'\\'\\'H\\'\\'\\' no necesita ser positivo. Esto ocurre porque \\'\\'\\'E(k)\\'\\'\\' puede tener cualquier signo posible, y la combinación de operadores de creación y de aniquilación tiene valor esperado 1 o 0.\\n\\nAsí pues se debe introducir el campo \\'\\'antipartícula\\'\\' de carga conjugada con sus propios operadores de creación y de aniquilación que satisfagan las siguientes relaciones:\\n\\n::\\'\\'\\'b<sub>k\\'</sub> {{esd}}={{esd}} a<sup>+</sup><sub>k</sub>\\'\\'\\' y \\'\\'\\'b<sup>+</sup><sub>k\\'</sub> {{esd}}={{esd}} a<sub>k</sub>\\'\\'\\'\\n\\ndonde \\'\\'\\'k\\'\\'\\'\\' tiene el mismo \\'\\'\\'p\\'\\'\\', σ y signo de la energía opuestos. Así podemos reescribir el campo en la forma:\\n\\n::\\'\\'\\'ψ(x) {{esd}}={{esd}} ∑<sub>k(+)</sub> u<sub>k</sub>(x) a<sub>k</sub> e<sup>-i E(k)t</sup> {{esd}}+{{esd}} ∑<sub>k(-)</sub> u<sub>k</sub>(x) b<sup>+</sup><sub>k</sub> e<sup>-i E(k)t</sup>,\\'\\'\\'\\n\\ndonde el primer sumatorio se realiza sobre los estados positivos de energía y el segundo sobre los de energía negativa. La energía entonces se transforma en\\n\\n::\\'\\'\\'H {{esd}}={{esd}} ∑<sub>k(+)</sub> E(k) a<sup>+</sup><sub>k</sub> a<sub>k</sub> {{esd}}+{{esd}} ∑<sub>k(-)</sub> |E(k)| b<sup>+</sup><sub>k</sub> b<sub>k</sub> {{esd}}+{{esd}} E<sub>0</sub>,\\'\\'\\'\\n\\ndonde \\'\\'\\'E<sub>0</sub>\\'\\'\\' es una constante infinita negativa. El [[estado vacío]] se define como el estado que no contiene ninguna partícula ni antipartícula, es decir, \\'\\'\\'a<sub>k</sub> |0> = 0\\'\\'\\' y \\'\\'\\'b<sub>k</sub> |0> = 0\\'\\'\\'. De esta forma la energía del vacío será exactamente \\'\\'\\'E<sub>0</sub>\\'\\'\\'. Como todas las energías se miden con respecto al vacío, \\'\\'\\'H\\'\\'\\' será definitivamente positiva. Un análisis de las propiedades de \\'\\'\\'a<sub>k</sub>\\'\\'\\' y de \\'\\'\\'b<sub>k</sub>\\'\\'\\' muestra que uno es el operador de aniquilación para las partículas y el otro para las antipartículas. Este es el caso de un [[fermión]].\\n\\nEsta aproximación se la debemos a [[Vladímir Fok]], [[Wendell Furry]] y [[Robert Oppenheimer]]. Si se cuantiza un [[campo escalar]] real, entonces se encuentra que solo hay una clase de operador de aniquilación, así pues los campos escalares describen a los [[bosón|bosones]] neutros. Como los campos escalares complejos admiten dos clases diferentes de operadores de aniquilación, que están relacionados por conjugación, esos campos describen [[bosón|bosones]] cargados.\\n\\n=== La interpretación de Feynman y Stueckelberg ===\\nConsiderando la propagación hacia atrás en el tiempo de la mitad del campo del electrón que tiene energías positivas, [[Richard Feynman]] mostró que se violaba la [[Causalidad (física)|causalidad]] a menos que se permitiera que algunas partículas viajaran más rápidas que la luz. Pero si las partículas pudieran viajar más rápido que la luz entonces, desde el punto de vista de otro [[observador inercial]] parecería como si estuviera viajando atrás en el tiempo y con carga opuesta.\\n\\nDe esta forma Feynman llegó a entender de forma gráfica el hecho de que la partícula y su antipartícula tuvieran la misma masa \\'\\'\\'m\\'\\'\\' y spin \\'\\'\\'J\\'\\'\\' pero cargas opuestas. Esto le permitió reescribir la [[teoría perturbacional|teoría de perturbaciones]] de forma precisa en forma de diagramas, llamados [[diagrama de Feynman|diagramas de Feynman]], con partículas viajando adelante y atrás en el tiempo. Esta técnica es ahora la más extendida para calcular amplitudes en la [[teoría cuántica de campos]].\\n\\nEste gráfico fue desarrollado de forma independiente por [[Ernest Stueckelberg]], y por eso se ha dado en llamar la \\'\\'\\'interpretación de Feynman y Stueckelberg\\'\\'\\' de las antipartículas.\\n\\n== Véase también ==\\n* [[Antimateria]]\\n* [[Teoría cuántica de campos]]\\n\\n== Referencias ==\\n{{listaref}}\\n\\n== Enlaces externos ==\\n{{wikcionario}}\\n\\n{{Control de autoridades}}\\n\\n[[Categoría:Antimateria]]'),\n",
              " Row(id=78, title='Año bisiesto', text='\\'\\'\\'Año bisiesto\\'\\'\\' es una expresión que deriva del [[latín]] \\'\\'bis sextus dies ante calendas martii\\'\\' (\"repetido el sexto [[día]] antes del primer [[día]] del mes de marzo\"), que correspondía a un [[día]] extra intercalado entre el [[23 de febrero|23]] y el [[24 de febrero]] por [[Julio César]].<ref name = \"Valdez, YVKE, 2020\" > {{ Cita web | url = http://www.radiomundial.com.ve/article/¿por-qué-se-agrega-un-día-en-el-año-bisiesto | título = ¿Por qué se agrega un día en el año bisiesto? | fechaacceso = 29 de febrero de 2020 | nombres = Magdalena | apellidos = Valdez | fecha = 29 de febrero de 2020 | sitioweb = [[YVKE Mundial Radio]] | cita = Fue Julio César quien aplicó una primera reforma al calendario al adoptar la funcionalidad de un sistema de año bisiesto para corregir el calendario cada cuatro años. Julio César empezó por decretar un Año de la Confusión de 445 días (en 46&nbsp;a.&nbsp;C.), con el cual corrigió los muchos años de discrepancia de un solo golpe. Luego, ordenó un año de 365.25 días que, simplemente, añadía un día bisiesto cada 1000 años. | formato = html | urlarchivo = https://web.archive.org/web/20200229194216/http://www.radiomundial.com.ve/article/%C2%BFpor-qu%C3%A9-se-agrega-un-d%C3%ADa-en-el-a%C3%B1o-bisiesto | fechaarchivo = 29 de febrero de 2020 }} </ref>\\n\\nEl 24 de febrero era el sexto día antes de las calendas (primer día del mes) de marzo. Los romanos no contaban los días del mes del 1 al 31, sino que tomaban tres fechas de referencia: calendas, nonas e \\'\\'idus\\'\\' (véase [[calendario romano]]). Para contar se incluía el día de referencia (en este caso, el [[1 de marzo]]).\\n\\nEn el [[calendario gregoriano]], que es el que se emplea en la actualidad, y que fue instaurado por el [[papa]] [[Gregorio XIII]] a partir de [[1582]], este día extra se situó al final del mes de febrero ([[29 de febrero]]).\\n\\n== Razón y definición del año bisiesto ==\\nSe añade para corregir el desfase que existe entre la duración del [[año trópico]]: 365 días 5 [[hora|h]] 48 [[minuto|min]] 45,10 [[segundo|s]] (365,242189 días) y el año calendario de 365 días. Esto requiere que cada cuatro años se corrija el año calendario por una acumulación no contabilizada de aproximadamente 1/4 de día por año que equivale a un día extra.\\n\\nEn el [[calendario juliano]] se consideraban bisiestos los años divisibles entre cuatro, resultando años de 365,25 días.<ref group=\"n.\">Se añade 1 día cada 4 años: 365 + 1/4 = 365,25 días.</ref> Esto supone un adelanto de unos 11,25 minutos por año respecto al año trópico. Puede no parecer mucho, pero solo en 500 años supondría un desfase de casi cuatro días. Se hacía necesario \\'\\'acortar\\'\\' el año, y así el [[calendario gregoriano]] establece:\\n{{Definición|Año bisiesto es el [[divisibilidad|divisible]] entre 4, \\'\\'\\'salvo que sea [[año secular]]\\'\\'\\' -último de cada [[siglo]], terminado en «00»-, en cuyo caso también ha de ser divisible entre 400.}}\\n\\nEs decir, se determinan dos grupos de años: los \\'\\'\\'no seculares\\'\\'\\' y los \\'\\'\\'seculares\\'\\'\\'. Los primeros han de ser múltiplos de 4, mientras que los segundos habrán de serlo de 400.<ref group=\"n.\">O lo que es lo mismo: el cociente de su división entre 100 ha de ser, a su vez, divisible entre 4.<br>Nótese que si bien todos los años seculares son múltiplos de 4, ahora se exige que lo sean igualmente sin sus dos ceros.</ref> De esta manera se eliminan como bisiestos a 3 de cada 4 años seculares. De esta forma, los años [[1800]] y [[1900]] pese a ser divisibles por 4, no lo son por 400, por lo que fueron años comunes. Por su parte, el año [[2000]] es divisible tanto por 4 como por 400, por lo tanto sí fue un año bisiesto.\\n\\nEl ciclo juliano de 4 años da paso a uno gregoriano de 400 en el que hay 97 bisiestos y 303 comunes,<ref group=\"n.\">Frente a los 100 bisiestos y 300 comunes del calendario juliano en el mismo periodo.</ref> resultando años de 365,2425 días.<ref group=\"n.\">A los 365,25 días se le restan 3 días de cada 400 años: 365,25 - 3/400 = 365,2425</ref> La diferencia con el año trópico queda ahora reducida a menos de medio minuto por año (26,9 segundos aproximadamente).<ref group=\"n.\">Apenas cuatro horas en 500 años.</ref><ref>{{cita web|título=¿Qué es un año bisiesto?|url=https://cnnespanol.cnn.com/2020/02/24/que-es-un-ano-bisiesto/|idioma=Español|fechaacceso=29 de febrero de 2020}}</ref>\\n\\n== Origen del año bisiesto ==\\n=== Calendario egipcio y romano ===\\nTranscurría el año [[49 a. C.|49&nbsp;a.&nbsp;C.]], cuando [[Julio César]] llegó a [[Egipto]]. Hasta entonces el calendario romano cargaba con siglos de desfases debido a su imprecisión. Entre otras cosas, Julio encontró un excelente calendario en las tierras de la faraona egipcia [[Cleopatra]]. Fue entonces cuando delegó a [[Sosígenes|Sosígenes de Alejandría]], astrónomo, matemático y filósofo, la tarea de diseñar un nuevo calendario a la altura y exactitud que el imperio necesitaba. Sosígenes entregó a César su calendario entre el [[48 a. C.|48]] y el [[46 a. C.|46&nbsp;a.&nbsp;C.]], basado principalmente en el calendario egipcio, pero conservando los nombres de los meses romanos. Este calendario poseía una duración de 365 días y un día adicional inicialmente cada cuatro años, para compensar un desfase natural producido por la revolución no sincrónica de la Tierra en torno al Sol.\\n\\nLa compensación de los desfases que tenía acumulados el calendario romano obligó a que el año 46&nbsp;a.&nbsp;C. se convirtiera en el año más largo de la historia, con 445 días de duración para compensar e iniciar nuevamente de cero. A este inusual año se le llamó \"año juliano\" o el \"año de la confusión\".\\n\\nYa los egipcios sabían que cada cuatro años la salida helíaca de la estrella [[Sothis]] (Sirius) se retrasaba un día, dando inicio al año nuevo. Sin embargo, doscientos años antes, en el concilio de Cánope, cuando pudieron hacer la reforma, los egipcios no la hicieron debido a pugnas entre las castas sacerdotales y la clase política.\\n\\nAproximadamente seis siglos antes, el rey [[Numa Pompilio]] había agregado los meses de januarius y februarius al ya maltratado año romano, y fue a este último, a februarius, al que se sumó el día adicional. Los romanos solían llamar calendas (o \\'\\'kalendas\\'\\') al primer día de cada mes y contaban hacia atrás los días que hacían falta. El día primero de marzo se llamaba \"calendas de marzo\" o \\'\\'kalendas martias\\'\\'. En el calendario gregoriano, utilizado actualmente, el [[28 de febrero]] sería el día anterior (el segundo día antes, con el cómputo inclusivo, a las calendas de marzo y el [[27 de febrero]] sería el tercer día antes de estas calendas (téngase en cuenta que hay que contar tanto las calendas como el propio día, pues los romanos y los judíos practicaban el cómputo inclusivo de los días) y así sucesivamente, de modo que el [[24 de febrero]] sería el sexto día antes de las calendas de marzo (\\'\\'ante diem sextum kalendas martias\\'\\'). La reforma de Julio César añadió un día tras el 24 de febrero el \\'\\'ante diem bis sextum kalendas martias\\'\\'. Con el tiempo continuó llamándose \\'\\'Bi-sextum\\'\\' o bisiesto, aunque se añadiera el día extra tras el último día de febrero.\\n\\nEste calendario fue oficial en Roma durante los siguientes siglos, incluso en el Concilio de Nicea se advirtió que había un error de Sosígenes, pero no hicieron nada por corregirlo, hasta [[1582]], cuando se adoptó el [[calendario gregoriano]].\\n\\n=== Reforma gregoriana ===\\n{{AP|Calendario gregoriano}}\\nNormalmente, en muchos problemas de Física, Matemática, Astronomía, etcétera, es necesario calcular determinada magnitud de tiempo en años. Sin embargo, en la mayoría de ocasiones en el [[enunciado]] se añade una anotación que indica que se considere 1 año de 365 días. Esto se debe a que los años bisiestos pueden alterar bastante el resultado, y es difícil operar teniéndolos en cuenta.\\n\\nUn caso en el que se aprecia claramente esto es que, aunque parezca que entre el año 549&nbsp;[[d.C.|d.&nbsp;C.]] y el año [[2009]] hayan pasado 1.460 años, en realidad han pasado 1.461, ya que, como cada 4 años hay un día más, cada 1.460 se acumulan 365, lo que incrementa el intervalo de tiempo en 1 año. Generalmente, si los años no bisiestos son 1.460, la medición teniendo en cuenta los años bisiestos sería la anterior +1. Si fuera el doble de 1.460 (2.920), +2, y así sucesivamente en todos los múltiplos de 1.460 (salvo naturalmente 0).\\n\\nNota: el papa [[Gregorio XIII]], asesorado por el astrónomo jesuita Christopher Clavius, el 24 de febrero de 1582 promulgó la bula [[Inter Gravissimas]], en la que establecía que tras el jueves 4 de octubre de 1582 seguiría el viernes 15 de octubre de 1582.\\n\\nCon la eliminación de estos diez días desaparecía el desfase con el año solar. Para que no volviera a ocurrir, en el nuevo calendario se eliminaron tres años bisiestos cada cuatro siglos. Con lo anterior, el 4 de octubre de 1582 fue el último día del calendario juliano y el 15 de octubre de 1582 constituyó el primer día del calendario gregoriano. Por tal razón no existieron las fechas del 5 al 14 de octubre de dicho año.\\n\\nSi se usan métodos actuales, el cálculo de fechas anteriores al 15 de octubre de 1582 siempre será erróneo, ya que se deben utilizar exclusivamente en retrospectiva hasta esta fecha y cambiar a cálculo de fechas julianas a partir del 4 de octubre de 1582, sin olvidar estos 10 días inexistentes.\\n\\n== Algoritmo computacional ==\\nUn año es \\'\\'\\'[[bisiesto]]\\'\\'\\' si cumple los siguientes criterios:\\n* Es bisiesto si es [[divisible]] entre 4.\\n* Pero no es bisiesto si es [[divisible]] entre 100. \\n* Pero sí es bisiesto si es [[divisible]] entre 400. (2000 y 2400 sí son bisiestos son divisibles entre 100 pero también entre 400. 1900, 2100, 2200 y 2300 no lo son porque solo son divisibles entre 100).\\n\\nDesde un enfoque [[algoritmo|algorítmico]], se consideran las proposiciones o enunciados lógicos siguientes:\\n* p: Es divisible entre 4\\n* q: Es divisible entre 100\\n* r: Es divisible entre 400\\nEntonces se utiliza la fórmula lógica <math>p \\\\land \\\\left(\\\\lnot q \\\\lor r \\\\right)</math> para establecer si un año dado es bisiesto: es bisiesto si es divisible entre cuatro y (no es divisible entre 100 o es divisible entre 400).\\n\\n== Calendarios ==\\n* [[Anexo:Año bisiesto comenzado en lunes|Año bisiesto comenzado en lunes]]\\n* [[Anexo:Año bisiesto comenzado en martes|Año bisiesto comenzado en martes]]\\n* [[Anexo:Año bisiesto comenzado en miércoles|Año bisiesto comenzado en miércoles]]\\n* [[Anexo:Año bisiesto comenzado en jueves|Año bisiesto comenzado en jueves]]\\n* [[Anexo:Año bisiesto comenzado en viernes|Año bisiesto comenzado en viernes]]\\n* [[Anexo:Año bisiesto comenzado en sábado|Año bisiesto comenzado en sábado]]\\n* [[Anexo:Año bisiesto comenzado en domingo|Año bisiesto comenzado en domingo]]\\n\\n== Véase también ==\\n* [[29 de febrero]]\\n* [[30 de febrero]]\\n\\n== Notas ==\\n{{listaref|group=n.}}\\n\\n== Referencias ==\\n{{Listaref}}\\n\\n=== Bibliografía ===\\n* {{ cita libro\\n\\t| páginas = 175-179\\n\\t| url = https://books.google.es/books?id=Ct9gAAAAcAAJ&pg=PA175#v=onepage&q&f=false\\n\\t| título = Nociones de cronología universal\\n\\t| nombre =  Eufemio \\n\\t| apellidos =  Mendoza\\n\\t| editorial = Sandoval\\n\\t| año =  1874 }}\\n\\n== Enlaces externos ==\\n* [https://web.archive.org/web/20061119175625/http://www.astrogea.org/foed/efemerides/bisiesto.htm Búsqueda de años bisiestos]\\n* [https://github.com/dambort/algos/wiki/A%C3%B1o-Bisiesto Algoritmo en C++ para determinar si un año es bisiesto ]\\n* [https://www.bbc.com/mundo/noticias-51678890 El 30 de febrero, el día que solo existió una vez en la historia]\\n\\n{{Control de autoridades}}\\n[[Categoría:Calendarios]]\\n[[Categoría:Años|Año bisiesto]]\\n[[Categoría:Fechas irregulares o ficticias]]'),\n",
              " Row(id=127, title='Avena', text='{{otros usos|Avena sativa|la avena común}}\\n{{Ficha de taxón\\n| name = \\'\\'Avena\\'\\'\\n| image = Avena-sativa.jpg\\n| image_width = 240px\\n| image_caption = \\'\\'Avena sativa\\'\\'\\n| regnum = [[Plantae]]\\n| divisio = [[Magnoliophyta]]\\n| classis = [[Liliopsida]]\\n| ordo = [[Poales]]\\n| familia = [[Poaceae]]\\n| subfamilia = [[Pooideae]]\\n| tribus = [[Aveneae]]\\n| genus = \\'\\'\\'\\'\\'Avena\\'\\'\\'\\'\\'\\n| genus_authority = [[L.]]\\n| subdivision_ranks = [[Especie]]s\\n| subdivision = <center>Ver texto</center>\\n| synonyms =\\n* \\'\\'Anelytrum\\'\\' [[Hack.]]\\n* \\'\\'Preissia\\'\\' [[Opiz]]<ref name = Poa/> \\n}}\\n\\n\\'\\'\\'\\'\\'Avena\\'\\'\\'\\'\\' es un [[género (biología)|género]] de [[Vegetal|planta]]s de la familia de las [[poácea]]s,<ref name = Poa>{{cita web|url= http://delta-intkey.com/grass/www/avena.htm |título=The grass genera of the world: descriptions, illustrations, identification, and information retrieval; including synonyms, morphology, anatomy, physiology, phytochemistry, cytology, classification, pathogens, world and local distribution, and references |fechaacceso=19 de agosto de 2009 |autor=Watson L, Dallwitz MJ. |fecha=2008 |obra=The Grass Genera of the World }}</ref> utilizada como [[alimento]] y como [[pasto (ganadería)|forraje]].\\n\\nSi bien en épocas tempranas la avena no tuvo la importancia del [[trigo]] o la [[cebada]], en [[Asia Central]] se cultivaba en buena cantidad, aunque se la consideraba una mala hierba. En búsquedas arqueológicas se encontraron pruebas del uso de la avena en [[Europa Central]] en la [[Edad de Bronce]]. También se hallaron granos de este cereal en excavaciones egipcias, aunque no se pudo probar que fuera cultivada.\\n\\nLa avena puede contener [[gluten]].<ref name=Biesiekierski2017 />\\n\\n== Descripción ==\\nEs una planta [[herbácea]] anual, perteneciente a la familia de las [[poaceae]]. Las especies más cultivadas son \\'\\'[[Avena sativa]]\\'\\' y \\'\\'[[Avena byzantina]]\\'\\', en ese orden.\\n\\nEs rica en [[proteína]]s de alto valor biológico, [[grasa]]s y un gran número de [[vitamina]]s y [[mineral]]es. Es el cereal con mayor proporción de [[grasa vegetal]], un 54&nbsp;% de grasas no saturadas y un 46&nbsp;% de [[ácido linoleico]]. También contiene [[Hidrato de carbono|hidratos de carbono]] de fácil absorción, además de [[calcio]], [[zinc]], [[cobre]], [[Fósforo (elemento)|fósforo]], [[hierro]], [[magnesio]], [[potasio]], [[sodio]]; vitaminas [[Vitamina B1|B1]], [[Vitamina B2|B2]], [[Vitamina B3|B3]], [[Vitamina B6|B6]] y [[Vitamina E|E]]. Además, contiene una buena cantidad de [[Fibra alimentaria|fibras]], que no son nutrientes pero contribuyen al buen funcionamiento [[Intestino|intestinal]]. La avena puede reducir los niveles de colesterol.<ref>{{Cita publicación|url=https://www.frontiersin.org/articles/10.3389/fnut.2019.00171/full|título=The Cholesterol-Lowering Effect of Oats and Oat Beta Glucan: Modes of Action and Potential Role of Bile Acids and the Microbiome|apellidos=Joyce|nombre=Susan A.|apellidos2=Kamil|nombre2=Alison|fecha=2019|publicación=Frontiers in Nutrition|volumen=6|fechaacceso=2021-02-09|idioma=inglés|issn=2296-861X|doi=10.3389/fnut.2019.00171|apellidos3=Fleige|nombre3=Lisa|apellidos4=Gahan|nombre4=Cormac G. M.}}</ref> \\n\\nEs una planta de [[Raíz (botánica)|raíces]] reticulares, potentes y más abundantes que en el resto de los [[cereal]]es. Su [[tallo]] es grueso y recto con poca resistencia al vuelco, su longitud puede variar de 50 cm a un metro y medio. Sus hojas son planas y alargadas, con un [[limbo foliar|limbo]] estrecho y largo de color verde oscuro. Sus flores se presentan en [[espiga]]s de dos o tres de ellas.\\n\\nEs una planta que tiene menor resistencia al frío que la cebada y el trigo. Se la siembra a principios de la [[primavera]], para ser cosechada a fines del [[verano]]. Es exigente en agua por su alto coeficiente de transpiración, aunque el exceso puede perjudicarla. Es muy sensible a la sequía, sobre todo en el período de formación del grano.\\n\\nDebido a que el sistema reticular de la avena es más profundo, puede aprovechar mejor los [[nutriente]]s del suelo, por lo que requiere de menor cantidad de [[fertilizante]]s para su desarrollo.\\n\\n=== Gluten ===\\nLa avena contiene proteínas similares a la [[gliadina]] del trigo, denominadas aveninas, que son capaces de provocar reacción en una parte de personas [[celiaquía|celíacas]].<ref name=Biesiekierski2017>{{cita publicación\\n|autor=Biesiekierski JR\\n|título=What is gluten?\\n|publicación=J Gastroenterol Hepatol\\n|año= 2017\\n|volumen= 32 Suppl 1\\n|páginas= 78–81\\n|pmid=28244676\\n|doi=10.1111/jgh.13703\\n|url= http://onlinelibrary.wiley.com/doi/10.1111/jgh.13703/full\\n|tipo= Revisión\\n|cita= Similar proteins to the gliadin found in wheat exist as secalin in rye, hordein in barley, and avenins in oats and are collectively referred to as “gluten.” Derivatives of these grains such as triticale and malt and other ancient wheat varieties such as spelt and kamut also contain gluten. The gluten found in all of these grains has been identified as the component capable of triggering the immune-mediated disorder, coeliac disease. \\'\\'(Existen proteínas similares a la gliadina que se encuentra en el trigo, como las secalinas en el centeno, las hordeínas en la cebada y las aveninas en la avena, y se denominan colectivamente “gluten.” Derivados de estos granos, tales como el triticale y la malta, y otras variedades de trigo antiguas, tales como la espelta y el kamut, también contienen gluten. El gluten encontrado en todos estos granos ha sido identificado como el componente capaz de desencadenar el trastorno mediado por el sistema inmunitario, la enfermedad celíaca)\\'\\'}}</ref> A esto se suma que la avena frecuentemente está contaminada con otros cereales con gluten.<ref name=PenaginiDilillo2013 />\\n\\n«Avena pura» se refiere a avena sin contaminar con otros cereales con gluten.<ref name=CominoMoreno2015 /> Tradicionalmente se consideraba que el único problema con la avena era la contaminación con otros cereales con gluten, por lo que en muchos países está permitido desde hace tiempo el uso de «avena pura» en alimentos «sin gluten». \\n\\nEstudios actuales demuestran que las distintas variedades de avena pura tienen distintos grados de toxicidad.<ref name=PenaginiDilillo2013>{{cita publicación\\n|autor= Penagini F, Dilillo D, Meneghin F, Mameli C, Fabiano V, Zuccotti GV\\n|título= Gluten-free diet in children: an approach to a nutritionally adequate and balanced diet\\n|publicación= Nutrients\\n|volumen= 5\\n|número= 11\\n|página= 4553-65\\n|año= 18 Nov 18 2013\\n|pmid= 24253052\\n|pmc= 3847748\\n|doi= 10.3390/nu5114553}}</ref><ref name=CominoMoreno2015>{{cita publicación\\n|autores = Comino I, Moreno Mde L, Sousa C\\n|título = Role of oats in celiac disease\\n|publicación = World J Gastroenterol \\n|volumen = 21\\n|número= 41\\n|páginas= 11825–31\\n|año= 7 Nov 2015\\n|pmid = 26557006\\n|pmc= 4631980\\n|doi = 10.3748/wjg.v21.i41.11825\\n|cita= It is necessary to consider that oats include many varieties, containing various amino acid sequences and showing different immunoreactivities associated with toxic prolamins. As a result, several studies have shown that the immunogenicity of oats varies depending on the cultivar consumed. Thus, it is essential to thoroughly study the variety of oats used in a food ingredient before including it in a gluten-free diet.}}</ref> Algunas parecen tener en teoría una baja toxicidad y algunos expertos opinan que podrían ser incluidas en la [[dieta sin gluten]], pero sería imprescindible especificar exactamente la variedad empleada.<ref name=CominoMoreno2015 />\\n\\nNo se conoce el efecto a largo plazo en los celíacos del consumo de avena pura, por lo que aún no se pueden hacer recomendaciones firmes sobre si es o no posible la inclusión de «avena pura» en la dieta sin gluten.<ref name=DeSouzaDeschenes2016>{{cita publicación\\n|autores=de Souza MC, Deschênes ME, Laurencelle S, Godet P, Roy CC, Djilali-Saiah I\\n|título=Pure Oats as Part of the Canadian Gluten-Free Diet in Celiac Disease: The Need to Revisit the Issue.\\n|publicación=Can J Gastroenterol Hepatol\\n|año= 2016\\n|volumen= 2016\\n|página= 1576360\\n|pmid=27446824\\n|pmc=4904650\\n|doi=10.1155/2016/1576360\\n|tipo= Revisión }}</ref><ref name=HaboubiTaylor2006>{{cita publicación\\n|autores=Haboubi NY, Taylor S, Jones S\\n|título=Coeliac disease and oats: a systematic review\\n|publicación=Postgrad Med J\\n|volumen=82\\n|número=972\\n|páginas=672–8\\n|fecha=octubre de 2006\\n|pmid=17068278\\n|pmc=2653911\\n|doi=10.1136/pgmj.2006.045443\\n|tipo= Revisión sistemática}}</ref>\\n\\n== Producción ==\\nSegún los datos más recientes de la FAO (correspondientes a 2012) en cuanto a producción de cereales, la avena es el séptimo cereal más cosechado a nivel mundial con 21&nbsp;062&nbsp;972 toneladas y el quinto a nivel de España con 681&nbsp;200 toneladas.\\n\\nSegún esos mismos datos, los cinco mayores productores de avena a nivel mundial son: Rusia (4 millones de toneladas), Canadá (2,7 millones de toneladas), Polonia (1,5 millones de toneladas), Australia (1,3 millones de toneladas) y Finlandia (1,1 millones de toneladas). España tiene 749&nbsp;700 en 2011 y está en el puesto 10.\\n\\n== Usos ==\\nEste cereal se utiliza principalmente para la alimentación del [[ganado]], como [[pasto (ganadería)|planta forrajera]] y en menor cantidad para alimentación humana, aunque no es muy utilizada por estos, a pesar de sus propiedades energizantes. También es utilizada en la alimentación humana, principalmente en forma de [[Copos de avena|copos]].{{cr}}\\n\\n== Bebida de avena ==\\n{{Artículo principal|Bebida de avena}}\\nEs un producto que se obtiene a partir de triturar los granos o copos de avena junto con agua. Se le suelen añadir otros ingredientes para endulzarla y hacer más gratificante su sabor.\\n\\nEl agua de avena es una de las bebidas más conocidas y utilizadas que se preparan con este cereal. También se prepara en licuados en combinación con frutas o se puede preparar como [[leche vegetal|leche de avena]].\\n\\n== Taxonomía ==\\nEl género fue descrito por [[Carlos Linneo]] y publicado en \\'\\'[[Species Plantarum]]\\'\\' 1: 79–81. 1753.<ref name=\"Trop\">{{cita web|url=http://www.tropicos.org/Name/40023225|título=\\'\\'Avena\\'\\'|fechaacceso=14 de febrero de 2013|autor=|enlaceautor=|fecha=|idioma=|formato=|sitioweb=|editorial=|obra=Tropicos.org. [[Missouri Botanical Garden]]}}</ref> La [[especie tipo]] es: \\'\\'[[Avena fatua]]\\'\\'.\\n;Etimología\\n\\'\\'\\'\\'\\'Avena\\'\\'\\'\\'\\': nombre genérico que deriva del [[idioma latín|latín]] \\'\\'avena\\'\\', \"alimentación\", y el nombre de la avena, \\'\\'[[Avena sativa]]\\'\\'.<ref name = Poa/>\\n\\n== Especies ==\\n\\n{|\\n|-valing=top\\n|\\n* \\'\\'[[Avena abyssinica]]\\'\\'\\n* \\'\\'[[Avena barbata]]\\'\\'\\n* \\'\\'[[Avena brevis]]\\'\\'\\n* \\'\\'[[Avena fatua]]\\'\\'\\n|\\n* \\'\\'[[Avena maroccana]]\\'\\'\\n* \\'\\'[[Avena nuda]]\\'\\'\\n* \\'\\'[[Avena occidentalis]]\\'\\'\\n* \\'\\'[[Avena pubescens]]\\'\\'\\n|\\n* \\'\\'[[Avena pratensis]]\\'\\'\\n* \\'\\'[[Avena sativa]]\\'\\'\\n* \\'\\'[[Avena sterilis]]\\'\\'\\n* \\'\\'[[Avena strigosa]]\\'\\' <small>Schreb.</small> - Afreita<ref>Colmeiro, Miguel: «Diccionario de los diversos nombres vulgares de muchas plantas usuales ó notables del antiguo y nuevo mundo», Madrid, 1871.</ref>\\n|}\\n\\n==Véase también==\\n* [[Grano integral]]\\n* [[Copos de avena]]\\n* [[Forraje]]\\n\\n== Referencias ==\\n{{listaref|2}}\\n\\n== Enlaces externos ==\\n\\n{{wikcionario|avena}}\\n* [https://web.archive.org/web/20160305012653/http://www7.uc.cl/sw_educ/cultivos/cereales/avena.htm Etapas de crecimiento de la avena] Pontificia Universidad Católica de Chile\\n* [https://www.youtube.com/watch?v=uW9VZqVv1aA&index=2&list=PL2A8aXe704V51qt1xBiH9sZ-AZaGAppK4 Vídeo: ¿Cómo hacer avena sin gluten en casa? Grupo de Trabajo sobre Enfermedad Celíaca]. Entrevista al Dr. [[Luis Rodrigo Sáez]].\\n* [https://www.fen.org.es/storage/app/media/PUBLICACIONES%202017/INFORME%20AVENA_FEN_v2_2017__AvenaFEN2017_ok%201.pdf Documento de la Fundación Española de la Nutrición]\\n\\n{{control de autoridades}}\\n[[Categoría:Cereales]]\\n[[Categoría:Avena| ]]'),\n",
              " Row(id=160, title='Alfabeto', text=\"{{distinguir|analfabeto|alfabetización}} \\n[[Archivo:Phönizisch-5Sprachen.svg|thumb|El [[alfabeto fenicio]] (centro) dio lugar los alfabetos [[alfabeto griego|griego]] y [[alfabeto latino|latino]] (izquierda) y a los alfabetos [[alfabeto arameo|arameo]]/[[alfabeto hebreo|hebreo]] y [[alfabeto árabe|árabe]] (derecha).]] \\n[[Archivo:EtruscanA-01.svg|derecha|thumb|200px|Letra A en el [[alfabeto etrusco]].]]\\n[[Archivo:Gothic letter ahsa.svg|derecha|thumb|200px|Letra ahsa en [[Idioma gótico|gótico]].]]\\nEl '''alfabeto''' o '''abecedario''' de una lengua o [[idioma]] es el conjunto ordenado de sus [[letra]]s. Es también la agrupación que se lee con un orden determinado de las [[grafía]]s utilizadas para representar el lenguaje que sirve de sistema de comunicación.\\n\\nEl término ''alfabeto'' procede del [[Griego antiguo|griego]] ἀλφάβετον (''alfábeton''), derivado de las dos primeras letras [[alfabeto griego|griegas]] ἄλφα (''alfa'', α) y βῆτα (''beta'', β), derivadas a su vez de las letras [[idioma fenicio|fenicias]] [[ʾalp]] y [[bēt]], que significaban ‘buey’ y ‘casa’ respectivamente. El [[alfabeto griego]] es una adaptación del [[alfabeto fenicio]], que también dio lugar entre otros al [[alfabeto hebreo|hebreo]] y al [[alfabeto árabe|árabe]]. Por su parte, el término «abecedario» proviene del [[latín tardío]] ''abecedārium'', también derivado del nombre de las primeras letras, en este caso cuatro: ''a'' (a), ''b'' (be), ''c'' (ce) y ''d'' (de).\\n\\nAlgunas letras pueden recibir uno o varios [[Signo diacrítico|signos diacríticos]] con el fin de diferenciar los sonidos de la lengua o poder evitar las ambigüedades. De la misma forma, el alfabeto puede ser entendido por el uso de letras suplementarias. Las evoluciones fonéticas de una lengua se crean a un ritmo diferente de la evolución escrita. La escritura alfabética no garantiza una correspondencia unívoca entre los [[fonema]]s y los [[grafema]]s.\\n\\nEn otros ámbitos ([[matemáticas]], y otros [[sistema formal|sistemas formales]], por ejemplo), un '''alfabeto''' es un [[conjunto finito]] y [[conjunto ordenado|ordenado]] de símbolos a partir del cual se construyen [[palabra (matemáticas)|palabras]] y [[fórmula bien formada|fórmulas bien formadas]]. En [[arqueología]], un [[Abecedario (arqueología)|abecedario]] es una epigrafía antigua que contiene las letras de un alfabeto.\\n\\n== Alfabeto semita==\\n\\nEn el templo de Serabit el-Khadim, en la costa oeste de la península de Sinaí, [[Flinders Petrie]] halló en 1904-1905 una estatua [[votiva]] dirigida a Hathor, una [[Esfinge de Serabit el-Jadim|esfinge de piedra arenisca]] con unas inscripciones en dos escrituras: [[jeroglífico egipcio|jeroglífica egipcia]] y protosinaítica. El célebre lingüista inglés [[Alan Gardiner]] descifró las dos inscripciones, como si de una «[[piedra de Rosetta]]» se tratase, sugiriendo que los signos protosinaíticos representan objetos, con nombres en semítico que se correspondían con las letras del [[alfabeto fenicio]], derivados de los signos hieráticos o jeroglíficos.<ref>{{cita web|url=http://www.codex99.com/typography/11.html|nombre=|apellidos= |título= The Serabit el-Khadim Sphinx|editor=|año=|página=|idioma= inglés|fechaacceso=4 de noviembre de 2015}}</ref>\\n\\nSe trataba de una simplificación del [[Jeroglíficos egipcios|sistema jeroglífico]] (unos 23 signos, de los que al menos la mitad son claramente egipcios). Gardiner estudió la derivación de los signos fenicios a partir de los pictogramas sinaíticos. No podría decirse que se trata de un alfabeto en sentido estricto, sino más bien de un silabario (consonante + vocal); pero hay que darle el protagonismo que merece como origen o precedente de alfabetos más evolucionados en los que cada letra representa un sonido.\\n\\nAl parecer los primeros en escribir las consonantes aisladas fueron los pueblos [[semítico]]s occidentales de las orillas del [[mar Rojo]] y del [[Mar Mediterráneo|Mediterráneo]], [[hebreos]] y [[Fenicia|fenicios]]. La cadena secuencial sería: [[Signo lingüístico|signo]]-[[palabra]]; los signos-sonidos consonánticos mezclados a los signos-palabras (Egipto); los signos-sonidos silábicos mezclados con signos palabras ([[sumerio]]-[[acadio]]); signos-sonidos que representan sílabas de tipo constante (tipo [[Civilización egea|egeo]]). Alfabeto silábico usado también por los [[tartessos]] en el sur de la [[península ibérica]] y que supone el primer alfabeto de toda la [[Europa occidental]]. Aún hoy, a pesar de tantas muestras escritas como existen en [[Andalucía]] y el sur de [[Portugal]], esa lengua está por descifrarse o traducirse.\\n\\n== Alfabeto fenicio ==\\nEl [[alfabeto fenicio]] supone una creación. Es al final de esa cadena donde se nota una progresiva prioridad del análisis sobre la síntesis. De la [[pictografía]], que es una representación global, se pasa a signos que descomponen el discurso en sus partes constitutivas. Las formas más antiguas de la escritura fenicia se han encontrado en las inscripciones arcaicas de [[Biblos]], cuyo origen se remonta a los [[siglo XIII a. C.|siglos XIII]] y [[siglo XI a. C.|XI&nbsp;a.&nbsp;C.]] El fenicio arcaico comprendía 22 letras, únicamente consonantes, y está libre ya de [[Ideografía|elementos ideográficos]], de [[determinativo]]s y de toda huella de [[silabismo]].\\n\\n== Otros alfabetos ==\\nEl alfabeto paleo-hebraico proviene del fenicio, del que se fue alejando progresivamente. Otras ramas son: el [[alfabeto samaritano|samaritano]], el [[moabita]], el [[Idioma púnico|púnico]] y el [[Idioma arameo|arameo]] (del que han derivado los alfabetos árabes, a través del [[alfabeto nabateo|nabateo]], los hebraicos, los [[sirio]]s, los [[uraloaltaico]]s, etc.) El [[alfabeto árabe]] ha servido para lenguas como el [[Idioma persa|persa]], el [[Idioma turco|turco]], el [[Lenguas bereberes|bereber]], el [[Idioma malgache|malgache]], etc. En cuanto a los alfabetos [[sursemítico]]s ([[surarábigo]] y [[nortearábigo]]) parecen provenir, con reservas, del [[Idioma fenicio|fenicio]]. El alfabeto [[pehlvi]] y el [[avéstico]] son derivaciones del arameo. El origen del [[alfabeto libio]] está en discusión: fenicio, árabe, etc. El [[brahmi]] y el [[kharosthi]], según la tesis clásica, derivan del fenicio, con la particularidad del cambio de dirección de la escritura y la notación de consonantes y vocales.\\n\\n== Historia de los alfabetos occidentales ==\\n{{AP|Historia del alfabeto}}\\n\\nLos principales alfabetos occidentales han tenido su origen en el alfabeto semítico septentrional o [[cananeo]], datado hace más de 3500 años, entre el [[1700 a. C.|1700]] y el [[1500 a. C.|1500&nbsp;a.&nbsp;C.]], en el [[Próximo Oriente]].\\n\\nEl precedente del alfabeto occidental se ideó en las regiones orientales de la costa mediterránea y se encargaron de divulgarlo los mercaderes [[Fenicia|fenicios]]. Probablemente los griegos conocieron este sistema de escritura en la ciudad Gibl (en el [[Líbano]] de hoy), un importante centro cultural y de comercio que llamaron [[Biblos]]; lo adoptaron en [[Grecia]], aunque transformaron algunas consonantes y semiconsonantes en vocales. También variaron la dirección de algunas letras y generalizaron el escribir de izquierda a derecha. Se suele fechar hacia el [[900 a. C.|900&nbsp;a.&nbsp;C.]]\\n\\nEl alfabeto griego adoptó el fenicio y modificó el valor de ciertos sonidos consonánticos y designó las vocales. Del griego proceden el [[alfabeto gótico]], [[alfabeto copto|copto]], [[alfabeto armenio|armenio]], [[alfabeto georgiano|georgiano]], [[alfabeto albanés|albanés]], eslavo ([[alfabeto glagolítico|glagolítico]] y [[alfabeto cirílico|cirílico]]) y [[alfabeto etrusco|etrusco]]. \\n\\nEl [[alfabeto latino]] es uno de los alfabetos locales que los etruscos tomaron del griego. Se diferencia de este no solo en la forma de las letras, sino también en su empleo. En el [[siglo I]] de nuestra era estaba constituido por 23 letras. Con la expansión de la [[civilización grecolatina]] y del [[cristianismo]], el alfabeto latino terminó por conquistar toda Europa: [[celta]]s, [[Pueblos eslavos|eslavos]], [[Pueblos germánicos|germanos]], [[escandinavo]]s, etc. escriben con las letras latinas. Este alfabeto, adaptado por los romanos con las variantes propias, se difundió por todo el [[Mar Mediterráneo|Mediterráneo]], y posteriormente a todo [[Occidente]]. \\n\\nLos alfabetos ibéricos parecen haberse derivado del fenicio y griego. \\n\\nEl alfabeto de los pueblos germánicos, llamado ''[[futhark]]'' (las [[runa]]s y los [[ogham]]s) por el nombre de sus seis primeras letras, se redujo de 26 signos a 16. La teoría más firme es la que le da un origen [[etrusco]].\\n\\n== Orden alfabético: pasado y presente ==\\nAunque hay muchas similitudes entre los alfabetos de distintos idiomas, se observan también diferencias peculiares en cada uno.\\n\\nNo siempre está claro qué es lo que constituye un alfabeto específico, único. El [[idioma francés|francés]] utiliza básicamente el mismo alfabeto que el [[idioma inglés|inglés]], pero muchas de las letras usan marcas adicionales, como la «é», la «à» y la «ô». En francés, estas combinaciones no se consideran letras adicionales. Sin embargo, en [[idioma islandés|islandés]] letras acentuadas tales como la «á», la «í» y la «ö» se consideran letras distintas del alfabeto. En el [[idioma español|español]], la «ñ» es una letra distinta, pero vocales acentuadas como la «á» y la «é» no lo son. El alfabeto español consta de 27 letras. Asimismo, se emplean también cinco [[dígrafo]]s para representar otros tantos fonemas: «[[ch]]», «[[ll]]», «[[rr]]», «[[g|gu]]» y «[[q|qu]]», considerados estos dos últimos como variantes posicionales para los fonemas /g/ y /k/.<ref>{{cita OLE|p=64}}{{cita|5.4.1.1 '''Letras y dígrafos: el estatus de ch y ll'''\\n\\n:Como ya se ha explicado (v. § 5.2), solo son propiamente letras los grafemas, esto es, los signos gráficos simples. Por esta razón, no deben formar parte del abecedario las secuencias de grafemas que se emplean para representar ciertos fonemas.\\n\\n:En español, además de las veintisiete letras arriba indicadas, existen cinco dígrafos o combinaciones de dos letras, que se emplean para representar gráficamente los siguientes fonemas:\\n\\n:a) El dígrafo ''ch'' representa el fonema /ch/: ''chapa'', ''abochornar''.\\n\\n:b) El dígrafo ''ll'' representa el fonema /ll/ (o el fonema /y/ en hablantes yeístas): ''lluvia'', ''rollo''.\\n\\n:c) El dígrafo ''gu'' representa el fonema /g/ ante e, i: ''pliegue'', ''guiño''.\\n\\n:d) El dígrafo ''qu'' representa el fonema /k/ ante e, i: ''queso'', ''esquina''.\\n\\n:e) El dígrafo ''rr'' representa el fonema /rr/ en posición intervocálica: ''arroz'', ''tierra''.}}\\n</ref> Los [[dígrafo]]s ''[[ch]]'' y ''[[ll]]'' tienen valores [[fonética|fonéticos]] específicos, por lo que en la edición de [[1754]] de la ''Ortografía de la lengua española''<ref>{{cita OLE|pp=64-65|cita=Desde la segunda edición de la ortografía académica, publicada en 1754, venían considerándose letras del abecedario español los dígrafos ''ch'' y ''ll'' (con los nombres respectivos de ''che'' y ''elle''), seguramente porque cada uno de ellos se usaba para representar de forma exclusiva y unívoca un fonema del español (antes que la extensión del yeísmo alcanzara los niveles actuales y diera lugar a que hoy el dígrafo ''ll'' represente dos fonemas distintos, según que el hablante sea o no yeísta). Es cierto que se diferenciaban en esto de los demás dígrafos, que nunca han representado en exclusiva sus respectivos fonemas: el fonema /g/ lo representa también la letra ''g'' ante ''a'', ''o'', ''u'' (''gato'', ''goma'', ''gula''); el fonema /k/ se escribe además con ''c'' ante ''a'', ''o'', ''u'' y con ''k'' (''cama'', ''cola'', ''cuento'', ''kilo'', ''Irak''); y el fonema /rr/ se representa con ''r'' en posición inicial de palabra o detrás de consonante con la que no forma sílaba (''rama'', ''alrededor'', ''enredo'').<br><br>Sin embargo, este argumento no es válido desde la moderna consideración de las letras o grafemas como las unidades mínimas distintivas del sistema gráfico, con independencia de que representen o no por sí solas una unidad del sistema fonológico. Por lo tanto, a partir de este momento, los dígrafos ''ch'' y ''ll'' dejan de ser considerados letras del abecedario español, lo cual no significa, naturalmente, que desaparezcan de su sistema gráfico; es decir, estas combinaciones seguirán utilizándose como hasta ahora en la escritura de las palabras españolas. El cambio consiste, simplemente, en reducir el alfabeto a sus componentes básicos, ya que los dígrafos no son sino combinaciones de dos letras, ya incluidas de manera individual en el inventario. Con ello, el español se asimila al resto de las lenguas de escritura alfabética, en las que solo se consideran letras del abecedario los signos simples, aunque en todas ellas existen combinaciones de grafemas para representar algunos de sus fonemas.\\n}}\\n</ref> comenzó a considerárseles como letras del alfabeto español, y a partir de la publicación de la cuarta edición del ''[[Diccionario de la lengua española]]'', en [[1803]],<ref>[http://lema.rae.es/drae/?val=ch Ch], en el ''[[Diccionario de la lengua española]]'' de la [[Real Academia Española]]</ref><ref>[http://buscon.rae.es/draeI/SrvltConsulta?TIPO_BUS=3&LEMA=ll Ll], en el ''[[Diccionario de la lengua española]]'' de la [[Real Academia Española]]</ref> se ordenaron separadamente de ''c'' y ''l'',<ref>{{cita OLE|p=65|cita=\\nDebido a su anterior consideración de letras del abecedario, los dígrafos ''ch'' y ''ll'' tuvieron un apartado propio en el diccionario académico desde su cuarta edición (1803) hasta la vigesimoprimera (1992), de modo que las palabras que comenzaban por esos dígrafos o los contenían se ordenaban alfabéticamente aparte, es decir, después de completarse la serie de palabras con ''c'' y ''l''. En el X Congreso de la Asociación de Academias de la Lengua Española, celebrado en Madrid en 1994, sin dejar de considerar aún los dígrafos ''ch'' y ''ll'' como letras del abecedario, se acordó no tenerlos en cuenta como signos independientes a la hora de ordenar alfabéticamente las palabras del diccionario. Así, en la vigesimosegunda edición del ''DRAE'' (2001), primera publicada con posterioridad a dicho congreso, las palabras que incluían esos dígrafos ya se alfabetizaron en el lugar que les correspondía dentro de la ''c'' y de la ''l'', respectivamente.\\n}}\\n</ref> y fue durante el X Congreso de la [[Asociación de Academias de la Lengua Española]], celebrado en Madrid en 1994, y por recomendación de varios organismos, que se acordó reordenar los dígrafos ''ch'' y ''ll'' en el lugar que el alfabeto latino universal les asigna, aunque todavía seguían formando parte del abecedario.<ref>[[dpd:abecedario#2|Diccionario panhispánico de dudas]], Santillana Ediciones Generales, ISBN 958-704-368-5, pág. 5-6</ref> Con la publicación de la ''Ortografía de la lengua española'' de 2010, ambas dejaron de considerarse letras del abecedario.<ref>{{cita web|url=http://www.rae.es/consultas/exclusion-de-ch-y-ll-del-abecedario|título=Exclusión de los dígrafos ''ch'' y ''ll'' del abecedario|año=2010|editor=Real Academia Española|fechaacceso = 30 de noviembre de 2014}}</ref>\\n\\nEn [[idioma alemán|alemán]], las palabras que comienzan con «sch-» (que constituyen el fonema alemán «ʃ») se intercalaron entre las palabras que empiezan con «sca-» y las palabras que empiezan con «sci-» (todas ellas, casualmente, palabras tomadas como préstamo de otros idiomas), en vez de que este grupo gráfico apareciera después de la letra «s», como si fuera una sola letra – una decisión [[lexicografía|lexicográfica]] que resulta obligatoria en un diccionario de [[idioma albanés|albanés]], donde «dh-», «gj-», «ll-», «rr-», «th-», «xh-» y «zh-» (todos los cuales representan fonemas y se consideran letras por separado) aparecen después de las letras «d», «g», «l», «n», «r», «t», «x» y «z», respectivamente. Asimismo, en un diccionario de inglés las palabras que inician con «th-» tampoco tienen un lugar especial después de la letra «t», sino que quedan incluidas dentro de esta, entre «te-» y «ti-». Las palabras alemanas con [[diéresis]] se ordenan alfabéticamente como si no hubiera diéresis alguna – contrario a lo que ocurre con el [[alfabeto turco]], que supuestamente adoptó los [[grafema]]s «ö» y «ü» alemanes, y donde una palabra como «tüfek» (‘arma’), aparece en el diccionario después de «tuz» (‘sal’).\\n\\nLos alfabetos [[idioma danés|danés]] y [[idioma noruego|noruego]] terminan con «æ» – «ø» – «å», mientras que los alfabetos [[idioma sueco|sueco]], [[idioma finlandés|finlandés]] y [[idioma estonio|estonio]] colocan, convencionalmente, las letras «å», «ä», y «ö» al final.\\n\\nAlgunas adaptaciones del alfabeto latino se ven incrementadas con el uso de [[ligadura (tipografía)|ligaduras]] como, por ejemplo, «[[æ]]» en el [[inglés antiguo]] y en el islandés y la «[[Ou (letra)|Ȣ]]» en el [[algonquín]]; a través de préstamos de otros alfabetos como, por ejemplo, la [[þ|letra thorn]] del inglés antiguo y del islandés, que provenían de las [[alfabeto rúnico|runas futhark]], y a través de la modificación de letras existentes, como la [[Ð|eth]] («ð» minúscula) del inglés antiguo y del islandés, que es una modificación de la «d». Otros alfabetos utilizan únicamente un subconjunto del alfabeto latino, como por ejemplo el [[idioma hawaiano|hawaiano]] y el [[idioma italiano|italiano]], que usa las letras «j», «k», «x» «y» y «w» únicamente en las palabras de origen extranjero.\\n\\nNo se sabe si los primeros alfabetos tenían un orden definido. Algunos alfabetos actuales, como por ejemplo la [[escritura Hanuno'o]] de algunas poblaciones originales de las [[Filipinas]], en la cual se enseña una letra a la vez, sin ningún orden en particular, y no se usan para el ordenamiento alfabético. Sin embargo, varias tablillas [[alfabeto ugarítico|ugaríticas]] del [[siglo XIV a. C.|siglo XIV&nbsp;a.&nbsp;C.]] preservan el alfabeto en dos secuencias. Una de ellas, el orden «ABCDE», utilizado más adelante por los [[fenicios]], se sigue utilizando hoy en día, con cambios menores, en los alfabetos [[alfabeto hebreo|hebreo]], [[alfabeto griego|griego]], [[alfabeto armenio|armenio]], [[alfabeto gótico|gótico]], [[alfabeto cirílico|cirílico]] y [[alfabeto latino|latino]]; la otra, «HMĦLQ», se utilizaba en el sur de [[Arabia]] y actualmente se sigue usando en el [[alfabeto Ge'ez]] (véase también [[alfabeto etíope]]).<ref>Millard, A. R. The Infancy of the Alphabet, ''World Archaeology'', ''17''(3), Early Writing Systems (February 1986): 390–398. Véase p. 395.</ref> Ambos tipos de [[orden alfabético]] se han mantenido más o menos estables, por consiguiente, por lo menos durante los últimos tres mil años.\\n\\nEste ordenamiento histórico ya no persistió en el caso del [[alfabeto rúnico]], ni tampoco en el del [[alfabeto arábigo]], aunque este último sigue usando el llamado «[[orden abjadí]]» para la numeración.\\n\\nLa [[escrituras brahámicas|familia brahámica]] de alfabetos que se usa en la [[India]] aplica un orden único que se basa en la [[fonología]]: las letras se ordenan en función de cómo y dónde se generan en la boca. Esta organización se utiliza en el sureste de Asia, en el [[Tíbet]], en el [[hangul]] [[corea]]no, e incluso en el [[kana]] de [[Japón]], que no es un alfabeto.\\n\\nLos nombres de las letras fenicias, cada una de ellas asociada con una palabra que inicia con ese sonido, siguen usándose en los alfabetos [[alfabeto samaritano|samaritano]], [[alfabeto arameo|arameo]], [[alfabeto sirio|sirio]], hebreo y griego. Sin embargo, dejaron de usarse en el [[alfabeto árabe]], en el [[alfabeto cirílico|cirílico]] y en el [[alfabeto latino|latino]].\\n\\n== Alfabetos especiales ==\\n* [[Alfabeto Braille]]\\n* [[Alfabeto Morse]]\\n* [[Alfabeto por palabras]]\\n* [[hangul]] coreano\\n* [[silbo gomero]] (no exactamente alfabeto, sino interpretación del alfabeto en los silbos)\\n* [[lenguaje de signos]]\\n\\n== Véase también ==\\n* [[Abyad]]\\n* [[Abúgida]]\\n* [[Escritura (lingüística)|Escritura]]\\n* [[Grafema]]\\n* [[Historia de la escritura]]\\n* [[Historia del alfabeto]]\\n* [[Sistema de escritura]]\\n* [[Wikipedia:Alfabetos y escrituras del mundo]]\\n* [[Silabario (sistema de escritura)|Silabario]]\\n{{Portal|Educación}}\\n\\n== Referencias ==\\n{{enciclopedia GER}}\\n{{listaref}}\\n\\n== Bibliografía ==\\n* Diringer, D. (1937). ''L'alfabeto nella storia della tita''. Florencia. \\n* Moorhoiise, A. G. (1965). ''Historia del alfabeto'', 2a. ed. México. \\n* Février, I. G. (1959). ''Histoire de l'écriture''. París.\\n* Aguirre, M. (1961). ''La escritura en el mundo''. Madrid.\\n\\n== Enlaces externos ==\\n{{Wikcionario|alfabeto}}\\n* [http://www.proel.org/index.php?pagina=alfabetos Alfabetos de ayer y de hoy]\\n* [http://www.proel.org/img/alfabetos/alfabet.gif Tabla: egipcio-fenicio-romano]\\n* [https://web.archive.org/web/20110713051213/http://www.rodurago.net/en/index.php?site=alphabet Lista de los distintos alfabetos con transliteración] {{en}}\\n* [http://www.virtual-egypt.com/newhtml/articles/Discovery%20of%20Egyptian%20Inscriptions%20Indicates%20an%20Earlier%20Date%20for%20Origin%20of%20the%20Alphabet.htm El descubrimiento de inscripciones egipcias sugiere épocas más tempranas del surgimiento del alfabeto]\\n* [https://web.archive.org/web/20110727065635/http://www.sarasuati.com/evolucion-del-alfabeto-desde-las-figuras-egipcias-hasta-las-latinas/ La evolución del alfabeto desde las figuras Egipcias hasta las latinas]\\n* [https://web.archive.org/web/20140115125312/https://skydrive.live.com/?cid=e39b50d7d9ea3235&id=E39B50D7D9EA3235%21105#!/view.aspx?cid=E39B50D7D9EA3235&resid=E39B50D7D9EA3235%21126&app=WordPdf An Early Hellenic Alphabet for Common, Ikonogrammaton & Paleogrammikon, System Writing and Reading of the Ancient Speech]\\n* {{cita web|url=https://drive.google.com/folderview?id=0BybinYAsW7IyUlZXU0VOMGExVEU&usp=sharing |nombre=Bouzanis K.|apellidos= |título= Elements of the common of writing-reading Hellenic system of ancient speech. A step in the approach of Code of Inscription-Reading of the godlike Drivers-Teachers of the Human Genous|editor=|año=2013|página=|idioma= griego |fechaacceso=4 de noviembre de 2015}}\\n* {{cita web|url=http://es.blastingnews.com/ocio-cultura/2015/10/identifican-el-abecedario-mas-antiguo-del-mundo-en-un-ostracon-de-luxor-00618689.html|nombre=|apellidos= |título=Identifican el abecedario más antiguo del mundo en un ostracon de Luxor |editor=|año=23 de octubre de 2015|página=|idioma= |fechaacceso=4 de noviembre de 2015}}\\n\\n{{Control de autoridades}}\\n[[Categoría:Alfabetos| ]]\\n[[Categoría:Lenguajes formales]]\\n[[Categoría:Ortografía]]\")]"
            ]
          },
          "metadata": {},
          "execution_count": 8
        }
      ]
    },
    {
      "cell_type": "markdown",
      "metadata": {
        "id": "r6eiAU7cvEUa"
      },
      "source": [
        "Las palabras las vamos a obtener de \"text\", por lo tanto las que son *None* no nos interesan.\n",
        "\n",
        "Mapeo para quedarme solo con el id y el texto lo spliteo:"
      ]
    },
    {
      "cell_type": "code",
      "metadata": {
        "id": "5nsIpZfX5KAy"
      },
      "source": [
        "datos = rdd.filter(lambda x: x.text != None).map(lambda x: (x.id, x.text.split()))"
      ],
      "execution_count": null,
      "outputs": []
    },
    {
      "cell_type": "markdown",
      "metadata": {
        "id": "6Z-kaIu1-O-9"
      },
      "source": [
        "Ahora hago un  flap-map, donde cada clave será la palabra y el valor será el id del contenido donde aparece y su frecuencia en el mismo"
      ]
    },
    {
      "cell_type": "code",
      "metadata": {
        "colab": {
          "base_uri": "https://localhost:8080/"
        },
        "id": "K2gD5Id85Tyr",
        "outputId": "16e9d5a9-dcb3-45b3-9e60-0e053b48c7db"
      },
      "source": [
        "d = datos.flatMap(lambda x: [(palabra,(x[0],x[1].count(palabra))) for palabra in set(x[1])])\n",
        "d.take(1)"
      ],
      "execution_count": null,
      "outputs": [
        {
          "output_type": "execute_result",
          "data": {
            "text/plain": [
              "[('[[hermafrodita]]s.', (50, 1))]"
            ]
          },
          "metadata": {},
          "execution_count": 10
        }
      ]
    },
    {
      "cell_type": "markdown",
      "metadata": {
        "id": "jE0g4ntX2wLa"
      },
      "source": [
        "Reduzco por clave:\n",
        "(hay una aclaración luego de la ejecución)"
      ]
    },
    {
      "cell_type": "code",
      "metadata": {
        "colab": {
          "base_uri": "https://localhost:8080/"
        },
        "id": "uPgB2flNBv0O",
        "outputId": "fd2836cf-06a5-48ca-f14d-b4f8dfc1dc2f"
      },
      "source": [
        "d.reduceByKey(lambda a,b: a+b).take(1)"
      ],
      "execution_count": null,
      "outputs": [
        {
          "output_type": "execute_result",
          "data": {
            "text/plain": [
              "[(\"''k''\",\n",
              "  (160,\n",
              "   1,\n",
              "   4218,\n",
              "   2,\n",
              "   9030,\n",
              "   1,\n",
              "   21223,\n",
              "   1,\n",
              "   26964,\n",
              "   1,\n",
              "   38839,\n",
              "   1,\n",
              "   47192,\n",
              "   2,\n",
              "   48817,\n",
              "   2,\n",
              "   60352,\n",
              "   2,\n",
              "   102906,\n",
              "   21,\n",
              "   104853,\n",
              "   1,\n",
              "   116180,\n",
              "   1,\n",
              "   176528,\n",
              "   1,\n",
              "   216399,\n",
              "   1,\n",
              "   368594,\n",
              "   1,\n",
              "   829382,\n",
              "   1,\n",
              "   971490,\n",
              "   1,\n",
              "   1098046,\n",
              "   2,\n",
              "   1280318,\n",
              "   1,\n",
              "   1309393,\n",
              "   2,\n",
              "   1648107,\n",
              "   1,\n",
              "   2253153,\n",
              "   1,\n",
              "   2469677,\n",
              "   1,\n",
              "   2823812,\n",
              "   1,\n",
              "   4239239,\n",
              "   1,\n",
              "   4534157,\n",
              "   1,\n",
              "   5880884,\n",
              "   1,\n",
              "   6063600,\n",
              "   1,\n",
              "   6209707,\n",
              "   1,\n",
              "   6540170,\n",
              "   1,\n",
              "   6619481,\n",
              "   4,\n",
              "   7284626,\n",
              "   1,\n",
              "   7376433,\n",
              "   2,\n",
              "   7512971,\n",
              "   1,\n",
              "   7659560,\n",
              "   1,\n",
              "   8695286,\n",
              "   1,\n",
              "   8727330,\n",
              "   1,\n",
              "   8786981,\n",
              "   1,\n",
              "   9027462,\n",
              "   1,\n",
              "   9512014,\n",
              "   2,\n",
              "   9774071,\n",
              "   2))]"
            ]
          },
          "metadata": {},
          "execution_count": 14
        }
      ]
    },
    {
      "cell_type": "markdown",
      "metadata": {
        "id": "R9Polqbz6KU4"
      },
      "source": [
        "# **ACLARACIÓN:** \n",
        "No es exactamente lo pedido, sino que se están anidando todos los numeros (id,frecuencia,id2,frecuencia2,....) y no de a tuplas.\n",
        "\n",
        "No pude lograr que sea como lo pedido, lo había pensado de esta forma pero se rompe:"
      ]
    },
    {
      "cell_type": "code",
      "metadata": {
        "colab": {
          "base_uri": "https://localhost:8080/"
        },
        "id": "_Q78YeCC8XGC",
        "outputId": "fd3589a6-8c9d-422d-c2f4-6a5e880ab28a"
      },
      "source": [
        "a = (1,2)\n",
        "b = (3,4)\n",
        "(a,b)"
      ],
      "execution_count": null,
      "outputs": [
        {
          "output_type": "execute_result",
          "data": {
            "text/plain": [
              "((1, 2), (3, 4))"
            ]
          },
          "metadata": {},
          "execution_count": 18
        }
      ]
    },
    {
      "cell_type": "code",
      "metadata": {
        "colab": {
          "base_uri": "https://localhost:8080/",
          "height": 1000
        },
        "id": "m33DtQvO2Ppn",
        "outputId": "458527db-67cc-4e64-93ff-9b8bb6304e62"
      },
      "source": [
        "rdd = d.reduceByKey(lambda a,b: (a,b))\n",
        "\n",
        "rdd.take(1)"
      ],
      "execution_count": null,
      "outputs": [
        {
          "output_type": "error",
          "ename": "Py4JJavaError",
          "evalue": "ignored",
          "traceback": [
            "\u001b[0;31m---------------------------------------------------------------------------\u001b[0m",
            "\u001b[0;31mPy4JJavaError\u001b[0m                             Traceback (most recent call last)",
            "\u001b[0;32m<ipython-input-16-b12e465004ba>\u001b[0m in \u001b[0;36m<module>\u001b[0;34m()\u001b[0m\n\u001b[1;32m      1\u001b[0m \u001b[0mrdd\u001b[0m \u001b[0;34m=\u001b[0m \u001b[0md\u001b[0m\u001b[0;34m.\u001b[0m\u001b[0mreduceByKey\u001b[0m\u001b[0;34m(\u001b[0m\u001b[0;32mlambda\u001b[0m \u001b[0ma\u001b[0m\u001b[0;34m,\u001b[0m\u001b[0mb\u001b[0m\u001b[0;34m:\u001b[0m \u001b[0;34m(\u001b[0m\u001b[0ma\u001b[0m\u001b[0;34m,\u001b[0m\u001b[0mb\u001b[0m\u001b[0;34m)\u001b[0m\u001b[0;34m)\u001b[0m\u001b[0;34m\u001b[0m\u001b[0;34m\u001b[0m\u001b[0m\n\u001b[1;32m      2\u001b[0m \u001b[0;34m\u001b[0m\u001b[0m\n\u001b[0;32m----> 3\u001b[0;31m \u001b[0mrdd\u001b[0m\u001b[0;34m.\u001b[0m\u001b[0mtake\u001b[0m\u001b[0;34m(\u001b[0m\u001b[0;36m1\u001b[0m\u001b[0;34m)\u001b[0m\u001b[0;34m\u001b[0m\u001b[0;34m\u001b[0m\u001b[0m\n\u001b[0m",
            "\u001b[0;32m/usr/local/lib/python3.7/dist-packages/pyspark/rdd.py\u001b[0m in \u001b[0;36mtake\u001b[0;34m(self, num)\u001b[0m\n\u001b[1;32m   1566\u001b[0m \u001b[0;34m\u001b[0m\u001b[0m\n\u001b[1;32m   1567\u001b[0m             \u001b[0mp\u001b[0m \u001b[0;34m=\u001b[0m \u001b[0mrange\u001b[0m\u001b[0;34m(\u001b[0m\u001b[0mpartsScanned\u001b[0m\u001b[0;34m,\u001b[0m \u001b[0mmin\u001b[0m\u001b[0;34m(\u001b[0m\u001b[0mpartsScanned\u001b[0m \u001b[0;34m+\u001b[0m \u001b[0mnumPartsToTry\u001b[0m\u001b[0;34m,\u001b[0m \u001b[0mtotalParts\u001b[0m\u001b[0;34m)\u001b[0m\u001b[0;34m)\u001b[0m\u001b[0;34m\u001b[0m\u001b[0;34m\u001b[0m\u001b[0m\n\u001b[0;32m-> 1568\u001b[0;31m             \u001b[0mres\u001b[0m \u001b[0;34m=\u001b[0m \u001b[0mself\u001b[0m\u001b[0;34m.\u001b[0m\u001b[0mcontext\u001b[0m\u001b[0;34m.\u001b[0m\u001b[0mrunJob\u001b[0m\u001b[0;34m(\u001b[0m\u001b[0mself\u001b[0m\u001b[0;34m,\u001b[0m \u001b[0mtakeUpToNumLeft\u001b[0m\u001b[0;34m,\u001b[0m \u001b[0mp\u001b[0m\u001b[0;34m)\u001b[0m\u001b[0;34m\u001b[0m\u001b[0;34m\u001b[0m\u001b[0m\n\u001b[0m\u001b[1;32m   1569\u001b[0m \u001b[0;34m\u001b[0m\u001b[0m\n\u001b[1;32m   1570\u001b[0m             \u001b[0mitems\u001b[0m \u001b[0;34m+=\u001b[0m \u001b[0mres\u001b[0m\u001b[0;34m\u001b[0m\u001b[0;34m\u001b[0m\u001b[0m\n",
            "\u001b[0;32m/usr/local/lib/python3.7/dist-packages/pyspark/context.py\u001b[0m in \u001b[0;36mrunJob\u001b[0;34m(self, rdd, partitionFunc, partitions, allowLocal)\u001b[0m\n\u001b[1;32m   1225\u001b[0m         \u001b[0;31m# SparkContext#runJob.\u001b[0m\u001b[0;34m\u001b[0m\u001b[0;34m\u001b[0m\u001b[0;34m\u001b[0m\u001b[0m\n\u001b[1;32m   1226\u001b[0m         \u001b[0mmappedRDD\u001b[0m \u001b[0;34m=\u001b[0m \u001b[0mrdd\u001b[0m\u001b[0;34m.\u001b[0m\u001b[0mmapPartitions\u001b[0m\u001b[0;34m(\u001b[0m\u001b[0mpartitionFunc\u001b[0m\u001b[0;34m)\u001b[0m\u001b[0;34m\u001b[0m\u001b[0;34m\u001b[0m\u001b[0m\n\u001b[0;32m-> 1227\u001b[0;31m         \u001b[0msock_info\u001b[0m \u001b[0;34m=\u001b[0m \u001b[0mself\u001b[0m\u001b[0;34m.\u001b[0m\u001b[0m_jvm\u001b[0m\u001b[0;34m.\u001b[0m\u001b[0mPythonRDD\u001b[0m\u001b[0;34m.\u001b[0m\u001b[0mrunJob\u001b[0m\u001b[0;34m(\u001b[0m\u001b[0mself\u001b[0m\u001b[0;34m.\u001b[0m\u001b[0m_jsc\u001b[0m\u001b[0;34m.\u001b[0m\u001b[0msc\u001b[0m\u001b[0;34m(\u001b[0m\u001b[0;34m)\u001b[0m\u001b[0;34m,\u001b[0m \u001b[0mmappedRDD\u001b[0m\u001b[0;34m.\u001b[0m\u001b[0m_jrdd\u001b[0m\u001b[0;34m,\u001b[0m \u001b[0mpartitions\u001b[0m\u001b[0;34m)\u001b[0m\u001b[0;34m\u001b[0m\u001b[0;34m\u001b[0m\u001b[0m\n\u001b[0m\u001b[1;32m   1228\u001b[0m         \u001b[0;32mreturn\u001b[0m \u001b[0mlist\u001b[0m\u001b[0;34m(\u001b[0m\u001b[0m_load_from_socket\u001b[0m\u001b[0;34m(\u001b[0m\u001b[0msock_info\u001b[0m\u001b[0;34m,\u001b[0m \u001b[0mmappedRDD\u001b[0m\u001b[0;34m.\u001b[0m\u001b[0m_jrdd_deserializer\u001b[0m\u001b[0;34m)\u001b[0m\u001b[0;34m)\u001b[0m\u001b[0;34m\u001b[0m\u001b[0;34m\u001b[0m\u001b[0m\n\u001b[1;32m   1229\u001b[0m \u001b[0;34m\u001b[0m\u001b[0m\n",
            "\u001b[0;32m/usr/local/lib/python3.7/dist-packages/py4j/java_gateway.py\u001b[0m in \u001b[0;36m__call__\u001b[0;34m(self, *args)\u001b[0m\n\u001b[1;32m   1308\u001b[0m         \u001b[0manswer\u001b[0m \u001b[0;34m=\u001b[0m \u001b[0mself\u001b[0m\u001b[0;34m.\u001b[0m\u001b[0mgateway_client\u001b[0m\u001b[0;34m.\u001b[0m\u001b[0msend_command\u001b[0m\u001b[0;34m(\u001b[0m\u001b[0mcommand\u001b[0m\u001b[0;34m)\u001b[0m\u001b[0;34m\u001b[0m\u001b[0;34m\u001b[0m\u001b[0m\n\u001b[1;32m   1309\u001b[0m         return_value = get_return_value(\n\u001b[0;32m-> 1310\u001b[0;31m             answer, self.gateway_client, self.target_id, self.name)\n\u001b[0m\u001b[1;32m   1311\u001b[0m \u001b[0;34m\u001b[0m\u001b[0m\n\u001b[1;32m   1312\u001b[0m         \u001b[0;32mfor\u001b[0m \u001b[0mtemp_arg\u001b[0m \u001b[0;32min\u001b[0m \u001b[0mtemp_args\u001b[0m\u001b[0;34m:\u001b[0m\u001b[0;34m\u001b[0m\u001b[0;34m\u001b[0m\u001b[0m\n",
            "\u001b[0;32m/usr/local/lib/python3.7/dist-packages/pyspark/sql/utils.py\u001b[0m in \u001b[0;36mdeco\u001b[0;34m(*a, **kw)\u001b[0m\n\u001b[1;32m    109\u001b[0m     \u001b[0;32mdef\u001b[0m \u001b[0mdeco\u001b[0m\u001b[0;34m(\u001b[0m\u001b[0;34m*\u001b[0m\u001b[0ma\u001b[0m\u001b[0;34m,\u001b[0m \u001b[0;34m**\u001b[0m\u001b[0mkw\u001b[0m\u001b[0;34m)\u001b[0m\u001b[0;34m:\u001b[0m\u001b[0;34m\u001b[0m\u001b[0;34m\u001b[0m\u001b[0m\n\u001b[1;32m    110\u001b[0m         \u001b[0;32mtry\u001b[0m\u001b[0;34m:\u001b[0m\u001b[0;34m\u001b[0m\u001b[0;34m\u001b[0m\u001b[0m\n\u001b[0;32m--> 111\u001b[0;31m             \u001b[0;32mreturn\u001b[0m \u001b[0mf\u001b[0m\u001b[0;34m(\u001b[0m\u001b[0;34m*\u001b[0m\u001b[0ma\u001b[0m\u001b[0;34m,\u001b[0m \u001b[0;34m**\u001b[0m\u001b[0mkw\u001b[0m\u001b[0;34m)\u001b[0m\u001b[0;34m\u001b[0m\u001b[0;34m\u001b[0m\u001b[0m\n\u001b[0m\u001b[1;32m    112\u001b[0m         \u001b[0;32mexcept\u001b[0m \u001b[0mpy4j\u001b[0m\u001b[0;34m.\u001b[0m\u001b[0mprotocol\u001b[0m\u001b[0;34m.\u001b[0m\u001b[0mPy4JJavaError\u001b[0m \u001b[0;32mas\u001b[0m \u001b[0me\u001b[0m\u001b[0;34m:\u001b[0m\u001b[0;34m\u001b[0m\u001b[0;34m\u001b[0m\u001b[0m\n\u001b[1;32m    113\u001b[0m             \u001b[0mconverted\u001b[0m \u001b[0;34m=\u001b[0m \u001b[0mconvert_exception\u001b[0m\u001b[0;34m(\u001b[0m\u001b[0me\u001b[0m\u001b[0;34m.\u001b[0m\u001b[0mjava_exception\u001b[0m\u001b[0;34m)\u001b[0m\u001b[0;34m\u001b[0m\u001b[0;34m\u001b[0m\u001b[0m\n",
            "\u001b[0;32m/usr/local/lib/python3.7/dist-packages/py4j/protocol.py\u001b[0m in \u001b[0;36mget_return_value\u001b[0;34m(answer, gateway_client, target_id, name)\u001b[0m\n\u001b[1;32m    326\u001b[0m                 raise Py4JJavaError(\n\u001b[1;32m    327\u001b[0m                     \u001b[0;34m\"An error occurred while calling {0}{1}{2}.\\n\"\u001b[0m\u001b[0;34m.\u001b[0m\u001b[0;34m\u001b[0m\u001b[0;34m\u001b[0m\u001b[0m\n\u001b[0;32m--> 328\u001b[0;31m                     format(target_id, \".\", name), value)\n\u001b[0m\u001b[1;32m    329\u001b[0m             \u001b[0;32melse\u001b[0m\u001b[0;34m:\u001b[0m\u001b[0;34m\u001b[0m\u001b[0;34m\u001b[0m\u001b[0m\n\u001b[1;32m    330\u001b[0m                 raise Py4JError(\n",
            "\u001b[0;31mPy4JJavaError\u001b[0m: An error occurred while calling z:org.apache.spark.api.python.PythonRDD.runJob.\n: org.apache.spark.SparkException: Job aborted due to stage failure: Task 1 in stage 11.0 failed 1 times, most recent failure: Lost task 1.0 in stage 11.0 (TID 18) (9e3aff11de50 executor driver): org.apache.spark.api.python.PythonException: Traceback (most recent call last):\n  File \"/usr/local/lib/python3.7/dist-packages/pyspark/python/lib/pyspark.zip/pyspark/worker.py\", line 619, in main\n    process()\n  File \"/usr/local/lib/python3.7/dist-packages/pyspark/python/lib/pyspark.zip/pyspark/worker.py\", line 609, in process\n    out_iter = func(split_index, iterator)\n  File \"/usr/local/lib/python3.7/dist-packages/pyspark/rdd.py\", line 2918, in pipeline_func\n    return func(split, prev_func(split, iterator))\n  File \"/usr/local/lib/python3.7/dist-packages/pyspark/rdd.py\", line 2918, in pipeline_func\n    return func(split, prev_func(split, iterator))\n  File \"/usr/local/lib/python3.7/dist-packages/pyspark/rdd.py\", line 417, in func\n    return f(iterator)\n  File \"/usr/local/lib/python3.7/dist-packages/pyspark/rdd.py\", line 2146, in combineLocally\n    merger.mergeValues(iterator)\n  File \"/usr/local/lib/python3.7/dist-packages/pyspark/python/lib/pyspark.zip/pyspark/shuffle.py\", line 247, in mergeValues\n    self._spill()\n  File \"/usr/local/lib/python3.7/dist-packages/pyspark/python/lib/pyspark.zip/pyspark/shuffle.py\", line 319, in _spill\n    self.serializer.dump_stream([(k, v)], streams[h])\n  File \"/usr/local/lib/python3.7/dist-packages/pyspark/python/lib/pyspark.zip/pyspark/serializers.py\", line 263, in dump_stream\n    bytes = self.serializer.dumps(vs)\n  File \"/usr/local/lib/python3.7/dist-packages/pyspark/python/lib/pyspark.zip/pyspark/serializers.py\", line 506, in dumps\n    return zlib.compress(self.serializer.dumps(obj), 1)\n  File \"/usr/local/lib/python3.7/dist-packages/pyspark/python/lib/pyspark.zip/pyspark/serializers.py\", line 427, in dumps\n    return pickle.dumps(obj, pickle_protocol)\nRecursionError: maximum recursion depth exceeded while pickling an object\n\n\tat org.apache.spark.api.python.BasePythonRunner$ReaderIterator.handlePythonException(PythonRunner.scala:545)\n\tat org.apache.spark.api.python.PythonRunner$$anon$3.read(PythonRunner.scala:703)\n\tat org.apache.spark.api.python.PythonRunner$$anon$3.read(PythonRunner.scala:685)\n\tat org.apache.spark.api.python.BasePythonRunner$ReaderIterator.hasNext(PythonRunner.scala:498)\n\tat org.apache.spark.InterruptibleIterator.hasNext(InterruptibleIterator.scala:37)\n\tat scala.collection.Iterator$GroupedIterator.fill(Iterator.scala:1211)\n\tat scala.collection.Iterator$GroupedIterator.hasNext(Iterator.scala:1217)\n\tat scala.collection.Iterator$$anon$10.hasNext(Iterator.scala:460)\n\tat org.apache.spark.shuffle.sort.BypassMergeSortShuffleWriter.write(BypassMergeSortShuffleWriter.java:140)\n\tat org.apache.spark.shuffle.ShuffleWriteProcessor.write(ShuffleWriteProcessor.scala:59)\n\tat org.apache.spark.scheduler.ShuffleMapTask.runTask(ShuffleMapTask.scala:99)\n\tat org.apache.spark.scheduler.ShuffleMapTask.runTask(ShuffleMapTask.scala:52)\n\tat org.apache.spark.scheduler.Task.run(Task.scala:131)\n\tat org.apache.spark.executor.Executor$TaskRunner.$anonfun$run$3(Executor.scala:506)\n\tat org.apache.spark.util.Utils$.tryWithSafeFinally(Utils.scala:1462)\n\tat org.apache.spark.executor.Executor$TaskRunner.run(Executor.scala:509)\n\tat java.util.concurrent.ThreadPoolExecutor.runWorker(ThreadPoolExecutor.java:1149)\n\tat java.util.concurrent.ThreadPoolExecutor$Worker.run(ThreadPoolExecutor.java:624)\n\tat java.lang.Thread.run(Thread.java:748)\n\nDriver stacktrace:\n\tat org.apache.spark.scheduler.DAGScheduler.failJobAndIndependentStages(DAGScheduler.scala:2403)\n\tat org.apache.spark.scheduler.DAGScheduler.$anonfun$abortStage$2(DAGScheduler.scala:2352)\n\tat org.apache.spark.scheduler.DAGScheduler.$anonfun$abortStage$2$adapted(DAGScheduler.scala:2351)\n\tat scala.collection.mutable.ResizableArray.foreach(ResizableArray.scala:62)\n\tat scala.collection.mutable.ResizableArray.foreach$(ResizableArray.scala:55)\n\tat scala.collection.mutable.ArrayBuffer.foreach(ArrayBuffer.scala:49)\n\tat org.apache.spark.scheduler.DAGScheduler.abortStage(DAGScheduler.scala:2351)\n\tat org.apache.spark.scheduler.DAGScheduler.$anonfun$handleTaskSetFailed$1(DAGScheduler.scala:1109)\n\tat org.apache.spark.scheduler.DAGScheduler.$anonfun$handleTaskSetFailed$1$adapted(DAGScheduler.scala:1109)\n\tat scala.Option.foreach(Option.scala:407)\n\tat org.apache.spark.scheduler.DAGScheduler.handleTaskSetFailed(DAGScheduler.scala:1109)\n\tat org.apache.spark.scheduler.DAGSchedulerEventProcessLoop.doOnReceive(DAGScheduler.scala:2591)\n\tat org.apache.spark.scheduler.DAGSchedulerEventProcessLoop.onReceive(DAGScheduler.scala:2533)\n\tat org.apache.spark.scheduler.DAGSchedulerEventProcessLoop.onReceive(DAGScheduler.scala:2522)\n\tat org.apache.spark.util.EventLoop$$anon$1.run(EventLoop.scala:49)\n\tat org.apache.spark.scheduler.DAGScheduler.runJob(DAGScheduler.scala:898)\n\tat org.apache.spark.SparkContext.runJob(SparkContext.scala:2214)\n\tat org.apache.spark.SparkContext.runJob(SparkContext.scala:2235)\n\tat org.apache.spark.SparkContext.runJob(SparkContext.scala:2254)\n\tat org.apache.spark.api.python.PythonRDD$.runJob(PythonRDD.scala:166)\n\tat org.apache.spark.api.python.PythonRDD.runJob(PythonRDD.scala)\n\tat sun.reflect.NativeMethodAccessorImpl.invoke0(Native Method)\n\tat sun.reflect.NativeMethodAccessorImpl.invoke(NativeMethodAccessorImpl.java:62)\n\tat sun.reflect.DelegatingMethodAccessorImpl.invoke(DelegatingMethodAccessorImpl.java:43)\n\tat java.lang.reflect.Method.invoke(Method.java:498)\n\tat py4j.reflection.MethodInvoker.invoke(MethodInvoker.java:244)\n\tat py4j.reflection.ReflectionEngine.invoke(ReflectionEngine.java:357)\n\tat py4j.Gateway.invoke(Gateway.java:282)\n\tat py4j.commands.AbstractCommand.invokeMethod(AbstractCommand.java:132)\n\tat py4j.commands.CallCommand.execute(CallCommand.java:79)\n\tat py4j.ClientServerConnection.waitForCommands(ClientServerConnection.java:182)\n\tat py4j.ClientServerConnection.run(ClientServerConnection.java:106)\n\tat java.lang.Thread.run(Thread.java:748)\nCaused by: org.apache.spark.api.python.PythonException: Traceback (most recent call last):\n  File \"/usr/local/lib/python3.7/dist-packages/pyspark/python/lib/pyspark.zip/pyspark/worker.py\", line 619, in main\n    process()\n  File \"/usr/local/lib/python3.7/dist-packages/pyspark/python/lib/pyspark.zip/pyspark/worker.py\", line 609, in process\n    out_iter = func(split_index, iterator)\n  File \"/usr/local/lib/python3.7/dist-packages/pyspark/rdd.py\", line 2918, in pipeline_func\n    return func(split, prev_func(split, iterator))\n  File \"/usr/local/lib/python3.7/dist-packages/pyspark/rdd.py\", line 2918, in pipeline_func\n    return func(split, prev_func(split, iterator))\n  File \"/usr/local/lib/python3.7/dist-packages/pyspark/rdd.py\", line 417, in func\n    return f(iterator)\n  File \"/usr/local/lib/python3.7/dist-packages/pyspark/rdd.py\", line 2146, in combineLocally\n    merger.mergeValues(iterator)\n  File \"/usr/local/lib/python3.7/dist-packages/pyspark/python/lib/pyspark.zip/pyspark/shuffle.py\", line 247, in mergeValues\n    self._spill()\n  File \"/usr/local/lib/python3.7/dist-packages/pyspark/python/lib/pyspark.zip/pyspark/shuffle.py\", line 319, in _spill\n    self.serializer.dump_stream([(k, v)], streams[h])\n  File \"/usr/local/lib/python3.7/dist-packages/pyspark/python/lib/pyspark.zip/pyspark/serializers.py\", line 263, in dump_stream\n    bytes = self.serializer.dumps(vs)\n  File \"/usr/local/lib/python3.7/dist-packages/pyspark/python/lib/pyspark.zip/pyspark/serializers.py\", line 506, in dumps\n    return zlib.compress(self.serializer.dumps(obj), 1)\n  File \"/usr/local/lib/python3.7/dist-packages/pyspark/python/lib/pyspark.zip/pyspark/serializers.py\", line 427, in dumps\n    return pickle.dumps(obj, pickle_protocol)\nRecursionError: maximum recursion depth exceeded while pickling an object\n\n\tat org.apache.spark.api.python.BasePythonRunner$ReaderIterator.handlePythonException(PythonRunner.scala:545)\n\tat org.apache.spark.api.python.PythonRunner$$anon$3.read(PythonRunner.scala:703)\n\tat org.apache.spark.api.python.PythonRunner$$anon$3.read(PythonRunner.scala:685)\n\tat org.apache.spark.api.python.BasePythonRunner$ReaderIterator.hasNext(PythonRunner.scala:498)\n\tat org.apache.spark.InterruptibleIterator.hasNext(InterruptibleIterator.scala:37)\n\tat scala.collection.Iterator$GroupedIterator.fill(Iterator.scala:1211)\n\tat scala.collection.Iterator$GroupedIterator.hasNext(Iterator.scala:1217)\n\tat scala.collection.Iterator$$anon$10.hasNext(Iterator.scala:460)\n\tat org.apache.spark.shuffle.sort.BypassMergeSortShuffleWriter.write(BypassMergeSortShuffleWriter.java:140)\n\tat org.apache.spark.shuffle.ShuffleWriteProcessor.write(ShuffleWriteProcessor.scala:59)\n\tat org.apache.spark.scheduler.ShuffleMapTask.runTask(ShuffleMapTask.scala:99)\n\tat org.apache.spark.scheduler.ShuffleMapTask.runTask(ShuffleMapTask.scala:52)\n\tat org.apache.spark.scheduler.Task.run(Task.scala:131)\n\tat org.apache.spark.executor.Executor$TaskRunner.$anonfun$run$3(Executor.scala:506)\n\tat org.apache.spark.util.Utils$.tryWithSafeFinally(Utils.scala:1462)\n\tat org.apache.spark.executor.Executor$TaskRunner.run(Executor.scala:509)\n\tat java.util.concurrent.ThreadPoolExecutor.runWorker(ThreadPoolExecutor.java:1149)\n\tat java.util.concurrent.ThreadPoolExecutor$Worker.run(ThreadPoolExecutor.java:624)\n\t... 1 more\n"
          ]
        }
      ]
    }
  ]
}