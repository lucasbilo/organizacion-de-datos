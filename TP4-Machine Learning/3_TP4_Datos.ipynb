{
  "nbformat": 4,
  "nbformat_minor": 0,
  "metadata": {
    "colab": {
      "name": "3-TP4-Datos.ipynb",
      "provenance": [],
      "collapsed_sections": []
    },
    "kernelspec": {
      "name": "python3",
      "display_name": "Python 3"
    },
    "language_info": {
      "name": "python"
    }
  },
  "cells": [
    {
      "cell_type": "markdown",
      "source": [
        "**Tarea 3: Regresión sobre el precio del ítem**\n",
        "\n",
        "¿Se puede predecir el precio del ítem en base a su información? \n",
        "\n",
        "¿Qué tan bien funciona en validación? \n",
        "\n",
        "¿Qué tan bien funciona años después en versus?"
      ],
      "metadata": {
        "id": "Q_zrkEIV9qBT"
      }
    },
    {
      "cell_type": "code",
      "source": [
        "pip install category_encoders"
      ],
      "metadata": {
        "colab": {
          "base_uri": "https://localhost:8080/"
        },
        "id": "w9ZgRxarSSSZ",
        "outputId": "d4d383d3-3a9b-43aa-ebe3-b2248d94f790"
      },
      "execution_count": null,
      "outputs": [
        {
          "output_type": "stream",
          "name": "stdout",
          "text": [
            "Requirement already satisfied: category_encoders in /usr/local/lib/python3.7/dist-packages (2.3.0)\n",
            "Requirement already satisfied: statsmodels>=0.9.0 in /usr/local/lib/python3.7/dist-packages (from category_encoders) (0.10.2)\n",
            "Requirement already satisfied: scikit-learn>=0.20.0 in /usr/local/lib/python3.7/dist-packages (from category_encoders) (1.0.1)\n",
            "Requirement already satisfied: pandas>=0.21.1 in /usr/local/lib/python3.7/dist-packages (from category_encoders) (1.1.5)\n",
            "Requirement already satisfied: patsy>=0.5.1 in /usr/local/lib/python3.7/dist-packages (from category_encoders) (0.5.2)\n",
            "Requirement already satisfied: scipy>=1.0.0 in /usr/local/lib/python3.7/dist-packages (from category_encoders) (1.4.1)\n",
            "Requirement already satisfied: numpy>=1.14.0 in /usr/local/lib/python3.7/dist-packages (from category_encoders) (1.19.5)\n",
            "Requirement already satisfied: pytz>=2017.2 in /usr/local/lib/python3.7/dist-packages (from pandas>=0.21.1->category_encoders) (2018.9)\n",
            "Requirement already satisfied: python-dateutil>=2.7.3 in /usr/local/lib/python3.7/dist-packages (from pandas>=0.21.1->category_encoders) (2.8.2)\n",
            "Requirement already satisfied: six in /usr/local/lib/python3.7/dist-packages (from patsy>=0.5.1->category_encoders) (1.15.0)\n",
            "Requirement already satisfied: threadpoolctl>=2.0.0 in /usr/local/lib/python3.7/dist-packages (from scikit-learn>=0.20.0->category_encoders) (3.0.0)\n",
            "Requirement already satisfied: joblib>=0.11 in /usr/local/lib/python3.7/dist-packages (from scikit-learn>=0.20.0->category_encoders) (1.1.0)\n"
          ]
        }
      ]
    },
    {
      "cell_type": "code",
      "execution_count": null,
      "metadata": {
        "colab": {
          "base_uri": "https://localhost:8080/"
        },
        "id": "uZXCpJdx7hA2",
        "outputId": "853663f4-9b5c-48fc-c6d0-53bad86b9b66"
      },
      "outputs": [
        {
          "output_type": "stream",
          "name": "stderr",
          "text": [
            "/usr/local/lib/python3.7/dist-packages/statsmodels/tools/_testing.py:19: FutureWarning: pandas.util.testing is deprecated. Use the functions in the public API at pandas.testing instead.\n",
            "  import pandas.util.testing as tm\n"
          ]
        }
      ],
      "source": [
        "import pandas as pd\n",
        "import numpy as np\n",
        "\n",
        "import matplotlib.pyplot as plt\n",
        "import seaborn as sns\n",
        "%matplotlib inline\n",
        "plt.style.use('fivethirtyeight')\n",
        "\n",
        "from sklearn.neural_network import MLPRegressor\n",
        "from sklearn.compose import ColumnTransformer\n",
        "from sklearn.preprocessing import OneHotEncoder\n",
        "from sklearn.preprocessing import StandardScaler\n",
        "from sklearn.compose import make_column_selector\n",
        "from sklearn.pipeline import Pipeline\n",
        "from sklearn.metrics import mean_squared_error, r2_score\n",
        "from sklearn.model_selection import RandomizedSearchCV\n",
        "from sklearn.model_selection import KFold\n",
        "from sklearn import set_config\n",
        "import multiprocessing\n",
        "import category_encoders as ce\n",
        "\n",
        "import warnings\n",
        "warnings.filterwarnings('ignore')\n",
        "\n",
        "from pydrive.auth import GoogleAuth\n",
        "from pydrive.drive import GoogleDrive\n",
        "from google.colab import auth\n",
        "from oauth2client.client import GoogleCredentials\n",
        "\n",
        "# Authenticate and create the PyDrive client\n",
        "auth.authenticate_user()\n",
        "gauth = GoogleAuth()\n",
        "gauth.credentials = GoogleCredentials.get_application_default()\n",
        "drive = GoogleDrive(gauth)"
      ]
    },
    {
      "cell_type": "code",
      "source": [
        "downloaded = drive.CreateFile({'id': '1lHuzdCSh7dW_8dmd6tgLge1_mWHqJ5xs'})\n",
        "downloaded.GetContentFile('silkroad_items.csv')"
      ],
      "metadata": {
        "id": "6JE9yk2V91l6"
      },
      "execution_count": null,
      "outputs": []
    },
    {
      "cell_type": "code",
      "source": [
        "downloaded = drive.CreateFile({'id': '1YKEWXsQu2fJEFxhJtVEWVg6gM53ZyUX2'})\n",
        "downloaded.GetContentFile('Bitcoin2014-2015.csv')"
      ],
      "metadata": {
        "id": "B0KV-zhx92ha"
      },
      "execution_count": null,
      "outputs": []
    },
    {
      "cell_type": "code",
      "source": [
        "downloaded = drive.CreateFile({'id': '1SXF8krCFxZda15Dmpagmt_ZwEodh4eLo'})\n",
        "downloaded.GetContentFile('model_backup_mlpr3')"
      ],
      "metadata": {
        "id": "Cu4snBws6Yb7"
      },
      "execution_count": null,
      "outputs": []
    },
    {
      "cell_type": "code",
      "source": [
        "items = pd.read_csv('silkroad_items.csv', encoding='latin-1')\n",
        "items[\"timestamp\"]=pd.to_datetime(items[\"timestamp\"])\n",
        "items[\"timestamp\"] = items['timestamp'].dt.floor('d')"
      ],
      "metadata": {
        "id": "sO4A7w6K9_gj"
      },
      "execution_count": null,
      "outputs": []
    },
    {
      "cell_type": "markdown",
      "source": [
        "Hay varios features distintos entre el dataset y versus, como voy a tener que usar el mismo modelo para la regresión de ambos. Voy a quedarme con los datos que comparten.\n",
        "\n",
        "Elimino columnas que no me sirven:"
      ],
      "metadata": {
        "id": "CbWC3P5T-CJD"
      }
    },
    {
      "cell_type": "code",
      "source": [
        "items.drop(['image_id', 'original_path', 'description', 'ships_to', 'vendor', 'item_id'], axis = 1, inplace=True)"
      ],
      "metadata": {
        "id": "7BBLBS1H-BzB"
      },
      "execution_count": null,
      "outputs": []
    },
    {
      "cell_type": "code",
      "source": [
        "items.head()"
      ],
      "metadata": {
        "colab": {
          "base_uri": "https://localhost:8080/",
          "height": 206
        },
        "id": "0UDHqwZ--EF0",
        "outputId": "bccac92e-a5cd-4621-a8a0-9b7a518a1c4e"
      },
      "execution_count": null,
      "outputs": [
        {
          "output_type": "execute_result",
          "data": {
            "text/html": [
              "\n",
              "  <div id=\"df-5513dd4c-b1b3-435f-a47f-99157f2825ac\">\n",
              "    <div class=\"colab-df-container\">\n",
              "      <div>\n",
              "<style scoped>\n",
              "    .dataframe tbody tr th:only-of-type {\n",
              "        vertical-align: middle;\n",
              "    }\n",
              "\n",
              "    .dataframe tbody tr th {\n",
              "        vertical-align: top;\n",
              "    }\n",
              "\n",
              "    .dataframe thead th {\n",
              "        text-align: right;\n",
              "    }\n",
              "</style>\n",
              "<table border=\"1\" class=\"dataframe\">\n",
              "  <thead>\n",
              "    <tr style=\"text-align: right;\">\n",
              "      <th></th>\n",
              "      <th>title</th>\n",
              "      <th>price</th>\n",
              "      <th>category</th>\n",
              "      <th>timestamp</th>\n",
              "      <th>ships_from</th>\n",
              "    </tr>\n",
              "  </thead>\n",
              "  <tbody>\n",
              "    <tr>\n",
              "      <th>0</th>\n",
              "      <td>JJ Luna privacy ebooks</td>\n",
              "      <td>0.001722</td>\n",
              "      <td>Alcohol</td>\n",
              "      <td>2014-02-23</td>\n",
              "      <td>Undeclared</td>\n",
              "    </tr>\n",
              "    <tr>\n",
              "      <th>1</th>\n",
              "      <td>The Morality of Capitalism</td>\n",
              "      <td>0.003443</td>\n",
              "      <td>Alcohol</td>\n",
              "      <td>2014-02-23</td>\n",
              "      <td>Undeclared</td>\n",
              "    </tr>\n",
              "    <tr>\n",
              "      <th>2</th>\n",
              "      <td>Survive!</td>\n",
              "      <td>0.001722</td>\n",
              "      <td>Alcohol</td>\n",
              "      <td>2014-02-23</td>\n",
              "      <td>Undeclared</td>\n",
              "    </tr>\n",
              "    <tr>\n",
              "      <th>3</th>\n",
              "      <td>A Non-Religious New Testament</td>\n",
              "      <td>0.015496</td>\n",
              "      <td>Alcohol</td>\n",
              "      <td>2014-02-23</td>\n",
              "      <td>Undeclared</td>\n",
              "    </tr>\n",
              "    <tr>\n",
              "      <th>4</th>\n",
              "      <td>Mindless Slogans: 101 Cheap Substitutes for Ac...</td>\n",
              "      <td>0.001722</td>\n",
              "      <td>Alcohol</td>\n",
              "      <td>2014-02-23</td>\n",
              "      <td>Undeclared</td>\n",
              "    </tr>\n",
              "  </tbody>\n",
              "</table>\n",
              "</div>\n",
              "      <button class=\"colab-df-convert\" onclick=\"convertToInteractive('df-5513dd4c-b1b3-435f-a47f-99157f2825ac')\"\n",
              "              title=\"Convert this dataframe to an interactive table.\"\n",
              "              style=\"display:none;\">\n",
              "        \n",
              "  <svg xmlns=\"http://www.w3.org/2000/svg\" height=\"24px\"viewBox=\"0 0 24 24\"\n",
              "       width=\"24px\">\n",
              "    <path d=\"M0 0h24v24H0V0z\" fill=\"none\"/>\n",
              "    <path d=\"M18.56 5.44l.94 2.06.94-2.06 2.06-.94-2.06-.94-.94-2.06-.94 2.06-2.06.94zm-11 1L8.5 8.5l.94-2.06 2.06-.94-2.06-.94L8.5 2.5l-.94 2.06-2.06.94zm10 10l.94 2.06.94-2.06 2.06-.94-2.06-.94-.94-2.06-.94 2.06-2.06.94z\"/><path d=\"M17.41 7.96l-1.37-1.37c-.4-.4-.92-.59-1.43-.59-.52 0-1.04.2-1.43.59L10.3 9.45l-7.72 7.72c-.78.78-.78 2.05 0 2.83L4 21.41c.39.39.9.59 1.41.59.51 0 1.02-.2 1.41-.59l7.78-7.78 2.81-2.81c.8-.78.8-2.07 0-2.86zM5.41 20L4 18.59l7.72-7.72 1.47 1.35L5.41 20z\"/>\n",
              "  </svg>\n",
              "      </button>\n",
              "      \n",
              "  <style>\n",
              "    .colab-df-container {\n",
              "      display:flex;\n",
              "      flex-wrap:wrap;\n",
              "      gap: 12px;\n",
              "    }\n",
              "\n",
              "    .colab-df-convert {\n",
              "      background-color: #E8F0FE;\n",
              "      border: none;\n",
              "      border-radius: 50%;\n",
              "      cursor: pointer;\n",
              "      display: none;\n",
              "      fill: #1967D2;\n",
              "      height: 32px;\n",
              "      padding: 0 0 0 0;\n",
              "      width: 32px;\n",
              "    }\n",
              "\n",
              "    .colab-df-convert:hover {\n",
              "      background-color: #E2EBFA;\n",
              "      box-shadow: 0px 1px 2px rgba(60, 64, 67, 0.3), 0px 1px 3px 1px rgba(60, 64, 67, 0.15);\n",
              "      fill: #174EA6;\n",
              "    }\n",
              "\n",
              "    [theme=dark] .colab-df-convert {\n",
              "      background-color: #3B4455;\n",
              "      fill: #D2E3FC;\n",
              "    }\n",
              "\n",
              "    [theme=dark] .colab-df-convert:hover {\n",
              "      background-color: #434B5C;\n",
              "      box-shadow: 0px 1px 3px 1px rgba(0, 0, 0, 0.15);\n",
              "      filter: drop-shadow(0px 1px 2px rgba(0, 0, 0, 0.3));\n",
              "      fill: #FFFFFF;\n",
              "    }\n",
              "  </style>\n",
              "\n",
              "      <script>\n",
              "        const buttonEl =\n",
              "          document.querySelector('#df-5513dd4c-b1b3-435f-a47f-99157f2825ac button.colab-df-convert');\n",
              "        buttonEl.style.display =\n",
              "          google.colab.kernel.accessAllowed ? 'block' : 'none';\n",
              "\n",
              "        async function convertToInteractive(key) {\n",
              "          const element = document.querySelector('#df-5513dd4c-b1b3-435f-a47f-99157f2825ac');\n",
              "          const dataTable =\n",
              "            await google.colab.kernel.invokeFunction('convertToInteractive',\n",
              "                                                     [key], {});\n",
              "          if (!dataTable) return;\n",
              "\n",
              "          const docLinkHtml = 'Like what you see? Visit the ' +\n",
              "            '<a target=\"_blank\" href=https://colab.research.google.com/notebooks/data_table.ipynb>data table notebook</a>'\n",
              "            + ' to learn more about interactive tables.';\n",
              "          element.innerHTML = '';\n",
              "          dataTable['output_type'] = 'display_data';\n",
              "          await google.colab.output.renderOutput(dataTable, element);\n",
              "          const docLink = document.createElement('div');\n",
              "          docLink.innerHTML = docLinkHtml;\n",
              "          element.appendChild(docLink);\n",
              "        }\n",
              "      </script>\n",
              "    </div>\n",
              "  </div>\n",
              "  "
            ],
            "text/plain": [
              "                                               title  ...  ships_from\n",
              "0                             JJ Luna privacy ebooks  ...  Undeclared\n",
              "1                         The Morality of Capitalism  ...  Undeclared\n",
              "2                                           Survive!  ...  Undeclared\n",
              "3                      A Non-Religious New Testament  ...  Undeclared\n",
              "4  Mindless Slogans: 101 Cheap Substitutes for Ac...  ...  Undeclared\n",
              "\n",
              "[5 rows x 5 columns]"
            ]
          },
          "metadata": {},
          "execution_count": 8
        }
      ]
    },
    {
      "cell_type": "markdown",
      "source": [
        "Paso los precios a EUROS."
      ],
      "metadata": {
        "id": "Q8CmcrBr-G_P"
      }
    },
    {
      "cell_type": "code",
      "source": [
        "btc = pd.read_csv('Bitcoin2014-2015.csv', encoding='latin-1')\n",
        "btc.rename(columns={'ï»¿\"Date\"':'Date'}, inplace=True)\n",
        "btc['Date'] = pd.to_datetime(btc['Date'])\n",
        "btc = btc.drop(['Open', 'High', 'Low', 'Vol.', 'Change %'], axis=1)"
      ],
      "metadata": {
        "id": "SOR9O7nf-NMP"
      },
      "execution_count": null,
      "outputs": []
    },
    {
      "cell_type": "code",
      "source": [
        "items = items.merge(btc, left_on='timestamp', right_on='Date', how='left')\n",
        "btc = None"
      ],
      "metadata": {
        "id": "2d8-NTxz-Puk"
      },
      "execution_count": null,
      "outputs": []
    },
    {
      "cell_type": "markdown",
      "source": [
        "Voy a eliminar los primeros 120000 datos (recordar que están ordenados de mayor a menor por el precio):"
      ],
      "metadata": {
        "id": "TGn2AIl_-XFW"
      }
    },
    {
      "cell_type": "code",
      "source": [
        "items = items.sort_values(['price'], ascending = False).reset_index().drop(range(0,120000))\n",
        "items = items.reset_index()\n",
        "items.drop(['index', 'level_0'], axis=1, inplace=True)"
      ],
      "metadata": {
        "id": "k8Ylj1ul-SoV"
      },
      "execution_count": null,
      "outputs": []
    },
    {
      "cell_type": "code",
      "source": [
        "items.drop(['Date'], axis=1, inplace=True)\n",
        "\n",
        "items['Price_EUR'] = items['price'] * items['Price']\n",
        "items.drop(['Price', 'price'], axis=1, inplace=True)\n",
        "items.head(3)"
      ],
      "metadata": {
        "colab": {
          "base_uri": "https://localhost:8080/",
          "height": 143
        },
        "id": "_EZf7Wzo-fx2",
        "outputId": "f218ce37-39ec-49fa-98ce-6d7c6436fa40"
      },
      "execution_count": null,
      "outputs": [
        {
          "output_type": "execute_result",
          "data": {
            "text/html": [
              "\n",
              "  <div id=\"df-3e4d4db1-22c2-4278-8721-8467fea9cc3a\">\n",
              "    <div class=\"colab-df-container\">\n",
              "      <div>\n",
              "<style scoped>\n",
              "    .dataframe tbody tr th:only-of-type {\n",
              "        vertical-align: middle;\n",
              "    }\n",
              "\n",
              "    .dataframe tbody tr th {\n",
              "        vertical-align: top;\n",
              "    }\n",
              "\n",
              "    .dataframe thead th {\n",
              "        text-align: right;\n",
              "    }\n",
              "</style>\n",
              "<table border=\"1\" class=\"dataframe\">\n",
              "  <thead>\n",
              "    <tr style=\"text-align: right;\">\n",
              "      <th></th>\n",
              "      <th>title</th>\n",
              "      <th>category</th>\n",
              "      <th>timestamp</th>\n",
              "      <th>ships_from</th>\n",
              "      <th>Price_EUR</th>\n",
              "    </tr>\n",
              "  </thead>\n",
              "  <tbody>\n",
              "    <tr>\n",
              "      <th>0</th>\n",
              "      <td>1/2 oz Blue Dream</td>\n",
              "      <td>Cannabis</td>\n",
              "      <td>2014-11-02</td>\n",
              "      <td>United States</td>\n",
              "      <td>133.712305</td>\n",
              "    </tr>\n",
              "    <tr>\n",
              "      <th>1</th>\n",
              "      <td>*STAR QUALITY - MDMA CRYSTAL- PREMIUM UNCUT***...</td>\n",
              "      <td>MDMA</td>\n",
              "      <td>2014-10-23</td>\n",
              "      <td>United Kingdom</td>\n",
              "      <td>145.908661</td>\n",
              "    </tr>\n",
              "    <tr>\n",
              "      <th>2</th>\n",
              "      <td>14g Tasty HomeGrown Bud</td>\n",
              "      <td>Weed</td>\n",
              "      <td>2014-10-26</td>\n",
              "      <td>United Kingdom</td>\n",
              "      <td>144.928256</td>\n",
              "    </tr>\n",
              "  </tbody>\n",
              "</table>\n",
              "</div>\n",
              "      <button class=\"colab-df-convert\" onclick=\"convertToInteractive('df-3e4d4db1-22c2-4278-8721-8467fea9cc3a')\"\n",
              "              title=\"Convert this dataframe to an interactive table.\"\n",
              "              style=\"display:none;\">\n",
              "        \n",
              "  <svg xmlns=\"http://www.w3.org/2000/svg\" height=\"24px\"viewBox=\"0 0 24 24\"\n",
              "       width=\"24px\">\n",
              "    <path d=\"M0 0h24v24H0V0z\" fill=\"none\"/>\n",
              "    <path d=\"M18.56 5.44l.94 2.06.94-2.06 2.06-.94-2.06-.94-.94-2.06-.94 2.06-2.06.94zm-11 1L8.5 8.5l.94-2.06 2.06-.94-2.06-.94L8.5 2.5l-.94 2.06-2.06.94zm10 10l.94 2.06.94-2.06 2.06-.94-2.06-.94-.94-2.06-.94 2.06-2.06.94z\"/><path d=\"M17.41 7.96l-1.37-1.37c-.4-.4-.92-.59-1.43-.59-.52 0-1.04.2-1.43.59L10.3 9.45l-7.72 7.72c-.78.78-.78 2.05 0 2.83L4 21.41c.39.39.9.59 1.41.59.51 0 1.02-.2 1.41-.59l7.78-7.78 2.81-2.81c.8-.78.8-2.07 0-2.86zM5.41 20L4 18.59l7.72-7.72 1.47 1.35L5.41 20z\"/>\n",
              "  </svg>\n",
              "      </button>\n",
              "      \n",
              "  <style>\n",
              "    .colab-df-container {\n",
              "      display:flex;\n",
              "      flex-wrap:wrap;\n",
              "      gap: 12px;\n",
              "    }\n",
              "\n",
              "    .colab-df-convert {\n",
              "      background-color: #E8F0FE;\n",
              "      border: none;\n",
              "      border-radius: 50%;\n",
              "      cursor: pointer;\n",
              "      display: none;\n",
              "      fill: #1967D2;\n",
              "      height: 32px;\n",
              "      padding: 0 0 0 0;\n",
              "      width: 32px;\n",
              "    }\n",
              "\n",
              "    .colab-df-convert:hover {\n",
              "      background-color: #E2EBFA;\n",
              "      box-shadow: 0px 1px 2px rgba(60, 64, 67, 0.3), 0px 1px 3px 1px rgba(60, 64, 67, 0.15);\n",
              "      fill: #174EA6;\n",
              "    }\n",
              "\n",
              "    [theme=dark] .colab-df-convert {\n",
              "      background-color: #3B4455;\n",
              "      fill: #D2E3FC;\n",
              "    }\n",
              "\n",
              "    [theme=dark] .colab-df-convert:hover {\n",
              "      background-color: #434B5C;\n",
              "      box-shadow: 0px 1px 3px 1px rgba(0, 0, 0, 0.15);\n",
              "      filter: drop-shadow(0px 1px 2px rgba(0, 0, 0, 0.3));\n",
              "      fill: #FFFFFF;\n",
              "    }\n",
              "  </style>\n",
              "\n",
              "      <script>\n",
              "        const buttonEl =\n",
              "          document.querySelector('#df-3e4d4db1-22c2-4278-8721-8467fea9cc3a button.colab-df-convert');\n",
              "        buttonEl.style.display =\n",
              "          google.colab.kernel.accessAllowed ? 'block' : 'none';\n",
              "\n",
              "        async function convertToInteractive(key) {\n",
              "          const element = document.querySelector('#df-3e4d4db1-22c2-4278-8721-8467fea9cc3a');\n",
              "          const dataTable =\n",
              "            await google.colab.kernel.invokeFunction('convertToInteractive',\n",
              "                                                     [key], {});\n",
              "          if (!dataTable) return;\n",
              "\n",
              "          const docLinkHtml = 'Like what you see? Visit the ' +\n",
              "            '<a target=\"_blank\" href=https://colab.research.google.com/notebooks/data_table.ipynb>data table notebook</a>'\n",
              "            + ' to learn more about interactive tables.';\n",
              "          element.innerHTML = '';\n",
              "          dataTable['output_type'] = 'display_data';\n",
              "          await google.colab.output.renderOutput(dataTable, element);\n",
              "          const docLink = document.createElement('div');\n",
              "          docLink.innerHTML = docLinkHtml;\n",
              "          element.appendChild(docLink);\n",
              "        }\n",
              "      </script>\n",
              "    </div>\n",
              "  </div>\n",
              "  "
            ],
            "text/plain": [
              "                                               title  ...   Price_EUR\n",
              "0                                  1/2 oz Blue Dream  ...  133.712305\n",
              "1  *STAR QUALITY - MDMA CRYSTAL- PREMIUM UNCUT***...  ...  145.908661\n",
              "2                            14g Tasty HomeGrown Bud  ...  144.928256\n",
              "\n",
              "[3 rows x 5 columns]"
            ]
          },
          "metadata": {},
          "execution_count": 12
        }
      ]
    },
    {
      "cell_type": "markdown",
      "source": [
        "Veo si hay productos con NaN"
      ],
      "metadata": {
        "id": "DQiztbL1-oQh"
      }
    },
    {
      "cell_type": "code",
      "source": [
        "items['Price_EUR'].isnull().values.sum()"
      ],
      "metadata": {
        "colab": {
          "base_uri": "https://localhost:8080/"
        },
        "id": "j22Fulpw-nlz",
        "outputId": "e50c13e3-6911-4e46-effb-625206b2c348"
      },
      "execution_count": null,
      "outputs": [
        {
          "output_type": "execute_result",
          "data": {
            "text/plain": [
              "64"
            ]
          },
          "metadata": {},
          "execution_count": 13
        }
      ]
    },
    {
      "cell_type": "markdown",
      "source": [
        "Como son pocos, los voy a borrar directamente"
      ],
      "metadata": {
        "id": "YD6MSgYc-sNG"
      }
    },
    {
      "cell_type": "code",
      "source": [
        "items.dropna(subset=['Price_EUR'], inplace=True)"
      ],
      "metadata": {
        "id": "jYwJ_das-vwV"
      },
      "execution_count": null,
      "outputs": []
    },
    {
      "cell_type": "code",
      "source": [
        "items = items.sort_values([\"timestamp\"])"
      ],
      "metadata": {
        "id": "nsClsSwd-w99"
      },
      "execution_count": null,
      "outputs": []
    },
    {
      "cell_type": "code",
      "source": [
        "items.info()"
      ],
      "metadata": {
        "colab": {
          "base_uri": "https://localhost:8080/"
        },
        "id": "ZvkGO3o3-yYd",
        "outputId": "7f1470f1-703f-4bc0-b7d5-0758b492fafb"
      },
      "execution_count": null,
      "outputs": [
        {
          "output_type": "stream",
          "name": "stdout",
          "text": [
            "<class 'pandas.core.frame.DataFrame'>\n",
            "Int64Index: 281030 entries, 109759 to 258122\n",
            "Data columns (total 5 columns):\n",
            " #   Column      Non-Null Count   Dtype         \n",
            "---  ------      --------------   -----         \n",
            " 0   title       281030 non-null  object        \n",
            " 1   category    281030 non-null  object        \n",
            " 2   timestamp   281030 non-null  datetime64[ns]\n",
            " 3   ships_from  280877 non-null  object        \n",
            " 4   Price_EUR   281030 non-null  float64       \n",
            "dtypes: datetime64[ns](1), float64(1), object(3)\n",
            "memory usage: 12.9+ MB\n"
          ]
        }
      ]
    },
    {
      "cell_type": "code",
      "source": [
        "fig, ax = plt.subplots(nrows=1, ncols=1, figsize=(12, 8))\n",
        "sns.histplot(data=items, x='Price_EUR', kde=True,ax=ax)\n",
        "ax.set_title(\"Distribución Precio\")\n",
        "ax.set_xlabel('Precio (EUR)');"
      ],
      "metadata": {
        "colab": {
          "base_uri": "https://localhost:8080/",
          "height": 558
        },
        "id": "28hhHsH7pdZD",
        "outputId": "ec835c9c-6088-4830-873f-cb0114cf06b8"
      },
      "execution_count": null,
      "outputs": [
        {
          "output_type": "display_data",
          "data": {
            "image/png": "[encoded data removed]",
            "text/plain": [
              "<Figure size 864x576 with 1 Axes>"
            ]
          },
          "metadata": {}
        }
      ]
    },
    {
      "cell_type": "markdown",
      "source": [
        "Divido en entrenamiento y validacion. Sera un 80% y 20% respectivamente."
      ],
      "metadata": {
        "id": "8Um_9T3I-zks"
      }
    },
    {
      "cell_type": "code",
      "source": [
        "train = items.iloc[:240824]\n",
        "validation = items.iloc[240824:]\n",
        "items = None"
      ],
      "metadata": {
        "id": "R5WeGn24-7Pe"
      },
      "execution_count": null,
      "outputs": []
    },
    {
      "cell_type": "markdown",
      "source": [
        "Divido la fecha por dia, mes y año"
      ],
      "metadata": {
        "id": "RP7s5hxg-_Am"
      }
    },
    {
      "cell_type": "code",
      "source": [
        "train['Year'] = train['timestamp'].dt.year \n",
        "train['Month'] = train['timestamp'].dt.month\n",
        "train['Day'] = train['timestamp'].dt.day \n",
        "\n",
        "train.drop('timestamp', axis=1, inplace=True)\n",
        "\n",
        "validation['Year'] = validation['timestamp'].dt.year \n",
        "validation['Month'] = validation['timestamp'].dt.month\n",
        "validation['Day'] = validation['timestamp'].dt.day \n",
        "\n",
        "\n",
        "validation.drop('timestamp', axis=1, inplace=True)"
      ],
      "metadata": {
        "id": "rJ7uN9Ec_BEP"
      },
      "execution_count": null,
      "outputs": []
    },
    {
      "cell_type": "markdown",
      "source": [
        "**Tema: NaN**\n",
        "\n",
        "Si son de features numericos: no hay\n",
        "\n",
        "Si son de features no numericos: pasaran a ser el valor 'Desconocido' (pasa a ser una categoría del feature)"
      ],
      "metadata": {
        "id": "AHuxo25B_F41"
      }
    },
    {
      "cell_type": "code",
      "source": [
        "train.fillna('Desconocido', inplace=True)\n",
        "validation.fillna('Desconocido', inplace=True)"
      ],
      "metadata": {
        "id": "ph_qfF5i_EjC"
      },
      "execution_count": null,
      "outputs": []
    },
    {
      "cell_type": "code",
      "source": [
        "train.head(3)"
      ],
      "metadata": {
        "colab": {
          "base_uri": "https://localhost:8080/",
          "height": 143
        },
        "id": "IHRA5HFz_DZr",
        "outputId": "6c815dcf-0863-46b9-e632-020e06a71061"
      },
      "execution_count": null,
      "outputs": [
        {
          "output_type": "execute_result",
          "data": {
            "text/html": [
              "\n",
              "  <div id=\"df-18235203-dd30-4d6c-a58c-a259f7e5b09f\">\n",
              "    <div class=\"colab-df-container\">\n",
              "      <div>\n",
              "<style scoped>\n",
              "    .dataframe tbody tr th:only-of-type {\n",
              "        vertical-align: middle;\n",
              "    }\n",
              "\n",
              "    .dataframe tbody tr th {\n",
              "        vertical-align: top;\n",
              "    }\n",
              "\n",
              "    .dataframe thead th {\n",
              "        text-align: right;\n",
              "    }\n",
              "</style>\n",
              "<table border=\"1\" class=\"dataframe\">\n",
              "  <thead>\n",
              "    <tr style=\"text-align: right;\">\n",
              "      <th></th>\n",
              "      <th>title</th>\n",
              "      <th>category</th>\n",
              "      <th>ships_from</th>\n",
              "      <th>Price_EUR</th>\n",
              "      <th>Year</th>\n",
              "      <th>Month</th>\n",
              "      <th>Day</th>\n",
              "    </tr>\n",
              "  </thead>\n",
              "  <tbody>\n",
              "    <tr>\n",
              "      <th>109759</th>\n",
              "      <td>custom for  USDollars</td>\n",
              "      <td>Alcohol</td>\n",
              "      <td>Belgium</td>\n",
              "      <td>41.217938</td>\n",
              "      <td>2014</td>\n",
              "      <td>2</td>\n",
              "      <td>23</td>\n",
              "    </tr>\n",
              "    <tr>\n",
              "      <th>146289</th>\n",
              "      <td>Soma/ Carisoma 350mg - 60Pills</td>\n",
              "      <td>Drugs</td>\n",
              "      <td>India</td>\n",
              "      <td>28.575295</td>\n",
              "      <td>2014</td>\n",
              "      <td>2</td>\n",
              "      <td>23</td>\n",
              "    </tr>\n",
              "    <tr>\n",
              "      <th>71865</th>\n",
              "      <td>OUNCE OF STRONG MUSHROOMS, NO FE</td>\n",
              "      <td>Shrooms</td>\n",
              "      <td>United States</td>\n",
              "      <td>61.187523</td>\n",
              "      <td>2014</td>\n",
              "      <td>2</td>\n",
              "      <td>23</td>\n",
              "    </tr>\n",
              "  </tbody>\n",
              "</table>\n",
              "</div>\n",
              "      <button class=\"colab-df-convert\" onclick=\"convertToInteractive('df-18235203-dd30-4d6c-a58c-a259f7e5b09f')\"\n",
              "              title=\"Convert this dataframe to an interactive table.\"\n",
              "              style=\"display:none;\">\n",
              "        \n",
              "  <svg xmlns=\"http://www.w3.org/2000/svg\" height=\"24px\"viewBox=\"0 0 24 24\"\n",
              "       width=\"24px\">\n",
              "    <path d=\"M0 0h24v24H0V0z\" fill=\"none\"/>\n",
              "    <path d=\"M18.56 5.44l.94 2.06.94-2.06 2.06-.94-2.06-.94-.94-2.06-.94 2.06-2.06.94zm-11 1L8.5 8.5l.94-2.06 2.06-.94-2.06-.94L8.5 2.5l-.94 2.06-2.06.94zm10 10l.94 2.06.94-2.06 2.06-.94-2.06-.94-.94-2.06-.94 2.06-2.06.94z\"/><path d=\"M17.41 7.96l-1.37-1.37c-.4-.4-.92-.59-1.43-.59-.52 0-1.04.2-1.43.59L10.3 9.45l-7.72 7.72c-.78.78-.78 2.05 0 2.83L4 21.41c.39.39.9.59 1.41.59.51 0 1.02-.2 1.41-.59l7.78-7.78 2.81-2.81c.8-.78.8-2.07 0-2.86zM5.41 20L4 18.59l7.72-7.72 1.47 1.35L5.41 20z\"/>\n",
              "  </svg>\n",
              "      </button>\n",
              "      \n",
              "  <style>\n",
              "    .colab-df-container {\n",
              "      display:flex;\n",
              "      flex-wrap:wrap;\n",
              "      gap: 12px;\n",
              "    }\n",
              "\n",
              "    .colab-df-convert {\n",
              "      background-color: #E8F0FE;\n",
              "      border: none;\n",
              "      border-radius: 50%;\n",
              "      cursor: pointer;\n",
              "      display: none;\n",
              "      fill: #1967D2;\n",
              "      height: 32px;\n",
              "      padding: 0 0 0 0;\n",
              "      width: 32px;\n",
              "    }\n",
              "\n",
              "    .colab-df-convert:hover {\n",
              "      background-color: #E2EBFA;\n",
              "      box-shadow: 0px 1px 2px rgba(60, 64, 67, 0.3), 0px 1px 3px 1px rgba(60, 64, 67, 0.15);\n",
              "      fill: #174EA6;\n",
              "    }\n",
              "\n",
              "    [theme=dark] .colab-df-convert {\n",
              "      background-color: #3B4455;\n",
              "      fill: #D2E3FC;\n",
              "    }\n",
              "\n",
              "    [theme=dark] .colab-df-convert:hover {\n",
              "      background-color: #434B5C;\n",
              "      box-shadow: 0px 1px 3px 1px rgba(0, 0, 0, 0.15);\n",
              "      filter: drop-shadow(0px 1px 2px rgba(0, 0, 0, 0.3));\n",
              "      fill: #FFFFFF;\n",
              "    }\n",
              "  </style>\n",
              "\n",
              "      <script>\n",
              "        const buttonEl =\n",
              "          document.querySelector('#df-18235203-dd30-4d6c-a58c-a259f7e5b09f button.colab-df-convert');\n",
              "        buttonEl.style.display =\n",
              "          google.colab.kernel.accessAllowed ? 'block' : 'none';\n",
              "\n",
              "        async function convertToInteractive(key) {\n",
              "          const element = document.querySelector('#df-18235203-dd30-4d6c-a58c-a259f7e5b09f');\n",
              "          const dataTable =\n",
              "            await google.colab.kernel.invokeFunction('convertToInteractive',\n",
              "                                                     [key], {});\n",
              "          if (!dataTable) return;\n",
              "\n",
              "          const docLinkHtml = 'Like what you see? Visit the ' +\n",
              "            '<a target=\"_blank\" href=https://colab.research.google.com/notebooks/data_table.ipynb>data table notebook</a>'\n",
              "            + ' to learn more about interactive tables.';\n",
              "          element.innerHTML = '';\n",
              "          dataTable['output_type'] = 'display_data';\n",
              "          await google.colab.output.renderOutput(dataTable, element);\n",
              "          const docLink = document.createElement('div');\n",
              "          docLink.innerHTML = docLinkHtml;\n",
              "          element.appendChild(docLink);\n",
              "        }\n",
              "      </script>\n",
              "    </div>\n",
              "  </div>\n",
              "  "
            ],
            "text/plain": [
              "                                   title category  ... Month  Day\n",
              "109759            custom for  USDollars   Alcohol  ...     2   23\n",
              "146289    Soma/ Carisoma 350mg - 60Pills    Drugs  ...     2   23\n",
              "71865   OUNCE OF STRONG MUSHROOMS, NO FE  Shrooms  ...     2   23\n",
              "\n",
              "[3 rows x 7 columns]"
            ]
          },
          "metadata": {},
          "execution_count": 21
        }
      ]
    },
    {
      "cell_type": "code",
      "source": [
        "x_train = train.drop('Price_EUR', axis=1)\n",
        "y_train = train['Price_EUR']\n",
        "\n",
        "x_valid = validation.drop('Price_EUR', axis=1)\n",
        "y_valid = validation['Price_EUR']\n",
        "\n",
        "train = None\n",
        "validation = None"
      ],
      "metadata": {
        "id": "biVEsOUfq__w"
      },
      "execution_count": null,
      "outputs": []
    },
    {
      "cell_type": "markdown",
      "source": [
        "# Encoding y modelado"
      ],
      "metadata": {
        "id": "NYhdaO80QTbO"
      }
    },
    {
      "cell_type": "markdown",
      "source": [
        "Voy a aplicar OHE a las variables categoricas y voy a estandarizar las variables continuas.\n",
        "\n",
        "**Voy a realizar el encoding y el modelado todo junto.**\n",
        "\n"
      ],
      "metadata": {
        "id": "XvH8TKs-RS5C"
      }
    },
    {
      "cell_type": "markdown",
      "source": [
        "En gran parte me guie por esto: https://www.cienciadedatos.net/documentos/py35-redes-neuronales-python.html"
      ],
      "metadata": {
        "id": "pt-w3Q0xyAMu"
      }
    },
    {
      "cell_type": "code",
      "source": [
        "# Identificación de columnas numéricas y categóricas\n",
        "numeric_cols = x_train.select_dtypes(include=['float64', 'int64']).columns.to_list()\n",
        "cat_cols = x_train.select_dtypes(include=['object']).columns.to_list()\n",
        "\n",
        "# Transformaciones para las variables numéricas\n",
        "numeric_transformer = Pipeline(steps=[('scaler', StandardScaler())])\n",
        "\n",
        "# Transformaciones para las variables categóricas\n",
        "categorical_transformer = Pipeline(steps=[('onehot', OneHotEncoder(handle_unknown='ignore'))])\n",
        "\n",
        "preprocessor = ColumnTransformer(\n",
        "                    transformers=[\n",
        "                        ('numeric', numeric_transformer, numeric_cols),\n",
        "                        ('cat', categorical_transformer, cat_cols)],\n",
        "                    remainder='passthrough')\n",
        "\n",
        "# Se combinan los pasos de preprocesado y el modelo en un mismo pipeline\n",
        "pipe = Pipeline([('preprocessing', preprocessor),\n",
        "                 ('modelo', MLPRegressor(solver = 'lbfgs', max_iter= 1000))])"
      ],
      "metadata": {
        "id": "_72zI82pqj-c"
      },
      "execution_count": null,
      "outputs": []
    },
    {
      "cell_type": "markdown",
      "source": [
        "Hiperparametros: no voy a setear ninguno ya que sino tarda muchisimas horas y no queda mucho tiempo para la hora entrega :("
      ],
      "metadata": {
        "id": "luH5gAZBrO2t"
      }
    },
    {
      "cell_type": "code",
      "source": [
        "# Búsqueda por validación cruzada\n",
        "#grid = RandomizedSearchCV(\n",
        " #       estimator  = pipe,\n",
        "  #      param_distributions = {},\n",
        "   #     n_iter     = 20,\n",
        "    #    scoring    = 'r2',\n",
        "     #   n_jobs     = 1,\n",
        "     #   cv         = 5, \n",
        "     #   verbose    = 0,\n",
        "     #   random_state = 40,\n",
        "     #   return_train_score = True\n",
        "      # )\n",
        "\n",
        "#grid.fit(X = x_train, y = y_train)\n"
      ],
      "metadata": {
        "id": "-RHlbQ7UrQ4K"
      },
      "execution_count": null,
      "outputs": []
    },
    {
      "cell_type": "code",
      "source": [
        "import pickle\n",
        "from warnings import simplefilter\n",
        "simplefilter(action='ignore', category=FutureWarning)"
      ],
      "metadata": {
        "id": "_TsLQ9aD53Wf"
      },
      "execution_count": null,
      "outputs": []
    },
    {
      "cell_type": "code",
      "source": [
        "#with open('model_backup_mlpr3', 'wb') as model_backup_file:\n",
        " #   pickle.dump(grid, model_backup_file)"
      ],
      "metadata": {
        "id": "xGFz7UFE55qf"
      },
      "execution_count": null,
      "outputs": []
    },
    {
      "cell_type": "code",
      "source": [
        "with open('model_backup_mlpr3', 'rb') as file:\n",
        "    grid = pickle.load(file)"
      ],
      "metadata": {
        "id": "9EcyAcED6BiS"
      },
      "execution_count": null,
      "outputs": []
    },
    {
      "cell_type": "markdown",
      "source": [
        "# Prediccion con el set de validacion"
      ],
      "metadata": {
        "id": "2wR2qzbIyvHt"
      }
    },
    {
      "cell_type": "code",
      "source": [
        "modelo_final = grid.best_estimator_\n",
        "y_pred = modelo_final.predict(X = x_valid)"
      ],
      "metadata": {
        "id": "bwLmLaBFy11V"
      },
      "execution_count": null,
      "outputs": []
    },
    {
      "cell_type": "code",
      "source": [
        "mean_squared_error(y_valid, y_pred)"
      ],
      "metadata": {
        "colab": {
          "base_uri": "https://localhost:8080/"
        },
        "id": "G-y0jrbzy3M3",
        "outputId": "369e366a-b8eb-45f2-9d35-3e6ecdd6ede1"
      },
      "execution_count": null,
      "outputs": [
        {
          "output_type": "execute_result",
          "data": {
            "text/plain": [
              "136.49803344290063"
            ]
          },
          "metadata": {},
          "execution_count": 29
        }
      ]
    },
    {
      "cell_type": "code",
      "source": [
        "r2_score(y_valid, y_pred)"
      ],
      "metadata": {
        "colab": {
          "base_uri": "https://localhost:8080/"
        },
        "id": "_I9K3tLNy4Rg",
        "outputId": "491ce614-57fb-4114-929d-cf4a297e98ae"
      },
      "execution_count": null,
      "outputs": [
        {
          "output_type": "execute_result",
          "data": {
            "text/plain": [
              "0.904942058203634"
            ]
          },
          "metadata": {},
          "execution_count": 30
        }
      ]
    },
    {
      "cell_type": "markdown",
      "source": [
        "# Versus"
      ],
      "metadata": {
        "id": "W1GnUJUrQtKf"
      }
    },
    {
      "cell_type": "code",
      "source": [
        "downloaded = drive.CreateFile({'id': '12voIVKmM2EisPWQD8ickJot2nO5q1uv6'})\n",
        "downloaded.GetContentFile('versus.csv')"
      ],
      "metadata": {
        "id": "PDNmdtwIQsvu"
      },
      "execution_count": null,
      "outputs": []
    },
    {
      "cell_type": "code",
      "source": [
        "versus = pd.read_csv('versus.csv', encoding='latin-1')\n",
        "versus[\"timestamp\"]=pd.to_datetime(versus[\"timestamp\"])\n",
        "versus[\"timestamp\"] = versus['timestamp'].dt.floor('d')"
      ],
      "metadata": {
        "id": "6YjH1kBKQwat"
      },
      "execution_count": null,
      "outputs": []
    },
    {
      "cell_type": "code",
      "source": [
        "versus.drop(['warnings', 'Type', 'Sales', 'Stock', 'price_unit'], axis = 1, inplace=True)\n",
        "versus.rename(columns={'Category': 'category', 'From':'ships_from', 'price':'Price_EUR'}, inplace=True)\n",
        "versus[\"Price_EUR\"].replace({'EUR':''}, regex=True, inplace=True)\n",
        "versus['Price_EUR'] = versus['Price_EUR'].astype(float)"
      ],
      "metadata": {
        "id": "yO85AOVGQ1XB"
      },
      "execution_count": null,
      "outputs": []
    },
    {
      "cell_type": "code",
      "source": [
        "versus['Price_EUR'].isnull().values.sum()"
      ],
      "metadata": {
        "id": "HaHwKP9kQ2Ei",
        "colab": {
          "base_uri": "https://localhost:8080/"
        },
        "outputId": "c2213750-fd16-4e61-ff79-9ba51787392d"
      },
      "execution_count": null,
      "outputs": [
        {
          "output_type": "execute_result",
          "data": {
            "text/plain": [
              "0"
            ]
          },
          "metadata": {},
          "execution_count": 34
        }
      ]
    },
    {
      "cell_type": "code",
      "source": [
        "versus['Year'] = versus['timestamp'].dt.year \n",
        "versus['Month'] = versus['timestamp'].dt.month\n",
        "versus['Day'] = versus['timestamp'].dt.day \n",
        "\n",
        "versus.drop('timestamp', axis=1, inplace=True)"
      ],
      "metadata": {
        "id": "2IB76xI9y7qw"
      },
      "execution_count": null,
      "outputs": []
    },
    {
      "cell_type": "code",
      "source": [
        "versus.fillna('Desconocido', inplace=True)"
      ],
      "metadata": {
        "id": "eQAFFVnuy89-"
      },
      "execution_count": null,
      "outputs": []
    },
    {
      "cell_type": "code",
      "source": [
        "x_test = versus.drop('Price_EUR', axis=1)\n",
        "y_test = versus['Price_EUR']"
      ],
      "metadata": {
        "id": "Zyza97OBy-vi"
      },
      "execution_count": null,
      "outputs": []
    },
    {
      "cell_type": "code",
      "source": [
        "y_pred_test = modelo_final.predict(X = x_test)"
      ],
      "metadata": {
        "id": "YKoyTPAiy_x3"
      },
      "execution_count": null,
      "outputs": []
    },
    {
      "cell_type": "code",
      "source": [
        "mean_squared_error(y_test, y_pred_test)"
      ],
      "metadata": {
        "colab": {
          "base_uri": "https://localhost:8080/"
        },
        "id": "jseksYpRzAo6",
        "outputId": "f818da4e-a03c-4d66-ddf7-c37f062eaf8d"
      },
      "execution_count": null,
      "outputs": [
        {
          "output_type": "execute_result",
          "data": {
            "text/plain": [
              "72295776.34816341"
            ]
          },
          "metadata": {},
          "execution_count": 39
        }
      ]
    },
    {
      "cell_type": "code",
      "source": [
        "r2_score(y_test, y_pred_test)"
      ],
      "metadata": {
        "colab": {
          "base_uri": "https://localhost:8080/"
        },
        "id": "CP9UBIOWzB0o",
        "outputId": "6bda18b6-45f4-40db-c4b4-87d86fcae8f3"
      },
      "execution_count": null,
      "outputs": [
        {
          "output_type": "execute_result",
          "data": {
            "text/plain": [
              "-0.004331842952274956"
            ]
          },
          "metadata": {},
          "execution_count": 40
        }
      ]
    }
  ]
}