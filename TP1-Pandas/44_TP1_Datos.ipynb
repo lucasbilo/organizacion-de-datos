{
  "nbformat": 4,
  "nbformat_minor": 0,
  "metadata": {
    "colab": {
      "name": "44-TP1-Datos.ipynb",
      "provenance": [],
      "collapsed_sections": []
    },
    "kernelspec": {
      "name": "python3",
      "display_name": "Python 3"
    },
    "language_info": {
      "name": "python"
    }
  },
  "cells": [
    {
      "cell_type": "markdown",
      "metadata": {
        "id": "ARcOEkiKPVJn"
      },
      "source": [
        "**44. Si decimos que la ubicación de un usuario es el promedio de la latitud y longitud de\n",
        "los contenidos geolocalizados para los cuales editó la última versión (ignorar\n",
        "usuarios que no editaron contenido geolocalizado). ¿Cuáles son los dos usuarios\n",
        "más cercanos? (⭐⭐⭐)**"
      ]
    },
    {
      "cell_type": "code",
      "metadata": {
        "id": "KkkaM_4bPUX6"
      },
      "source": [
        "import pandas as pd\n",
        "import numpy as np\n",
        "from pydrive.auth import GoogleAuth\n",
        "from pydrive.drive import GoogleDrive\n",
        "from google.colab import auth\n",
        "from oauth2client.client import GoogleCredentials\n",
        "\n",
        "# Authenticate and create the PyDrive client\n",
        "auth.authenticate_user()\n",
        "gauth = GoogleAuth()\n",
        "gauth.credentials = GoogleCredentials.get_application_default()\n",
        "drive = GoogleDrive(gauth)"
      ],
      "execution_count": null,
      "outputs": []
    },
    {
      "cell_type": "markdown",
      "metadata": {
        "id": "VIVHL0N1aWpE"
      },
      "source": [
        "Para este ejercicio voy a utilizar el csv **contents** y **geo_tags**"
      ]
    },
    {
      "cell_type": "code",
      "metadata": {
        "id": "NuXQvlFGYa05"
      },
      "source": [
        "downloaded = drive.CreateFile({'id':'1SnCVFJvTsaEPrmh-PpVGH6-toBVsD6NL'})\n",
        "downloaded.GetContentFile('contents.csv')\n",
        "\n",
        "downloaded2 = drive.CreateFile({'id':'1qLu79VkVJxWp9i4Pnq9cxSLjW6Nipxp9'})\n",
        "downloaded2.GetContentFile('geo_tags.csv')"
      ],
      "execution_count": null,
      "outputs": []
    },
    {
      "cell_type": "markdown",
      "metadata": {
        "id": "YZbzWU1EaTSv"
      },
      "source": [
        "Como contents.csv es muy grande solo voy a leer algunas columnas para ahorrar memoria"
      ]
    },
    {
      "cell_type": "code",
      "metadata": {
        "colab": {
          "base_uri": "https://localhost:8080/",
          "height": 203
        },
        "id": "AHV0vbSsYh69",
        "outputId": "2ff708f5-d9fa-4c4d-a29b-f9025ebc72f5"
      },
      "source": [
        "contents = pd.read_csv('contents.csv', encoding='latin-1' , usecols=['id', 'revision_id', 'revision_timestamp', 'revisor_username', 'revisor_id'], \\\n",
        "                            dtype={'title':'category','revisor_username':'category'})\n",
        "\n",
        "contents.head()"
      ],
      "execution_count": null,
      "outputs": [
        {
          "output_type": "execute_result",
          "data": {
            "text/html": [
              "<div>\n",
              "<style scoped>\n",
              "    .dataframe tbody tr th:only-of-type {\n",
              "        vertical-align: middle;\n",
              "    }\n",
              "\n",
              "    .dataframe tbody tr th {\n",
              "        vertical-align: top;\n",
              "    }\n",
              "\n",
              "    .dataframe thead th {\n",
              "        text-align: right;\n",
              "    }\n",
              "</style>\n",
              "<table border=\"1\" class=\"dataframe\">\n",
              "  <thead>\n",
              "    <tr style=\"text-align: right;\">\n",
              "      <th></th>\n",
              "      <th>id</th>\n",
              "      <th>revision_id</th>\n",
              "      <th>revision_timestamp</th>\n",
              "      <th>revisor_username</th>\n",
              "      <th>revisor_id</th>\n",
              "    </tr>\n",
              "  </thead>\n",
              "  <tbody>\n",
              "    <tr>\n",
              "      <th>0</th>\n",
              "      <td>5</td>\n",
              "      <td>132533307</td>\n",
              "      <td>2021-01-19T18:40:34Z</td>\n",
              "      <td>MetrÃ³nomo</td>\n",
              "      <td>1708233.0</td>\n",
              "    </tr>\n",
              "    <tr>\n",
              "      <th>1</th>\n",
              "      <td>7</td>\n",
              "      <td>138035057</td>\n",
              "      <td>2021-08-31T18:27:01Z</td>\n",
              "      <td>NaN</td>\n",
              "      <td>NaN</td>\n",
              "    </tr>\n",
              "    <tr>\n",
              "      <th>2</th>\n",
              "      <td>10</td>\n",
              "      <td>137966826</td>\n",
              "      <td>2021-08-28T17:17:54Z</td>\n",
              "      <td>Traitrich</td>\n",
              "      <td>4642283.0</td>\n",
              "    </tr>\n",
              "    <tr>\n",
              "      <th>3</th>\n",
              "      <td>15</td>\n",
              "      <td>137986788</td>\n",
              "      <td>2021-08-29T17:16:00Z</td>\n",
              "      <td>Lojwe</td>\n",
              "      <td>5338508.0</td>\n",
              "    </tr>\n",
              "    <tr>\n",
              "      <th>4</th>\n",
              "      <td>17</td>\n",
              "      <td>130869554</td>\n",
              "      <td>2020-11-12T19:56:15Z</td>\n",
              "      <td>Jialxv</td>\n",
              "      <td>3615366.0</td>\n",
              "    </tr>\n",
              "  </tbody>\n",
              "</table>\n",
              "</div>"
            ],
            "text/plain": [
              "   id  revision_id    revision_timestamp revisor_username  revisor_id\n",
              "0   5    132533307  2021-01-19T18:40:34Z       MetrÃ³nomo   1708233.0\n",
              "1   7    138035057  2021-08-31T18:27:01Z              NaN         NaN\n",
              "2  10    137966826  2021-08-28T17:17:54Z        Traitrich   4642283.0\n",
              "3  15    137986788  2021-08-29T17:16:00Z            Lojwe   5338508.0\n",
              "4  17    130869554  2020-11-12T19:56:15Z           Jialxv   3615366.0"
            ]
          },
          "metadata": {},
          "execution_count": 4
        }
      ]
    },
    {
      "cell_type": "markdown",
      "metadata": {
        "id": "y1xGFxaRdGkz"
      },
      "source": [
        "Hay varias columnas de geo_tags que no voy a necesitar, así que algunas directamente no las leo."
      ]
    },
    {
      "cell_type": "code",
      "metadata": {
        "colab": {
          "base_uri": "https://localhost:8080/",
          "height": 203
        },
        "id": "QA__W2uzUfeU",
        "outputId": "33461d1c-4177-46dd-cf7a-ea75c9b65680"
      },
      "source": [
        "geo_tags = pd.read_csv('geo_tags.csv', encoding='latin-1', usecols=[\"gt_page_id\", \"gt_globe\", \"gt_lat\", \"gt_lon\"],\\\n",
        "                            dtype={'gt_globe':'category'})\n",
        "geo_tags.head()"
      ],
      "execution_count": null,
      "outputs": [
        {
          "output_type": "execute_result",
          "data": {
            "text/html": [
              "<div>\n",
              "<style scoped>\n",
              "    .dataframe tbody tr th:only-of-type {\n",
              "        vertical-align: middle;\n",
              "    }\n",
              "\n",
              "    .dataframe tbody tr th {\n",
              "        vertical-align: top;\n",
              "    }\n",
              "\n",
              "    .dataframe thead th {\n",
              "        text-align: right;\n",
              "    }\n",
              "</style>\n",
              "<table border=\"1\" class=\"dataframe\">\n",
              "  <thead>\n",
              "    <tr style=\"text-align: right;\">\n",
              "      <th></th>\n",
              "      <th>gt_page_id</th>\n",
              "      <th>gt_globe</th>\n",
              "      <th>gt_lat</th>\n",
              "      <th>gt_lon</th>\n",
              "    </tr>\n",
              "  </thead>\n",
              "  <tbody>\n",
              "    <tr>\n",
              "      <th>0</th>\n",
              "      <td>4328020</td>\n",
              "      <td>earth</td>\n",
              "      <td>41.5075</td>\n",
              "      <td>-5.8175</td>\n",
              "    </tr>\n",
              "    <tr>\n",
              "      <th>1</th>\n",
              "      <td>4670424</td>\n",
              "      <td>earth</td>\n",
              "      <td>13.7380</td>\n",
              "      <td>-89.2920</td>\n",
              "    </tr>\n",
              "    <tr>\n",
              "      <th>2</th>\n",
              "      <td>4670424</td>\n",
              "      <td>earth</td>\n",
              "      <td>13.7020</td>\n",
              "      <td>-89.2080</td>\n",
              "    </tr>\n",
              "    <tr>\n",
              "      <th>3</th>\n",
              "      <td>4670424</td>\n",
              "      <td>earth</td>\n",
              "      <td>13.4000</td>\n",
              "      <td>-89.7500</td>\n",
              "    </tr>\n",
              "    <tr>\n",
              "      <th>4</th>\n",
              "      <td>4670424</td>\n",
              "      <td>earth</td>\n",
              "      <td>12.8500</td>\n",
              "      <td>-88.0000</td>\n",
              "    </tr>\n",
              "  </tbody>\n",
              "</table>\n",
              "</div>"
            ],
            "text/plain": [
              "   gt_page_id gt_globe   gt_lat   gt_lon\n",
              "0     4328020    earth  41.5075  -5.8175\n",
              "1     4670424    earth  13.7380 -89.2920\n",
              "2     4670424    earth  13.7020 -89.2080\n",
              "3     4670424    earth  13.4000 -89.7500\n",
              "4     4670424    earth  12.8500 -88.0000"
            ]
          },
          "metadata": {},
          "execution_count": 5
        }
      ]
    },
    {
      "cell_type": "code",
      "metadata": {
        "id": "ZbWhPBtNI1CU"
      },
      "source": [
        ""
      ],
      "execution_count": null,
      "outputs": []
    },
    {
      "cell_type": "markdown",
      "metadata": {
        "id": "HxjKQH42bflm"
      },
      "source": [
        "Como solo me va a interesar el contenido geolocalizado, hago un merge por id entre estos csv:"
      ]
    },
    {
      "cell_type": "code",
      "metadata": {
        "colab": {
          "base_uri": "https://localhost:8080/",
          "height": 203
        },
        "id": "FsNYTAP9bjHN",
        "outputId": "b2f6fbce-a44e-4a52-9b24-e36fbd5c36dc"
      },
      "source": [
        "contents_geo = contents.merge(geo_tags, how='inner', left_on='id', right_on='gt_page_id')\n",
        "contents_geo.head()"
      ],
      "execution_count": null,
      "outputs": [
        {
          "output_type": "execute_result",
          "data": {
            "text/html": [
              "<div>\n",
              "<style scoped>\n",
              "    .dataframe tbody tr th:only-of-type {\n",
              "        vertical-align: middle;\n",
              "    }\n",
              "\n",
              "    .dataframe tbody tr th {\n",
              "        vertical-align: top;\n",
              "    }\n",
              "\n",
              "    .dataframe thead th {\n",
              "        text-align: right;\n",
              "    }\n",
              "</style>\n",
              "<table border=\"1\" class=\"dataframe\">\n",
              "  <thead>\n",
              "    <tr style=\"text-align: right;\">\n",
              "      <th></th>\n",
              "      <th>id</th>\n",
              "      <th>revision_id</th>\n",
              "      <th>revision_timestamp</th>\n",
              "      <th>revisor_username</th>\n",
              "      <th>revisor_id</th>\n",
              "      <th>gt_page_id</th>\n",
              "      <th>gt_globe</th>\n",
              "      <th>gt_lat</th>\n",
              "      <th>gt_lon</th>\n",
              "    </tr>\n",
              "  </thead>\n",
              "  <tbody>\n",
              "    <tr>\n",
              "      <th>0</th>\n",
              "      <td>7</td>\n",
              "      <td>138035057</td>\n",
              "      <td>2021-08-31T18:27:01Z</td>\n",
              "      <td>NaN</td>\n",
              "      <td>NaN</td>\n",
              "      <td>7</td>\n",
              "      <td>earth</td>\n",
              "      <td>42.500000</td>\n",
              "      <td>1.500000</td>\n",
              "    </tr>\n",
              "    <tr>\n",
              "      <th>1</th>\n",
              "      <td>10</td>\n",
              "      <td>137966826</td>\n",
              "      <td>2021-08-28T17:17:54Z</td>\n",
              "      <td>Traitrich</td>\n",
              "      <td>4642283.0</td>\n",
              "      <td>10</td>\n",
              "      <td>earth</td>\n",
              "      <td>-34.599722</td>\n",
              "      <td>-58.381944</td>\n",
              "    </tr>\n",
              "    <tr>\n",
              "      <th>2</th>\n",
              "      <td>15</td>\n",
              "      <td>137986788</td>\n",
              "      <td>2021-08-29T17:16:00Z</td>\n",
              "      <td>Lojwe</td>\n",
              "      <td>5338508.0</td>\n",
              "      <td>15</td>\n",
              "      <td>earth</td>\n",
              "      <td>42.506111</td>\n",
              "      <td>1.522222</td>\n",
              "    </tr>\n",
              "    <tr>\n",
              "      <th>3</th>\n",
              "      <td>26</td>\n",
              "      <td>133531913</td>\n",
              "      <td>2021-02-25T18:09:01Z</td>\n",
              "      <td>InternetArchiveBot</td>\n",
              "      <td>4704851.0</td>\n",
              "      <td>26</td>\n",
              "      <td>earth</td>\n",
              "      <td>43.162222</td>\n",
              "      <td>-2.070000</td>\n",
              "    </tr>\n",
              "    <tr>\n",
              "      <th>4</th>\n",
              "      <td>39</td>\n",
              "      <td>138047554</td>\n",
              "      <td>2021-09-01T05:01:16Z</td>\n",
              "      <td>Traitrich</td>\n",
              "      <td>4642283.0</td>\n",
              "      <td>39</td>\n",
              "      <td>earth</td>\n",
              "      <td>34.532778</td>\n",
              "      <td>69.165833</td>\n",
              "    </tr>\n",
              "  </tbody>\n",
              "</table>\n",
              "</div>"
            ],
            "text/plain": [
              "   id  revision_id    revision_timestamp  ... gt_globe     gt_lat     gt_lon\n",
              "0   7    138035057  2021-08-31T18:27:01Z  ...    earth  42.500000   1.500000\n",
              "1  10    137966826  2021-08-28T17:17:54Z  ...    earth -34.599722 -58.381944\n",
              "2  15    137986788  2021-08-29T17:16:00Z  ...    earth  42.506111   1.522222\n",
              "3  26    133531913  2021-02-25T18:09:01Z  ...    earth  43.162222  -2.070000\n",
              "4  39    138047554  2021-09-01T05:01:16Z  ...    earth  34.532778  69.165833\n",
              "\n",
              "[5 rows x 9 columns]"
            ]
          },
          "metadata": {},
          "execution_count": 6
        }
      ]
    },
    {
      "cell_type": "code",
      "metadata": {
        "colab": {
          "base_uri": "https://localhost:8080/"
        },
        "id": "wWzkb6PLgNZY",
        "outputId": "7744e5a0-107f-449f-ea00-38af3fdcbb4b"
      },
      "source": [
        "contents_geo['id']"
      ],
      "execution_count": null,
      "outputs": [
        {
          "output_type": "execute_result",
          "data": {
            "text/plain": [
              "0                7\n",
              "1               10\n",
              "2               15\n",
              "3               26\n",
              "4               39\n",
              "            ...   \n",
              "537300    10010550\n",
              "537301    10010559\n",
              "537302    10010567\n",
              "537303    10010581\n",
              "537304    10010600\n",
              "Name: id, Length: 537305, dtype: int64"
            ]
          },
          "metadata": {},
          "execution_count": 7
        }
      ]
    },
    {
      "cell_type": "markdown",
      "metadata": {
        "id": "C2sv5MzPg86U"
      },
      "source": [
        "Podemos ver que del contenido que teniamos en contents.csv hay **537305** geolocalizados"
      ]
    },
    {
      "cell_type": "markdown",
      "metadata": {
        "id": "pp_7_j0uZ9oD"
      },
      "source": [
        "Calculo la ubicación de cada usuario, haciendo el promedio entre las latitudes y longitudes de los contenidos de los cuales fue su ultimo editor.\n",
        "\n",
        "(revisor_username: Username del autor de la última revisión)"
      ]
    },
    {
      "cell_type": "code",
      "metadata": {
        "colab": {
          "base_uri": "https://localhost:8080/",
          "height": 417
        },
        "id": "maiJAduvlkdc",
        "outputId": "232dce2f-7ab0-4f5c-eaa7-121735640bd1"
      },
      "source": [
        "grouped = contents_geo.groupby(['revisor_username']).agg({'gt_lat':['mean'], 'gt_lon':['mean'] })\n",
        "grouped.columns = grouped.columns.get_level_values(0) + '_' + grouped.columns.get_level_values(1)\n",
        "grouped = grouped.dropna()\n",
        "grouped.reset_index(inplace=True)\n",
        "grouped = grouped.rename(columns = {'gt_lat_mean':'lat','gt_lon_mean':'lon'})\n",
        "grouped"
      ],
      "execution_count": null,
      "outputs": [
        {
          "output_type": "execute_result",
          "data": {
            "text/html": [
              "<div>\n",
              "<style scoped>\n",
              "    .dataframe tbody tr th:only-of-type {\n",
              "        vertical-align: middle;\n",
              "    }\n",
              "\n",
              "    .dataframe tbody tr th {\n",
              "        vertical-align: top;\n",
              "    }\n",
              "\n",
              "    .dataframe thead th {\n",
              "        text-align: right;\n",
              "    }\n",
              "</style>\n",
              "<table border=\"1\" class=\"dataframe\">\n",
              "  <thead>\n",
              "    <tr style=\"text-align: right;\">\n",
              "      <th></th>\n",
              "      <th>revisor_username</th>\n",
              "      <th>lat</th>\n",
              "      <th>lon</th>\n",
              "    </tr>\n",
              "  </thead>\n",
              "  <tbody>\n",
              "    <tr>\n",
              "      <th>0</th>\n",
              "      <td>\"BF CLUB\"</td>\n",
              "      <td>46.733439</td>\n",
              "      <td>22.023909</td>\n",
              "    </tr>\n",
              "    <tr>\n",
              "      <th>1</th>\n",
              "      <td>&amp;beer&amp;love</td>\n",
              "      <td>30.788290</td>\n",
              "      <td>-0.431666</td>\n",
              "    </tr>\n",
              "    <tr>\n",
              "      <th>2</th>\n",
              "      <td>(SVPG)</td>\n",
              "      <td>-12.067886</td>\n",
              "      <td>-77.038516</td>\n",
              "    </tr>\n",
              "    <tr>\n",
              "      <th>3</th>\n",
              "      <td>-jem-</td>\n",
              "      <td>37.138333</td>\n",
              "      <td>7.382305</td>\n",
              "    </tr>\n",
              "    <tr>\n",
              "      <th>4</th>\n",
              "      <td>-sasha-</td>\n",
              "      <td>38.786371</td>\n",
              "      <td>-9.267020</td>\n",
              "    </tr>\n",
              "    <tr>\n",
              "      <th>...</th>\n",
              "      <td>...</td>\n",
              "      <td>...</td>\n",
              "      <td>...</td>\n",
              "    </tr>\n",
              "    <tr>\n",
              "      <th>7431</th>\n",
              "      <td>Patagonia44LS</td>\n",
              "      <td>-40.794895</td>\n",
              "      <td>-73.212875</td>\n",
              "    </tr>\n",
              "    <tr>\n",
              "      <th>7432</th>\n",
              "      <td>StephiLara</td>\n",
              "      <td>-31.910542</td>\n",
              "      <td>-71.132547</td>\n",
              "    </tr>\n",
              "    <tr>\n",
              "      <th>7433</th>\n",
              "      <td>Xavier Laumain</td>\n",
              "      <td>39.476856</td>\n",
              "      <td>-0.388431</td>\n",
              "    </tr>\n",
              "    <tr>\n",
              "      <th>7434</th>\n",
              "      <td>ÐÐ»ÐµÐºÑÐ°Ð½Ð´Ñ ÐÐ¾ÑÐ¸Ð½</td>\n",
              "      <td>55.751489</td>\n",
              "      <td>37.548586</td>\n",
              "    </tr>\n",
              "    <tr>\n",
              "      <th>7435</th>\n",
              "      <td>Osps7</td>\n",
              "      <td>40.466000</td>\n",
              "      <td>-3.674900</td>\n",
              "    </tr>\n",
              "  </tbody>\n",
              "</table>\n",
              "<p>7436 rows × 3 columns</p>\n",
              "</div>"
            ],
            "text/plain": [
              "                   revisor_username        lat        lon\n",
              "0                         \"BF CLUB\"  46.733439  22.023909\n",
              "1                        &beer&love  30.788290  -0.431666\n",
              "2                            (SVPG) -12.067886 -77.038516\n",
              "3                             -jem-  37.138333   7.382305\n",
              "4                           -sasha-  38.786371  -9.267020\n",
              "...                             ...        ...        ...\n",
              "7431                  Patagonia44LS -40.794895 -73.212875\n",
              "7432                     StephiLara -31.910542 -71.132547\n",
              "7433                 Xavier Laumain  39.476856  -0.388431\n",
              "7434  ÐÐ»ÐµÐºÑÐ°Ð½Ð´Ñ ÐÐ¾ÑÐ¸Ð½  55.751489  37.548586\n",
              "7435                          Osps7  40.466000  -3.674900\n",
              "\n",
              "[7436 rows x 3 columns]"
            ]
          },
          "metadata": {},
          "execution_count": 54
        }
      ]
    },
    {
      "cell_type": "markdown",
      "metadata": {
        "id": "Z2eJYjfVcmv5"
      },
      "source": [
        "Voy a utilizar un BallTree para poder buscar el vecino más cercano de cada usuario. (Autorizado por Nati)"
      ]
    },
    {
      "cell_type": "code",
      "metadata": {
        "id": "60t6JVPo_nFM"
      },
      "source": [
        "from sklearn.neighbors import BallTree\n",
        "\n",
        "query_lats = grouped['lat']\n",
        "query_lons = grouped['lon']\n",
        "\n",
        "bt = BallTree(np.deg2rad(grouped[['lat', 'lon']].values), metric='haversine')\n",
        "distances, indices = bt.query(np.deg2rad(np.c_[query_lats, query_lons]), k=2)"
      ],
      "execution_count": null,
      "outputs": []
    },
    {
      "cell_type": "markdown",
      "metadata": {
        "id": "iQLHHqfOXNy6"
      },
      "source": [
        "El array distances tendrá las distancias de los 2 vecinos más cercanos, donde siempre el primer valor será 0 (distancia a el mismo) y el segundo tendrá un valor distinto de cero.\n",
        "\n",
        "El array indices tendrá también 2 valores, el primero será el mismo y el 2do será el indice del vecino más cercano (distinto de él)\n",
        "\n",
        "\n",
        "Aunque en este DataFrame hay casos particulares, los cuales son usuarios en exactamente la misma ubicación (esto hace que a veces se calcule primero la distancia al otro y luego a si mismo (los datos estarían cruzados))\n"
      ]
    },
    {
      "cell_type": "markdown",
      "metadata": {
        "id": "duKKxwxKYFCC"
      },
      "source": [
        "Paso las distancias a KM multiplicando por 6371 que es el radio de la tierra en km."
      ]
    },
    {
      "cell_type": "code",
      "metadata": {
        "colab": {
          "base_uri": "https://localhost:8080/"
        },
        "id": "AurmhmdWXjZo",
        "outputId": "064b3184-d977-4551-8507-6d6a3ec67f1d"
      },
      "source": [
        "radio = 6371\n",
        "for i in range(0, len(distances)):\n",
        "  distances[i][1] = distances[i][1] * radio\n",
        "\n",
        "print(distances)"
      ],
      "execution_count": null,
      "outputs": [
        {
          "output_type": "stream",
          "name": "stdout",
          "text": [
            "[[     0.         364950.68316668]\n",
            " [     0.         683497.09501665]\n",
            " [     0.           3363.12077247]\n",
            " ...\n",
            " [     0.           2228.96557749]\n",
            " [     0.          19190.6820882 ]\n",
            " [     0.          10321.89807672]]\n"
          ]
        }
      ]
    },
    {
      "cell_type": "code",
      "metadata": {
        "colab": {
          "base_uri": "https://localhost:8080/"
        },
        "id": "vr95FAKnXmGC",
        "outputId": "d10f5595-14f7-48f2-e215-e26041061ee3"
      },
      "source": [
        "print(indices)"
      ],
      "execution_count": null,
      "outputs": [
        {
          "output_type": "stream",
          "name": "stdout",
          "text": [
            "[[   0 5840]\n",
            " [   1  539]\n",
            " [   2  765]\n",
            " ...\n",
            " [7433 7309]\n",
            " [7434  132]\n",
            " [7435 7047]]\n"
          ]
        }
      ]
    },
    {
      "cell_type": "markdown",
      "metadata": {
        "id": "etyXZvRGY_2X"
      },
      "source": [
        "Vamos a dividir estos datos en columnas individuales y las cargamos al dataframe."
      ]
    },
    {
      "cell_type": "code",
      "metadata": {
        "colab": {
          "base_uri": "https://localhost:8080/",
          "height": 203
        },
        "id": "MiGVa48N2mnd",
        "outputId": "40e8fe66-9b57-4593-b9b3-e053e9069cfb"
      },
      "source": [
        "d_1, d_2 = np.split(distances, 2, axis=1)\n",
        "i_1, i_2 = np.split(indices, 2, axis=1)\n",
        "grouped['i_1'] = i_1\n",
        "grouped['d_1'] = d_1\n",
        "grouped['i_2'] = i_2\n",
        "grouped['d_2'] = d_2\n",
        "grouped.head()"
      ],
      "execution_count": null,
      "outputs": [
        {
          "output_type": "execute_result",
          "data": {
            "text/html": [
              "<div>\n",
              "<style scoped>\n",
              "    .dataframe tbody tr th:only-of-type {\n",
              "        vertical-align: middle;\n",
              "    }\n",
              "\n",
              "    .dataframe tbody tr th {\n",
              "        vertical-align: top;\n",
              "    }\n",
              "\n",
              "    .dataframe thead th {\n",
              "        text-align: right;\n",
              "    }\n",
              "</style>\n",
              "<table border=\"1\" class=\"dataframe\">\n",
              "  <thead>\n",
              "    <tr style=\"text-align: right;\">\n",
              "      <th></th>\n",
              "      <th>revisor_username</th>\n",
              "      <th>lat</th>\n",
              "      <th>lon</th>\n",
              "      <th>i_1</th>\n",
              "      <th>d_1</th>\n",
              "      <th>i_2</th>\n",
              "      <th>d_2</th>\n",
              "    </tr>\n",
              "  </thead>\n",
              "  <tbody>\n",
              "    <tr>\n",
              "      <th>0</th>\n",
              "      <td>\"BF CLUB\"</td>\n",
              "      <td>46.733439</td>\n",
              "      <td>22.023909</td>\n",
              "      <td>0</td>\n",
              "      <td>0.0</td>\n",
              "      <td>5840</td>\n",
              "      <td>364950.683167</td>\n",
              "    </tr>\n",
              "    <tr>\n",
              "      <th>1</th>\n",
              "      <td>&amp;beer&amp;love</td>\n",
              "      <td>30.788290</td>\n",
              "      <td>-0.431666</td>\n",
              "      <td>1</td>\n",
              "      <td>0.0</td>\n",
              "      <td>539</td>\n",
              "      <td>683497.095017</td>\n",
              "    </tr>\n",
              "    <tr>\n",
              "      <th>2</th>\n",
              "      <td>(SVPG)</td>\n",
              "      <td>-12.067886</td>\n",
              "      <td>-77.038516</td>\n",
              "      <td>2</td>\n",
              "      <td>0.0</td>\n",
              "      <td>765</td>\n",
              "      <td>3363.120772</td>\n",
              "    </tr>\n",
              "    <tr>\n",
              "      <th>3</th>\n",
              "      <td>-jem-</td>\n",
              "      <td>37.138333</td>\n",
              "      <td>7.382305</td>\n",
              "      <td>3</td>\n",
              "      <td>0.0</td>\n",
              "      <td>2994</td>\n",
              "      <td>641342.936076</td>\n",
              "    </tr>\n",
              "    <tr>\n",
              "      <th>4</th>\n",
              "      <td>-sasha-</td>\n",
              "      <td>38.786371</td>\n",
              "      <td>-9.267020</td>\n",
              "      <td>4</td>\n",
              "      <td>0.0</td>\n",
              "      <td>6200</td>\n",
              "      <td>62164.861255</td>\n",
              "    </tr>\n",
              "  </tbody>\n",
              "</table>\n",
              "</div>"
            ],
            "text/plain": [
              "  revisor_username        lat        lon  i_1  d_1   i_2            d_2\n",
              "0        \"BF CLUB\"  46.733439  22.023909    0  0.0  5840  364950.683167\n",
              "1       &beer&love  30.788290  -0.431666    1  0.0   539  683497.095017\n",
              "2           (SVPG) -12.067886 -77.038516    2  0.0   765    3363.120772\n",
              "3            -jem-  37.138333   7.382305    3  0.0  2994  641342.936076\n",
              "4          -sasha-  38.786371  -9.267020    4  0.0  6200   62164.861255"
            ]
          },
          "metadata": {},
          "execution_count": 60
        }
      ]
    },
    {
      "cell_type": "markdown",
      "metadata": {
        "id": "dXclJsUSs7KC"
      },
      "source": [
        "Busco la distancia minima:"
      ]
    },
    {
      "cell_type": "code",
      "metadata": {
        "colab": {
          "base_uri": "https://localhost:8080/"
        },
        "id": "pOor69cspWH7",
        "outputId": "8bb9d4a5-3b7a-4248-948d-28e0d5f8b9d1"
      },
      "source": [
        "grouped['d_1'].min()"
      ],
      "execution_count": null,
      "outputs": [
        {
          "output_type": "execute_result",
          "data": {
            "text/plain": [
              "0.0"
            ]
          },
          "metadata": {},
          "execution_count": 61
        }
      ]
    },
    {
      "cell_type": "code",
      "metadata": {
        "colab": {
          "base_uri": "https://localhost:8080/"
        },
        "id": "DvCREMHd4L7Y",
        "outputId": "172189e1-ae88-422c-97b8-b3fd2642ed59"
      },
      "source": [
        "grouped['d_2'].min()"
      ],
      "execution_count": null,
      "outputs": [
        {
          "output_type": "execute_result",
          "data": {
            "text/plain": [
              "0.0"
            ]
          },
          "metadata": {},
          "execution_count": 62
        }
      ]
    },
    {
      "cell_type": "code",
      "metadata": {
        "colab": {
          "base_uri": "https://localhost:8080/",
          "height": 726
        },
        "id": "toFLir0fcysi",
        "outputId": "da98940c-3dec-4943-cb88-9e50cd5fe657"
      },
      "source": [
        "grouped[(grouped['d_1'] == 0) & (grouped['d_2'] == 0)]"
      ],
      "execution_count": null,
      "outputs": [
        {
          "output_type": "execute_result",
          "data": {
            "text/html": [
              "<div>\n",
              "<style scoped>\n",
              "    .dataframe tbody tr th:only-of-type {\n",
              "        vertical-align: middle;\n",
              "    }\n",
              "\n",
              "    .dataframe tbody tr th {\n",
              "        vertical-align: top;\n",
              "    }\n",
              "\n",
              "    .dataframe thead th {\n",
              "        text-align: right;\n",
              "    }\n",
              "</style>\n",
              "<table border=\"1\" class=\"dataframe\">\n",
              "  <thead>\n",
              "    <tr style=\"text-align: right;\">\n",
              "      <th></th>\n",
              "      <th>revisor_username</th>\n",
              "      <th>lat</th>\n",
              "      <th>lon</th>\n",
              "      <th>i_1</th>\n",
              "      <th>d_1</th>\n",
              "      <th>i_2</th>\n",
              "      <th>d_2</th>\n",
              "    </tr>\n",
              "  </thead>\n",
              "  <tbody>\n",
              "    <tr>\n",
              "      <th>533</th>\n",
              "      <td>DobleTmatutino</td>\n",
              "      <td>-33.350000</td>\n",
              "      <td>-70.516667</td>\n",
              "      <td>2347</td>\n",
              "      <td>0.0</td>\n",
              "      <td>533</td>\n",
              "      <td>0.0</td>\n",
              "    </tr>\n",
              "    <tr>\n",
              "      <th>640</th>\n",
              "      <td>Erichmoron</td>\n",
              "      <td>10.450000</td>\n",
              "      <td>-64.166667</td>\n",
              "      <td>7013</td>\n",
              "      <td>0.0</td>\n",
              "      <td>640</td>\n",
              "      <td>0.0</td>\n",
              "    </tr>\n",
              "    <tr>\n",
              "      <th>1018</th>\n",
              "      <td>Javihabbo</td>\n",
              "      <td>43.318333</td>\n",
              "      <td>11.331389</td>\n",
              "      <td>2401</td>\n",
              "      <td>0.0</td>\n",
              "      <td>1018</td>\n",
              "      <td>0.0</td>\n",
              "    </tr>\n",
              "    <tr>\n",
              "      <th>1663</th>\n",
              "      <td>Periodista Deportivo 2023</td>\n",
              "      <td>22.767000</td>\n",
              "      <td>108.388000</td>\n",
              "      <td>1663</td>\n",
              "      <td>0.0</td>\n",
              "      <td>4747</td>\n",
              "      <td>0.0</td>\n",
              "    </tr>\n",
              "    <tr>\n",
              "      <th>2347</th>\n",
              "      <td>Ankoe28</td>\n",
              "      <td>-33.350000</td>\n",
              "      <td>-70.516667</td>\n",
              "      <td>2347</td>\n",
              "      <td>0.0</td>\n",
              "      <td>533</td>\n",
              "      <td>0.0</td>\n",
              "    </tr>\n",
              "    <tr>\n",
              "      <th>2401</th>\n",
              "      <td>Brucointestino</td>\n",
              "      <td>43.318333</td>\n",
              "      <td>11.331389</td>\n",
              "      <td>2401</td>\n",
              "      <td>0.0</td>\n",
              "      <td>1018</td>\n",
              "      <td>0.0</td>\n",
              "    </tr>\n",
              "    <tr>\n",
              "      <th>3528</th>\n",
              "      <td>Saulfabre</td>\n",
              "      <td>35.689722</td>\n",
              "      <td>139.692222</td>\n",
              "      <td>6607</td>\n",
              "      <td>0.0</td>\n",
              "      <td>3528</td>\n",
              "      <td>0.0</td>\n",
              "    </tr>\n",
              "    <tr>\n",
              "      <th>3867</th>\n",
              "      <td>Pablo Martillana</td>\n",
              "      <td>-34.601806</td>\n",
              "      <td>-58.399444</td>\n",
              "      <td>5602</td>\n",
              "      <td>0.0</td>\n",
              "      <td>3867</td>\n",
              "      <td>0.0</td>\n",
              "    </tr>\n",
              "    <tr>\n",
              "      <th>3953</th>\n",
              "      <td>Variann Wryn</td>\n",
              "      <td>3.521642</td>\n",
              "      <td>-76.417036</td>\n",
              "      <td>6532</td>\n",
              "      <td>0.0</td>\n",
              "      <td>3953</td>\n",
              "      <td>0.0</td>\n",
              "    </tr>\n",
              "    <tr>\n",
              "      <th>4196</th>\n",
              "      <td>Organigrama de Alicante 1966</td>\n",
              "      <td>42.141667</td>\n",
              "      <td>-7.976111</td>\n",
              "      <td>4196</td>\n",
              "      <td>0.0</td>\n",
              "      <td>6749</td>\n",
              "      <td>0.0</td>\n",
              "    </tr>\n",
              "    <tr>\n",
              "      <th>4747</th>\n",
              "      <td>Sensei 4576</td>\n",
              "      <td>22.767000</td>\n",
              "      <td>108.388000</td>\n",
              "      <td>1663</td>\n",
              "      <td>0.0</td>\n",
              "      <td>4747</td>\n",
              "      <td>0.0</td>\n",
              "    </tr>\n",
              "    <tr>\n",
              "      <th>4772</th>\n",
              "      <td>Verode</td>\n",
              "      <td>39.956944</td>\n",
              "      <td>-3.496667</td>\n",
              "      <td>6588</td>\n",
              "      <td>0.0</td>\n",
              "      <td>4772</td>\n",
              "      <td>0.0</td>\n",
              "    </tr>\n",
              "    <tr>\n",
              "      <th>5602</th>\n",
              "      <td>Togufab</td>\n",
              "      <td>-34.601806</td>\n",
              "      <td>-58.399444</td>\n",
              "      <td>5602</td>\n",
              "      <td>0.0</td>\n",
              "      <td>3867</td>\n",
              "      <td>0.0</td>\n",
              "    </tr>\n",
              "    <tr>\n",
              "      <th>6049</th>\n",
              "      <td>Chamex carta</td>\n",
              "      <td>13.708536</td>\n",
              "      <td>-89.240989</td>\n",
              "      <td>6081</td>\n",
              "      <td>0.0</td>\n",
              "      <td>6049</td>\n",
              "      <td>0.0</td>\n",
              "    </tr>\n",
              "    <tr>\n",
              "      <th>6081</th>\n",
              "      <td>Rally23</td>\n",
              "      <td>13.708536</td>\n",
              "      <td>-89.240989</td>\n",
              "      <td>6081</td>\n",
              "      <td>0.0</td>\n",
              "      <td>6049</td>\n",
              "      <td>0.0</td>\n",
              "    </tr>\n",
              "    <tr>\n",
              "      <th>6527</th>\n",
              "      <td>Yierva</td>\n",
              "      <td>19.332022</td>\n",
              "      <td>-99.196358</td>\n",
              "      <td>7336</td>\n",
              "      <td>0.0</td>\n",
              "      <td>6527</td>\n",
              "      <td>0.0</td>\n",
              "    </tr>\n",
              "    <tr>\n",
              "      <th>6532</th>\n",
              "      <td>AlonsoAstuCCO</td>\n",
              "      <td>3.521642</td>\n",
              "      <td>-76.417036</td>\n",
              "      <td>6532</td>\n",
              "      <td>0.0</td>\n",
              "      <td>3953</td>\n",
              "      <td>0.0</td>\n",
              "    </tr>\n",
              "    <tr>\n",
              "      <th>6588</th>\n",
              "      <td>Viferico</td>\n",
              "      <td>39.956944</td>\n",
              "      <td>-3.496667</td>\n",
              "      <td>6588</td>\n",
              "      <td>0.0</td>\n",
              "      <td>4772</td>\n",
              "      <td>0.0</td>\n",
              "    </tr>\n",
              "    <tr>\n",
              "      <th>6607</th>\n",
              "      <td>DogStyle890</td>\n",
              "      <td>35.689722</td>\n",
              "      <td>139.692222</td>\n",
              "      <td>6607</td>\n",
              "      <td>0.0</td>\n",
              "      <td>3528</td>\n",
              "      <td>0.0</td>\n",
              "    </tr>\n",
              "    <tr>\n",
              "      <th>6749</th>\n",
              "      <td>Estudio comparado de las dinastÃ­as O. y A.</td>\n",
              "      <td>42.141667</td>\n",
              "      <td>-7.976111</td>\n",
              "      <td>4196</td>\n",
              "      <td>0.0</td>\n",
              "      <td>6749</td>\n",
              "      <td>0.0</td>\n",
              "    </tr>\n",
              "    <tr>\n",
              "      <th>7013</th>\n",
              "      <td>Carlosmendozaaez</td>\n",
              "      <td>10.450000</td>\n",
              "      <td>-64.166667</td>\n",
              "      <td>7013</td>\n",
              "      <td>0.0</td>\n",
              "      <td>640</td>\n",
              "      <td>0.0</td>\n",
              "    </tr>\n",
              "    <tr>\n",
              "      <th>7336</th>\n",
              "      <td>Claudia MuÃ±oz (WMMX)</td>\n",
              "      <td>19.332022</td>\n",
              "      <td>-99.196358</td>\n",
              "      <td>7336</td>\n",
              "      <td>0.0</td>\n",
              "      <td>6527</td>\n",
              "      <td>0.0</td>\n",
              "    </tr>\n",
              "  </tbody>\n",
              "</table>\n",
              "</div>"
            ],
            "text/plain": [
              "                                 revisor_username        lat  ...   i_2  d_2\n",
              "533                                DobleTmatutino -33.350000  ...   533  0.0\n",
              "640                                    Erichmoron  10.450000  ...   640  0.0\n",
              "1018                                    Javihabbo  43.318333  ...  1018  0.0\n",
              "1663                    Periodista Deportivo 2023  22.767000  ...  4747  0.0\n",
              "2347                                      Ankoe28 -33.350000  ...   533  0.0\n",
              "2401                               Brucointestino  43.318333  ...  1018  0.0\n",
              "3528                                    Saulfabre  35.689722  ...  3528  0.0\n",
              "3867                             Pablo Martillana -34.601806  ...  3867  0.0\n",
              "3953                                 Variann Wryn   3.521642  ...  3953  0.0\n",
              "4196                 Organigrama de Alicante 1966  42.141667  ...  6749  0.0\n",
              "4747                                  Sensei 4576  22.767000  ...  4747  0.0\n",
              "4772                                       Verode  39.956944  ...  4772  0.0\n",
              "5602                                      Togufab -34.601806  ...  3867  0.0\n",
              "6049                                 Chamex carta  13.708536  ...  6049  0.0\n",
              "6081                                      Rally23  13.708536  ...  6049  0.0\n",
              "6527                                       Yierva  19.332022  ...  6527  0.0\n",
              "6532                                AlonsoAstuCCO   3.521642  ...  3953  0.0\n",
              "6588                                     Viferico  39.956944  ...  4772  0.0\n",
              "6607                                  DogStyle890  35.689722  ...  3528  0.0\n",
              "6749  Estudio comparado de las dinastÃ­as O. y A.  42.141667  ...  6749  0.0\n",
              "7013                             Carlosmendozaaez  10.450000  ...   640  0.0\n",
              "7336                        Claudia MuÃ±oz (WMMX)  19.332022  ...  6527  0.0\n",
              "\n",
              "[22 rows x 7 columns]"
            ]
          },
          "metadata": {},
          "execution_count": 64
        }
      ]
    },
    {
      "cell_type": "markdown",
      "metadata": {
        "id": "sg0LTq5YnoYv"
      },
      "source": [
        "Como podemos ver arriba hay varios usuarios con distancia 0, esto es porque su ubicación es exactamente la misma.\n",
        "\n",
        "Uno de los pares más cercanos:\n",
        "**DobleTmatutino (533) y Ankoe28(2347)**"
      ]
    },
    {
      "cell_type": "markdown",
      "metadata": {
        "id": "A2N_l45_pOMX"
      },
      "source": [
        "Descartemos ahora los casos de distancia 0 y veamos cuales son los más cercanos:\n",
        "\n",
        "(la columna d_1 siempre tendrá valores 0 porqué es la distancia a si mismo o hacia otro usuario en la misma posición)"
      ]
    },
    {
      "cell_type": "code",
      "metadata": {
        "colab": {
          "base_uri": "https://localhost:8080/"
        },
        "id": "81dR6cj_7yrx",
        "outputId": "32be5043-071a-4b8b-d2b6-9de364a35b63"
      },
      "source": [
        "grouped['d_1'].sum()"
      ],
      "execution_count": null,
      "outputs": [
        {
          "output_type": "execute_result",
          "data": {
            "text/plain": [
              "0.0"
            ]
          },
          "metadata": {},
          "execution_count": 65
        }
      ]
    },
    {
      "cell_type": "code",
      "metadata": {
        "id": "ZrEiYrpLrOA-"
      },
      "source": [
        "grouped = grouped.loc[grouped['d_2'] > 0]"
      ],
      "execution_count": null,
      "outputs": []
    },
    {
      "cell_type": "markdown",
      "metadata": {
        "id": "3AjGZKly47FO"
      },
      "source": [
        "Filtro por el nuevo minimo:"
      ]
    },
    {
      "cell_type": "code",
      "metadata": {
        "colab": {
          "base_uri": "https://localhost:8080/",
          "height": 110
        },
        "id": "ki-EVJLa4-I5",
        "outputId": "02c59fb1-6d2a-4b6b-9681-5b56f8539a42"
      },
      "source": [
        "grouped[grouped['d_2'] == (grouped['d_2'].min())]"
      ],
      "execution_count": null,
      "outputs": [
        {
          "output_type": "execute_result",
          "data": {
            "text/html": [
              "<div>\n",
              "<style scoped>\n",
              "    .dataframe tbody tr th:only-of-type {\n",
              "        vertical-align: middle;\n",
              "    }\n",
              "\n",
              "    .dataframe tbody tr th {\n",
              "        vertical-align: top;\n",
              "    }\n",
              "\n",
              "    .dataframe thead th {\n",
              "        text-align: right;\n",
              "    }\n",
              "</style>\n",
              "<table border=\"1\" class=\"dataframe\">\n",
              "  <thead>\n",
              "    <tr style=\"text-align: right;\">\n",
              "      <th></th>\n",
              "      <th>revisor_username</th>\n",
              "      <th>lat</th>\n",
              "      <th>lon</th>\n",
              "      <th>i_1</th>\n",
              "      <th>d_1</th>\n",
              "      <th>i_2</th>\n",
              "      <th>d_2</th>\n",
              "    </tr>\n",
              "  </thead>\n",
              "  <tbody>\n",
              "    <tr>\n",
              "      <th>1441</th>\n",
              "      <td>Mesterderebeldia</td>\n",
              "      <td>19.435</td>\n",
              "      <td>-99.131389</td>\n",
              "      <td>1441</td>\n",
              "      <td>0.0</td>\n",
              "      <td>1619</td>\n",
              "      <td>0.073486</td>\n",
              "    </tr>\n",
              "    <tr>\n",
              "      <th>1619</th>\n",
              "      <td>Padaguan</td>\n",
              "      <td>19.435</td>\n",
              "      <td>-99.131389</td>\n",
              "      <td>1619</td>\n",
              "      <td>0.0</td>\n",
              "      <td>1441</td>\n",
              "      <td>0.073486</td>\n",
              "    </tr>\n",
              "  </tbody>\n",
              "</table>\n",
              "</div>"
            ],
            "text/plain": [
              "      revisor_username     lat        lon   i_1  d_1   i_2       d_2\n",
              "1441  Mesterderebeldia  19.435 -99.131389  1441  0.0  1619  0.073486\n",
              "1619          Padaguan  19.435 -99.131389  1619  0.0  1441  0.073486"
            ]
          },
          "metadata": {},
          "execution_count": 67
        }
      ]
    },
    {
      "cell_type": "markdown",
      "metadata": {
        "id": "zV7V1mEyrgzj"
      },
      "source": [
        "Estos 2 usuarios son los más cercanos si no tenemos en cuenta los que están ubicados en la misma posición.\n",
        "\n",
        "Se encuentran a 0.000012 km (1,2cm)."
      ]
    },
    {
      "cell_type": "markdown",
      "metadata": {
        "id": "LuBlLAa9uzAQ"
      },
      "source": [
        "Una forma para evitar los casos de usuarios en misma posición podría ser eliminar los duplicados con lo siguiente:"
      ]
    },
    {
      "cell_type": "code",
      "metadata": {
        "id": "nBVTNagSuAPU"
      },
      "source": [
        "grouped.drop_duplicates(['lat', 'lon'], keep='first')"
      ],
      "execution_count": null,
      "outputs": []
    }
  ]
}