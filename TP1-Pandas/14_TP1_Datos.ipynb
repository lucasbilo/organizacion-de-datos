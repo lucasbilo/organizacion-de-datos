{
  "nbformat": 4,
  "nbformat_minor": 0,
  "metadata": {
    "colab": {
      "name": "14-TP1-Datos.ipynb",
      "provenance": [],
      "collapsed_sections": []
    },
    "kernelspec": {
      "display_name": "Python 3",
      "name": "python3"
    },
    "language_info": {
      "name": "python"
    }
  },
  "cells": [
    {
      "cell_type": "markdown",
      "metadata": {
        "id": "Devl-LcEajOu"
      },
      "source": [
        "**14. Qué porcentaje de contenido geolocalizado de wikipedia NO está en la tierra\n",
        "(⭐)**"
      ]
    },
    {
      "cell_type": "code",
      "metadata": {
        "id": "vCVB_v0Hyfnt"
      },
      "source": [
        "import pandas as pd\n",
        "import numpy as np\n",
        "from pydrive.auth import GoogleAuth\n",
        "from pydrive.drive import GoogleDrive\n",
        "from google.colab import auth\n",
        "from oauth2client.client import GoogleCredentials\n",
        "\n",
        "# Authenticate and create the PyDrive client\n",
        "auth.authenticate_user()\n",
        "gauth = GoogleAuth()\n",
        "gauth.credentials = GoogleCredentials.get_application_default()\n",
        "drive = GoogleDrive(gauth)"
      ],
      "execution_count": null,
      "outputs": []
    },
    {
      "cell_type": "markdown",
      "metadata": {
        "id": "YRvGJxpxl9BV"
      },
      "source": [
        "Para este ejercicio voy a utilizar el csv: **geo_tags**"
      ]
    },
    {
      "cell_type": "code",
      "metadata": {
        "id": "hOEMXuL_V94L"
      },
      "source": [
        "id='1qLu79VkVJxWp9i4Pnq9cxSLjW6Nipxp9'\n",
        "downloaded = drive.CreateFile({'id': id})\n",
        "downloaded.GetContentFile('geo_tags.csv')"
      ],
      "execution_count": null,
      "outputs": []
    },
    {
      "cell_type": "code",
      "metadata": {
        "colab": {
          "base_uri": "https://localhost:8080/",
          "height": 203
        },
        "id": "XR_o-VTUWAMV",
        "outputId": "de80b6ce-0a65-43c9-fdb8-ffbde75ad92b"
      },
      "source": [
        "geo_tags = pd.read_csv('geo_tags.csv', encoding='latin-1', \\\n",
        "                            dtype={'gt_globe':'category','gt_name':'category', 'gt_type': 'category',\\\n",
        "                                   'gt_country':'category', 'gt_region':'category'})\n",
        "geo_tags.head()"
      ],
      "execution_count": null,
      "outputs": [
        {
          "output_type": "execute_result",
          "data": {
            "text/html": [
              "<div>\n",
              "<style scoped>\n",
              "    .dataframe tbody tr th:only-of-type {\n",
              "        vertical-align: middle;\n",
              "    }\n",
              "\n",
              "    .dataframe tbody tr th {\n",
              "        vertical-align: top;\n",
              "    }\n",
              "\n",
              "    .dataframe thead th {\n",
              "        text-align: right;\n",
              "    }\n",
              "</style>\n",
              "<table border=\"1\" class=\"dataframe\">\n",
              "  <thead>\n",
              "    <tr style=\"text-align: right;\">\n",
              "      <th></th>\n",
              "      <th>gt_id</th>\n",
              "      <th>gt_page_id</th>\n",
              "      <th>gt_globe</th>\n",
              "      <th>gt_primary</th>\n",
              "      <th>gt_lat</th>\n",
              "      <th>gt_lon</th>\n",
              "      <th>gt_dim</th>\n",
              "      <th>gt_type</th>\n",
              "      <th>gt_name</th>\n",
              "      <th>gt_country</th>\n",
              "      <th>gt_region</th>\n",
              "    </tr>\n",
              "  </thead>\n",
              "  <tbody>\n",
              "    <tr>\n",
              "      <th>0</th>\n",
              "      <td>158041</td>\n",
              "      <td>4328020</td>\n",
              "      <td>earth</td>\n",
              "      <td>0</td>\n",
              "      <td>41.5075</td>\n",
              "      <td>-5.8175</td>\n",
              "      <td>1000</td>\n",
              "      <td>NaN</td>\n",
              "      <td>NaN</td>\n",
              "      <td>NaN</td>\n",
              "      <td>NaN</td>\n",
              "    </tr>\n",
              "    <tr>\n",
              "      <th>1</th>\n",
              "      <td>5844377</td>\n",
              "      <td>4670424</td>\n",
              "      <td>earth</td>\n",
              "      <td>0</td>\n",
              "      <td>13.7380</td>\n",
              "      <td>-89.2920</td>\n",
              "      <td>10000</td>\n",
              "      <td>city</td>\n",
              "      <td>NaN</td>\n",
              "      <td>NaN</td>\n",
              "      <td>NaN</td>\n",
              "    </tr>\n",
              "    <tr>\n",
              "      <th>2</th>\n",
              "      <td>5844381</td>\n",
              "      <td>4670424</td>\n",
              "      <td>earth</td>\n",
              "      <td>0</td>\n",
              "      <td>13.7020</td>\n",
              "      <td>-89.2080</td>\n",
              "      <td>10000</td>\n",
              "      <td>city</td>\n",
              "      <td>NaN</td>\n",
              "      <td>NaN</td>\n",
              "      <td>NaN</td>\n",
              "    </tr>\n",
              "    <tr>\n",
              "      <th>3</th>\n",
              "      <td>5844383</td>\n",
              "      <td>4670424</td>\n",
              "      <td>earth</td>\n",
              "      <td>0</td>\n",
              "      <td>13.4000</td>\n",
              "      <td>-89.7500</td>\n",
              "      <td>10000</td>\n",
              "      <td>city</td>\n",
              "      <td>NaN</td>\n",
              "      <td>NaN</td>\n",
              "      <td>NaN</td>\n",
              "    </tr>\n",
              "    <tr>\n",
              "      <th>4</th>\n",
              "      <td>5844388</td>\n",
              "      <td>4670424</td>\n",
              "      <td>earth</td>\n",
              "      <td>0</td>\n",
              "      <td>12.8500</td>\n",
              "      <td>-88.0000</td>\n",
              "      <td>10000</td>\n",
              "      <td>city</td>\n",
              "      <td>NaN</td>\n",
              "      <td>NaN</td>\n",
              "      <td>NaN</td>\n",
              "    </tr>\n",
              "  </tbody>\n",
              "</table>\n",
              "</div>"
            ],
            "text/plain": [
              "     gt_id  gt_page_id gt_globe  ...  gt_name  gt_country  gt_region\n",
              "0   158041     4328020    earth  ...      NaN         NaN        NaN\n",
              "1  5844377     4670424    earth  ...      NaN         NaN        NaN\n",
              "2  5844381     4670424    earth  ...      NaN         NaN        NaN\n",
              "3  5844383     4670424    earth  ...      NaN         NaN        NaN\n",
              "4  5844388     4670424    earth  ...      NaN         NaN        NaN\n",
              "\n",
              "[5 rows x 11 columns]"
            ]
          },
          "metadata": {},
          "execution_count": 3
        }
      ]
    },
    {
      "cell_type": "code",
      "metadata": {
        "colab": {
          "base_uri": "https://localhost:8080/"
        },
        "id": "uD3vWu96bmcp",
        "outputId": "fe43178f-724a-4c22-a32e-711b32661338"
      },
      "source": [
        "geo_tags.info()"
      ],
      "execution_count": null,
      "outputs": [
        {
          "output_type": "stream",
          "name": "stdout",
          "text": [
            "<class 'pandas.core.frame.DataFrame'>\n",
            "RangeIndex: 556393 entries, 0 to 556392\n",
            "Data columns (total 11 columns):\n",
            " #   Column      Non-Null Count   Dtype   \n",
            "---  ------      --------------   -----   \n",
            " 0   gt_id       556393 non-null  int64   \n",
            " 1   gt_page_id  556393 non-null  int64   \n",
            " 2   gt_globe    556393 non-null  category\n",
            " 3   gt_primary  556393 non-null  int64   \n",
            " 4   gt_lat      556393 non-null  float64 \n",
            " 5   gt_lon      556393 non-null  float64 \n",
            " 6   gt_dim      556393 non-null  int64   \n",
            " 7   gt_type     449893 non-null  category\n",
            " 8   gt_name     72557 non-null   category\n",
            " 9   gt_country  79192 non-null   category\n",
            " 10  gt_region   3088 non-null    category\n",
            "dtypes: category(5), float64(2), int64(4)\n",
            "memory usage: 33.7 MB\n"
          ]
        }
      ]
    },
    {
      "cell_type": "markdown",
      "metadata": {
        "id": "h2TPgeP1bxDx"
      },
      "source": [
        "Para este ejercicio, lo único que necesito analizar son las geolocalizaciones globales. (columna: **gt_globe**)"
      ]
    },
    {
      "cell_type": "code",
      "metadata": {
        "colab": {
          "base_uri": "https://localhost:8080/"
        },
        "id": "UAkibprFbwkF",
        "outputId": "4609319a-e39a-46d6-b9e3-c2dfc55920f3"
      },
      "source": [
        "gt_globe = geo_tags['gt_globe']\n",
        "gt_globe.value_counts()"
      ],
      "execution_count": null,
      "outputs": [
        {
          "output_type": "execute_result",
          "data": {
            "text/plain": [
              "earth        545154\n",
              "moon           9061\n",
              "mars           1438\n",
              "mercury         561\n",
              "ganymede        116\n",
              "venus            24\n",
              "phobos           20\n",
              "titan             4\n",
              "callisto          3\n",
              "io                2\n",
              "titania           2\n",
              "deimos            2\n",
              "mimas             1\n",
              "oberon            1\n",
              "tethys            1\n",
              "hyperion          1\n",
              "umbriel           1\n",
              "enceladus         1\n",
              "Name: gt_globe, dtype: int64"
            ]
          },
          "metadata": {},
          "execution_count": 5
        }
      ]
    },
    {
      "cell_type": "markdown",
      "metadata": {
        "id": "dCRxtn1meqQ9"
      },
      "source": [
        "Como se puede ver, el gran porcentaje de contenido se encuentra geolocalizado en la Tierra."
      ]
    },
    {
      "cell_type": "code",
      "metadata": {
        "colab": {
          "base_uri": "https://localhost:8080/"
        },
        "id": "fpTyYT6bO0SL",
        "outputId": "c15a34b9-2d5a-4095-dec2-417ecfb7596b"
      },
      "source": [
        "(gt_globe !='earth').mean() * 100"
      ],
      "execution_count": null,
      "outputs": [
        {
          "output_type": "execute_result",
          "data": {
            "text/plain": [
              "2.0199750895500124"
            ]
          },
          "metadata": {},
          "execution_count": 6
        }
      ]
    },
    {
      "cell_type": "markdown",
      "metadata": {
        "id": "GqhBJL-rmg2D"
      },
      "source": [
        "El porcentaje de contenido que NO esta geolocalizado en la Tierra es aproximadamente del 2%"
      ]
    }
  ]
}