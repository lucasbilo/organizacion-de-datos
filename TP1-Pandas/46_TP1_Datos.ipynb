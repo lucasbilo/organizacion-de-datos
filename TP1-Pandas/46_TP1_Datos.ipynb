{
  "nbformat": 4,
  "nbformat_minor": 0,
  "metadata": {
    "colab": {
      "name": "46-TP1-Datos.ipynb",
      "provenance": [],
      "collapsed_sections": []
    },
    "kernelspec": {
      "name": "python3",
      "display_name": "Python 3"
    },
    "language_info": {
      "name": "python"
    }
  },
  "cells": [
    {
      "cell_type": "markdown",
      "metadata": {
        "id": "fSxQ3SBEiMSu"
      },
      "source": [
        "**46. Si decimos que la ubicación de una categoría es el promedio de la latitud y longitud\n",
        "de sus contenidos geolocalizados que son miembros de ella (si es que tiene):\n",
        "¿Cuales son las dos categorías más cercanas? (⭐⭐⭐)**"
      ]
    },
    {
      "cell_type": "code",
      "metadata": {
        "id": "9s9SWeSLiLHD"
      },
      "source": [
        "import pandas as pd\n",
        "import numpy as np\n",
        "from pydrive.auth import GoogleAuth\n",
        "from pydrive.drive import GoogleDrive\n",
        "from google.colab import auth\n",
        "from oauth2client.client import GoogleCredentials\n",
        "\n",
        "# Authenticate and create the PyDrive client\n",
        "auth.authenticate_user()\n",
        "gauth = GoogleAuth()\n",
        "gauth.credentials = GoogleCredentials.get_application_default()\n",
        "drive = GoogleDrive(gauth)"
      ],
      "execution_count": null,
      "outputs": []
    },
    {
      "cell_type": "markdown",
      "metadata": {
        "id": "9mfoJT9diXaP"
      },
      "source": [
        "Para este ejercicio voy a utilizar el csv **categorylinks** y **geo_tags**"
      ]
    },
    {
      "cell_type": "code",
      "metadata": {
        "id": "j4qXhtvji03a"
      },
      "source": [
        "id='1onmfzlzZxs3YFo5sXKZmft20c2kSqrJ3'\n",
        "downloaded = drive.CreateFile({'id': id})\n",
        "downloaded.GetContentFile('categorylinks.csv')\n",
        "\n",
        "id2='1qLu79VkVJxWp9i4Pnq9cxSLjW6Nipxp9'\n",
        "downloaded2 = drive.CreateFile({'id': id2})\n",
        "downloaded2.GetContentFile('geo_tags.csv')"
      ],
      "execution_count": null,
      "outputs": []
    },
    {
      "cell_type": "markdown",
      "metadata": {
        "id": "K1lvQwG2kkiD"
      },
      "source": [
        "Hay varias columnas de los csv que no voy a necesitar y así que directamente no las leo (ahorro de memoria)"
      ]
    },
    {
      "cell_type": "code",
      "metadata": {
        "colab": {
          "base_uri": "https://localhost:8080/",
          "height": 203
        },
        "id": "UVb3ySaNjMM5",
        "outputId": "9f55556e-7afc-4f78-cf4b-c350a4b9d569"
      },
      "source": [
        "category = pd.read_csv('categorylinks.csv', encoding='latin-1', usecols=[\"cl_from\", \"cl_to\"],\\\n",
        "                            dtype={'cl_to':'category'})\n",
        "category.head()"
      ],
      "execution_count": null,
      "outputs": [
        {
          "output_type": "execute_result",
          "data": {
            "text/html": [
              "<div>\n",
              "<style scoped>\n",
              "    .dataframe tbody tr th:only-of-type {\n",
              "        vertical-align: middle;\n",
              "    }\n",
              "\n",
              "    .dataframe tbody tr th {\n",
              "        vertical-align: top;\n",
              "    }\n",
              "\n",
              "    .dataframe thead th {\n",
              "        text-align: right;\n",
              "    }\n",
              "</style>\n",
              "<table border=\"1\" class=\"dataframe\">\n",
              "  <thead>\n",
              "    <tr style=\"text-align: right;\">\n",
              "      <th></th>\n",
              "      <th>cl_from</th>\n",
              "      <th>cl_to</th>\n",
              "    </tr>\n",
              "  </thead>\n",
              "  <tbody>\n",
              "    <tr>\n",
              "      <th>0</th>\n",
              "      <td>5</td>\n",
              "      <td>Wikipedia:Mantenimiento</td>\n",
              "    </tr>\n",
              "    <tr>\n",
              "      <th>1</th>\n",
              "      <td>5</td>\n",
              "      <td>Wikipedia:PÃÂ¡ginas_con_enlaces_mÃÂ¡gicos_de...</td>\n",
              "    </tr>\n",
              "    <tr>\n",
              "      <th>2</th>\n",
              "      <td>7</td>\n",
              "      <td>Andorra</td>\n",
              "    </tr>\n",
              "    <tr>\n",
              "      <th>3</th>\n",
              "      <td>7</td>\n",
              "      <td>Instituciones_patrocinadoras_de_equipos_ciclistas</td>\n",
              "    </tr>\n",
              "    <tr>\n",
              "      <th>4</th>\n",
              "      <td>7</td>\n",
              "      <td>Wikipedia:ArtÃÂ­culos_con_datos_locales</td>\n",
              "    </tr>\n",
              "  </tbody>\n",
              "</table>\n",
              "</div>"
            ],
            "text/plain": [
              "   cl_from                                              cl_to\n",
              "0        5                            Wikipedia:Mantenimiento\n",
              "1        5  Wikipedia:PÃÂ¡ginas_con_enlaces_mÃÂ¡gicos_de...\n",
              "2        7                                            Andorra\n",
              "3        7  Instituciones_patrocinadoras_de_equipos_ciclistas\n",
              "4        7           Wikipedia:ArtÃÂ­culos_con_datos_locales"
            ]
          },
          "metadata": {},
          "execution_count": 3
        }
      ]
    },
    {
      "cell_type": "code",
      "metadata": {
        "colab": {
          "base_uri": "https://localhost:8080/",
          "height": 203
        },
        "id": "RrNQA7DSjLO8",
        "outputId": "0a765e57-fd19-4ce7-e45a-712305abf0c4"
      },
      "source": [
        "geo_tags = pd.read_csv('geo_tags.csv', encoding='latin-1', usecols=[\"gt_page_id\", \"gt_globe\", \"gt_lat\", \"gt_lon\"],\\\n",
        "                            dtype={'gt_globe':'category'})\n",
        "geo_tags.head()"
      ],
      "execution_count": null,
      "outputs": [
        {
          "output_type": "execute_result",
          "data": {
            "text/html": [
              "<div>\n",
              "<style scoped>\n",
              "    .dataframe tbody tr th:only-of-type {\n",
              "        vertical-align: middle;\n",
              "    }\n",
              "\n",
              "    .dataframe tbody tr th {\n",
              "        vertical-align: top;\n",
              "    }\n",
              "\n",
              "    .dataframe thead th {\n",
              "        text-align: right;\n",
              "    }\n",
              "</style>\n",
              "<table border=\"1\" class=\"dataframe\">\n",
              "  <thead>\n",
              "    <tr style=\"text-align: right;\">\n",
              "      <th></th>\n",
              "      <th>gt_page_id</th>\n",
              "      <th>gt_globe</th>\n",
              "      <th>gt_lat</th>\n",
              "      <th>gt_lon</th>\n",
              "    </tr>\n",
              "  </thead>\n",
              "  <tbody>\n",
              "    <tr>\n",
              "      <th>0</th>\n",
              "      <td>4328020</td>\n",
              "      <td>earth</td>\n",
              "      <td>41.5075</td>\n",
              "      <td>-5.8175</td>\n",
              "    </tr>\n",
              "    <tr>\n",
              "      <th>1</th>\n",
              "      <td>4670424</td>\n",
              "      <td>earth</td>\n",
              "      <td>13.7380</td>\n",
              "      <td>-89.2920</td>\n",
              "    </tr>\n",
              "    <tr>\n",
              "      <th>2</th>\n",
              "      <td>4670424</td>\n",
              "      <td>earth</td>\n",
              "      <td>13.7020</td>\n",
              "      <td>-89.2080</td>\n",
              "    </tr>\n",
              "    <tr>\n",
              "      <th>3</th>\n",
              "      <td>4670424</td>\n",
              "      <td>earth</td>\n",
              "      <td>13.4000</td>\n",
              "      <td>-89.7500</td>\n",
              "    </tr>\n",
              "    <tr>\n",
              "      <th>4</th>\n",
              "      <td>4670424</td>\n",
              "      <td>earth</td>\n",
              "      <td>12.8500</td>\n",
              "      <td>-88.0000</td>\n",
              "    </tr>\n",
              "  </tbody>\n",
              "</table>\n",
              "</div>"
            ],
            "text/plain": [
              "   gt_page_id gt_globe   gt_lat   gt_lon\n",
              "0     4328020    earth  41.5075  -5.8175\n",
              "1     4670424    earth  13.7380 -89.2920\n",
              "2     4670424    earth  13.7020 -89.2080\n",
              "3     4670424    earth  13.4000 -89.7500\n",
              "4     4670424    earth  12.8500 -88.0000"
            ]
          },
          "metadata": {},
          "execution_count": 4
        }
      ]
    },
    {
      "cell_type": "markdown",
      "metadata": {
        "id": "1dWXatjblCaf"
      },
      "source": [
        "Como solo me va a interesar el contenido geolocalizado, hago un merge por ids entre estos csv:"
      ]
    },
    {
      "cell_type": "code",
      "metadata": {
        "colab": {
          "base_uri": "https://localhost:8080/",
          "height": 203
        },
        "id": "66piBpBAlCyi",
        "outputId": "b46dc628-eb42-4824-dcea-35b67d583e6a"
      },
      "source": [
        "category_geo = category.merge(geo_tags, how='inner', left_on='cl_from', right_on='gt_page_id')\n",
        "category_geo.head()"
      ],
      "execution_count": null,
      "outputs": [
        {
          "output_type": "execute_result",
          "data": {
            "text/html": [
              "<div>\n",
              "<style scoped>\n",
              "    .dataframe tbody tr th:only-of-type {\n",
              "        vertical-align: middle;\n",
              "    }\n",
              "\n",
              "    .dataframe tbody tr th {\n",
              "        vertical-align: top;\n",
              "    }\n",
              "\n",
              "    .dataframe thead th {\n",
              "        text-align: right;\n",
              "    }\n",
              "</style>\n",
              "<table border=\"1\" class=\"dataframe\">\n",
              "  <thead>\n",
              "    <tr style=\"text-align: right;\">\n",
              "      <th></th>\n",
              "      <th>cl_from</th>\n",
              "      <th>cl_to</th>\n",
              "      <th>gt_page_id</th>\n",
              "      <th>gt_globe</th>\n",
              "      <th>gt_lat</th>\n",
              "      <th>gt_lon</th>\n",
              "    </tr>\n",
              "  </thead>\n",
              "  <tbody>\n",
              "    <tr>\n",
              "      <th>0</th>\n",
              "      <td>7</td>\n",
              "      <td>Andorra</td>\n",
              "      <td>7</td>\n",
              "      <td>earth</td>\n",
              "      <td>42.5</td>\n",
              "      <td>1.5</td>\n",
              "    </tr>\n",
              "    <tr>\n",
              "      <th>1</th>\n",
              "      <td>7</td>\n",
              "      <td>Instituciones_patrocinadoras_de_equipos_ciclistas</td>\n",
              "      <td>7</td>\n",
              "      <td>earth</td>\n",
              "      <td>42.5</td>\n",
              "      <td>1.5</td>\n",
              "    </tr>\n",
              "    <tr>\n",
              "      <th>2</th>\n",
              "      <td>7</td>\n",
              "      <td>Wikipedia:ArtÃÂ­culos_con_datos_locales</td>\n",
              "      <td>7</td>\n",
              "      <td>earth</td>\n",
              "      <td>42.5</td>\n",
              "      <td>1.5</td>\n",
              "    </tr>\n",
              "    <tr>\n",
              "      <th>3</th>\n",
              "      <td>7</td>\n",
              "      <td>Wikipedia:ArtÃÂ­culos_con_datos_por_trasladar...</td>\n",
              "      <td>7</td>\n",
              "      <td>earth</td>\n",
              "      <td>42.5</td>\n",
              "      <td>1.5</td>\n",
              "    </tr>\n",
              "    <tr>\n",
              "      <th>4</th>\n",
              "      <td>7</td>\n",
              "      <td>Wikipedia:ArtÃÂ­culos_con_enlaces_externos_rotos</td>\n",
              "      <td>7</td>\n",
              "      <td>earth</td>\n",
              "      <td>42.5</td>\n",
              "      <td>1.5</td>\n",
              "    </tr>\n",
              "  </tbody>\n",
              "</table>\n",
              "</div>"
            ],
            "text/plain": [
              "   cl_from                                              cl_to  ...  gt_lat gt_lon\n",
              "0        7                                            Andorra  ...    42.5    1.5\n",
              "1        7  Instituciones_patrocinadoras_de_equipos_ciclistas  ...    42.5    1.5\n",
              "2        7           Wikipedia:ArtÃÂ­culos_con_datos_locales  ...    42.5    1.5\n",
              "3        7  Wikipedia:ArtÃÂ­culos_con_datos_por_trasladar...  ...    42.5    1.5\n",
              "4        7  Wikipedia:ArtÃÂ­culos_con_enlaces_externos_rotos  ...    42.5    1.5\n",
              "\n",
              "[5 rows x 6 columns]"
            ]
          },
          "metadata": {},
          "execution_count": 5
        }
      ]
    },
    {
      "cell_type": "code",
      "metadata": {
        "colab": {
          "base_uri": "https://localhost:8080/"
        },
        "id": "EPclXy7vlP6l",
        "outputId": "7478857e-941f-42f3-ba07-ec655acc32b7"
      },
      "source": [
        "len(category_geo)"
      ],
      "execution_count": null,
      "outputs": [
        {
          "output_type": "execute_result",
          "data": {
            "text/plain": [
              "3042010"
            ]
          },
          "metadata": {},
          "execution_count": 6
        }
      ]
    },
    {
      "cell_type": "markdown",
      "metadata": {
        "id": "6LJrFUKOlY2c"
      },
      "source": [
        "Podemos ver que del contenido que teniamos en categorylinks.csv hay **3042010** geolocalizados"
      ]
    },
    {
      "cell_type": "markdown",
      "metadata": {
        "id": "xTPcRP3Ml6Vi"
      },
      "source": [
        "Calculo la ubicación de cada categoría, haciendo el promedio entre las latitudes y longitudes de sus correspondientes contenidos geolocalizados."
      ]
    },
    {
      "cell_type": "code",
      "metadata": {
        "colab": {
          "base_uri": "https://localhost:8080/",
          "height": 417
        },
        "id": "CJGe14FWl61e",
        "outputId": "c0753441-506e-4b45-cdcd-98f3b93bf859"
      },
      "source": [
        "grouped = category_geo.groupby(['cl_to']).agg({'gt_lat':['mean'], 'gt_lon':['mean'] })\n",
        "grouped.columns = grouped.columns.get_level_values(0) + '_' + grouped.columns.get_level_values(1)\n",
        "grouped = grouped.dropna()\n",
        "grouped.reset_index(inplace=True)\n",
        "grouped = grouped.rename(columns = {'cl_to': 'Categoria', 'gt_lat_mean':'lat','gt_lon_mean':'lon'})\n",
        "grouped"
      ],
      "execution_count": null,
      "outputs": [
        {
          "output_type": "execute_result",
          "data": {
            "text/html": [
              "<div>\n",
              "<style scoped>\n",
              "    .dataframe tbody tr th:only-of-type {\n",
              "        vertical-align: middle;\n",
              "    }\n",
              "\n",
              "    .dataframe tbody tr th {\n",
              "        vertical-align: top;\n",
              "    }\n",
              "\n",
              "    .dataframe thead th {\n",
              "        text-align: right;\n",
              "    }\n",
              "</style>\n",
              "<table border=\"1\" class=\"dataframe\">\n",
              "  <thead>\n",
              "    <tr style=\"text-align: right;\">\n",
              "      <th></th>\n",
              "      <th>Categoria</th>\n",
              "      <th>lat</th>\n",
              "      <th>lon</th>\n",
              "    </tr>\n",
              "  </thead>\n",
              "  <tbody>\n",
              "    <tr>\n",
              "      <th>0</th>\n",
              "      <td>10</td>\n",
              "      <td>41.900600</td>\n",
              "      <td>12.478700</td>\n",
              "    </tr>\n",
              "    <tr>\n",
              "      <th>1</th>\n",
              "      <td>100_montaÃÂ±as_famosas_de_JapÃÂ³n</td>\n",
              "      <td>35.730490</td>\n",
              "      <td>138.206041</td>\n",
              "    </tr>\n",
              "    <tr>\n",
              "      <th>2</th>\n",
              "      <td>101</td>\n",
              "      <td>44.794466</td>\n",
              "      <td>25.337350</td>\n",
              "    </tr>\n",
              "    <tr>\n",
              "      <th>3</th>\n",
              "      <td>1017</td>\n",
              "      <td>51.719200</td>\n",
              "      <td>8.755560</td>\n",
              "    </tr>\n",
              "    <tr>\n",
              "      <th>4</th>\n",
              "      <td>101_a._C.</td>\n",
              "      <td>45.316667</td>\n",
              "      <td>8.416667</td>\n",
              "    </tr>\n",
              "    <tr>\n",
              "      <th>...</th>\n",
              "      <td>...</td>\n",
              "      <td>...</td>\n",
              "      <td>...</td>\n",
              "    </tr>\n",
              "    <tr>\n",
              "      <th>108037</th>\n",
              "      <td>Sitios_Ramsar_de_Noruega</td>\n",
              "      <td>60.783333</td>\n",
              "      <td>11.116667</td>\n",
              "    </tr>\n",
              "    <tr>\n",
              "      <th>108038</th>\n",
              "      <td>Sitios_arqueolÃÂ³gicos_del_distrito_de_San_Luis</td>\n",
              "      <td>-12.079180</td>\n",
              "      <td>-76.999693</td>\n",
              "    </tr>\n",
              "    <tr>\n",
              "      <th>108039</th>\n",
              "      <td>Tost</td>\n",
              "      <td>42.272830</td>\n",
              "      <td>1.384922</td>\n",
              "    </tr>\n",
              "    <tr>\n",
              "      <th>108040</th>\n",
              "      <td>Valles_de_Piamonte</td>\n",
              "      <td>44.410000</td>\n",
              "      <td>7.300000</td>\n",
              "    </tr>\n",
              "    <tr>\n",
              "      <th>108041</th>\n",
              "      <td>Voivodato_de_Vitebesk</td>\n",
              "      <td>54.500000</td>\n",
              "      <td>30.383333</td>\n",
              "    </tr>\n",
              "  </tbody>\n",
              "</table>\n",
              "<p>108042 rows × 3 columns</p>\n",
              "</div>"
            ],
            "text/plain": [
              "                                               Categoria        lat         lon\n",
              "0                                                     10  41.900600   12.478700\n",
              "1                    100_montaÃÂ±as_famosas_de_JapÃÂ³n  35.730490  138.206041\n",
              "2                                                    101  44.794466   25.337350\n",
              "3                                                   1017  51.719200    8.755560\n",
              "4                                              101_a._C.  45.316667    8.416667\n",
              "...                                                  ...        ...         ...\n",
              "108037                          Sitios_Ramsar_de_Noruega  60.783333   11.116667\n",
              "108038  Sitios_arqueolÃÂ³gicos_del_distrito_de_San_Luis -12.079180  -76.999693\n",
              "108039                                              Tost  42.272830    1.384922\n",
              "108040                                Valles_de_Piamonte  44.410000    7.300000\n",
              "108041                             Voivodato_de_Vitebesk  54.500000   30.383333\n",
              "\n",
              "[108042 rows x 3 columns]"
            ]
          },
          "metadata": {},
          "execution_count": 46
        }
      ]
    },
    {
      "cell_type": "code",
      "metadata": {
        "colab": {
          "base_uri": "https://localhost:8080/"
        },
        "id": "EjrkAyx10Fx6",
        "outputId": "4f9cee72-6200-409c-e358-0e7b2b12de25"
      },
      "source": [
        "grouped.duplicated(['lat', 'lon']).sum()"
      ],
      "execution_count": null,
      "outputs": [
        {
          "output_type": "execute_result",
          "data": {
            "text/plain": [
              "9242"
            ]
          },
          "metadata": {},
          "execution_count": 47
        }
      ]
    },
    {
      "cell_type": "markdown",
      "metadata": {
        "id": "ttB0dSwQxSAx"
      },
      "source": [
        "Se da el caso de que hay categorías que quedaron en la misma posición, por lo tanto van a quedar varios con distancia cero. Para evitar esto voy a eliminar los \"repetidos\" y quedarme solo con el primero"
      ]
    },
    {
      "cell_type": "code",
      "metadata": {
        "colab": {
          "base_uri": "https://localhost:8080/",
          "height": 417
        },
        "id": "C6PTMgqWxfJl",
        "outputId": "715f4f6d-7ee5-4a6e-85c9-8ab30112ba9a"
      },
      "source": [
        "grouped = grouped.drop_duplicates(['lat', 'lon'], keep='first').reset_index()\n",
        "grouped = grouped.drop(['index'], axis=1)\n",
        "grouped"
      ],
      "execution_count": null,
      "outputs": [
        {
          "output_type": "execute_result",
          "data": {
            "text/html": [
              "<div>\n",
              "<style scoped>\n",
              "    .dataframe tbody tr th:only-of-type {\n",
              "        vertical-align: middle;\n",
              "    }\n",
              "\n",
              "    .dataframe tbody tr th {\n",
              "        vertical-align: top;\n",
              "    }\n",
              "\n",
              "    .dataframe thead th {\n",
              "        text-align: right;\n",
              "    }\n",
              "</style>\n",
              "<table border=\"1\" class=\"dataframe\">\n",
              "  <thead>\n",
              "    <tr style=\"text-align: right;\">\n",
              "      <th></th>\n",
              "      <th>Categoria</th>\n",
              "      <th>lat</th>\n",
              "      <th>lon</th>\n",
              "    </tr>\n",
              "  </thead>\n",
              "  <tbody>\n",
              "    <tr>\n",
              "      <th>0</th>\n",
              "      <td>10</td>\n",
              "      <td>41.900600</td>\n",
              "      <td>12.478700</td>\n",
              "    </tr>\n",
              "    <tr>\n",
              "      <th>1</th>\n",
              "      <td>100_montaÃÂ±as_famosas_de_JapÃÂ³n</td>\n",
              "      <td>35.730490</td>\n",
              "      <td>138.206041</td>\n",
              "    </tr>\n",
              "    <tr>\n",
              "      <th>2</th>\n",
              "      <td>101</td>\n",
              "      <td>44.794466</td>\n",
              "      <td>25.337350</td>\n",
              "    </tr>\n",
              "    <tr>\n",
              "      <th>3</th>\n",
              "      <td>1017</td>\n",
              "      <td>51.719200</td>\n",
              "      <td>8.755560</td>\n",
              "    </tr>\n",
              "    <tr>\n",
              "      <th>4</th>\n",
              "      <td>101_a._C.</td>\n",
              "      <td>45.316667</td>\n",
              "      <td>8.416667</td>\n",
              "    </tr>\n",
              "    <tr>\n",
              "      <th>...</th>\n",
              "      <td>...</td>\n",
              "      <td>...</td>\n",
              "      <td>...</td>\n",
              "    </tr>\n",
              "    <tr>\n",
              "      <th>98795</th>\n",
              "      <td>Resistencia_al_Imperio_britÃÂ¡nico</td>\n",
              "      <td>22.266700</td>\n",
              "      <td>114.150000</td>\n",
              "    </tr>\n",
              "    <tr>\n",
              "      <th>98796</th>\n",
              "      <td>SK_VorwÃÂ¤rts_Steyr</td>\n",
              "      <td>48.037667</td>\n",
              "      <td>14.410361</td>\n",
              "    </tr>\n",
              "    <tr>\n",
              "      <th>98797</th>\n",
              "      <td>Sitios_Ramsar_de_Noruega</td>\n",
              "      <td>60.783333</td>\n",
              "      <td>11.116667</td>\n",
              "    </tr>\n",
              "    <tr>\n",
              "      <th>98798</th>\n",
              "      <td>Sitios_arqueolÃÂ³gicos_del_distrito_de_San_Luis</td>\n",
              "      <td>-12.079180</td>\n",
              "      <td>-76.999693</td>\n",
              "    </tr>\n",
              "    <tr>\n",
              "      <th>98799</th>\n",
              "      <td>Tost</td>\n",
              "      <td>42.272830</td>\n",
              "      <td>1.384922</td>\n",
              "    </tr>\n",
              "  </tbody>\n",
              "</table>\n",
              "<p>98800 rows × 3 columns</p>\n",
              "</div>"
            ],
            "text/plain": [
              "                                              Categoria        lat         lon\n",
              "0                                                    10  41.900600   12.478700\n",
              "1                   100_montaÃÂ±as_famosas_de_JapÃÂ³n  35.730490  138.206041\n",
              "2                                                   101  44.794466   25.337350\n",
              "3                                                  1017  51.719200    8.755560\n",
              "4                                             101_a._C.  45.316667    8.416667\n",
              "...                                                 ...        ...         ...\n",
              "98795               Resistencia_al_Imperio_britÃÂ¡nico  22.266700  114.150000\n",
              "98796                              SK_VorwÃÂ¤rts_Steyr  48.037667   14.410361\n",
              "98797                          Sitios_Ramsar_de_Noruega  60.783333   11.116667\n",
              "98798  Sitios_arqueolÃÂ³gicos_del_distrito_de_San_Luis -12.079180  -76.999693\n",
              "98799                                              Tost  42.272830    1.384922\n",
              "\n",
              "[98800 rows x 3 columns]"
            ]
          },
          "metadata": {},
          "execution_count": 48
        }
      ]
    },
    {
      "cell_type": "markdown",
      "metadata": {
        "id": "vj6l-bX66A21"
      },
      "source": [
        "Hice un reset index para que la columna de la misma quede sin \"saltos\" y así evitar posibles advertencias/errores más adelante"
      ]
    },
    {
      "cell_type": "markdown",
      "metadata": {
        "id": "SLAl3EkDmwtl"
      },
      "source": [
        "Voy a utilizar un BallTree para poder buscar el vecino más cercano de cada usuario. (Autorizado por Nati)"
      ]
    },
    {
      "cell_type": "code",
      "metadata": {
        "id": "vileBz5gzjEa"
      },
      "source": [
        "from sklearn.neighbors import BallTree\n",
        "\n",
        "query_lats = grouped['lat']\n",
        "query_lons = grouped['lon']\n",
        "\n",
        "bt = BallTree(np.deg2rad(grouped[['lat', 'lon']].values), metric='haversine')\n",
        "distances, indices = bt.query(np.deg2rad(np.c_[query_lats, query_lons]), k=2)"
      ],
      "execution_count": null,
      "outputs": []
    },
    {
      "cell_type": "markdown",
      "metadata": {
        "id": "h4rAkYBxm1NI"
      },
      "source": [
        "El array distances tendrá las distancias de los 2 vecinos más cercanos, donde siempre el primer valor será 0 (distancia a el mismo) y el segundo tendrá un valor.\n",
        "\n",
        "El array indices tendrá también 2 valores, el primero será el mismo y el 2do será el indice del vecino más cercano (distinto de él)\n",
        "\n",
        "Paso las distancias a KM multiplicando por 6371 que es el radio de la tierra en km."
      ]
    },
    {
      "cell_type": "code",
      "metadata": {
        "colab": {
          "base_uri": "https://localhost:8080/"
        },
        "id": "XXz7P6fvm65U",
        "outputId": "9a614c12-61d9-4e30-875e-dd33d5d9cbd5"
      },
      "source": [
        "radio = 6371\n",
        "for i in range(0, len(distances)):\n",
        "  distances[i][1] = distances[i][1] * radio\n",
        "\n",
        "print(distances)"
      ],
      "execution_count": null,
      "outputs": [
        {
          "output_type": "stream",
          "name": "stdout",
          "text": [
            "[[ 0.          0.04883094]\n",
            " [ 0.          8.51198895]\n",
            " [ 0.         17.65677683]\n",
            " ...\n",
            " [ 0.         12.65607797]\n",
            " [ 0.          0.21768522]\n",
            " [ 0.          2.77179275]]\n"
          ]
        }
      ]
    },
    {
      "cell_type": "code",
      "metadata": {
        "colab": {
          "base_uri": "https://localhost:8080/"
        },
        "id": "K5CQ2jnsm7go",
        "outputId": "badad087-7202-4f2c-f551-7d9302295e92"
      },
      "source": [
        "print(indices)"
      ],
      "execution_count": null,
      "outputs": [
        {
          "output_type": "stream",
          "name": "stdout",
          "text": [
            "[[    0 22082]\n",
            " [    1 61114]\n",
            " [    2 63702]\n",
            " ...\n",
            " [98797 70057]\n",
            " [98798 61110]\n",
            " [98799 53498]]\n"
          ]
        }
      ]
    },
    {
      "cell_type": "markdown",
      "metadata": {
        "id": "Dk4C98gPm-jX"
      },
      "source": [
        "Vamos a dividir estos datos en columnas individuales y las cargamos al dataframe.\n",
        "\n",
        "Los datos de las primeras columnas los voy a descartar porque contienen datos de cada categoría a si misma y no me sirven."
      ]
    },
    {
      "cell_type": "code",
      "metadata": {
        "colab": {
          "base_uri": "https://localhost:8080/",
          "height": 203
        },
        "id": "_0BMgoXFm-yP",
        "outputId": "cf2e2b53-a63c-4094-c9db-d0ce7a3a6a5f"
      },
      "source": [
        "d_1, d_2 = np.split(distances, 2, axis=1)\n",
        "i_1, i_2 = np.split(indices, 2, axis=1)\n",
        "grouped['vecino_mas_cercano'] = i_2\n",
        "grouped['distancia'] = d_2\n",
        "grouped.head()"
      ],
      "execution_count": null,
      "outputs": [
        {
          "output_type": "execute_result",
          "data": {
            "text/html": [
              "<div>\n",
              "<style scoped>\n",
              "    .dataframe tbody tr th:only-of-type {\n",
              "        vertical-align: middle;\n",
              "    }\n",
              "\n",
              "    .dataframe tbody tr th {\n",
              "        vertical-align: top;\n",
              "    }\n",
              "\n",
              "    .dataframe thead th {\n",
              "        text-align: right;\n",
              "    }\n",
              "</style>\n",
              "<table border=\"1\" class=\"dataframe\">\n",
              "  <thead>\n",
              "    <tr style=\"text-align: right;\">\n",
              "      <th></th>\n",
              "      <th>Categoria</th>\n",
              "      <th>lat</th>\n",
              "      <th>lon</th>\n",
              "      <th>vecino_mas_cercano</th>\n",
              "      <th>distancia</th>\n",
              "    </tr>\n",
              "  </thead>\n",
              "  <tbody>\n",
              "    <tr>\n",
              "      <th>0</th>\n",
              "      <td>10</td>\n",
              "      <td>41.900600</td>\n",
              "      <td>12.478700</td>\n",
              "      <td>22082</td>\n",
              "      <td>0.048831</td>\n",
              "    </tr>\n",
              "    <tr>\n",
              "      <th>1</th>\n",
              "      <td>100_montaÃÂ±as_famosas_de_JapÃÂ³n</td>\n",
              "      <td>35.730490</td>\n",
              "      <td>138.206041</td>\n",
              "      <td>61114</td>\n",
              "      <td>8.511989</td>\n",
              "    </tr>\n",
              "    <tr>\n",
              "      <th>2</th>\n",
              "      <td>101</td>\n",
              "      <td>44.794466</td>\n",
              "      <td>25.337350</td>\n",
              "      <td>63702</td>\n",
              "      <td>17.656777</td>\n",
              "    </tr>\n",
              "    <tr>\n",
              "      <th>3</th>\n",
              "      <td>1017</td>\n",
              "      <td>51.719200</td>\n",
              "      <td>8.755560</td>\n",
              "      <td>95087</td>\n",
              "      <td>0.039664</td>\n",
              "    </tr>\n",
              "    <tr>\n",
              "      <th>4</th>\n",
              "      <td>101_a._C.</td>\n",
              "      <td>45.316667</td>\n",
              "      <td>8.416667</td>\n",
              "      <td>19552</td>\n",
              "      <td>3.323988</td>\n",
              "    </tr>\n",
              "  </tbody>\n",
              "</table>\n",
              "</div>"
            ],
            "text/plain": [
              "                             Categoria  ...  distancia\n",
              "0                                   10  ...   0.048831\n",
              "1  100_montaÃÂ±as_famosas_de_JapÃÂ³n  ...   8.511989\n",
              "2                                  101  ...  17.656777\n",
              "3                                 1017  ...   0.039664\n",
              "4                            101_a._C.  ...   3.323988\n",
              "\n",
              "[5 rows x 5 columns]"
            ]
          },
          "metadata": {},
          "execution_count": 52
        }
      ]
    },
    {
      "cell_type": "markdown",
      "metadata": {
        "id": "LkMHe3TU65Vm"
      },
      "source": [
        "Filtro por la distancia minima:"
      ]
    },
    {
      "cell_type": "code",
      "metadata": {
        "colab": {
          "base_uri": "https://localhost:8080/",
          "height": 172
        },
        "id": "3ghrPz2J69uo",
        "outputId": "57ad0822-75c4-4312-9a97-6982efa480f9"
      },
      "source": [
        "grouped[(grouped['distancia'] == grouped['distancia'].min())]"
      ],
      "execution_count": null,
      "outputs": [
        {
          "output_type": "execute_result",
          "data": {
            "text/html": [
              "<div>\n",
              "<style scoped>\n",
              "    .dataframe tbody tr th:only-of-type {\n",
              "        vertical-align: middle;\n",
              "    }\n",
              "\n",
              "    .dataframe tbody tr th {\n",
              "        vertical-align: top;\n",
              "    }\n",
              "\n",
              "    .dataframe thead th {\n",
              "        text-align: right;\n",
              "    }\n",
              "</style>\n",
              "<table border=\"1\" class=\"dataframe\">\n",
              "  <thead>\n",
              "    <tr style=\"text-align: right;\">\n",
              "      <th></th>\n",
              "      <th>Categoria</th>\n",
              "      <th>lat</th>\n",
              "      <th>lon</th>\n",
              "      <th>vecino_mas_cercano</th>\n",
              "      <th>distancia</th>\n",
              "    </tr>\n",
              "  </thead>\n",
              "  <tbody>\n",
              "    <tr>\n",
              "      <th>12311</th>\n",
              "      <td>Tratados_de_RepÃÂºblica_Dominicana</td>\n",
              "      <td>15.114815</td>\n",
              "      <td>-71.541667</td>\n",
              "      <td>12311</td>\n",
              "      <td>0.0</td>\n",
              "    </tr>\n",
              "    <tr>\n",
              "      <th>61785</th>\n",
              "      <td>EspaÃÂ±a_en_1246</td>\n",
              "      <td>37.769722</td>\n",
              "      <td>-3.788889</td>\n",
              "      <td>71527</td>\n",
              "      <td>0.0</td>\n",
              "    </tr>\n",
              "    <tr>\n",
              "      <th>71527</th>\n",
              "      <td>Historia_de_JaÃÂ©n</td>\n",
              "      <td>37.769722</td>\n",
              "      <td>-3.788889</td>\n",
              "      <td>71527</td>\n",
              "      <td>0.0</td>\n",
              "    </tr>\n",
              "    <tr>\n",
              "      <th>96930</th>\n",
              "      <td>Frontera_Colombia-RepÃÂºblica_Dominicana</td>\n",
              "      <td>15.114815</td>\n",
              "      <td>-71.541667</td>\n",
              "      <td>12311</td>\n",
              "      <td>0.0</td>\n",
              "    </tr>\n",
              "  </tbody>\n",
              "</table>\n",
              "</div>"
            ],
            "text/plain": [
              "                                       Categoria  ...  distancia\n",
              "12311        Tratados_de_RepÃÂºblica_Dominicana  ...        0.0\n",
              "61785                          EspaÃÂ±a_en_1246  ...        0.0\n",
              "71527                        Historia_de_JaÃÂ©n  ...        0.0\n",
              "96930  Frontera_Colombia-RepÃÂºblica_Dominicana  ...        0.0\n",
              "\n",
              "[4 rows x 5 columns]"
            ]
          },
          "metadata": {},
          "execution_count": 54
        }
      ]
    },
    {
      "cell_type": "markdown",
      "metadata": {
        "id": "e9GRTdP16jjx"
      },
      "source": [
        "Por alguna razón que desconozco quedaron algunos datos duplicados, vamos a descartarlos:"
      ]
    },
    {
      "cell_type": "code",
      "metadata": {
        "id": "389KRACA6pkK"
      },
      "source": [
        "grouped = grouped[(grouped['distancia'] > 0)]"
      ],
      "execution_count": null,
      "outputs": []
    },
    {
      "cell_type": "markdown",
      "metadata": {
        "id": "uZ6lHHgf6ubH"
      },
      "source": [
        "Filtro nuevamente por la distancia minima:"
      ]
    },
    {
      "cell_type": "code",
      "metadata": {
        "colab": {
          "base_uri": "https://localhost:8080/",
          "height": 127
        },
        "id": "mz8bSuBb6xHy",
        "outputId": "ac893404-e57a-4094-edf9-1c94c14ae8d4"
      },
      "source": [
        "grouped[(grouped['distancia'] == grouped['distancia'].min())]"
      ],
      "execution_count": null,
      "outputs": [
        {
          "output_type": "execute_result",
          "data": {
            "text/html": [
              "<div>\n",
              "<style scoped>\n",
              "    .dataframe tbody tr th:only-of-type {\n",
              "        vertical-align: middle;\n",
              "    }\n",
              "\n",
              "    .dataframe tbody tr th {\n",
              "        vertical-align: top;\n",
              "    }\n",
              "\n",
              "    .dataframe thead th {\n",
              "        text-align: right;\n",
              "    }\n",
              "</style>\n",
              "<table border=\"1\" class=\"dataframe\">\n",
              "  <thead>\n",
              "    <tr style=\"text-align: right;\">\n",
              "      <th></th>\n",
              "      <th>Categoria</th>\n",
              "      <th>lat</th>\n",
              "      <th>lon</th>\n",
              "      <th>vecino_mas_cercano</th>\n",
              "      <th>distancia</th>\n",
              "    </tr>\n",
              "  </thead>\n",
              "  <tbody>\n",
              "    <tr>\n",
              "      <th>96829</th>\n",
              "      <td>Frontera_Colombia-HaitÃÂ­</td>\n",
              "      <td>14.884722</td>\n",
              "      <td>-73.986111</td>\n",
              "      <td>96835</td>\n",
              "      <td>3.536615e-13</td>\n",
              "    </tr>\n",
              "    <tr>\n",
              "      <th>96835</th>\n",
              "      <td>HaitÃÂ­_en_1978</td>\n",
              "      <td>14.884722</td>\n",
              "      <td>-73.986111</td>\n",
              "      <td>96829</td>\n",
              "      <td>3.536615e-13</td>\n",
              "    </tr>\n",
              "  </tbody>\n",
              "</table>\n",
              "</div>"
            ],
            "text/plain": [
              "                        Categoria        lat  ...  vecino_mas_cercano     distancia\n",
              "96829  Frontera_Colombia-HaitÃÂ­  14.884722  ...               96835  3.536615e-13\n",
              "96835            HaitÃÂ­_en_1978  14.884722  ...               96829  3.536615e-13\n",
              "\n",
              "[2 rows x 5 columns]"
            ]
          },
          "metadata": {},
          "execution_count": 59
        }
      ]
    },
    {
      "cell_type": "markdown",
      "metadata": {
        "id": "KBZHPBpy7yI_"
      },
      "source": [
        "Podemos ver que las categorías mas cercanas con una distancia muuuuy chica son: \n",
        "**Frontera_Colombia-HaitÃÂ­\t Y HaitÃÂ­_en_1978**"
      ]
    },
    {
      "cell_type": "markdown",
      "metadata": {
        "id": "qMXHg8aO8Elu"
      },
      "source": [
        "Y si hacemos un filtrado de distancias un poco mayor a 0:"
      ]
    },
    {
      "cell_type": "code",
      "metadata": {
        "colab": {
          "base_uri": "https://localhost:8080/",
          "height": 110
        },
        "id": "fIpCT0sh8JrG",
        "outputId": "83e7a7dc-923a-4636-cfba-94b372cf669b"
      },
      "source": [
        "grouped = grouped[(grouped['distancia'] > 0.01)]\n",
        "grouped[(grouped['distancia'] == grouped['distancia'].min())]"
      ],
      "execution_count": null,
      "outputs": [
        {
          "output_type": "execute_result",
          "data": {
            "text/html": [
              "<div>\n",
              "<style scoped>\n",
              "    .dataframe tbody tr th:only-of-type {\n",
              "        vertical-align: middle;\n",
              "    }\n",
              "\n",
              "    .dataframe tbody tr th {\n",
              "        vertical-align: top;\n",
              "    }\n",
              "\n",
              "    .dataframe thead th {\n",
              "        text-align: right;\n",
              "    }\n",
              "</style>\n",
              "<table border=\"1\" class=\"dataframe\">\n",
              "  <thead>\n",
              "    <tr style=\"text-align: right;\">\n",
              "      <th></th>\n",
              "      <th>Categoria</th>\n",
              "      <th>lat</th>\n",
              "      <th>lon</th>\n",
              "      <th>vecino_mas_cercano</th>\n",
              "      <th>distancia</th>\n",
              "    </tr>\n",
              "  </thead>\n",
              "  <tbody>\n",
              "    <tr>\n",
              "      <th>39267</th>\n",
              "      <td>Edificios_bancarios_de_Argentina_del_siglo_XXI</td>\n",
              "      <td>-34.605694</td>\n",
              "      <td>-58.372639</td>\n",
              "      <td>39721</td>\n",
              "      <td>0.010001</td>\n",
              "    </tr>\n",
              "    <tr>\n",
              "      <th>39721</th>\n",
              "      <td>Grupo_Financiero_Galicia</td>\n",
              "      <td>-34.605764</td>\n",
              "      <td>-58.372569</td>\n",
              "      <td>39267</td>\n",
              "      <td>0.010001</td>\n",
              "    </tr>\n",
              "  </tbody>\n",
              "</table>\n",
              "</div>"
            ],
            "text/plain": [
              "                                            Categoria  ...  distancia\n",
              "39267  Edificios_bancarios_de_Argentina_del_siglo_XXI  ...   0.010001\n",
              "39721                        Grupo_Financiero_Galicia  ...   0.010001\n",
              "\n",
              "[2 rows x 5 columns]"
            ]
          },
          "metadata": {},
          "execution_count": 60
        }
      ]
    },
    {
      "cell_type": "markdown",
      "metadata": {
        "id": "9Q9uDSNX8SNO"
      },
      "source": [
        "Estos usuarios por ejemplo estarían a una distancia de 0,01 km que equivale a 10 metros"
      ]
    }
  ]
}