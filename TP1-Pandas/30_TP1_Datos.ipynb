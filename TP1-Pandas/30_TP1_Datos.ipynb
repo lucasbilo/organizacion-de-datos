{
  "nbformat": 4,
  "nbformat_minor": 0,
  "metadata": {
    "colab": {
      "name": "30-TP1-Datos.ipynb",
      "provenance": [],
      "collapsed_sections": []
    },
    "kernelspec": {
      "name": "python3",
      "display_name": "Python 3"
    },
    "language_info": {
      "name": "python"
    }
  },
  "cells": [
    {
      "cell_type": "markdown",
      "metadata": {
        "id": "b2mrWGGOO_w1"
      },
      "source": [
        "**30. La 3-upla de palabras más común en los comentarios de los logs (⭐⭐)**\n"
      ]
    },
    {
      "cell_type": "code",
      "metadata": {
        "id": "qsjxJ7OqeAEh"
      },
      "source": [
        "import pandas as pd\n",
        "import numpy as np\n",
        "from sklearn.feature_extraction.text import CountVectorizer\n",
        "\n",
        "from pydrive.auth import GoogleAuth\n",
        "from pydrive.drive import GoogleDrive\n",
        "from google.colab import auth\n",
        "from oauth2client.client import GoogleCredentials\n",
        "\n",
        "# Authenticate and create the PyDrive client\n",
        "auth.authenticate_user()\n",
        "gauth = GoogleAuth()\n",
        "gauth.credentials = GoogleCredentials.get_application_default()\n",
        "drive = GoogleDrive(gauth)"
      ],
      "execution_count": null,
      "outputs": []
    },
    {
      "cell_type": "markdown",
      "metadata": {
        "id": "cHsa6uFpeI66"
      },
      "source": [
        "Para este ejercicio voy a utilizar el csv **logs.**"
      ]
    },
    {
      "cell_type": "code",
      "metadata": {
        "id": "6Q9kHxcfcDr8"
      },
      "source": [
        "downloaded = drive.CreateFile({'id': '1nIzHWsLqzJWq9XuKEweSwMCPEGkysoGB'})\n",
        "downloaded.GetContentFile('logs.csv')"
      ],
      "execution_count": null,
      "outputs": []
    },
    {
      "cell_type": "markdown",
      "metadata": {
        "id": "hDDlhT713Oi5"
      },
      "source": [
        "Como el csv es muy grande, solo me voy a quedar con algunas pocas columnas para ahorrar memoria"
      ]
    },
    {
      "cell_type": "code",
      "metadata": {
        "id": "Wb6s_oveeP0u",
        "colab": {
          "base_uri": "https://localhost:8080/",
          "height": 203
        },
        "outputId": "7c0b6fc8-4441-4ec5-83da-b60e644c5d57"
      },
      "source": [
        "logs = pd.read_csv('logs.csv', encoding='latin-1' , usecols=[\"item_id\", \"contributor_username\", \"comment\"],\\\n",
        "                            dtype={'contributor_username':'category'})\n",
        "logs.head()"
      ],
      "execution_count": null,
      "outputs": [
        {
          "output_type": "execute_result",
          "data": {
            "text/html": [
              "<div>\n",
              "<style scoped>\n",
              "    .dataframe tbody tr th:only-of-type {\n",
              "        vertical-align: middle;\n",
              "    }\n",
              "\n",
              "    .dataframe tbody tr th {\n",
              "        vertical-align: top;\n",
              "    }\n",
              "\n",
              "    .dataframe thead th {\n",
              "        text-align: right;\n",
              "    }\n",
              "</style>\n",
              "<table border=\"1\" class=\"dataframe\">\n",
              "  <thead>\n",
              "    <tr style=\"text-align: right;\">\n",
              "      <th></th>\n",
              "      <th>item_id</th>\n",
              "      <th>contributor_username</th>\n",
              "      <th>comment</th>\n",
              "    </tr>\n",
              "  </thead>\n",
              "  <tbody>\n",
              "    <tr>\n",
              "      <th>0</th>\n",
              "      <td>1</td>\n",
              "      <td>Sabbut</td>\n",
              "      <td>el contenido era: 'Si aprendÃ©s Pensamiento Ci...</td>\n",
              "    </tr>\n",
              "    <tr>\n",
              "      <th>1</th>\n",
              "      <td>2</td>\n",
              "      <td>Sabbut</td>\n",
              "      <td>el contenido era: '{{destruir}}en algun lugar ...</td>\n",
              "    </tr>\n",
              "    <tr>\n",
              "      <th>2</th>\n",
              "      <td>3</td>\n",
              "      <td>Sabbut</td>\n",
              "      <td>el contenido era: '#REDIRECT [[Flash]]'</td>\n",
              "    </tr>\n",
              "    <tr>\n",
              "      <th>3</th>\n",
              "      <td>4</td>\n",
              "      <td>Sanbec</td>\n",
              "      <td>Sin informaciÃ³n de origen ni de licencia. Hay...</td>\n",
              "    </tr>\n",
              "    <tr>\n",
              "      <th>4</th>\n",
              "      <td>5</td>\n",
              "      <td>Sanbec</td>\n",
              "      <td>Sustituida por  [[commons:Image:Heckert_GNU.png]]</td>\n",
              "    </tr>\n",
              "  </tbody>\n",
              "</table>\n",
              "</div>"
            ],
            "text/plain": [
              "   item_id  ...                                            comment\n",
              "0        1  ...  el contenido era: 'Si aprendÃ©s Pensamiento Ci...\n",
              "1        2  ...  el contenido era: '{{destruir}}en algun lugar ...\n",
              "2        3  ...            el contenido era: '#REDIRECT [[Flash]]'\n",
              "3        4  ...  Sin informaciÃ³n de origen ni de licencia. Hay...\n",
              "4        5  ...  Sustituida por  [[commons:Image:Heckert_GNU.png]]\n",
              "\n",
              "[5 rows x 3 columns]"
            ]
          },
          "metadata": {},
          "execution_count": 3
        }
      ]
    },
    {
      "cell_type": "markdown",
      "metadata": {
        "id": "XYUfz00Bx0Wb"
      },
      "source": [
        "Veo si hay NaNs en la columna de comment:"
      ]
    },
    {
      "cell_type": "code",
      "metadata": {
        "colab": {
          "base_uri": "https://localhost:8080/"
        },
        "id": "TkGLHShAx26E",
        "outputId": "3e6a7691-982f-4164-9634-6bde851eb28d"
      },
      "source": [
        "logs['comment'].hasnans"
      ],
      "execution_count": null,
      "outputs": [
        {
          "output_type": "execute_result",
          "data": {
            "text/plain": [
              "True"
            ]
          },
          "metadata": {},
          "execution_count": 4
        }
      ]
    },
    {
      "cell_type": "markdown",
      "metadata": {
        "id": "MiD6WzI3xVzc"
      },
      "source": [
        "Hago una limpieza de NaNs:"
      ]
    },
    {
      "cell_type": "code",
      "metadata": {
        "id": "d77pP4-_xY0s",
        "colab": {
          "base_uri": "https://localhost:8080/"
        },
        "outputId": "2848232a-42a2-44a5-90f0-d92926628cfd"
      },
      "source": [
        "logs = logs.dropna()\n",
        "logs['comment'].hasnans"
      ],
      "execution_count": null,
      "outputs": [
        {
          "output_type": "execute_result",
          "data": {
            "text/plain": [
              "False"
            ]
          },
          "metadata": {},
          "execution_count": 5
        }
      ]
    },
    {
      "cell_type": "code",
      "metadata": {
        "colab": {
          "base_uri": "https://localhost:8080/"
        },
        "id": "F-izZXU_VogN",
        "outputId": "ad92b275-ff94-41a1-9053-3fe926975f56"
      },
      "source": [
        "logs.info()"
      ],
      "execution_count": null,
      "outputs": [
        {
          "output_type": "stream",
          "name": "stdout",
          "text": [
            "<class 'pandas.core.frame.DataFrame'>\n",
            "Int64Index: 5208787 entries, 0 to 12188944\n",
            "Data columns (total 3 columns):\n",
            " #   Column                Dtype   \n",
            "---  ------                -----   \n",
            " 0   item_id               int64   \n",
            " 1   contributor_username  category\n",
            " 2   comment               object  \n",
            "dtypes: category(1), int64(1), object(1)\n",
            "memory usage: 346.3+ MB\n"
          ]
        }
      ]
    },
    {
      "cell_type": "markdown",
      "metadata": {
        "id": "e6cjJSf1m0sU"
      },
      "source": [
        "Para encontrar la 3-upla más común voy a utilizar n-grams a partir de la función CountVectorizer.\n",
        "\n",
        "Son más de 5.2 millones de comentarios, utilizandolos todos tarda muchisimo, lo deje varias horas y seguia.\n",
        "\n",
        "Lo reduci a medio millón lo deje más de 2 horas y seguía...\n",
        "\n",
        "Asi que lo voy a realizar con 100.000 para hacerlo más rápido, pero quiero aclarar que esto funciona con el total de datos pero tarda demasiado\n"
      ]
    },
    {
      "cell_type": "code",
      "metadata": {
        "id": "gG40BEcM3ttM",
        "colab": {
          "base_uri": "https://localhost:8080/",
          "height": 417
        },
        "outputId": "68302874-4a14-426e-8905-314175288104"
      },
      "source": [
        "word_vectorizer = CountVectorizer(ngram_range=(3,3), analyzer='word')\n",
        "\n",
        "sparse_matrix = word_vectorizer.fit_transform(logs[:100000]['comment'])\n",
        "\n",
        "frequencies = sum(sparse_matrix).data\n",
        "\n",
        "pd.DataFrame(frequencies, index=word_vectorizer.get_feature_names(), columns=['comment']).sort_values('comment',ascending=False)"
      ],
      "execution_count": null,
      "outputs": [
        {
          "output_type": "execute_result",
          "data": {
            "text/html": [
              "<div>\n",
              "<style scoped>\n",
              "    .dataframe tbody tr th:only-of-type {\n",
              "        vertical-align: middle;\n",
              "    }\n",
              "\n",
              "    .dataframe tbody tr th {\n",
              "        vertical-align: top;\n",
              "    }\n",
              "\n",
              "    .dataframe thead th {\n",
              "        text-align: right;\n",
              "    }\n",
              "</style>\n",
              "<table border=\"1\" class=\"dataframe\">\n",
              "  <thead>\n",
              "    <tr style=\"text-align: right;\">\n",
              "      <th></th>\n",
              "      <th>comment</th>\n",
              "    </tr>\n",
              "  </thead>\n",
              "  <tbody>\n",
              "    <tr>\n",
              "      <th>los sitemas de</th>\n",
              "      <td>33180</td>\n",
              "    </tr>\n",
              "    <tr>\n",
              "      <th>eric bruno borgman</th>\n",
              "      <td>28147</td>\n",
              "    </tr>\n",
              "    <tr>\n",
              "      <th>era no leagues</th>\n",
              "      <td>27480</td>\n",
              "    </tr>\n",
              "    <tr>\n",
              "      <th>era no lo</th>\n",
              "      <td>27480</td>\n",
              "    </tr>\n",
              "    <tr>\n",
              "      <th>los sims ya</th>\n",
              "      <td>11155</td>\n",
              "    </tr>\n",
              "    <tr>\n",
              "      <th>...</th>\n",
              "      <td>...</td>\n",
              "    </tr>\n",
              "    <tr>\n",
              "      <th>era mejorar las</th>\n",
              "      <td>1</td>\n",
              "    </tr>\n",
              "    <tr>\n",
              "      <th>era mejorar la</th>\n",
              "      <td>1</td>\n",
              "    </tr>\n",
              "    <tr>\n",
              "      <th>era mejorar garganta</th>\n",
              "      <td>1</td>\n",
              "    </tr>\n",
              "    <tr>\n",
              "      <th>era mejorar es</th>\n",
              "      <td>1</td>\n",
              "    </tr>\n",
              "    <tr>\n",
              "      <th>ù¾ú øªù ãºnico</th>\n",
              "      <td>1</td>\n",
              "    </tr>\n",
              "  </tbody>\n",
              "</table>\n",
              "<p>583385 rows × 1 columns</p>\n",
              "</div>"
            ],
            "text/plain": [
              "                      comment\n",
              "los sitemas de          33180\n",
              "eric bruno borgman      28147\n",
              "era no leagues          27480\n",
              "era no lo               27480\n",
              "los sims ya             11155\n",
              "...                       ...\n",
              "era mejorar las             1\n",
              "era mejorar la              1\n",
              "era mejorar garganta        1\n",
              "era mejorar es              1\n",
              "ù¾ú øªù ãºnico              1\n",
              "\n",
              "[583385 rows x 1 columns]"
            ]
          },
          "metadata": {},
          "execution_count": 8
        }
      ]
    },
    {
      "cell_type": "markdown",
      "metadata": {
        "id": "I4-dv5z610FY"
      },
      "source": [
        "Podemos ver que la 3-upla más común entre esta porción de datos es: **los sistemas de**"
      ]
    },
    {
      "cell_type": "markdown",
      "metadata": {
        "id": "eaRhuZZHWDLk"
      },
      "source": [
        "Si vemos otra porción de 100.000:"
      ]
    },
    {
      "cell_type": "code",
      "metadata": {
        "colab": {
          "base_uri": "https://localhost:8080/",
          "height": 417
        },
        "id": "iAUdAIq2PuFb",
        "outputId": "63794883-aec3-4410-8682-82ea53038c63"
      },
      "source": [
        "word_vectorizer = CountVectorizer(ngram_range=(3,3), analyzer='word')\n",
        "\n",
        "sparse_matrix = word_vectorizer.fit_transform(logs[100000:200000]['comment'])\n",
        "\n",
        "frequencies = sum(sparse_matrix).data\n",
        "\n",
        "pd.DataFrame(frequencies, index=word_vectorizer.get_feature_names(), columns=['comment']).sort_values('comment',ascending=False)"
      ],
      "execution_count": null,
      "outputs": [
        {
          "output_type": "execute_result",
          "data": {
            "text/html": [
              "<div>\n",
              "<style scoped>\n",
              "    .dataframe tbody tr th:only-of-type {\n",
              "        vertical-align: middle;\n",
              "    }\n",
              "\n",
              "    .dataframe tbody tr th {\n",
              "        vertical-align: top;\n",
              "    }\n",
              "\n",
              "    .dataframe thead th {\n",
              "        text-align: right;\n",
              "    }\n",
              "</style>\n",
              "<table border=\"1\" class=\"dataframe\">\n",
              "  <thead>\n",
              "    <tr style=\"text-align: right;\">\n",
              "      <th></th>\n",
              "      <th>comment</th>\n",
              "    </tr>\n",
              "  </thead>\n",
              "  <tbody>\n",
              "    <tr>\n",
              "      <th>nito nora discusiã³n</th>\n",
              "      <td>54911</td>\n",
              "    </tr>\n",
              "    <tr>\n",
              "      <th>niten ichy niten</th>\n",
              "      <td>47270</td>\n",
              "    </tr>\n",
              "    <tr>\n",
              "      <th>niten ichy discusiã³n</th>\n",
              "      <td>47270</td>\n",
              "    </tr>\n",
              "    <tr>\n",
              "      <th>ninoconc discusiã³n special</th>\n",
              "      <td>19328</td>\n",
              "    </tr>\n",
              "    <tr>\n",
              "      <th>talk julius47 discusiã³n</th>\n",
              "      <td>7641</td>\n",
              "    </tr>\n",
              "    <tr>\n",
              "      <th>...</th>\n",
              "      <td>...</td>\n",
              "    </tr>\n",
              "    <tr>\n",
              "      <th>freewebs com blaxdas</th>\n",
              "      <td>1</td>\n",
              "    </tr>\n",
              "    <tr>\n",
              "      <th>freez discusiã³n special</th>\n",
              "      <td>1</td>\n",
              "    </tr>\n",
              "    <tr>\n",
              "      <th>freez titan freez</th>\n",
              "      <td>1</td>\n",
              "    </tr>\n",
              "    <tr>\n",
              "      <th>freez user talk</th>\n",
              "      <td>1</td>\n",
              "    </tr>\n",
              "    <tr>\n",
              "      <th>øºù es una</th>\n",
              "      <td>1</td>\n",
              "    </tr>\n",
              "  </tbody>\n",
              "</table>\n",
              "<p>723288 rows × 1 columns</p>\n",
              "</div>"
            ],
            "text/plain": [
              "                             comment\n",
              "nito nora discusiã³n           54911\n",
              "niten ichy niten               47270\n",
              "niten ichy discusiã³n          47270\n",
              "ninoconc discusiã³n special    19328\n",
              "talk julius47 discusiã³n        7641\n",
              "...                              ...\n",
              "freewebs com blaxdas               1\n",
              "freez discusiã³n special           1\n",
              "freez titan freez                  1\n",
              "freez user talk                    1\n",
              "øºù es una                         1\n",
              "\n",
              "[723288 rows x 1 columns]"
            ]
          },
          "metadata": {},
          "execution_count": 13
        }
      ]
    },
    {
      "cell_type": "markdown",
      "metadata": {
        "id": "-OPP7qFxWFgV"
      },
      "source": [
        "En este caso la 3-upla cambia."
      ]
    }
  ]
}