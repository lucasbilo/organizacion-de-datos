{
  "nbformat": 4,
  "nbformat_minor": 0,
  "metadata": {
    "colab": {
      "name": "7-TP1-Datos.ipynb",
      "provenance": [],
      "collapsed_sections": []
    },
    "kernelspec": {
      "name": "python3",
      "display_name": "Python 3"
    },
    "language_info": {
      "name": "python"
    }
  },
  "cells": [
    {
      "cell_type": "markdown",
      "metadata": {
        "id": "TcKnaYHdkEIt"
      },
      "source": [
        "**7. La antigüedad promedio de la última edición de los artículos cuyo título contenga tu\n",
        "apellido (si no hay, tu nombre y si tampoco hay usa Cafferata) (⭐⭐)**"
      ]
    },
    {
      "cell_type": "code",
      "metadata": {
        "id": "qsjxJ7OqeAEh"
      },
      "source": [
        "import pandas as pd\n",
        "import numpy as np\n",
        "import datetime as dt\n",
        "\n",
        "from pydrive.auth import GoogleAuth\n",
        "from pydrive.drive import GoogleDrive\n",
        "from google.colab import auth\n",
        "from oauth2client.client import GoogleCredentials\n",
        "\n",
        "# Authenticate and create the PyDrive client\n",
        "auth.authenticate_user()\n",
        "gauth = GoogleAuth()\n",
        "gauth.credentials = GoogleCredentials.get_application_default()\n",
        "drive = GoogleDrive(gauth)"
      ],
      "execution_count": null,
      "outputs": []
    },
    {
      "cell_type": "markdown",
      "metadata": {
        "id": "6ZU1sXjoe_BB"
      },
      "source": [
        "Para este ejercicio voy a utilizar el csv: contents"
      ]
    },
    {
      "cell_type": "code",
      "metadata": {
        "id": "to5jxwSFfAk6"
      },
      "source": [
        "id='1SnCVFJvTsaEPrmh-PpVGH6-toBVsD6NL'\n",
        "downloaded = drive.CreateFile({'id': id})\n",
        "downloaded.GetContentFile('contents.csv')"
      ],
      "execution_count": null,
      "outputs": []
    },
    {
      "cell_type": "markdown",
      "metadata": {
        "id": "D5rZV6Vth72w"
      },
      "source": [
        "Como no necesito todos los datos del csv, no voy a leer todas las columnas para ahorrar memoria"
      ]
    },
    {
      "cell_type": "code",
      "metadata": {
        "colab": {
          "base_uri": "https://localhost:8080/",
          "height": 203
        },
        "id": "Ljagh9ybfBFU",
        "outputId": "6c292758-fae3-4bbc-f630-b66809b17e74"
      },
      "source": [
        "contents = pd.read_csv('contents.csv', encoding='latin-1' , usecols=[0,1,2,5,6], \\\n",
        "                            dtype={'title':'category','revisor_username':'category'})\n",
        "contents.head()"
      ],
      "execution_count": null,
      "outputs": [
        {
          "output_type": "execute_result",
          "data": {
            "text/html": [
              "<div>\n",
              "<style scoped>\n",
              "    .dataframe tbody tr th:only-of-type {\n",
              "        vertical-align: middle;\n",
              "    }\n",
              "\n",
              "    .dataframe tbody tr th {\n",
              "        vertical-align: top;\n",
              "    }\n",
              "\n",
              "    .dataframe thead th {\n",
              "        text-align: right;\n",
              "    }\n",
              "</style>\n",
              "<table border=\"1\" class=\"dataframe\">\n",
              "  <thead>\n",
              "    <tr style=\"text-align: right;\">\n",
              "      <th></th>\n",
              "      <th>title</th>\n",
              "      <th>id</th>\n",
              "      <th>namespace</th>\n",
              "      <th>revision_timestamp</th>\n",
              "      <th>revisor_username</th>\n",
              "    </tr>\n",
              "  </thead>\n",
              "  <tbody>\n",
              "    <tr>\n",
              "      <th>0</th>\n",
              "      <td>Wikipedia:ArtÃ­culos solicitados</td>\n",
              "      <td>5</td>\n",
              "      <td>4</td>\n",
              "      <td>2021-01-19T18:40:34Z</td>\n",
              "      <td>MetrÃ³nomo</td>\n",
              "    </tr>\n",
              "    <tr>\n",
              "      <th>1</th>\n",
              "      <td>Andorra</td>\n",
              "      <td>7</td>\n",
              "      <td>0</td>\n",
              "      <td>2021-08-31T18:27:01Z</td>\n",
              "      <td>NaN</td>\n",
              "    </tr>\n",
              "    <tr>\n",
              "      <th>2</th>\n",
              "      <td>Argentina</td>\n",
              "      <td>10</td>\n",
              "      <td>0</td>\n",
              "      <td>2021-08-28T17:17:54Z</td>\n",
              "      <td>Traitrich</td>\n",
              "    </tr>\n",
              "    <tr>\n",
              "      <th>3</th>\n",
              "      <td>GeografÃ­a de Andorra</td>\n",
              "      <td>15</td>\n",
              "      <td>0</td>\n",
              "      <td>2021-08-29T17:16:00Z</td>\n",
              "      <td>Lojwe</td>\n",
              "    </tr>\n",
              "    <tr>\n",
              "      <th>4</th>\n",
              "      <td>DemografÃ­a de Andorra</td>\n",
              "      <td>17</td>\n",
              "      <td>0</td>\n",
              "      <td>2020-11-12T19:56:15Z</td>\n",
              "      <td>Jialxv</td>\n",
              "    </tr>\n",
              "  </tbody>\n",
              "</table>\n",
              "</div>"
            ],
            "text/plain": [
              "                              title  id  ...    revision_timestamp revisor_username\n",
              "0  Wikipedia:ArtÃ­culos solicitados   5  ...  2021-01-19T18:40:34Z       MetrÃ³nomo\n",
              "1                           Andorra   7  ...  2021-08-31T18:27:01Z              NaN\n",
              "2                         Argentina  10  ...  2021-08-28T17:17:54Z        Traitrich\n",
              "3             GeografÃ­a de Andorra  15  ...  2021-08-29T17:16:00Z            Lojwe\n",
              "4            DemografÃ­a de Andorra  17  ...  2020-11-12T19:56:15Z           Jialxv\n",
              "\n",
              "[5 rows x 5 columns]"
            ]
          },
          "metadata": {},
          "execution_count": 13
        }
      ]
    },
    {
      "cell_type": "markdown",
      "metadata": {
        "id": "nmegUpI9fENR"
      },
      "source": [
        "Paso a datatime la columna revision_timestamp"
      ]
    },
    {
      "cell_type": "code",
      "metadata": {
        "colab": {
          "base_uri": "https://localhost:8080/",
          "height": 203
        },
        "id": "dlgeBnM4fF5N",
        "outputId": "ff17c622-6f23-4654-ecd3-d0a72ffdd0c3"
      },
      "source": [
        "contents['revision_timestamp'] = pd.to_datetime(contents['revision_timestamp']).dt.tz_localize(None)\n",
        "contents.head()"
      ],
      "execution_count": null,
      "outputs": [
        {
          "output_type": "execute_result",
          "data": {
            "text/html": [
              "<div>\n",
              "<style scoped>\n",
              "    .dataframe tbody tr th:only-of-type {\n",
              "        vertical-align: middle;\n",
              "    }\n",
              "\n",
              "    .dataframe tbody tr th {\n",
              "        vertical-align: top;\n",
              "    }\n",
              "\n",
              "    .dataframe thead th {\n",
              "        text-align: right;\n",
              "    }\n",
              "</style>\n",
              "<table border=\"1\" class=\"dataframe\">\n",
              "  <thead>\n",
              "    <tr style=\"text-align: right;\">\n",
              "      <th></th>\n",
              "      <th>title</th>\n",
              "      <th>id</th>\n",
              "      <th>namespace</th>\n",
              "      <th>revision_timestamp</th>\n",
              "      <th>revisor_username</th>\n",
              "    </tr>\n",
              "  </thead>\n",
              "  <tbody>\n",
              "    <tr>\n",
              "      <th>0</th>\n",
              "      <td>Wikipedia:ArtÃ­culos solicitados</td>\n",
              "      <td>5</td>\n",
              "      <td>4</td>\n",
              "      <td>2021-01-19 18:40:34</td>\n",
              "      <td>MetrÃ³nomo</td>\n",
              "    </tr>\n",
              "    <tr>\n",
              "      <th>1</th>\n",
              "      <td>Andorra</td>\n",
              "      <td>7</td>\n",
              "      <td>0</td>\n",
              "      <td>2021-08-31 18:27:01</td>\n",
              "      <td>NaN</td>\n",
              "    </tr>\n",
              "    <tr>\n",
              "      <th>2</th>\n",
              "      <td>Argentina</td>\n",
              "      <td>10</td>\n",
              "      <td>0</td>\n",
              "      <td>2021-08-28 17:17:54</td>\n",
              "      <td>Traitrich</td>\n",
              "    </tr>\n",
              "    <tr>\n",
              "      <th>3</th>\n",
              "      <td>GeografÃ­a de Andorra</td>\n",
              "      <td>15</td>\n",
              "      <td>0</td>\n",
              "      <td>2021-08-29 17:16:00</td>\n",
              "      <td>Lojwe</td>\n",
              "    </tr>\n",
              "    <tr>\n",
              "      <th>4</th>\n",
              "      <td>DemografÃ­a de Andorra</td>\n",
              "      <td>17</td>\n",
              "      <td>0</td>\n",
              "      <td>2020-11-12 19:56:15</td>\n",
              "      <td>Jialxv</td>\n",
              "    </tr>\n",
              "  </tbody>\n",
              "</table>\n",
              "</div>"
            ],
            "text/plain": [
              "                              title  id  ...  revision_timestamp revisor_username\n",
              "0  Wikipedia:ArtÃ­culos solicitados   5  ... 2021-01-19 18:40:34       MetrÃ³nomo\n",
              "1                           Andorra   7  ... 2021-08-31 18:27:01              NaN\n",
              "2                         Argentina  10  ... 2021-08-28 17:17:54        Traitrich\n",
              "3             GeografÃ­a de Andorra  15  ... 2021-08-29 17:16:00            Lojwe\n",
              "4            DemografÃ­a de Andorra  17  ... 2020-11-12 19:56:15           Jialxv\n",
              "\n",
              "[5 rows x 5 columns]"
            ]
          },
          "metadata": {},
          "execution_count": 14
        }
      ]
    },
    {
      "cell_type": "code",
      "metadata": {
        "colab": {
          "base_uri": "https://localhost:8080/"
        },
        "id": "LUNR1uLAnScG",
        "outputId": "83f17870-b3f5-4adb-86eb-f9443babf333"
      },
      "source": [
        "contents.info()"
      ],
      "execution_count": null,
      "outputs": [
        {
          "output_type": "stream",
          "name": "stdout",
          "text": [
            "<class 'pandas.core.frame.DataFrame'>\n",
            "RangeIndex: 4132164 entries, 0 to 4132163\n",
            "Data columns (total 5 columns):\n",
            " #   Column              Dtype         \n",
            "---  ------              -----         \n",
            " 0   title               category      \n",
            " 1   id                  int64         \n",
            " 2   namespace           int64         \n",
            " 3   revision_timestamp  datetime64[ns]\n",
            " 4   revisor_username    category      \n",
            "dtypes: category(2), datetime64[ns](1), int64(2)\n",
            "memory usage: 319.2 MB\n"
          ]
        }
      ]
    },
    {
      "cell_type": "markdown",
      "metadata": {
        "id": "a88VQRhFfJaw"
      },
      "source": [
        "Veo si existen titulos que contengan mi apellido: Bilo"
      ]
    },
    {
      "cell_type": "code",
      "metadata": {
        "colab": {
          "base_uri": "https://localhost:8080/"
        },
        "id": "NiGTqC6AfKi7",
        "outputId": "25969fc4-7d1c-4156-92d5-096cf56ff04f"
      },
      "source": [
        "contents_bilo = contents['title'].str.contains('Bilo', na = False)\n",
        "contents_bilo.value_counts()"
      ],
      "execution_count": null,
      "outputs": [
        {
          "output_type": "execute_result",
          "data": {
            "text/plain": [
              "False    4132069\n",
              "True          95\n",
              "Name: title, dtype: int64"
            ]
          },
          "metadata": {},
          "execution_count": 16
        }
      ]
    },
    {
      "cell_type": "markdown",
      "metadata": {
        "id": "YJHuLhTbfLwe"
      },
      "source": [
        "Hay 95 titulos que contienen mi apellido!\n",
        "\n",
        "Veamos algunos:"
      ]
    },
    {
      "cell_type": "code",
      "metadata": {
        "colab": {
          "base_uri": "https://localhost:8080/",
          "height": 203
        },
        "id": "Cfs0xCH-fMfj",
        "outputId": "24d41368-d67a-4bad-8532-a357d2112c7d"
      },
      "source": [
        "title_bilo = contents[contents_bilo]\n",
        "title_bilo.head()"
      ],
      "execution_count": null,
      "outputs": [
        {
          "output_type": "execute_result",
          "data": {
            "text/html": [
              "<div>\n",
              "<style scoped>\n",
              "    .dataframe tbody tr th:only-of-type {\n",
              "        vertical-align: middle;\n",
              "    }\n",
              "\n",
              "    .dataframe tbody tr th {\n",
              "        vertical-align: top;\n",
              "    }\n",
              "\n",
              "    .dataframe thead th {\n",
              "        text-align: right;\n",
              "    }\n",
              "</style>\n",
              "<table border=\"1\" class=\"dataframe\">\n",
              "  <thead>\n",
              "    <tr style=\"text-align: right;\">\n",
              "      <th></th>\n",
              "      <th>title</th>\n",
              "      <th>id</th>\n",
              "      <th>namespace</th>\n",
              "      <th>revision_timestamp</th>\n",
              "      <th>revisor_username</th>\n",
              "    </tr>\n",
              "  </thead>\n",
              "  <tbody>\n",
              "    <tr>\n",
              "      <th>60687</th>\n",
              "      <td>BilocaciÃ³n</td>\n",
              "      <td>135677</td>\n",
              "      <td>0</td>\n",
              "      <td>2021-04-24 07:47:27</td>\n",
              "      <td>PePeEfe</td>\n",
              "    </tr>\n",
              "    <tr>\n",
              "      <th>193237</th>\n",
              "      <td>Biloxi</td>\n",
              "      <td>441229</td>\n",
              "      <td>0</td>\n",
              "      <td>2020-02-24 05:34:21</td>\n",
              "      <td>Madamebiblio</td>\n",
              "    </tr>\n",
              "    <tr>\n",
              "      <th>286482</th>\n",
              "      <td>Daniel Bilos</td>\n",
              "      <td>696454</td>\n",
              "      <td>0</td>\n",
              "      <td>2021-08-06 02:09:51</td>\n",
              "      <td>NaN</td>\n",
              "    </tr>\n",
              "    <tr>\n",
              "      <th>312960</th>\n",
              "      <td>Daniel RubÃ©n Bilos</td>\n",
              "      <td>761845</td>\n",
              "      <td>0</td>\n",
              "      <td>2007-02-13 21:16:06</td>\n",
              "      <td>Fache</td>\n",
              "    </tr>\n",
              "    <tr>\n",
              "      <th>512850</th>\n",
              "      <td>Jean-Luc Bilodeau</td>\n",
              "      <td>1338438</td>\n",
              "      <td>0</td>\n",
              "      <td>2020-06-10 05:35:03</td>\n",
              "      <td>Delotrooladoo</td>\n",
              "    </tr>\n",
              "  </tbody>\n",
              "</table>\n",
              "</div>"
            ],
            "text/plain": [
              "                      title       id  ...  revision_timestamp revisor_username\n",
              "60687           BilocaciÃ³n   135677  ... 2021-04-24 07:47:27          PePeEfe\n",
              "193237               Biloxi   441229  ... 2020-02-24 05:34:21     Madamebiblio\n",
              "286482         Daniel Bilos   696454  ... 2021-08-06 02:09:51              NaN\n",
              "312960  Daniel RubÃ©n Bilos   761845  ... 2007-02-13 21:16:06            Fache\n",
              "512850    Jean-Luc Bilodeau  1338438  ... 2020-06-10 05:35:03    Delotrooladoo\n",
              "\n",
              "[5 rows x 5 columns]"
            ]
          },
          "metadata": {},
          "execution_count": 17
        }
      ]
    },
    {
      "cell_type": "markdown",
      "metadata": {
        "id": "qWnfmaeBfQ_u"
      },
      "source": [
        "Obtengo el promedio de las fechas de revisión:"
      ]
    },
    {
      "cell_type": "code",
      "metadata": {
        "colab": {
          "base_uri": "https://localhost:8080/"
        },
        "id": "yQLXvJhDfRZZ",
        "outputId": "b835d667-85dd-4fe7-a667-d4fbfb0f0f36"
      },
      "source": [
        "title_bilo['revision_timestamp'].mean()"
      ],
      "execution_count": null,
      "outputs": [
        {
          "output_type": "execute_result",
          "data": {
            "text/plain": [
              "Timestamp('2017-05-26 06:49:38.168420864')"
            ]
          },
          "metadata": {},
          "execution_count": 18
        }
      ]
    },
    {
      "cell_type": "markdown",
      "metadata": {
        "id": "1gUo7vzuxZTS"
      },
      "source": [
        "La fecha de hoy:"
      ]
    },
    {
      "cell_type": "code",
      "metadata": {
        "colab": {
          "base_uri": "https://localhost:8080/"
        },
        "id": "ZCiAwSNNn-R7",
        "outputId": "2ad1b9ae-1bde-4d0c-e865-45626201330f"
      },
      "source": [
        "dt.date.today()"
      ],
      "execution_count": null,
      "outputs": [
        {
          "output_type": "execute_result",
          "data": {
            "text/plain": [
              "datetime.date(2021, 10, 14)"
            ]
          },
          "metadata": {},
          "execution_count": 20
        }
      ]
    },
    {
      "cell_type": "markdown",
      "metadata": {
        "id": "DH2Zv0srxgTL"
      },
      "source": [
        "Entonces, la antiguedad promedio de la ultima edición de los articulos que contienen mi apellido en el título es de **1602 días**\n",
        "  \n",
        "(Cuenta realizada a mano con fecha: 14-10-21)\n",
        "\n",
        "\n"
      ]
    }
  ]
}