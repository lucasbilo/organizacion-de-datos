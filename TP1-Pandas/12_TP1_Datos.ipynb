{
  "nbformat": 4,
  "nbformat_minor": 0,
  "metadata": {
    "colab": {
      "name": "12-TP1-Datos.ipynb",
      "provenance": [],
      "collapsed_sections": []
    },
    "kernelspec": {
      "name": "python3",
      "display_name": "Python 3"
    },
    "language_info": {
      "name": "python"
    }
  },
  "cells": [
    {
      "cell_type": "markdown",
      "metadata": {
        "id": "Jf5_g_RhyvYs"
      },
      "source": [
        "**12. Cuantos comentarios de revisión de artículos usan la palabra \"mejor\" (sin incluir sus\n",
        "variaciones) (⭐⭐)**"
      ]
    },
    {
      "cell_type": "code",
      "metadata": {
        "id": "cZgm6Nihyx_3"
      },
      "source": [
        "import pandas as pd\n",
        "import numpy as np\n",
        "from pydrive.auth import GoogleAuth\n",
        "from pydrive.drive import GoogleDrive\n",
        "from google.colab import auth\n",
        "from oauth2client.client import GoogleCredentials\n",
        "\n",
        "# Authenticate and create the PyDrive client\n",
        "auth.authenticate_user()\n",
        "gauth = GoogleAuth()\n",
        "gauth.credentials = GoogleCredentials.get_application_default()\n",
        "drive = GoogleDrive(gauth)"
      ],
      "execution_count": null,
      "outputs": []
    },
    {
      "cell_type": "markdown",
      "metadata": {
        "id": "Zn0UIzGSy0iZ"
      },
      "source": [
        "Para este ejercicio voy a utilizar el csv **contents**"
      ]
    },
    {
      "cell_type": "code",
      "metadata": {
        "id": "iVNoSvG4y1Ai"
      },
      "source": [
        "id='1SnCVFJvTsaEPrmh-PpVGH6-toBVsD6NL'\n",
        "downloaded = drive.CreateFile({'id': id})\n",
        "downloaded.GetContentFile('contents.csv')"
      ],
      "execution_count": null,
      "outputs": []
    },
    {
      "cell_type": "markdown",
      "metadata": {
        "id": "ZIjefKbpy85o"
      },
      "source": [
        "Como el csv es muy grande solo voy a leer algunas columnas para ahorrar memoria"
      ]
    },
    {
      "cell_type": "code",
      "metadata": {
        "id": "LUgYSGrsy2lA",
        "colab": {
          "base_uri": "https://localhost:8080/",
          "height": 203
        },
        "outputId": "cc7d1346-2526-4535-8a55-13d6fe906127"
      },
      "source": [
        "contents = pd.read_csv('contents.csv', encoding='latin-1' , usecols=['title', 'id', 'revisor_username', 'revisor_comment'], \\\n",
        "                            dtype={'title':'category','revisor_username':'category'})\n",
        "\n",
        "contents.head()"
      ],
      "execution_count": null,
      "outputs": [
        {
          "output_type": "execute_result",
          "data": {
            "text/html": [
              "<div>\n",
              "<style scoped>\n",
              "    .dataframe tbody tr th:only-of-type {\n",
              "        vertical-align: middle;\n",
              "    }\n",
              "\n",
              "    .dataframe tbody tr th {\n",
              "        vertical-align: top;\n",
              "    }\n",
              "\n",
              "    .dataframe thead th {\n",
              "        text-align: right;\n",
              "    }\n",
              "</style>\n",
              "<table border=\"1\" class=\"dataframe\">\n",
              "  <thead>\n",
              "    <tr style=\"text-align: right;\">\n",
              "      <th></th>\n",
              "      <th>title</th>\n",
              "      <th>id</th>\n",
              "      <th>revisor_username</th>\n",
              "      <th>revisor_comment</th>\n",
              "    </tr>\n",
              "  </thead>\n",
              "  <tbody>\n",
              "    <tr>\n",
              "      <th>0</th>\n",
              "      <td>Wikipedia:ArtÃ­culos solicitados</td>\n",
              "      <td>5</td>\n",
              "      <td>MetrÃ³nomo</td>\n",
              "      <td>AsÃ­ esta mejor</td>\n",
              "    </tr>\n",
              "    <tr>\n",
              "      <th>1</th>\n",
              "      <td>Andorra</td>\n",
              "      <td>7</td>\n",
              "      <td>NaN</td>\n",
              "      <td>AÃ±adir contenido</td>\n",
              "    </tr>\n",
              "    <tr>\n",
              "      <th>2</th>\n",
              "      <td>Argentina</td>\n",
              "      <td>10</td>\n",
              "      <td>Traitrich</td>\n",
              "      <td>Reemplazos con [[Usuario:Benjavalero/Replacer|...</td>\n",
              "    </tr>\n",
              "    <tr>\n",
              "      <th>3</th>\n",
              "      <td>GeografÃ­a de Andorra</td>\n",
              "      <td>15</td>\n",
              "      <td>Lojwe</td>\n",
              "      <td>Reemplazos con [[Usuario:Benjavalero/Replacer|...</td>\n",
              "    </tr>\n",
              "    <tr>\n",
              "      <th>4</th>\n",
              "      <td>DemografÃ­a de Andorra</td>\n",
              "      <td>17</td>\n",
              "      <td>Jialxv</td>\n",
              "      <td>Correcciones ortogrÃ¡ficas con [[Usuario:Benja...</td>\n",
              "    </tr>\n",
              "  </tbody>\n",
              "</table>\n",
              "</div>"
            ],
            "text/plain": [
              "                              title  ...                                    revisor_comment\n",
              "0  Wikipedia:ArtÃ­culos solicitados  ...                                    AsÃ­ esta mejor\n",
              "1                           Andorra  ...                                  AÃ±adir contenido\n",
              "2                         Argentina  ...  Reemplazos con [[Usuario:Benjavalero/Replacer|...\n",
              "3             GeografÃ­a de Andorra  ...  Reemplazos con [[Usuario:Benjavalero/Replacer|...\n",
              "4            DemografÃ­a de Andorra  ...  Correcciones ortogrÃ¡ficas con [[Usuario:Benja...\n",
              "\n",
              "[5 rows x 4 columns]"
            ]
          },
          "metadata": {},
          "execution_count": 3
        }
      ]
    },
    {
      "cell_type": "markdown",
      "metadata": {
        "id": "cZ2WL68fzdp3"
      },
      "source": [
        "La columna que nos interesa es **\"revisor_comment\"**, busco cuales comentarios contienen la palabra \"mejor\""
      ]
    },
    {
      "cell_type": "code",
      "metadata": {
        "colab": {
          "base_uri": "https://localhost:8080/"
        },
        "id": "WqCrwGNHzf_Q",
        "outputId": "c9ce1a0a-9c6d-4cd9-df5b-79b7cd2c9c92"
      },
      "source": [
        "contents_mejor = contents['revisor_comment'].str.contains('mejor', na = False)\n",
        "contents_mejor.value_counts()"
      ],
      "execution_count": null,
      "outputs": [
        {
          "output_type": "execute_result",
          "data": {
            "text/plain": [
              "False    4121340\n",
              "True       10824\n",
              "Name: revisor_comment, dtype: int64"
            ]
          },
          "metadata": {},
          "execution_count": 4
        }
      ]
    },
    {
      "cell_type": "markdown",
      "metadata": {
        "id": "kKlkphkLziBh"
      },
      "source": [
        "Como podemos ver hay 10824 True.\n",
        "\n",
        "Esto significa que hay **10824** comentarios que contienen la palabra \"mejor\""
      ]
    }
  ]
}